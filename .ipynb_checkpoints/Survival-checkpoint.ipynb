{
 "cells": [
  {
   "cell_type": "code",
   "execution_count": 120,
   "id": "d70042f1-b16a-40c6-9882-dda94fc08551",
   "metadata": {},
   "outputs": [],
   "source": [
    "# https://allendowney.github.io/SurvivalAnalysisPython/02_kaplan_meier.html\n",
    "import pandas as pd\n",
    "import numpy as np\n",
    "import matplotlib.pyplot as plt\n",
    "import matplotlib"
   ]
  },
  {
   "cell_type": "code",
   "execution_count": 2,
   "id": "2ce9c1c2",
   "metadata": {},
   "outputs": [],
   "source": [
    "df = pd.read_csv('merged_df.csv')\n",
    "df.drop(['Unnamed: 0.1', 'Unnamed: 0'], axis=1, inplace=True)"
   ]
  },
  {
   "cell_type": "code",
   "execution_count": 11,
   "id": "ccd16db3",
   "metadata": {},
   "outputs": [],
   "source": [
    "df['date'] = pd.to_datetime(df['unixReviewTime'], unit='s')"
   ]
  },
  {
   "cell_type": "code",
   "execution_count": 60,
   "id": "66069c45",
   "metadata": {},
   "outputs": [],
   "source": [
    "df = df[['asin', 'reviewerID', 'date', 'overall']].sort_values(by='date')\n",
    "df['prev_review_delta'] = df.groupby('asin')['date'].diff().dt.days\n",
    "df.dropna(subset=['prev_review_delta'], inplace=True)"
   ]
  },
  {
   "cell_type": "code",
   "execution_count": 189,
   "id": "3f37fc11",
   "metadata": {},
   "outputs": [],
   "source": [
    "def plot_lifelines(obs):\n",
    "    \"\"\"Plot a line for each observation.\n",
    "    \n",
    "    obs: DataFrame\n",
    "    \"\"\"\n",
    "    obs.sort_values(by='date', inplace=True)\n",
    "    obs = obs.reset_index(drop=True)\n",
    "    cmap = matplotlib.cm.get_cmap('Set1')\n",
    "    for i, asin in enumerate(obs.asin.unique()):\n",
    "        start = 0\n",
    "        for j, (y, row) in enumerate(obs[obs.asin == asin].iterrows()):\n",
    "    #         start = row['start']\n",
    "    #         end = row['end']\n",
    "    #         status = row['status']\n",
    "\n",
    "    #         if status == 0:\n",
    "    #             # ongoing\n",
    "    #             plt.hlines(y, start, end, color='C0')\n",
    "    #         else:\n",
    "                # complete\n",
    "            delay = row['prev_review_delta']\n",
    "            color = cmap(i)\n",
    "            plt.hlines(y, start, start+delay, color=color)\n",
    "            plt.plot(start+delay, y, marker='o', color=color)\n",
    "            start += delay\n",
    "            \n",
    "    plt.xlabel('Time (weeks)')\n",
    "    plt.ylabel('Dog index')\n",
    "    plt.gca().invert_yaxis()"
   ]
  },
  {
   "cell_type": "code",
   "execution_count": 192,
   "id": "e5142ad4",
   "metadata": {},
   "outputs": [
    {
     "data": {
      "image/png": "[encoded data removed]",
      "text/plain": [
       "<Figure size 432x288 with 1 Axes>"
      ]
     },
     "metadata": {
      "needs_background": "light"
     },
     "output_type": "display_data"
    }
   ],
   "source": [
    "asins = ['B000KJVIOI', 'B000LKV7LU', 'B000G8399A', 'B000KA9I6W']\n",
    "df[df.asin.isin(asins)][-50:]\n",
    "plot_lifelines(df[df.asin.isin(asins)][-40:])"
   ]
  },
  {
   "cell_type": "code",
   "execution_count": 269,
   "id": "b5fa5868",
   "metadata": {},
   "outputs": [
    {
     "data": {
      "text/plain": [
       "asin        prev_review_delta\n",
       "4639725043  1.0                  1\n",
       "            2.0                  1\n",
       "            5.0                  1\n",
       "            8.0                  1\n",
       "            9.0                  1\n",
       "                                ..\n",
       "B000PGHLNS  27.0                 1\n",
       "            60.0                 1\n",
       "            63.0                 1\n",
       "            75.0                 1\n",
       "            100.0                1\n",
       "Name: events, Length: 60429, dtype: int64"
      ]
     },
     "execution_count": 269,
     "metadata": {},
     "output_type": "execute_result"
    }
   ],
   "source": [
    "# How many purchases are made per product at time t\n",
    "events = df.groupby(['asin', 'prev_review_delta'])['date'].count().rename('event_count').rename('events')\n",
    "events"
   ]
  },
  {
   "cell_type": "code",
   "execution_count": 270,
   "id": "482408eb",
   "metadata": {},
   "outputs": [
    {
     "data": {
      "text/plain": [
       "asin        prev_review_delta\n",
       "4639725043  1.0                  24\n",
       "            2.0                  23\n",
       "            5.0                  22\n",
       "            8.0                  21\n",
       "            9.0                  20\n",
       "                                 ..\n",
       "B000PGHLNS  27.0                  5\n",
       "            60.0                  4\n",
       "            63.0                  3\n",
       "            75.0                  2\n",
       "            100.0                 1\n",
       "Name: num_subjects, Length: 60429, dtype: int64"
      ]
     },
     "execution_count": 270,
     "metadata": {},
     "output_type": "execute_result"
    }
   ],
   "source": [
    "# How many purchase executions are \"avialable\" at time just before t\n",
    "num_subjects = (sales_per_delay.groupby('asin').cumcount(ascending=False)+1).rename('num_subjects')\n",
    "num_subjects"
   ]
  },
  {
   "cell_type": "code",
   "execution_count": 271,
   "id": "efe9a36e",
   "metadata": {},
   "outputs": [
    {
     "data": {
      "text/plain": [
       "asin        prev_review_delta\n",
       "4639725043  1.0                  0.041667\n",
       "            2.0                  0.043478\n",
       "            5.0                  0.045455\n",
       "            8.0                  0.047619\n",
       "            9.0                  0.050000\n",
       "                                   ...   \n",
       "B000PGHLNS  27.0                 0.200000\n",
       "            60.0                 0.250000\n",
       "            63.0                 0.333333\n",
       "            75.0                 0.500000\n",
       "            100.0                1.000000\n",
       "Length: 60429, dtype: float64"
      ]
     },
     "execution_count": 271,
     "metadata": {},
     "output_type": "execute_result"
    }
   ],
   "source": [
    "# Hazard rate per time t\n",
    "hazard = sales_per_delay / total_future_sales_per_delay\n",
    "hazard"
   ]
  },
  {
   "cell_type": "code",
   "execution_count": 308,
   "id": "e3857968",
   "metadata": {},
   "outputs": [
    {
     "data": {
      "text/plain": [
       "asin        prev_review_delta\n",
       "4639725043  1.0                  0.958333\n",
       "            2.0                  0.998188\n",
       "            5.0                  0.999918\n",
       "            8.0                  0.999996\n",
       "            9.0                  1.000000\n",
       "                                   ...   \n",
       "B000PGHLNS  27.0                 1.000000\n",
       "            60.0                 1.000000\n",
       "            63.0                 1.000000\n",
       "            75.0                 1.000000\n",
       "            100.0                1.000000\n",
       "Name: survival, Length: 60429, dtype: float64"
      ]
     },
     "execution_count": 308,
     "metadata": {},
     "output_type": "execute_result"
    }
   ],
   "source": [
    "# Survival rate per time t\n",
    "survival = (1 - hazard.groupby('asin').cumprod()).rename('survival')\n",
    "survival"
   ]
  },
  {
   "cell_type": "code",
   "execution_count": 273,
   "id": "058c54a6",
   "metadata": {},
   "outputs": [
    {
     "data": {
      "text/plain": [
       "asin        prev_review_delta\n",
       "4639725043  1.0                  0.04167\n",
       "            2.0                  0.00181\n",
       "            5.0                  0.00008\n",
       "            8.0                  0.00000\n",
       "            9.0                  0.00000\n",
       "                                  ...   \n",
       "B000PGHLNS  27.0                 0.00000\n",
       "            60.0                 0.00000\n",
       "            63.0                 0.00000\n",
       "            75.0                 0.00000\n",
       "            100.0                0.00000\n",
       "Name: cdf, Length: 60429, dtype: float64"
      ]
     },
     "execution_count": 273,
     "metadata": {},
     "output_type": "execute_result"
    }
   ],
   "source": [
    "# cdf per time t\n",
    "cdf = (1 - survival).round(5).rename('cdf')\n",
    "cdf"
   ]
  },
  {
   "cell_type": "code",
   "execution_count": 274,
   "id": "6a9b7369",
   "metadata": {},
   "outputs": [
    {
     "data": {
      "text/plain": [
       "asin        prev_review_delta\n",
       "4639725043  1.0                  0.00000\n",
       "            2.0                  0.03986\n",
       "            5.0                  0.00173\n",
       "            8.0                  0.00008\n",
       "            9.0                  0.00000\n",
       "                                  ...   \n",
       "B000PGHLNS  27.0                 0.00000\n",
       "            60.0                 0.00000\n",
       "            63.0                 0.00000\n",
       "            75.0                 0.00000\n",
       "            100.0                0.00000\n",
       "Name: pmf, Length: 60429, dtype: float64"
      ]
     },
     "execution_count": 274,
     "metadata": {},
     "output_type": "execute_result"
    }
   ],
   "source": [
    "# Change in cdf per time t\n",
    "pmf = cdf.groupby('asin').diff().fillna(0).abs().rename('pmf')\n",
    "pmf"
   ]
  },
  {
   "cell_type": "code",
   "execution_count": 301,
   "id": "b4e7bf81",
   "metadata": {},
   "outputs": [
    {
     "data": {
      "text/html": [
       "<div>\n",
       "<style scoped>\n",
       "    .dataframe tbody tr th:only-of-type {\n",
       "        vertical-align: middle;\n",
       "    }\n",
       "\n",
       "    .dataframe tbody tr th {\n",
       "        vertical-align: top;\n",
       "    }\n",
       "\n",
       "    .dataframe thead th {\n",
       "        text-align: right;\n",
       "    }\n",
       "</style>\n",
       "<table border=\"1\" class=\"dataframe\">\n",
       "  <thead>\n",
       "    <tr style=\"text-align: right;\">\n",
       "      <th></th>\n",
       "      <th></th>\n",
       "      <th>events</th>\n",
       "      <th>num_subjects</th>\n",
       "      <th>survival</th>\n",
       "      <th>cdf</th>\n",
       "      <th>pmf</th>\n",
       "    </tr>\n",
       "    <tr>\n",
       "      <th>asin</th>\n",
       "      <th>prev_review_delta</th>\n",
       "      <th></th>\n",
       "      <th></th>\n",
       "      <th></th>\n",
       "      <th></th>\n",
       "      <th></th>\n",
       "    </tr>\n",
       "  </thead>\n",
       "  <tbody>\n",
       "    <tr>\n",
       "      <th rowspan=\"5\" valign=\"top\">4639725043</th>\n",
       "      <th>1.0</th>\n",
       "      <td>1</td>\n",
       "      <td>24</td>\n",
       "      <td>0.958333</td>\n",
       "      <td>0.04167</td>\n",
       "      <td>0.00000</td>\n",
       "    </tr>\n",
       "    <tr>\n",
       "      <th>2.0</th>\n",
       "      <td>1</td>\n",
       "      <td>23</td>\n",
       "      <td>0.998188</td>\n",
       "      <td>0.00181</td>\n",
       "      <td>0.03986</td>\n",
       "    </tr>\n",
       "    <tr>\n",
       "      <th>5.0</th>\n",
       "      <td>1</td>\n",
       "      <td>22</td>\n",
       "      <td>0.999918</td>\n",
       "      <td>0.00008</td>\n",
       "      <td>0.00173</td>\n",
       "    </tr>\n",
       "    <tr>\n",
       "      <th>8.0</th>\n",
       "      <td>1</td>\n",
       "      <td>21</td>\n",
       "      <td>0.999996</td>\n",
       "      <td>0.00000</td>\n",
       "      <td>0.00008</td>\n",
       "    </tr>\n",
       "    <tr>\n",
       "      <th>9.0</th>\n",
       "      <td>1</td>\n",
       "      <td>20</td>\n",
       "      <td>1.000000</td>\n",
       "      <td>0.00000</td>\n",
       "      <td>0.00000</td>\n",
       "    </tr>\n",
       "    <tr>\n",
       "      <th>...</th>\n",
       "      <th>...</th>\n",
       "      <td>...</td>\n",
       "      <td>...</td>\n",
       "      <td>...</td>\n",
       "      <td>...</td>\n",
       "      <td>...</td>\n",
       "    </tr>\n",
       "    <tr>\n",
       "      <th rowspan=\"5\" valign=\"top\">B000PGHLNS</th>\n",
       "      <th>27.0</th>\n",
       "      <td>1</td>\n",
       "      <td>5</td>\n",
       "      <td>1.000000</td>\n",
       "      <td>0.00000</td>\n",
       "      <td>0.00000</td>\n",
       "    </tr>\n",
       "    <tr>\n",
       "      <th>60.0</th>\n",
       "      <td>1</td>\n",
       "      <td>4</td>\n",
       "      <td>1.000000</td>\n",
       "      <td>0.00000</td>\n",
       "      <td>0.00000</td>\n",
       "    </tr>\n",
       "    <tr>\n",
       "      <th>63.0</th>\n",
       "      <td>1</td>\n",
       "      <td>3</td>\n",
       "      <td>1.000000</td>\n",
       "      <td>0.00000</td>\n",
       "      <td>0.00000</td>\n",
       "    </tr>\n",
       "    <tr>\n",
       "      <th>75.0</th>\n",
       "      <td>1</td>\n",
       "      <td>2</td>\n",
       "      <td>1.000000</td>\n",
       "      <td>0.00000</td>\n",
       "      <td>0.00000</td>\n",
       "    </tr>\n",
       "    <tr>\n",
       "      <th>100.0</th>\n",
       "      <td>1</td>\n",
       "      <td>1</td>\n",
       "      <td>1.000000</td>\n",
       "      <td>0.00000</td>\n",
       "      <td>0.00000</td>\n",
       "    </tr>\n",
       "  </tbody>\n",
       "</table>\n",
       "<p>60429 rows × 5 columns</p>\n",
       "</div>"
      ],
      "text/plain": [
       "                              events  num_subjects  survival      cdf      pmf\n",
       "asin       prev_review_delta                                                  \n",
       "4639725043 1.0                     1            24  0.958333  0.04167  0.00000\n",
       "           2.0                     1            23  0.998188  0.00181  0.03986\n",
       "           5.0                     1            22  0.999918  0.00008  0.00173\n",
       "           8.0                     1            21  0.999996  0.00000  0.00008\n",
       "           9.0                     1            20  1.000000  0.00000  0.00000\n",
       "...                              ...           ...       ...      ...      ...\n",
       "B000PGHLNS 27.0                    1             5  1.000000  0.00000  0.00000\n",
       "           60.0                    1             4  1.000000  0.00000  0.00000\n",
       "           63.0                    1             3  1.000000  0.00000  0.00000\n",
       "           75.0                    1             2  1.000000  0.00000  0.00000\n",
       "           100.0                   1             1  1.000000  0.00000  0.00000\n",
       "\n",
       "[60429 rows x 5 columns]"
      ]
     },
     "execution_count": 301,
     "metadata": {},
     "output_type": "execute_result"
    }
   ],
   "source": [
    "info = pd.concat([events, num_subjects, survival, cdf, pmf], axis=1)\n",
    "info"
   ]
  },
  {
   "cell_type": "code",
   "execution_count": 306,
   "id": "531ff8c2",
   "metadata": {
    "scrolled": true
   },
   "outputs": [
    {
     "data": {
      "text/html": [
       "<div>\n",
       "<style scoped>\n",
       "    .dataframe tbody tr th:only-of-type {\n",
       "        vertical-align: middle;\n",
       "    }\n",
       "\n",
       "    .dataframe tbody tr th {\n",
       "        vertical-align: top;\n",
       "    }\n",
       "\n",
       "    .dataframe thead th {\n",
       "        text-align: right;\n",
       "    }\n",
       "</style>\n",
       "<table border=\"1\" class=\"dataframe\">\n",
       "  <thead>\n",
       "    <tr style=\"text-align: right;\">\n",
       "      <th></th>\n",
       "      <th>events</th>\n",
       "      <th>num_subjects</th>\n",
       "      <th>survival</th>\n",
       "      <th>cdf</th>\n",
       "      <th>pmf</th>\n",
       "    </tr>\n",
       "    <tr>\n",
       "      <th>prev_review_delta</th>\n",
       "      <th></th>\n",
       "      <th></th>\n",
       "      <th></th>\n",
       "      <th></th>\n",
       "      <th></th>\n",
       "    </tr>\n",
       "  </thead>\n",
       "  <tbody>\n",
       "    <tr>\n",
       "      <th>1.0</th>\n",
       "      <td>1</td>\n",
       "      <td>14</td>\n",
       "      <td>0.928571</td>\n",
       "      <td>0.07143</td>\n",
       "      <td>0.00000</td>\n",
       "    </tr>\n",
       "    <tr>\n",
       "      <th>2.0</th>\n",
       "      <td>1</td>\n",
       "      <td>13</td>\n",
       "      <td>0.994505</td>\n",
       "      <td>0.00549</td>\n",
       "      <td>0.06594</td>\n",
       "    </tr>\n",
       "    <tr>\n",
       "      <th>3.0</th>\n",
       "      <td>1</td>\n",
       "      <td>12</td>\n",
       "      <td>0.999542</td>\n",
       "      <td>0.00046</td>\n",
       "      <td>0.00503</td>\n",
       "    </tr>\n",
       "    <tr>\n",
       "      <th>6.0</th>\n",
       "      <td>2</td>\n",
       "      <td>11</td>\n",
       "      <td>0.999917</td>\n",
       "      <td>0.00008</td>\n",
       "      <td>0.00038</td>\n",
       "    </tr>\n",
       "    <tr>\n",
       "      <th>7.0</th>\n",
       "      <td>1</td>\n",
       "      <td>10</td>\n",
       "      <td>0.999992</td>\n",
       "      <td>0.00001</td>\n",
       "      <td>0.00007</td>\n",
       "    </tr>\n",
       "    <tr>\n",
       "      <th>9.0</th>\n",
       "      <td>2</td>\n",
       "      <td>9</td>\n",
       "      <td>0.999998</td>\n",
       "      <td>0.00000</td>\n",
       "      <td>0.00001</td>\n",
       "    </tr>\n",
       "    <tr>\n",
       "      <th>11.0</th>\n",
       "      <td>2</td>\n",
       "      <td>8</td>\n",
       "      <td>1.000000</td>\n",
       "      <td>0.00000</td>\n",
       "      <td>0.00000</td>\n",
       "    </tr>\n",
       "    <tr>\n",
       "      <th>12.0</th>\n",
       "      <td>1</td>\n",
       "      <td>7</td>\n",
       "      <td>1.000000</td>\n",
       "      <td>0.00000</td>\n",
       "      <td>0.00000</td>\n",
       "    </tr>\n",
       "    <tr>\n",
       "      <th>13.0</th>\n",
       "      <td>1</td>\n",
       "      <td>6</td>\n",
       "      <td>1.000000</td>\n",
       "      <td>0.00000</td>\n",
       "      <td>0.00000</td>\n",
       "    </tr>\n",
       "    <tr>\n",
       "      <th>20.0</th>\n",
       "      <td>2</td>\n",
       "      <td>5</td>\n",
       "      <td>1.000000</td>\n",
       "      <td>0.00000</td>\n",
       "      <td>0.00000</td>\n",
       "    </tr>\n",
       "    <tr>\n",
       "      <th>29.0</th>\n",
       "      <td>1</td>\n",
       "      <td>4</td>\n",
       "      <td>1.000000</td>\n",
       "      <td>0.00000</td>\n",
       "      <td>0.00000</td>\n",
       "    </tr>\n",
       "    <tr>\n",
       "      <th>45.0</th>\n",
       "      <td>1</td>\n",
       "      <td>3</td>\n",
       "      <td>1.000000</td>\n",
       "      <td>0.00000</td>\n",
       "      <td>0.00000</td>\n",
       "    </tr>\n",
       "    <tr>\n",
       "      <th>104.0</th>\n",
       "      <td>1</td>\n",
       "      <td>2</td>\n",
       "      <td>1.000000</td>\n",
       "      <td>0.00000</td>\n",
       "      <td>0.00000</td>\n",
       "    </tr>\n",
       "    <tr>\n",
       "      <th>137.0</th>\n",
       "      <td>1</td>\n",
       "      <td>1</td>\n",
       "      <td>1.000000</td>\n",
       "      <td>0.00000</td>\n",
       "      <td>0.00000</td>\n",
       "    </tr>\n",
       "  </tbody>\n",
       "</table>\n",
       "</div>"
      ],
      "text/plain": [
       "                   events  num_subjects  survival      cdf      pmf\n",
       "prev_review_delta                                                  \n",
       "1.0                     1            14  0.928571  0.07143  0.00000\n",
       "2.0                     1            13  0.994505  0.00549  0.06594\n",
       "3.0                     1            12  0.999542  0.00046  0.00503\n",
       "6.0                     2            11  0.999917  0.00008  0.00038\n",
       "7.0                     1            10  0.999992  0.00001  0.00007\n",
       "9.0                     2             9  0.999998  0.00000  0.00001\n",
       "11.0                    2             8  1.000000  0.00000  0.00000\n",
       "12.0                    1             7  1.000000  0.00000  0.00000\n",
       "13.0                    1             6  1.000000  0.00000  0.00000\n",
       "20.0                    2             5  1.000000  0.00000  0.00000\n",
       "29.0                    1             4  1.000000  0.00000  0.00000\n",
       "45.0                    1             3  1.000000  0.00000  0.00000\n",
       "104.0                   1             2  1.000000  0.00000  0.00000\n",
       "137.0                   1             1  1.000000  0.00000  0.00000"
      ]
     },
     "execution_count": 306,
     "metadata": {},
     "output_type": "execute_result"
    }
   ],
   "source": [
    "info.loc['B000P6J1M2']"
   ]
  },
  {
   "cell_type": "code",
   "execution_count": null,
   "id": "f8e1cb0e",
   "metadata": {},
   "outputs": [],
   "source": []
  }
 ],
 "metadata": {
  "kernelspec": {
   "display_name": "Python 3 (ipykernel)",
   "language": "python",
   "name": "python3"
  },
  "language_info": {
   "codemirror_mode": {
    "name": "ipython",
    "version": 3
   },
   "file_extension": ".py",
   "mimetype": "text/x-python",
   "name": "python",
   "nbconvert_exporter": "python",
   "pygments_lexer": "ipython3",
   "version": "3.9.0"
  },
  "varInspector": {
   "cols": {
    "lenName": 16,
    "lenType": 16,
    "lenVar": 40
   },
   "kernels_config": {
    "python": {
     "delete_cmd_postfix": "",
     "delete_cmd_prefix": "del ",
     "library": "var_list.py",
     "varRefreshCmd": "print(var_dic_list())"
    },
    "r": {
     "delete_cmd_postfix": ") ",
     "delete_cmd_prefix": "rm(",
     "library": "var_list.r",
     "varRefreshCmd": "cat(var_dic_list()) "
    }
   },
   "types_to_exclude": [
    "module",
    "function",
    "builtin_function_or_method",
    "instance",
    "_Feature"
   ],
   "window_display": false
  }
 },
 "nbformat": 4,
 "nbformat_minor": 5
}
