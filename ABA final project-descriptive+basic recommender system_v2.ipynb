{
 "cells": [
  {
   "cell_type": "markdown",
   "metadata": {
    "cell_id": "4a9132311de94b02bece1acb2df75c57",
    "deepnote_cell_height": 779,
    "deepnote_cell_type": "markdown",
    "tags": []
   },
   "source": [
    "# <font color ='Black'> Project Challenge: Recommender system for the Amazon food data!\n",
    "\n",
    "by \n",
    "* Haimi Qiu (s212650)\n",
    "* Malthe Andreas Lejbølle Jelstrup (s184291)\n",
    "* Mathias Sofus Hovmark (s173853)\n",
    "* Frederik Sandström Ommundsen (s183951)\n",
    "* Jiafei Xia (s213084) </font>\n",
    "\n",
    "# Table of Contents\n",
    "- [Part 1: <u>Introduction</u>](#intro)\n",
    "- [Part 2: <u>Data Analysis and Visualisation</u>](#datavis)\n",
    "    - [2.1: <u>Load and Present Basic Information of the Dataset</u>](#load)\n",
    "    - [2.2: <u>Insight Exploration</u>](#insight) \n",
    "    - [2.3: <u>Data Cleaning</u>](#cleaning)\n",
    "    \n",
    "- [Part 3: <u>Recommender System</u>](#RS)\n",
    "    - [3.1: <u>Non-personalized Recommender System</u>](#Non-personalized)\n",
    "    - [3.2: <u>Personalized Recommender System</u>](#Personalized) \n",
    "- [Part 4: <u>Matrix Factorization and LDA Combination</u>](#explore)\n",
    "- [Part 5: <u>Survival Analysis</u>](#survival)\n",
    "- [Part 6: <u>Conclusion</u>](#conc)"
   ]
  },
  {
   "cell_type": "markdown",
   "metadata": {
    "cell_id": "2b269ed581eb4a99b6b6b2afc4124acf",
    "deepnote_cell_height": 167,
    "deepnote_cell_type": "markdown",
    "tags": []
   },
   "source": [
    "---\n",
    "<a id='intro'></a>\n",
    "\n",
    "# Part 1: Introduction\n",
    "\n",
    "In this project we will be working with Amazon review data for \"groceries\" and \"gourmet food\". The dataset was obtained through https://nijianmo.github.io/amazon/index.html and spans a period of 18 years from 2000-2018. The main objective of the project is to build a recommender system for recommending products to users. First, a brief overview of the data will be given and the preliminary cleaning steps will be presented. Then, the specific research questions that will be explored in the report will be presented."
   ]
  },
  {
   "cell_type": "markdown",
   "metadata": {
    "cell_id": "1503cf6b0a824988ac4f34a7fe92ebe8",
    "deepnote_cell_height": 96,
    "deepnote_cell_type": "markdown",
    "tags": []
   },
   "source": [
    "The dataset contains approximately 5.175.105 reviews of product from the 'groceries' and 'gourmet food' sections on Amazon. \n",
    "**Due to the computational cost, with different recommendation algorithms, we selected diffeent subset data to demenstrate the ideas of recommender system.** Tables 1 and 2 (in the following section of Part 2: Data Analysis and Visualisation) show descriptive statistics including missing values for the datasets features. The features included in the dataset are as follows:"
   ]
  },
  {
   "cell_type": "markdown",
   "metadata": {
    "cell_id": "54ef27fc0741434a974acaa7f99cb2cc",
    "deepnote_cell_height": 377,
    "deepnote_cell_type": "markdown",
    "tags": []
   },
   "source": [
    "**Features**\n",
    "* **reviewerID** - ID of the reviewer, e.g. A2SUAM1J3GNN3B\n",
    "* **asin** - ID of the product, e.g. 0000013714\n",
    "* **reviewerName** - name of the reviewer\n",
    "* **vote** - number of people who have indicated that the given review was 'helpful'\n",
    "* **reviewText** - the full review text\n",
    "* **overall** - the rating of the product (from 1-5, discrete values)\n",
    "* **summary** - a summary of the review as provided by the user who wrote the review (i.e. a review 'title')\n",
    "* **reviewTime** - time and date of the review\n",
    "* **image** - images that users post after they have received the product\n",
    "* **verified** - a feature indicating whether the review comes from an Amazon account that has previously purchased this product\n",
    "* **price** - the price of the product the review concerns\n",
    "* **main_cat** - the main overall category each product has been assigned to by Amazon\n",
    "* **bottom_cat** - the most specific category each product has been assigned to"
   ]
  },
  {
   "cell_type": "markdown",
   "metadata": {
    "cell_id": "ef76685c67954b2496b0054cf5460ec4",
    "deepnote_cell_height": 85,
    "deepnote_cell_type": "markdown",
    "tags": []
   },
   "source": [
    "---\n",
    "<a id='dataprep'></a>\n",
    "\n",
    "# Part 2: Data Analysis and Visualisation"
   ]
  },
  {
   "cell_type": "code",
   "execution_count": 341,
   "metadata": {
    "cell_id": "e2a80300f13c416a8c3aec13c6b4878b",
    "deepnote_cell_height": 207,
    "deepnote_cell_type": "code",
    "deepnote_to_be_reexecuted": true,
    "execution_millis": 7,
    "execution_start": 1648818058889,
    "jupyter": {
     "source_hidden": true
    },
    "source_hash": "4acd9cdc",
    "tags": []
   },
   "outputs": [],
   "source": [
    "import pandas as pd\n",
    "import numpy as np\n",
    "import seaborn as sns\n",
    "import warnings\n",
    "import matplotlib.pyplot as plt\n",
    "warnings.filterwarnings('ignore')\n",
    "%matplotlib inline\n",
    "sns.set(rc={'figure.figsize':(11.7,8.27)})\n",
    "from nltk.stem import WordNetLemmatizer # text mining\n",
    "from sklearn.feature_extraction import _stop_words\n",
    "import nltk\n",
    "import string\n",
    "from sklearn.decomposition import LatentDirichletAllocation\n",
    "from sklearn.feature_extraction.text import CountVectorizer\n",
    "\n",
    "from sklearn.linear_model import LogisticRegression # content-based CF\n",
    "from surprise import SVD\n",
    "from surprise.dataset import Reader, Dataset # MF\n",
    "from surprise.model_selection import GridSearchCV # SVD"
   ]
  },
  {
   "cell_type": "markdown",
   "metadata": {
    "cell_id": "bd4fd420eaa447cb97284e9c677c21f2",
    "deepnote_cell_height": 76,
    "deepnote_cell_type": "markdown",
    "tags": []
   },
   "source": [
    "<a id='load'></a>\n",
    "\n",
    "### 2.1: Load and present basic information of the dataset"
   ]
  },
  {
   "cell_type": "markdown",
   "metadata": {},
   "source": [
    "**In this section, we used the full dataset for basis data exploration before creating recommendation system.**   "
   ]
  },
  {
   "cell_type": "code",
   "execution_count": 2,
   "metadata": {
    "cell_id": "5c32e8b0d29c4be9bd699acb29dd8867",
    "deepnote_cell_height": 411,
    "deepnote_cell_type": "code",
    "deepnote_to_be_reexecuted": true,
    "execution_millis": 1818,
    "execution_start": 1648818061914,
    "jupyter": {
     "source_hidden": true
    },
    "source_hash": "73eeeff3",
    "tags": []
   },
   "outputs": [
    {
     "data": {
      "text/html": [
       "<div>\n",
       "<style scoped>\n",
       "    .dataframe tbody tr th:only-of-type {\n",
       "        vertical-align: middle;\n",
       "    }\n",
       "\n",
       "    .dataframe tbody tr th {\n",
       "        vertical-align: top;\n",
       "    }\n",
       "\n",
       "    .dataframe thead th {\n",
       "        text-align: right;\n",
       "    }\n",
       "</style>\n",
       "<table border=\"1\" class=\"dataframe\">\n",
       "  <thead>\n",
       "    <tr style=\"text-align: right;\">\n",
       "      <th></th>\n",
       "      <th>0</th>\n",
       "      <th>1</th>\n",
       "      <th>2</th>\n",
       "      <th>3</th>\n",
       "      <th>4</th>\n",
       "    </tr>\n",
       "  </thead>\n",
       "  <tbody>\n",
       "    <tr>\n",
       "      <th>Unnamed: 0</th>\n",
       "      <td>0</td>\n",
       "      <td>1</td>\n",
       "      <td>2</td>\n",
       "      <td>3</td>\n",
       "      <td>4</td>\n",
       "    </tr>\n",
       "    <tr>\n",
       "      <th>overall</th>\n",
       "      <td>5</td>\n",
       "      <td>4</td>\n",
       "      <td>4</td>\n",
       "      <td>5</td>\n",
       "      <td>4</td>\n",
       "    </tr>\n",
       "    <tr>\n",
       "      <th>verified</th>\n",
       "      <td>True</td>\n",
       "      <td>True</td>\n",
       "      <td>True</td>\n",
       "      <td>True</td>\n",
       "      <td>True</td>\n",
       "    </tr>\n",
       "    <tr>\n",
       "      <th>reviewTime</th>\n",
       "      <td>06 4, 2013</td>\n",
       "      <td>05 23, 2014</td>\n",
       "      <td>05 9, 2014</td>\n",
       "      <td>04 20, 2014</td>\n",
       "      <td>04 16, 2014</td>\n",
       "    </tr>\n",
       "    <tr>\n",
       "      <th>reviewerID</th>\n",
       "      <td>ALP49FBWT4I7V</td>\n",
       "      <td>A1KPIZOCLB9FZ8</td>\n",
       "      <td>A2W0FA06IYAYQE</td>\n",
       "      <td>A2PTZTCH2QUYBC</td>\n",
       "      <td>A2VNHGJ59N4Z90</td>\n",
       "    </tr>\n",
       "    <tr>\n",
       "      <th>asin</th>\n",
       "      <td>1888861614</td>\n",
       "      <td>1888861614</td>\n",
       "      <td>1888861614</td>\n",
       "      <td>1888861614</td>\n",
       "      <td>1888861614</td>\n",
       "    </tr>\n",
       "    <tr>\n",
       "      <th>reviewerName</th>\n",
       "      <td>Lori</td>\n",
       "      <td>BK Shopper</td>\n",
       "      <td>daninethequeen</td>\n",
       "      <td>Tammara</td>\n",
       "      <td>LaQuinta Alexander</td>\n",
       "    </tr>\n",
       "    <tr>\n",
       "      <th>reviewText</th>\n",
       "      <td>Very pleased with my purchase. Looks exactly l...</td>\n",
       "      <td>Very nicely crafted but too small. Am going to...</td>\n",
       "      <td>still very pretty and well made...i am super p...</td>\n",
       "      <td>I got this for our wedding cake, and it was ev...</td>\n",
       "      <td>It was just what I want to put at the top of m...</td>\n",
       "    </tr>\n",
       "    <tr>\n",
       "      <th>summary</th>\n",
       "      <td>Love it</td>\n",
       "      <td>Nice but small</td>\n",
       "      <td>the \"s\" looks like a 5, kina</td>\n",
       "      <td>Would recommend this to a friend!</td>\n",
       "      <td>Topper</td>\n",
       "    </tr>\n",
       "    <tr>\n",
       "      <th>unixReviewTime</th>\n",
       "      <td>1370304000</td>\n",
       "      <td>1400803200</td>\n",
       "      <td>1399593600</td>\n",
       "      <td>1397952000</td>\n",
       "      <td>1397606400</td>\n",
       "    </tr>\n",
       "    <tr>\n",
       "      <th>vote</th>\n",
       "      <td>NaN</td>\n",
       "      <td>NaN</td>\n",
       "      <td>NaN</td>\n",
       "      <td>NaN</td>\n",
       "      <td>NaN</td>\n",
       "    </tr>\n",
       "    <tr>\n",
       "      <th>image</th>\n",
       "      <td>NaN</td>\n",
       "      <td>NaN</td>\n",
       "      <td>NaN</td>\n",
       "      <td>NaN</td>\n",
       "      <td>NaN</td>\n",
       "    </tr>\n",
       "    <tr>\n",
       "      <th>style</th>\n",
       "      <td>NaN</td>\n",
       "      <td>NaN</td>\n",
       "      <td>NaN</td>\n",
       "      <td>NaN</td>\n",
       "      <td>NaN</td>\n",
       "    </tr>\n",
       "    <tr>\n",
       "      <th>price</th>\n",
       "      <td>$15.00</td>\n",
       "      <td>$15.00</td>\n",
       "      <td>$15.00</td>\n",
       "      <td>$15.00</td>\n",
       "      <td>$15.00</td>\n",
       "    </tr>\n",
       "    <tr>\n",
       "      <th>main_cat</th>\n",
       "      <td>Amazon Home</td>\n",
       "      <td>Amazon Home</td>\n",
       "      <td>Amazon Home</td>\n",
       "      <td>Amazon Home</td>\n",
       "      <td>Amazon Home</td>\n",
       "    </tr>\n",
       "    <tr>\n",
       "      <th>category</th>\n",
       "      <td>['Grocery &amp; Gourmet Food', 'Cooking &amp; Baking',...</td>\n",
       "      <td>['Grocery &amp; Gourmet Food', 'Cooking &amp; Baking',...</td>\n",
       "      <td>['Grocery &amp; Gourmet Food', 'Cooking &amp; Baking',...</td>\n",
       "      <td>['Grocery &amp; Gourmet Food', 'Cooking &amp; Baking',...</td>\n",
       "      <td>['Grocery &amp; Gourmet Food', 'Cooking &amp; Baking',...</td>\n",
       "    </tr>\n",
       "    <tr>\n",
       "      <th>bottom_cat</th>\n",
       "      <td>Cake Toppers</td>\n",
       "      <td>Cake Toppers</td>\n",
       "      <td>Cake Toppers</td>\n",
       "      <td>Cake Toppers</td>\n",
       "      <td>Cake Toppers</td>\n",
       "    </tr>\n",
       "  </tbody>\n",
       "</table>\n",
       "</div>"
      ],
      "text/plain": [
       "                                                                0  \\\n",
       "Unnamed: 0                                                      0   \n",
       "overall                                                         5   \n",
       "verified                                                     True   \n",
       "reviewTime                                             06 4, 2013   \n",
       "reviewerID                                          ALP49FBWT4I7V   \n",
       "asin                                                   1888861614   \n",
       "reviewerName                                                 Lori   \n",
       "reviewText      Very pleased with my purchase. Looks exactly l...   \n",
       "summary                                                   Love it   \n",
       "unixReviewTime                                         1370304000   \n",
       "vote                                                          NaN   \n",
       "image                                                         NaN   \n",
       "style                                                         NaN   \n",
       "price                                                      $15.00   \n",
       "main_cat                                              Amazon Home   \n",
       "category        ['Grocery & Gourmet Food', 'Cooking & Baking',...   \n",
       "bottom_cat                                           Cake Toppers   \n",
       "\n",
       "                                                                1  \\\n",
       "Unnamed: 0                                                      1   \n",
       "overall                                                         4   \n",
       "verified                                                     True   \n",
       "reviewTime                                            05 23, 2014   \n",
       "reviewerID                                         A1KPIZOCLB9FZ8   \n",
       "asin                                                   1888861614   \n",
       "reviewerName                                           BK Shopper   \n",
       "reviewText      Very nicely crafted but too small. Am going to...   \n",
       "summary                                            Nice but small   \n",
       "unixReviewTime                                         1400803200   \n",
       "vote                                                          NaN   \n",
       "image                                                         NaN   \n",
       "style                                                         NaN   \n",
       "price                                                      $15.00   \n",
       "main_cat                                              Amazon Home   \n",
       "category        ['Grocery & Gourmet Food', 'Cooking & Baking',...   \n",
       "bottom_cat                                           Cake Toppers   \n",
       "\n",
       "                                                                2  \\\n",
       "Unnamed: 0                                                      2   \n",
       "overall                                                         4   \n",
       "verified                                                     True   \n",
       "reviewTime                                             05 9, 2014   \n",
       "reviewerID                                         A2W0FA06IYAYQE   \n",
       "asin                                                   1888861614   \n",
       "reviewerName                                       daninethequeen   \n",
       "reviewText      still very pretty and well made...i am super p...   \n",
       "summary                              the \"s\" looks like a 5, kina   \n",
       "unixReviewTime                                         1399593600   \n",
       "vote                                                          NaN   \n",
       "image                                                         NaN   \n",
       "style                                                         NaN   \n",
       "price                                                      $15.00   \n",
       "main_cat                                              Amazon Home   \n",
       "category        ['Grocery & Gourmet Food', 'Cooking & Baking',...   \n",
       "bottom_cat                                           Cake Toppers   \n",
       "\n",
       "                                                                3  \\\n",
       "Unnamed: 0                                                      3   \n",
       "overall                                                         5   \n",
       "verified                                                     True   \n",
       "reviewTime                                            04 20, 2014   \n",
       "reviewerID                                         A2PTZTCH2QUYBC   \n",
       "asin                                                   1888861614   \n",
       "reviewerName                                              Tammara   \n",
       "reviewText      I got this for our wedding cake, and it was ev...   \n",
       "summary                         Would recommend this to a friend!   \n",
       "unixReviewTime                                         1397952000   \n",
       "vote                                                          NaN   \n",
       "image                                                         NaN   \n",
       "style                                                         NaN   \n",
       "price                                                      $15.00   \n",
       "main_cat                                              Amazon Home   \n",
       "category        ['Grocery & Gourmet Food', 'Cooking & Baking',...   \n",
       "bottom_cat                                           Cake Toppers   \n",
       "\n",
       "                                                                4  \n",
       "Unnamed: 0                                                      4  \n",
       "overall                                                         4  \n",
       "verified                                                     True  \n",
       "reviewTime                                            04 16, 2014  \n",
       "reviewerID                                         A2VNHGJ59N4Z90  \n",
       "asin                                                   1888861614  \n",
       "reviewerName                                   LaQuinta Alexander  \n",
       "reviewText      It was just what I want to put at the top of m...  \n",
       "summary                                                    Topper  \n",
       "unixReviewTime                                         1397606400  \n",
       "vote                                                          NaN  \n",
       "image                                                         NaN  \n",
       "style                                                         NaN  \n",
       "price                                                      $15.00  \n",
       "main_cat                                              Amazon Home  \n",
       "category        ['Grocery & Gourmet Food', 'Cooking & Baking',...  \n",
       "bottom_cat                                           Cake Toppers  "
      ]
     },
     "execution_count": 2,
     "metadata": {},
     "output_type": "execute_result"
    }
   ],
   "source": [
    "# df=pd.read_csv('merged_df.csv') # sub-set\n",
    "df=pd.read_csv('merged_full.csv') # full\n",
    "df.head().T"
   ]
  },
  {
   "cell_type": "code",
   "execution_count": 3,
   "metadata": {},
   "outputs": [
    {
     "name": "stdout",
     "output_type": "stream",
     "text": [
      "<class 'pandas.core.frame.DataFrame'>\n",
      "RangeIndex: 5175105 entries, 0 to 5175104\n",
      "Data columns (total 17 columns):\n",
      " #   Column          Dtype \n",
      "---  ------          ----- \n",
      " 0   Unnamed: 0      int64 \n",
      " 1   overall         int64 \n",
      " 2   verified        bool  \n",
      " 3   reviewTime      object\n",
      " 4   reviewerID      object\n",
      " 5   asin            object\n",
      " 6   reviewerName    object\n",
      " 7   reviewText      object\n",
      " 8   summary         object\n",
      " 9   unixReviewTime  int64 \n",
      " 10  vote            object\n",
      " 11  image           object\n",
      " 12  style           object\n",
      " 13  price           object\n",
      " 14  main_cat        object\n",
      " 15  category        object\n",
      " 16  bottom_cat      object\n",
      "dtypes: bool(1), int64(3), object(13)\n",
      "memory usage: 636.7+ MB\n"
     ]
    }
   ],
   "source": [
    "df.info()"
   ]
  },
  {
   "cell_type": "code",
   "execution_count": 4,
   "metadata": {},
   "outputs": [
    {
     "name": "stdout",
     "output_type": "stream",
     "text": [
      "================================================\n",
      "No. of missing value for each parameter\n",
      "================================================\n"
     ]
    },
    {
     "data": {
      "text/plain": [
       "Unnamed: 0              0\n",
       "overall                 0\n",
       "verified                0\n",
       "reviewTime              0\n",
       "reviewerID              0\n",
       "asin                    0\n",
       "reviewerName          662\n",
       "reviewText           2917\n",
       "summary              1376\n",
       "unixReviewTime          0\n",
       "vote              4499677\n",
       "image             5103186\n",
       "style             2844718\n",
       "price             1543805\n",
       "main_cat             8290\n",
       "category                0\n",
       "bottom_cat              0\n",
       "dtype: int64"
      ]
     },
     "execution_count": 4,
     "metadata": {},
     "output_type": "execute_result"
    }
   ],
   "source": [
    "print(\"================================================\")\n",
    "print(\"No. of missing value for each parameter\")\n",
    "print(\"================================================\")\n",
    "df.isnull().sum()"
   ]
  },
  {
   "cell_type": "markdown",
   "metadata": {},
   "source": [
    "**The dataset has 5.175.105 observations and 17 features columns. 3 is of type int64s and 14 are objects. From the `df.isnull().sum()` column we can see quite a few feature columns contain missing values.**"
   ]
  },
  {
   "cell_type": "code",
   "execution_count": 5,
   "metadata": {
    "cell_id": "f5c1298ed8e3408ea2c116536707a4e6",
    "deepnote_cell_height": 243,
    "deepnote_cell_type": "code",
    "deepnote_to_be_reexecuted": true,
    "execution_millis": 26488,
    "execution_start": 1648817994899,
    "jupyter": {
     "source_hidden": true
    },
    "source_hash": "e1a9660c",
    "tags": []
   },
   "outputs": [],
   "source": [
    "#Splitting the datestamp into day/year/month and seasons\n",
    "df['Date'] = pd.to_datetime(df.reviewTime.values)\n",
    "df['year'] = df.Date.apply(lambda x: x.year)\n",
    "df['day'] = df.Date.apply(lambda x: x.weekday())\n",
    "df['month'] = df.Date.apply(lambda x: x.month)\n",
    "bins = [\"Winter\", \"Spring\", \"Summer\", \"Fall\"]\n",
    "df['season'] = df.month%12 //3\n",
    "df['season'] = df['season'].apply(lambda x : bins[x])\n",
    "df['vote'] = df['vote'].str.replace(',', '').replace(np.nan, 0).astype(int)\n",
    "df['price'].str.replace('$', '').replace(',', '').replace(np.nan, 0)\n",
    "# dropping the columns which has no impact regarding the research questions\n",
    "df=df.drop(columns=['Unnamed: 0', 'unixReviewTime', 'reviewTime','image', 'reviewerName','style','category'])"
   ]
  },
  {
   "cell_type": "code",
   "execution_count": 6,
   "metadata": {
    "cell_id": "2a81fdd7506b46f7b135deee80b23d5d",
    "deepnote_cell_height": 1066,
    "deepnote_cell_type": "code",
    "deepnote_to_be_reexecuted": true,
    "execution_millis": 4557,
    "execution_start": 1648814738233,
    "jupyter": {
     "source_hidden": true
    },
    "source_hash": "ec4f67b9",
    "tags": []
   },
   "outputs": [
    {
     "name": "stdout",
     "output_type": "stream",
     "text": [
      "* Month will be treated as nominal\n"
     ]
    },
    {
     "data": {
      "text/html": [
       "<div>\n",
       "<style scoped>\n",
       "    .dataframe tbody tr th:only-of-type {\n",
       "        vertical-align: middle;\n",
       "    }\n",
       "\n",
       "    .dataframe tbody tr th {\n",
       "        vertical-align: top;\n",
       "    }\n",
       "\n",
       "    .dataframe thead th {\n",
       "        text-align: right;\n",
       "    }\n",
       "</style>\n",
       "<table border=\"1\" class=\"dataframe\">\n",
       "  <thead>\n",
       "    <tr style=\"text-align: right;\">\n",
       "      <th></th>\n",
       "      <th>Unique values</th>\n",
       "      <th>Most frequent category (N)</th>\n",
       "      <th>Least frequent category (N)</th>\n",
       "      <th>Mean frequency per category</th>\n",
       "      <th>SD</th>\n",
       "      <th>Number of missing values</th>\n",
       "      <th>Description</th>\n",
       "    </tr>\n",
       "  </thead>\n",
       "  <tbody>\n",
       "    <tr>\n",
       "      <th>reviewerID</th>\n",
       "      <td>2695230.0</td>\n",
       "      <td>{'A1LACH6MLQWZ': 1114}</td>\n",
       "      <td>{'A5H451HSAYBO': 1}</td>\n",
       "      <td>1.920098</td>\n",
       "      <td>3.256052</td>\n",
       "      <td>0.0</td>\n",
       "      <td>Reviewer identifier</td>\n",
       "    </tr>\n",
       "    <tr>\n",
       "      <th>asin</th>\n",
       "      <td>283349.0</td>\n",
       "      <td>{'B0001LO3FG': 13716}</td>\n",
       "      <td>{'B0149JVSOO': 1}</td>\n",
       "      <td>18.264067</td>\n",
       "      <td>112.997978</td>\n",
       "      <td>0.0</td>\n",
       "      <td>Product ID (identical products have same ID)</td>\n",
       "    </tr>\n",
       "    <tr>\n",
       "      <th>reviewText</th>\n",
       "      <td>4180161.0</td>\n",
       "      <td>{'Great': 11677}</td>\n",
       "      <td>{'Bought this for my mother-in-law as a Mother...</td>\n",
       "      <td>1.237318</td>\n",
       "      <td>15.987696</td>\n",
       "      <td>2917.0</td>\n",
       "      <td>Full review text for product</td>\n",
       "    </tr>\n",
       "    <tr>\n",
       "      <th>verified</th>\n",
       "      <td>2.0</td>\n",
       "      <td>{True: 4523878}</td>\n",
       "      <td>{False: 651227}</td>\n",
       "      <td>2587552.5</td>\n",
       "      <td>2738377.783269</td>\n",
       "      <td>0.0</td>\n",
       "      <td>1 if reviewer has bought product, 0 otherwise</td>\n",
       "    </tr>\n",
       "    <tr>\n",
       "      <th>summary</th>\n",
       "      <td>2180775.0</td>\n",
       "      <td>{'Five Stars': 1161407}</td>\n",
       "      <td>{'order the honey made from the state that you...</td>\n",
       "      <td>2.372427</td>\n",
       "      <td>797.925355</td>\n",
       "      <td>1376.0</td>\n",
       "      <td>The chosen title for the users review</td>\n",
       "    </tr>\n",
       "    <tr>\n",
       "      <th>year</th>\n",
       "      <td>19.0</td>\n",
       "      <td>{2016: 1135788}</td>\n",
       "      <td>{2000: 5}</td>\n",
       "      <td>272373.947368</td>\n",
       "      <td>399856.775015</td>\n",
       "      <td>0.0</td>\n",
       "      <td>Year of review</td>\n",
       "    </tr>\n",
       "    <tr>\n",
       "      <th>bottom_cat</th>\n",
       "      <td>1174.0</td>\n",
       "      <td>{'Single-Serve Capsules &amp; Pods': 346438}</td>\n",
       "      <td>{'Meatballs': 1}</td>\n",
       "      <td>4408.096252</td>\n",
       "      <td>14777.457691</td>\n",
       "      <td>0.0</td>\n",
       "      <td>Most specific product category</td>\n",
       "    </tr>\n",
       "    <tr>\n",
       "      <th>main_cat</th>\n",
       "      <td>32.0</td>\n",
       "      <td>{'Grocery': 4760472}</td>\n",
       "      <td>{'&lt;img src=\"https://m.media-amazon.com/images/...</td>\n",
       "      <td>161462.96875</td>\n",
       "      <td>840349.55462</td>\n",
       "      <td>8290.0</td>\n",
       "      <td>Amazons identified overall category</td>\n",
       "    </tr>\n",
       "  </tbody>\n",
       "</table>\n",
       "</div>"
      ],
      "text/plain": [
       "           Unique values                Most frequent category (N)  \\\n",
       "reviewerID     2695230.0                    {'A1LACH6MLQWZ': 1114}   \n",
       "asin            283349.0                     {'B0001LO3FG': 13716}   \n",
       "reviewText     4180161.0                          {'Great': 11677}   \n",
       "verified             2.0                           {True: 4523878}   \n",
       "summary        2180775.0                   {'Five Stars': 1161407}   \n",
       "year                19.0                           {2016: 1135788}   \n",
       "bottom_cat        1174.0  {'Single-Serve Capsules & Pods': 346438}   \n",
       "main_cat            32.0                      {'Grocery': 4760472}   \n",
       "\n",
       "                                  Least frequent category (N)  \\\n",
       "reviewerID                                {'A5H451HSAYBO': 1}   \n",
       "asin                                        {'B0149JVSOO': 1}   \n",
       "reviewText  {'Bought this for my mother-in-law as a Mother...   \n",
       "verified                                      {False: 651227}   \n",
       "summary     {'order the honey made from the state that you...   \n",
       "year                                                {2000: 5}   \n",
       "bottom_cat                                   {'Meatballs': 1}   \n",
       "main_cat    {'<img src=\"https://m.media-amazon.com/images/...   \n",
       "\n",
       "           Mean frequency per category              SD  \\\n",
       "reviewerID                    1.920098        3.256052   \n",
       "asin                         18.264067      112.997978   \n",
       "reviewText                    1.237318       15.987696   \n",
       "verified                     2587552.5  2738377.783269   \n",
       "summary                       2.372427      797.925355   \n",
       "year                     272373.947368   399856.775015   \n",
       "bottom_cat                 4408.096252    14777.457691   \n",
       "main_cat                  161462.96875    840349.55462   \n",
       "\n",
       "           Number of missing values  \\\n",
       "reviewerID                      0.0   \n",
       "asin                            0.0   \n",
       "reviewText                   2917.0   \n",
       "verified                        0.0   \n",
       "summary                      1376.0   \n",
       "year                            0.0   \n",
       "bottom_cat                      0.0   \n",
       "main_cat                     8290.0   \n",
       "\n",
       "                                              Description  \n",
       "reviewerID                            Reviewer identifier  \n",
       "asin         Product ID (identical products have same ID)  \n",
       "reviewText                   Full review text for product  \n",
       "verified    1 if reviewer has bought product, 0 otherwise  \n",
       "summary             The chosen title for the users review  \n",
       "year                                       Year of review  \n",
       "bottom_cat                 Most specific product category  \n",
       "main_cat              Amazons identified overall category  "
      ]
     },
     "execution_count": 6,
     "metadata": {},
     "output_type": "execute_result"
    }
   ],
   "source": [
    "unique=np.array([])\n",
    "maxunique=np.array([])\n",
    "minunique=np.array([])\n",
    "meancounts=np.array([])\n",
    "stdcounts=np.array([])\n",
    "missingcounts=np.array([])\n",
    "mainds=df.copy()\n",
    "categorical = ['reviewerID', 'asin', 'reviewText', 'verified', 'summary', 'year', 'bottom_cat', 'main_cat']\n",
    "\n",
    "for i in categorical:\n",
    "    unique=np.append(unique, len(mainds[i].unique()))\n",
    "    maxunique=np.append(maxunique, {mainds[i].value_counts().idxmax() : mainds[i].value_counts().max()})\n",
    "    minunique=np.append(minunique, {mainds[i].value_counts().idxmin() : mainds[i].value_counts().min()})\n",
    "    meancounts=np.append(meancounts, mainds[i].value_counts().mean())\n",
    "    stdcounts=np.append(stdcounts, mainds[i].value_counts().std())\n",
    "    missingcounts=np.append(missingcounts, len(mainds[mainds[i].isnull()]))\n",
    "\n",
    "    \n",
    "test=pd.DataFrame([unique, maxunique, minunique, meancounts, stdcounts, missingcounts]).T\n",
    "test.index=categorical\n",
    "test.columns=['Unique values', 'Most frequent category (N)', 'Least frequent category (N)',\n",
    "             'Mean frequency per category', 'SD', 'Number of missing values']\n",
    "test['Unique values']=test['Unique values']-(test['Number of missing values']>0).astype(int)\n",
    "test['Description']=['Reviewer identifier', 'Product ID (identical products have same ID)', 'Full review text for product',\n",
    "                     '1 if reviewer has bought product, 0 otherwise','The chosen title for the user''s review','Year of review',\n",
    "                    'Most specific product category','Amazon''s identified overall category']\n",
    "print(\"* Month will be treated as nominal\")\n",
    "table1=test\n",
    "table1"
   ]
  },
  {
   "cell_type": "code",
   "execution_count": 7,
   "metadata": {
    "cell_id": "8a24709408044b298ab30b6120f9fbd3",
    "deepnote_cell_height": 732,
    "deepnote_cell_type": "code",
    "deepnote_to_be_reexecuted": true,
    "jupyter": {
     "source_hidden": true
    },
    "source_hash": "8227db62",
    "tags": []
   },
   "outputs": [
    {
     "name": "stdout",
     "output_type": "stream",
     "text": [
      "Most variables can be discretized or treated as nominal depending on distribution/research question\n"
     ]
    },
    {
     "data": {
      "text/html": [
       "<div>\n",
       "<style scoped>\n",
       "    .dataframe tbody tr th:only-of-type {\n",
       "        vertical-align: middle;\n",
       "    }\n",
       "\n",
       "    .dataframe tbody tr th {\n",
       "        vertical-align: top;\n",
       "    }\n",
       "\n",
       "    .dataframe thead th {\n",
       "        text-align: right;\n",
       "    }\n",
       "</style>\n",
       "<table border=\"1\" class=\"dataframe\">\n",
       "  <thead>\n",
       "    <tr style=\"text-align: right;\">\n",
       "      <th></th>\n",
       "      <th>Min</th>\n",
       "      <th>Max</th>\n",
       "      <th>Mean</th>\n",
       "      <th>SD</th>\n",
       "      <th>Median</th>\n",
       "      <th>No. of extreme outliers (+/- 3 SD)</th>\n",
       "      <th>No. missing values</th>\n",
       "      <th>No. zero values</th>\n",
       "      <th>Variable type</th>\n",
       "    </tr>\n",
       "  </thead>\n",
       "  <tbody>\n",
       "    <tr>\n",
       "      <th>vote</th>\n",
       "      <td>0.0</td>\n",
       "      <td>12174.0</td>\n",
       "      <td>0.218793</td>\n",
       "      <td>11.802725</td>\n",
       "      <td>0.0</td>\n",
       "      <td>3389.0</td>\n",
       "      <td>5044980.0</td>\n",
       "      <td>0.0</td>\n",
       "      <td>Number of votes received by review</td>\n",
       "    </tr>\n",
       "    <tr>\n",
       "      <th>price</th>\n",
       "      <td>0.0</td>\n",
       "      <td>0.0</td>\n",
       "      <td>0.000000</td>\n",
       "      <td>0.000000</td>\n",
       "      <td>0.0</td>\n",
       "      <td>0.0</td>\n",
       "      <td>5175105.0</td>\n",
       "      <td>0.0</td>\n",
       "      <td>Price of product reviewed</td>\n",
       "    </tr>\n",
       "    <tr>\n",
       "      <th>review_length</th>\n",
       "      <td>1.0</td>\n",
       "      <td>30000.0</td>\n",
       "      <td>175.265322</td>\n",
       "      <td>256.664737</td>\n",
       "      <td>105.0</td>\n",
       "      <td>88180.0</td>\n",
       "      <td>0.0</td>\n",
       "      <td>0.0</td>\n",
       "      <td>length of review in words</td>\n",
       "    </tr>\n",
       "    <tr>\n",
       "      <th>overall</th>\n",
       "      <td>1.0</td>\n",
       "      <td>5.0</td>\n",
       "      <td>4.316446</td>\n",
       "      <td>1.247916</td>\n",
       "      <td>5.0</td>\n",
       "      <td>0.0</td>\n",
       "      <td>0.0</td>\n",
       "      <td>0.0</td>\n",
       "      <td>rating given by review</td>\n",
       "    </tr>\n",
       "  </tbody>\n",
       "</table>\n",
       "</div>"
      ],
      "text/plain": [
       "               Min      Max        Mean          SD  Median  \\\n",
       "vote           0.0  12174.0    0.218793   11.802725     0.0   \n",
       "price          0.0      0.0    0.000000    0.000000     0.0   \n",
       "review_length  1.0  30000.0  175.265322  256.664737   105.0   \n",
       "overall        1.0      5.0    4.316446    1.247916     5.0   \n",
       "\n",
       "               No. of extreme outliers (+/- 3 SD)  No. missing values  \\\n",
       "vote                                       3389.0           5044980.0   \n",
       "price                                         0.0           5175105.0   \n",
       "review_length                             88180.0                 0.0   \n",
       "overall                                       0.0                 0.0   \n",
       "\n",
       "               No. zero values                       Variable type  \n",
       "vote                       0.0  Number of votes received by review  \n",
       "price                      0.0           Price of product reviewed  \n",
       "review_length              0.0           length of review in words  \n",
       "overall                    0.0              rating given by review  "
      ]
     },
     "execution_count": 7,
     "metadata": {},
     "output_type": "execute_result"
    }
   ],
   "source": [
    "minarray, maxarray, meanarray, stdarray, medianarray, outliersarray, missingarray, zeroarray = [np.array([]) for i in range(8)]\n",
    "\n",
    "continuous = ['vote', 'price', 'review_length', 'overall']\n",
    "\n",
    "mainds['vote']=mainds['vote'].astype(float)\n",
    "# mainds['price']=mainds['price'].astype(float)\n",
    "mainds['price']=pd.to_numeric(mainds['price'], errors='coerce').fillna(0).astype(float) # 0 in case non-value in the `price` column\n",
    "mainds['review_length'] = mainds.reviewText.map(str).apply(len)\n",
    "mainds['review_length']=mainds['review_length']\n",
    "mainds['overall']=mainds['overall'].astype(float)\n",
    "\n",
    "from scipy import stats\n",
    "from matplotlib import pyplot as plt\n",
    "\n",
    "for i in continuous:\n",
    "    minarray=np.append(minarray, mainds[i].min())\n",
    "    maxarray=np.append(maxarray, mainds[i].max())\n",
    "    meanarray=np.append(meanarray, mainds[i].mean())\n",
    "    stdarray=np.append(stdarray, mainds[i].std())\n",
    "    medianarray=np.append(medianarray, mainds[i].median())\n",
    "    zscore = stats.zscore(mainds[i])\n",
    "    outliersarray=np.append(outliersarray, len(mainds[np.abs(zscore)>3]))\n",
    "    missingarray = np.append(missingarray, len(mainds[mainds[i]==0]))\n",
    "    zeroarray = np.append(zeroarray, len(mainds[np.isnan(mainds[i])]))\n",
    "    \n",
    "testc=pd.DataFrame([minarray, maxarray, meanarray, stdarray, medianarray, outliersarray, missingarray, zeroarray]).T\n",
    "\n",
    "testc.index=continuous\n",
    "testc.columns=['Min', 'Max', 'Mean', 'SD', 'Median', 'No. of extreme outliers (+/- 3 SD)', 'No. missing values', 'No. zero values']\n",
    "testc['Variable type']=['Number of votes received by review', 'Price of product reviewed', 'length of review in words', 'rating given by review']\n",
    "print(\"Most variables can be discretized or treated as nominal depending on distribution/research question\")\n",
    "table2=testc\n",
    "table2"
   ]
  },
  {
   "cell_type": "markdown",
   "metadata": {
    "cell_id": "4aa4623517ae4ca288040ebfe80c5274",
    "deepnote_cell_height": 85,
    "deepnote_cell_type": "markdown",
    "tags": []
   },
   "source": [
    "---\n",
    "\n",
    "<a id='insiExpl'></a>\n",
    "\n",
    "### 2.2: Insight Exploration"
   ]
  },
  {
   "cell_type": "markdown",
   "metadata": {},
   "source": [
    "<font color ='red'> (1) Correct below code to plot properly (2) Give a short explaination of our first plot in the notebook </font>"
   ]
  },
  {
   "cell_type": "code",
   "execution_count": 8,
   "metadata": {
    "cell_id": "875db6dcf1174a8db8f2145019d50a52",
    "deepnote_cell_height": 721,
    "deepnote_cell_type": "code",
    "deepnote_output_heights": [
     21,
     518
    ],
    "deepnote_to_be_reexecuted": true,
    "execution_millis": 1043,
    "execution_start": 1648814742371,
    "source_hash": "33f01ad3",
    "tags": []
   },
   "outputs": [
    {
     "data": {
      "image/png": "[encoded data removed]",
      "text/plain": [
       "<Figure size 842.4x595.44 with 4 Axes>"
      ]
     },
     "metadata": {},
     "output_type": "display_data"
    }
   ],
   "source": [
    "fig, ax = plt.subplots(1,2)\n",
    "\n",
    "# Divide the figure into a 1x2 grid, and give me the first section\n",
    "ax1 = fig.add_subplot(1,2,1)\n",
    "\n",
    "# Divide the figure into a 1x2 grid, and give me the second section\n",
    "ax2 = fig.add_subplot(1,2,2)\n",
    "\n",
    "ax[0]=df['year'].value_counts().plot(kind='barh',ax=ax1, title=\"The number of reviews in each year\",ylabel=\"Years\", xlabel=\"Counts\")\n",
    "ax[1]=df['month'].value_counts().plot(kind='barh',ax=ax2, title=\"The number of reviews in each months\",ylabel=\"Months\", xlabel=\"Counts\")\n",
    "month_starts = range(0,12)\n",
    "month_names = ['Jan','Feb','Mar','Apr','May','Jun',\n",
    "               'Jul','Aug','Sep','Oct','Nov','Dec'] \n",
    "\n",
    "ax2.set_yticks(month_starts)\n",
    "ax2.set_yticklabels(month_names)\n",
    "\n",
    "\n",
    "plt.show()"
   ]
  },
  {
   "cell_type": "markdown",
   "metadata": {},
   "source": [
    "Most of the reviews (88%) are from verified users meaning that the writer of the review should in principle have bought the product. This verification process is in place to avoid fake reviews. Instead of removing the 'not verified' reviews we will keep them for later investigation of whether the review verification process is of importance for our recommender system."
   ]
  },
  {
   "cell_type": "code",
   "execution_count": 9,
   "metadata": {
    "jupyter": {
     "source_hidden": true
    },
    "tags": []
   },
   "outputs": [
    {
     "data": {
      "image/png": "[encoded data removed]",
      "text/plain": [
       "<Figure size 842.4x595.44 with 1 Axes>"
      ]
     },
     "metadata": {},
     "output_type": "display_data"
    }
   ],
   "source": [
    "#true means the reviews where the custmomer bought the product\n",
    "df['verified'].value_counts().plot(kind='bar')\n",
    "plt.xticks([0,1], [\"Verified\", \"Not Verified\"], rotation=0)\n",
    "plt.show()"
   ]
  },
  {
   "cell_type": "markdown",
   "metadata": {},
   "source": [
    "Looking at the distribution of reviews and ratings shows a heavy-right skew - most users only review very few products (1-3), most products only receive very few reviews (1-3), the review texts are typically short, and an overweight of reviews contain the most positive rating (5).\n",
    "\n",
    "<font color ='red'> correct the last two figures below </font>"
   ]
  },
  {
   "cell_type": "code",
   "execution_count": 10,
   "metadata": {
    "jupyter": {
     "source_hidden": true
    },
    "tags": []
   },
   "outputs": [
    {
     "data": {
      "image/png": "[encoded data removed]",
      "text/plain": [
       "<Figure size 842.4x595.44 with 4 Axes>"
      ]
     },
     "metadata": {},
     "output_type": "display_data"
    }
   ],
   "source": [
    "fig, ax = plt.subplots(2,2)\n",
    "sns.distplot(df.groupby(\"asin\")[\"overall\"].count().rename(\"Number of reviews each product receving\"),\n",
    "             kde=False, hist=True, ax=ax[0,0])\n",
    "\n",
    "review_length = df.reviewText.map(str).apply(len)\n",
    "sns.distplot(review_length, ax=ax[0,1])\n",
    "\n",
    "sns.histplot(df.groupby(\"reviewerID\")[\"overall\"].count().rename(\"Number of reviews by reviewerID\"),\n",
    "             ax=ax[1,0])\n",
    "\n",
    "for patch in ax[1,0].patches :\n",
    "    current_width = patch.get_width()\n",
    "    new_value = 0.5\n",
    "    diff = current_width - new_value\n",
    "    # we change the bar width\n",
    "    patch.set_width(new_value)\n",
    "    # we recenter the bar\n",
    "    patch.set_x(patch.get_x() + diff * .5)\n",
    "    patch.set_alpha(1)\n",
    "    \n",
    "ax[1,1] = df.overall.value_counts().sort_index(ascending=False).plot(kind=\"bar\") #------------------CHECK \n",
    "ax[1,1].get_xticks\n",
    "# ax[1,1].set_xticks(ax[1,1].get_xticks(), rotation=0, size=15)\n",
    "ax[1,1].set_xticklabels(ax[1,1].get_xticks(), rotation=0, size=15) # work in different python version\n",
    "\n",
    "for p in ax[1,1].patches:\n",
    "    ax[1,1].annotate(str(p.get_height()), (p.get_x() * 1.005 + (p.get_width()/2), p.get_height() * 1.005 +1000), ha=\"center\", size=13)"
   ]
  },
  {
   "cell_type": "markdown",
   "metadata": {},
   "source": [
    "Next, we try to remove the outliers and the same plots as in previous will be shown."
   ]
  },
  {
   "cell_type": "code",
   "execution_count": 11,
   "metadata": {
    "cell_id": "e216196496474a5cb9ba267add5cbe3c",
    "deepnote_cell_height": 432,
    "deepnote_cell_type": "code",
    "deepnote_to_be_reexecuted": true,
    "execution_millis": 22,
    "execution_start": 1648814840931,
    "jupyter": {
     "source_hidden": true
    },
    "scrolled": true,
    "source_hash": "a0d542ef",
    "tags": []
   },
   "outputs": [],
   "source": [
    "# Extreme is defined as more than 3 standard deviations from the mean\n",
    "# Remove asins (products) with extreme number of reviews\n",
    "asin_count = df.groupby(\"asin\")[\"overall\"].count()\n",
    "asin_mean, asin_std = asin_count.mean(), asin_count.std()\n",
    "banned_asin = asin_count[asin_count > asin_mean + asin_std * 3].index\n",
    "\n",
    "# Remove reviewers that have made an extreme number of reviews\n",
    "reviewer_count = df.groupby(\"reviewerID\")[\"overall\"].count()\n",
    "reviewer_mean, reviewer_std = reviewer_count.mean(), reviewer_count.std()\n",
    "banned_reviewer = reviewer_count[reviewer_count > reviewer_mean + reviewer_std * 3].index\n",
    "\n",
    "# Remove reviews with an extremely long text\n",
    "review_mean, review_std = review_length.mean(), review_length.std()\n",
    "banned_review_index = review_length[review_length > review_mean + review_std * 3].index\n",
    "\n",
    "df.drop(banned_review_index, inplace=True)\n",
    "df_withoutOutlier = df[~df.asin.isin(banned_asin) & ~df.reviewerID.isin(banned_reviewer)]"
   ]
  },
  {
   "cell_type": "markdown",
   "metadata": {},
   "source": [
    "<font color ='red'> correct the last figure below </font>"
   ]
  },
  {
   "cell_type": "code",
   "execution_count": 12,
   "metadata": {
    "cell_id": "0115cbf27590442682a6f328088c8400",
    "deepnote_cell_height": 534,
    "deepnote_cell_type": "code",
    "deepnote_to_be_reexecuted": true,
    "jupyter": {
     "source_hidden": true
    },
    "source_hash": "8888c0e2",
    "tags": []
   },
   "outputs": [
    {
     "data": {
      "image/png": "[encoded data removed]",
      "text/plain": [
       "<Figure size 842.4x595.44 with 4 Axes>"
      ]
     },
     "metadata": {},
     "output_type": "display_data"
    }
   ],
   "source": [
    "fig, ax = plt.subplots(2,2)\n",
    "sns.distplot(df_withoutOutlier.groupby(\"asin\")[\"overall\"].count().rename(\"Number of reviews each product receving\"),\n",
    "             kde=False, hist=True, ax=ax[0,0])\n",
    "\n",
    "review_length = df_withoutOutlier.reviewText.map(str).apply(len)\n",
    "sns.distplot(review_length, ax=ax[0,1])\n",
    "\n",
    "sns.histplot(df_withoutOutlier.groupby(\"reviewerID\")[\"overall\"].count().rename(\"Number of reviews by reviewerID\"),\n",
    "             ax=ax[1,0])\n",
    "\n",
    "for patch in ax[1,0].patches :\n",
    "    current_width = patch.get_width()\n",
    "    new_value = 0.5\n",
    "    diff = current_width - new_value\n",
    "    # we change the bar width\n",
    "    patch.set_width(new_value)\n",
    "    # we recenter the bar\n",
    "    patch.set_x(patch.get_x() + diff * .5)\n",
    "    patch.set_alpha(1)\n",
    "    \n",
    "ax[1,1] = df_withoutOutlier.overall.value_counts().sort_index(ascending=False).plot(kind=\"bar\")\n",
    "ax[1,1].get_xticks\n",
    "# ax[1,1].set_xticks(ax[1,1].get_xticks(), rotation=0, size=15)\n",
    "ax[1,1].set_xticklabels(ax[1,1].get_xticks(), rotation=0, size=15) # work in different python version\n",
    "for p in ax[1,1].patches:\n",
    "    ax[1,1].annotate(str(p.get_height()), (p.get_x() * 1.005 + (p.get_width()/2), p.get_height() * 1.005 +1000), ha=\"center\", size=13)"
   ]
  },
  {
   "cell_type": "markdown",
   "metadata": {},
   "source": [
    "Comparing the above plots with the ones in the previous section it is clearly visible that the outliers have been removed and that the rows have been reduced. Especially the reviewText is less right skewed. We can see that most customers gave only 1 reviews for the products. "
   ]
  },
  {
   "cell_type": "markdown",
   "metadata": {},
   "source": [
    "Likewise, most reviews only receive between 1 and 5 'votes' indicating that another user found the review helpful, the review with the most votes got 2088 upvotes!"
   ]
  },
  {
   "cell_type": "code",
   "execution_count": 13,
   "metadata": {
    "cell_id": "7c2b91d8cb734f9d95ef1a808b0c8225",
    "deepnote_cell_height": 216,
    "deepnote_cell_type": "code",
    "deepnote_to_be_reexecuted": true,
    "execution_millis": 20,
    "execution_start": 1648818124775,
    "jupyter": {
     "source_hidden": true
    },
    "source_hash": "6e9b7540",
    "tags": []
   },
   "outputs": [
    {
     "data": {
      "image/png": "[encoded data removed]",
      "text/plain": [
       "<Figure size 842.4x595.44 with 1 Axes>"
      ]
     },
     "metadata": {},
     "output_type": "display_data"
    }
   ],
   "source": [
    "temp=df.copy()\n",
    "bins = [1,2,3,5,10,25,50,int(temp.vote.max())+1]\n",
    "temp['votes_grouped'] = pd.cut(temp['vote'],bins=bins)\n",
    "temp.votes_grouped.value_counts().sort_index(ascending=False).plot(kind=\"pie\",autopct='%.0f%%')\n",
    "plt.title(\"The distribution of votes on reviews with more than one vote\")\n",
    "plt.show()"
   ]
  },
  {
   "cell_type": "markdown",
   "metadata": {},
   "source": [
    "Next we will look at the ratings for different product categories."
   ]
  },
  {
   "cell_type": "code",
   "execution_count": 15,
   "metadata": {
    "scrolled": false
   },
   "outputs": [
    {
     "data": {
      "text/html": [
       "<div>\n",
       "<style scoped>\n",
       "    .dataframe tbody tr th:only-of-type {\n",
       "        vertical-align: middle;\n",
       "    }\n",
       "\n",
       "    .dataframe tbody tr th {\n",
       "        vertical-align: top;\n",
       "    }\n",
       "\n",
       "    .dataframe thead th {\n",
       "        text-align: right;\n",
       "    }\n",
       "</style>\n",
       "<table border=\"1\" class=\"dataframe\">\n",
       "  <thead>\n",
       "    <tr style=\"text-align: right;\">\n",
       "      <th></th>\n",
       "      <th>main_cat</th>\n",
       "      <th>overall</th>\n",
       "    </tr>\n",
       "  </thead>\n",
       "  <tbody>\n",
       "    <tr>\n",
       "      <th>0</th>\n",
       "      <td>&lt;img src=\"https://images-na.ssl-images-amazon....</td>\n",
       "      <td>3.888889</td>\n",
       "    </tr>\n",
       "    <tr>\n",
       "      <th>1</th>\n",
       "      <td>&lt;img src=\"https://images-na.ssl-images-amazon....</td>\n",
       "      <td>4.913793</td>\n",
       "    </tr>\n",
       "    <tr>\n",
       "      <th>2</th>\n",
       "      <td>&lt;img src=\"https://images-na.ssl-images-amazon....</td>\n",
       "      <td>4.347826</td>\n",
       "    </tr>\n",
       "    <tr>\n",
       "      <th>3</th>\n",
       "      <td>&lt;img src=\"https://images-na.ssl-images-amazon....</td>\n",
       "      <td>4.112195</td>\n",
       "    </tr>\n",
       "    <tr>\n",
       "      <th>4</th>\n",
       "      <td>&lt;img src=\"https://images-na.ssl-images-amazon....</td>\n",
       "      <td>4.264050</td>\n",
       "    </tr>\n",
       "    <tr>\n",
       "      <th>5</th>\n",
       "      <td>&lt;img src=\"https://m.media-amazon.com/images/G/...</td>\n",
       "      <td>5.000000</td>\n",
       "    </tr>\n",
       "    <tr>\n",
       "      <th>6</th>\n",
       "      <td>All Beauty</td>\n",
       "      <td>4.372679</td>\n",
       "    </tr>\n",
       "    <tr>\n",
       "      <th>7</th>\n",
       "      <td>All Electronics</td>\n",
       "      <td>4.393443</td>\n",
       "    </tr>\n",
       "    <tr>\n",
       "      <th>8</th>\n",
       "      <td>Amazon Home</td>\n",
       "      <td>4.253134</td>\n",
       "    </tr>\n",
       "    <tr>\n",
       "      <th>9</th>\n",
       "      <td>Appliances</td>\n",
       "      <td>2.000000</td>\n",
       "    </tr>\n",
       "    <tr>\n",
       "      <th>10</th>\n",
       "      <td>Arts, Crafts &amp; Sewing</td>\n",
       "      <td>4.055425</td>\n",
       "    </tr>\n",
       "    <tr>\n",
       "      <th>11</th>\n",
       "      <td>Automotive</td>\n",
       "      <td>4.388889</td>\n",
       "    </tr>\n",
       "    <tr>\n",
       "      <th>12</th>\n",
       "      <td>Baby</td>\n",
       "      <td>3.923350</td>\n",
       "    </tr>\n",
       "    <tr>\n",
       "      <th>13</th>\n",
       "      <td>Camera &amp; Photo</td>\n",
       "      <td>4.394737</td>\n",
       "    </tr>\n",
       "    <tr>\n",
       "      <th>14</th>\n",
       "      <td>Car Electronics</td>\n",
       "      <td>4.684211</td>\n",
       "    </tr>\n",
       "    <tr>\n",
       "      <th>15</th>\n",
       "      <td>Cell Phones &amp; Accessories</td>\n",
       "      <td>4.343750</td>\n",
       "    </tr>\n",
       "    <tr>\n",
       "      <th>16</th>\n",
       "      <td>Computers</td>\n",
       "      <td>4.578947</td>\n",
       "    </tr>\n",
       "    <tr>\n",
       "      <th>17</th>\n",
       "      <td>Gift Cards</td>\n",
       "      <td>5.000000</td>\n",
       "    </tr>\n",
       "    <tr>\n",
       "      <th>18</th>\n",
       "      <td>Grocery</td>\n",
       "      <td>4.321777</td>\n",
       "    </tr>\n",
       "    <tr>\n",
       "      <th>19</th>\n",
       "      <td>Health &amp; Personal Care</td>\n",
       "      <td>4.345188</td>\n",
       "    </tr>\n",
       "    <tr>\n",
       "      <th>20</th>\n",
       "      <td>Home Audio &amp; Theater</td>\n",
       "      <td>4.557377</td>\n",
       "    </tr>\n",
       "    <tr>\n",
       "      <th>21</th>\n",
       "      <td>Industrial &amp; Scientific</td>\n",
       "      <td>4.419952</td>\n",
       "    </tr>\n",
       "    <tr>\n",
       "      <th>22</th>\n",
       "      <td>Movies &amp; TV</td>\n",
       "      <td>2.642857</td>\n",
       "    </tr>\n",
       "    <tr>\n",
       "      <th>23</th>\n",
       "      <td>Musical Instruments</td>\n",
       "      <td>4.222222</td>\n",
       "    </tr>\n",
       "    <tr>\n",
       "      <th>24</th>\n",
       "      <td>Office Products</td>\n",
       "      <td>4.451518</td>\n",
       "    </tr>\n",
       "    <tr>\n",
       "      <th>25</th>\n",
       "      <td>Pet Supplies</td>\n",
       "      <td>4.244128</td>\n",
       "    </tr>\n",
       "    <tr>\n",
       "      <th>26</th>\n",
       "      <td>Portable Audio &amp; Accessories</td>\n",
       "      <td>3.750000</td>\n",
       "    </tr>\n",
       "    <tr>\n",
       "      <th>27</th>\n",
       "      <td>Software</td>\n",
       "      <td>3.250000</td>\n",
       "    </tr>\n",
       "    <tr>\n",
       "      <th>28</th>\n",
       "      <td>Sports &amp; Outdoors</td>\n",
       "      <td>4.407543</td>\n",
       "    </tr>\n",
       "    <tr>\n",
       "      <th>29</th>\n",
       "      <td>Tools &amp; Home Improvement</td>\n",
       "      <td>4.193202</td>\n",
       "    </tr>\n",
       "    <tr>\n",
       "      <th>30</th>\n",
       "      <td>Toys &amp; Games</td>\n",
       "      <td>4.139370</td>\n",
       "    </tr>\n",
       "    <tr>\n",
       "      <th>31</th>\n",
       "      <td>Video Games</td>\n",
       "      <td>5.000000</td>\n",
       "    </tr>\n",
       "  </tbody>\n",
       "</table>\n",
       "</div>"
      ],
      "text/plain": [
       "                                             main_cat   overall\n",
       "0   <img src=\"https://images-na.ssl-images-amazon....  3.888889\n",
       "1   <img src=\"https://images-na.ssl-images-amazon....  4.913793\n",
       "2   <img src=\"https://images-na.ssl-images-amazon....  4.347826\n",
       "3   <img src=\"https://images-na.ssl-images-amazon....  4.112195\n",
       "4   <img src=\"https://images-na.ssl-images-amazon....  4.264050\n",
       "5   <img src=\"https://m.media-amazon.com/images/G/...  5.000000\n",
       "6                                          All Beauty  4.372679\n",
       "7                                     All Electronics  4.393443\n",
       "8                                         Amazon Home  4.253134\n",
       "9                                          Appliances  2.000000\n",
       "10                              Arts, Crafts & Sewing  4.055425\n",
       "11                                         Automotive  4.388889\n",
       "12                                               Baby  3.923350\n",
       "13                                     Camera & Photo  4.394737\n",
       "14                                    Car Electronics  4.684211\n",
       "15                          Cell Phones & Accessories  4.343750\n",
       "16                                          Computers  4.578947\n",
       "17                                         Gift Cards  5.000000\n",
       "18                                            Grocery  4.321777\n",
       "19                             Health & Personal Care  4.345188\n",
       "20                               Home Audio & Theater  4.557377\n",
       "21                            Industrial & Scientific  4.419952\n",
       "22                                        Movies & TV  2.642857\n",
       "23                                Musical Instruments  4.222222\n",
       "24                                    Office Products  4.451518\n",
       "25                                       Pet Supplies  4.244128\n",
       "26                       Portable Audio & Accessories  3.750000\n",
       "27                                           Software  3.250000\n",
       "28                                  Sports & Outdoors  4.407543\n",
       "29                           Tools & Home Improvement  4.193202\n",
       "30                                       Toys & Games  4.139370\n",
       "31                                        Video Games  5.000000"
      ]
     },
     "execution_count": 15,
     "metadata": {},
     "output_type": "execute_result"
    }
   ],
   "source": [
    "mean_score_vs_cat_df = df.groupby(['main_cat']).mean()['overall'].reset_index()\n",
    "mean_score_vs_cat_df"
   ]
  },
  {
   "cell_type": "markdown",
   "metadata": {},
   "source": [
    "As you can see above there are some misleading indexes under column of `main_cat`, we remove them in the next step."
   ]
  },
  {
   "cell_type": "code",
   "execution_count": 16,
   "metadata": {},
   "outputs": [],
   "source": [
    "main_cat_kept=['Grocery', 'Health & Personal Care', 'Amazon Home', 'Toys & Games',\n",
    "               'All Beauty', 'Industrial & Scientific', 'Sports & Outdoors',\n",
    "               'Office Products', 'Pet Supplies', 'Arts, Crafts & Sewing',\n",
    "               'Tools & Home Improvement', 'Baby', 'Cell Phones & Accessories',\n",
    "               'Computers', 'All Electronics', 'Home Audio & Theater', 'Software', 'Camera & Photo',\n",
    "               'Automotive', 'Car Electronics', 'Movies & TV', 'Musical Instruments',\n",
    "               'Portable Audio & Accessories', 'Video Games',\n",
    "               'Appliances', 'Gift Cards']\n",
    "\n",
    "df = df[df.main_cat.isin(main_cat_kept)]"
   ]
  },
  {
   "cell_type": "code",
   "execution_count": 17,
   "metadata": {},
   "outputs": [
    {
     "data": {
      "text/plain": [
       "Grocery                         4679397\n",
       "Health & Personal Care           215057\n",
       "Amazon Home                      120778\n",
       "Toys & Games                      16180\n",
       "All Beauty                        16046\n",
       "Sports & Outdoors                  9015\n",
       "Industrial & Scientific            8370\n",
       "Office Products                    6425\n",
       "Baby                               1409\n",
       "Pet Supplies                       1192\n",
       "Arts, Crafts & Sewing               848\n",
       "Tools & Home Improvement            559\n",
       "Cell Phones & Accessories           288\n",
       "Computers                           152\n",
       "Home Audio & Theater                 61\n",
       "All Electronics                      61\n",
       "Software                             44\n",
       "Camera & Photo                       38\n",
       "Car Electronics                      19\n",
       "Automotive                           18\n",
       "Musical Instruments                  18\n",
       "Movies & TV                          14\n",
       "Portable Audio & Accessories          4\n",
       "Video Games                           2\n",
       "Appliances                            1\n",
       "Gift Cards                            1\n",
       "Name: main_cat, dtype: int64"
      ]
     },
     "execution_count": 17,
     "metadata": {},
     "output_type": "execute_result"
    }
   ],
   "source": [
    "df.main_cat.value_counts()"
   ]
  },
  {
   "cell_type": "markdown",
   "metadata": {},
   "source": [
    "<font color ='red'> Add a basis explaination of the plot below</font>"
   ]
  },
  {
   "cell_type": "code",
   "execution_count": 18,
   "metadata": {},
   "outputs": [
    {
     "data": {
      "image/png": "[encoded data removed]",
      "text/plain": [
       "<Figure size 1008x576 with 1 Axes>"
      ]
     },
     "metadata": {},
     "output_type": "display_data"
    }
   ],
   "source": [
    "plt.figure(figsize=(14,8))\n",
    "\n",
    "sns.barplot(data = df, x='main_cat', y='overall',\n",
    "           order = df.groupby('main_cat').mean()\n",
    "            .reset_index().sort_values('overall', ascending=False)['main_cat'].values,\n",
    "           errcolor = 'grey');\n",
    "\n",
    "plt.title('Average review score by product category'.title(), fontsize=20);\n",
    "plt.ylabel('Average Review Score'.title(), fontsize=14);\n",
    "plt.xlabel('Product Category'.title(), fontsize=14);\n",
    "\n",
    "plt.xticks(rotation=90, fontsize= 10);\n",
    "plt.yticks(fontsize=12)\n",
    "plt.show()"
   ]
  },
  {
   "cell_type": "markdown",
   "metadata": {
    "cell_id": "36557bebb5334edb9deb9aeba25a1ba2",
    "deepnote_cell_height": 85,
    "deepnote_cell_type": "markdown",
    "tags": []
   },
   "source": [
    "---\n",
    "\n",
    "<a id='dataclean'></a>\n",
    "\n",
    "### 2.3: Data Cleaning"
   ]
  },
  {
   "cell_type": "markdown",
   "metadata": {},
   "source": [
    "**Since the original dataset is huge and different ways of recommender system requires different strucure of dataframe, the data cleaning processed is conducted in each section of different recommendation system to meet its demand.**"
   ]
  },
  {
   "cell_type": "markdown",
   "metadata": {},
   "source": [
    "# Part 3:  Recommender system<a name=\"recommender\"></a>"
   ]
  },
  {
   "cell_type": "markdown",
   "metadata": {},
   "source": [
    "During the previous few decades, with the increase online shopping activities, recommender systems have played an important role by recommending right products to the interested group to create business value. From e-commerce to online promotion, recommender systems are now seen everywehre in our daily life.\n",
    "\n",
    "Recommender systems are extremely essential in some industries as they'll generate an enormous quantity of financial gain for the companies and make them stand out. The Recommender System selects and suggests the contents to satisfy user's preference based on users' history and information.\n",
    "\n",
    "In this part, different ways of generating recommending systems will be carried out and comparisons among different systems will be present."
   ]
  },
  {
   "cell_type": "code",
   "execution_count": 19,
   "metadata": {},
   "outputs": [],
   "source": [
    "# data = df.copy() # use cleaned data\n",
    "data =pd.read_csv('merged_full.csv') # full # use uncleaned data\n",
    "# data.head(4)\n",
    "\n",
    "# data = df.copy()\n",
    "# data = data[data.year==2016]"
   ]
  },
  {
   "cell_type": "code",
   "execution_count": 20,
   "metadata": {},
   "outputs": [
    {
     "data": {
      "text/html": [
       "<div>\n",
       "<style scoped>\n",
       "    .dataframe tbody tr th:only-of-type {\n",
       "        vertical-align: middle;\n",
       "    }\n",
       "\n",
       "    .dataframe tbody tr th {\n",
       "        vertical-align: top;\n",
       "    }\n",
       "\n",
       "    .dataframe thead th {\n",
       "        text-align: right;\n",
       "    }\n",
       "</style>\n",
       "<table border=\"1\" class=\"dataframe\">\n",
       "  <thead>\n",
       "    <tr style=\"text-align: right;\">\n",
       "      <th></th>\n",
       "      <th>user</th>\n",
       "      <th>rating</th>\n",
       "      <th>item</th>\n",
       "    </tr>\n",
       "  </thead>\n",
       "  <tbody>\n",
       "    <tr>\n",
       "      <th>0</th>\n",
       "      <td>ALP49FBWT4I7V</td>\n",
       "      <td>5.0</td>\n",
       "      <td>1888861614</td>\n",
       "    </tr>\n",
       "    <tr>\n",
       "      <th>1</th>\n",
       "      <td>A1KPIZOCLB9FZ8</td>\n",
       "      <td>4.0</td>\n",
       "      <td>1888861614</td>\n",
       "    </tr>\n",
       "    <tr>\n",
       "      <th>2</th>\n",
       "      <td>A2W0FA06IYAYQE</td>\n",
       "      <td>4.0</td>\n",
       "      <td>1888861614</td>\n",
       "    </tr>\n",
       "    <tr>\n",
       "      <th>3</th>\n",
       "      <td>A2PTZTCH2QUYBC</td>\n",
       "      <td>5.0</td>\n",
       "      <td>1888861614</td>\n",
       "    </tr>\n",
       "    <tr>\n",
       "      <th>4</th>\n",
       "      <td>A2VNHGJ59N4Z90</td>\n",
       "      <td>4.0</td>\n",
       "      <td>1888861614</td>\n",
       "    </tr>\n",
       "    <tr>\n",
       "      <th>...</th>\n",
       "      <td>...</td>\n",
       "      <td>...</td>\n",
       "      <td>...</td>\n",
       "    </tr>\n",
       "    <tr>\n",
       "      <th>5175100</th>\n",
       "      <td>A1AZD3IIOFDLPC</td>\n",
       "      <td>4.0</td>\n",
       "      <td>B01HJFBN9A</td>\n",
       "    </tr>\n",
       "    <tr>\n",
       "      <th>5175101</th>\n",
       "      <td>ASBAV5V4EQQ5H</td>\n",
       "      <td>5.0</td>\n",
       "      <td>B01HJFRDDA</td>\n",
       "    </tr>\n",
       "    <tr>\n",
       "      <th>5175102</th>\n",
       "      <td>A33ODS13U2ZLIZ</td>\n",
       "      <td>5.0</td>\n",
       "      <td>B01HJFRDDA</td>\n",
       "    </tr>\n",
       "    <tr>\n",
       "      <th>5175103</th>\n",
       "      <td>A3NY9RMNIODSDW</td>\n",
       "      <td>3.0</td>\n",
       "      <td>B01HJEK5QS</td>\n",
       "    </tr>\n",
       "    <tr>\n",
       "      <th>5175104</th>\n",
       "      <td>A2XY8GAQCFJ3A8</td>\n",
       "      <td>5.0</td>\n",
       "      <td>B01HJEO4QK</td>\n",
       "    </tr>\n",
       "  </tbody>\n",
       "</table>\n",
       "<p>5175105 rows × 3 columns</p>\n",
       "</div>"
      ],
      "text/plain": [
       "                   user  rating        item\n",
       "0         ALP49FBWT4I7V     5.0  1888861614\n",
       "1        A1KPIZOCLB9FZ8     4.0  1888861614\n",
       "2        A2W0FA06IYAYQE     4.0  1888861614\n",
       "3        A2PTZTCH2QUYBC     5.0  1888861614\n",
       "4        A2VNHGJ59N4Z90     4.0  1888861614\n",
       "...                 ...     ...         ...\n",
       "5175100  A1AZD3IIOFDLPC     4.0  B01HJFBN9A\n",
       "5175101   ASBAV5V4EQQ5H     5.0  B01HJFRDDA\n",
       "5175102  A33ODS13U2ZLIZ     5.0  B01HJFRDDA\n",
       "5175103  A3NY9RMNIODSDW     3.0  B01HJEK5QS\n",
       "5175104  A2XY8GAQCFJ3A8     5.0  B01HJEO4QK\n",
       "\n",
       "[5175105 rows x 3 columns]"
      ]
     },
     "execution_count": 20,
     "metadata": {},
     "output_type": "execute_result"
    }
   ],
   "source": [
    "# Get only columns of `reviewerID`,`overall`, and `asin` for users, ratings, and item\n",
    "columns = ['reviewerID','overall','asin']\n",
    "data1 = data[columns]\n",
    "# Rename columns into `user`,`rating`, and `item`\n",
    "data1.columns = ['user','rating', 'item']\n",
    "data1['rating']=data1['rating'].astype(float)\n",
    "data1"
   ]
  },
  {
   "cell_type": "markdown",
   "metadata": {},
   "source": [
    "In reality, a customer would buy the same product more than one time and give different reviews to each shopping of the same product. This results in different ratings of the same product from the same customer. In our dataframe, we use the average rating that the customer gave to the same product. Below, we get the dataframe with unique pair of `user` and `item`:"
   ]
  },
  {
   "cell_type": "code",
   "execution_count": 21,
   "metadata": {},
   "outputs": [
    {
     "data": {
      "text/html": [
       "<div>\n",
       "<style scoped>\n",
       "    .dataframe tbody tr th:only-of-type {\n",
       "        vertical-align: middle;\n",
       "    }\n",
       "\n",
       "    .dataframe tbody tr th {\n",
       "        vertical-align: top;\n",
       "    }\n",
       "\n",
       "    .dataframe thead th {\n",
       "        text-align: right;\n",
       "    }\n",
       "</style>\n",
       "<table border=\"1\" class=\"dataframe\">\n",
       "  <thead>\n",
       "    <tr style=\"text-align: right;\">\n",
       "      <th></th>\n",
       "      <th>user</th>\n",
       "      <th>item</th>\n",
       "      <th>rating</th>\n",
       "    </tr>\n",
       "  </thead>\n",
       "  <tbody>\n",
       "    <tr>\n",
       "      <th>0</th>\n",
       "      <td>A000013090ZI3HIT9N5V</td>\n",
       "      <td>B000SAUVC4</td>\n",
       "      <td>5.0</td>\n",
       "    </tr>\n",
       "    <tr>\n",
       "      <th>1</th>\n",
       "      <td>A000013090ZI3HIT9N5V</td>\n",
       "      <td>B00271OPVU</td>\n",
       "      <td>5.0</td>\n",
       "    </tr>\n",
       "    <tr>\n",
       "      <th>2</th>\n",
       "      <td>A000013090ZI3HIT9N5V</td>\n",
       "      <td>B0096S6OX4</td>\n",
       "      <td>5.0</td>\n",
       "    </tr>\n",
       "    <tr>\n",
       "      <th>3</th>\n",
       "      <td>A000013090ZI3HIT9N5V</td>\n",
       "      <td>B00HHGO4KC</td>\n",
       "      <td>4.0</td>\n",
       "    </tr>\n",
       "    <tr>\n",
       "      <th>4</th>\n",
       "      <td>A0000862BTSWL73O3J0Y</td>\n",
       "      <td>B01GH3JVZI</td>\n",
       "      <td>5.0</td>\n",
       "    </tr>\n",
       "    <tr>\n",
       "      <th>...</th>\n",
       "      <td>...</td>\n",
       "      <td>...</td>\n",
       "      <td>...</td>\n",
       "    </tr>\n",
       "    <tr>\n",
       "      <th>4887512</th>\n",
       "      <td>AZZZPCGBZEF8T</td>\n",
       "      <td>B00M7CONXE</td>\n",
       "      <td>5.0</td>\n",
       "    </tr>\n",
       "    <tr>\n",
       "      <th>4887513</th>\n",
       "      <td>AZZZPEF1VNCSV</td>\n",
       "      <td>B00ESDZIRA</td>\n",
       "      <td>5.0</td>\n",
       "    </tr>\n",
       "    <tr>\n",
       "      <th>4887514</th>\n",
       "      <td>AZZZU2TD7Q3ET</td>\n",
       "      <td>B005VGVXRC</td>\n",
       "      <td>5.0</td>\n",
       "    </tr>\n",
       "    <tr>\n",
       "      <th>4887515</th>\n",
       "      <td>AZZZUAH1VZS7I</td>\n",
       "      <td>B00CPZPYLS</td>\n",
       "      <td>5.0</td>\n",
       "    </tr>\n",
       "    <tr>\n",
       "      <th>4887516</th>\n",
       "      <td>AZZZYAYJQSDOJ</td>\n",
       "      <td>B002859GAU</td>\n",
       "      <td>2.0</td>\n",
       "    </tr>\n",
       "  </tbody>\n",
       "</table>\n",
       "<p>4887517 rows × 3 columns</p>\n",
       "</div>"
      ],
      "text/plain": [
       "                         user        item  rating\n",
       "0        A000013090ZI3HIT9N5V  B000SAUVC4     5.0\n",
       "1        A000013090ZI3HIT9N5V  B00271OPVU     5.0\n",
       "2        A000013090ZI3HIT9N5V  B0096S6OX4     5.0\n",
       "3        A000013090ZI3HIT9N5V  B00HHGO4KC     4.0\n",
       "4        A0000862BTSWL73O3J0Y  B01GH3JVZI     5.0\n",
       "...                       ...         ...     ...\n",
       "4887512         AZZZPCGBZEF8T  B00M7CONXE     5.0\n",
       "4887513         AZZZPEF1VNCSV  B00ESDZIRA     5.0\n",
       "4887514         AZZZU2TD7Q3ET  B005VGVXRC     5.0\n",
       "4887515         AZZZUAH1VZS7I  B00CPZPYLS     5.0\n",
       "4887516         AZZZYAYJQSDOJ  B002859GAU     2.0\n",
       "\n",
       "[4887517 rows x 3 columns]"
      ]
     },
     "execution_count": 21,
     "metadata": {},
     "output_type": "execute_result"
    }
   ],
   "source": [
    "avgRate = data1.groupby([\"user\",\"item\"]).mean()\n",
    "users,items,ratings = [],[],[]\n",
    "\n",
    "for i, row in avgRate.iterrows():\n",
    "    ratings.append(row[0])\n",
    "    users.append(i[0])\n",
    "    items.append(i[1])\n",
    "    \n",
    "data_avgRate = pd.DataFrame({'user':users, 'item':items, 'rating':ratings})\n",
    "data_avgRate = data_avgRate[['user', 'item', 'rating']] # correct order\n",
    "data_avgRate"
   ]
  },
  {
   "cell_type": "markdown",
   "metadata": {},
   "source": [
    "To reduce the Nan value in the correlation matrix of the rating-user-item dataframe, we create different dataframes for user- and item-based CF. In the user-based CF, we select customers that gave reviews to more than 10-percent of the total number of products, while in the dataframe for item-based CF, we only choose products that received reviews from more than 10-percent of the customers."
   ]
  },
  {
   "cell_type": "code",
   "execution_count": 357,
   "metadata": {},
   "outputs": [
    {
     "name": "stdout",
     "output_type": "stream",
     "text": [
      "============================================================================\n",
      "In this item-based dataframe:\n",
      "============================================================================\n",
      "Each item receives reviews from 10.23 % of users \n",
      "Total number of users: 54618\n",
      "Total number of items: 11\n",
      "The minimum number of reviews gave to each item: 5590\n",
      "============================================================================\n",
      "In this user-based dataframe:\n",
      "============================================================================\n",
      "Each user gives reviews to 10.77 % of items \n",
      "Total number of users: 7\n",
      "Total number of items: 3694\n",
      "The minimum number of reviews each item receives from users: 398\n"
     ]
    },
    {
     "data": {
      "text/html": [
       "<div>\n",
       "<style scoped>\n",
       "    .dataframe tbody tr th:only-of-type {\n",
       "        vertical-align: middle;\n",
       "    }\n",
       "\n",
       "    .dataframe tbody tr th {\n",
       "        vertical-align: top;\n",
       "    }\n",
       "\n",
       "    .dataframe thead th {\n",
       "        text-align: right;\n",
       "    }\n",
       "</style>\n",
       "<table border=\"1\" class=\"dataframe\">\n",
       "  <thead>\n",
       "    <tr style=\"text-align: right;\">\n",
       "      <th></th>\n",
       "      <th>user</th>\n",
       "      <th>item</th>\n",
       "      <th>rating</th>\n",
       "    </tr>\n",
       "  </thead>\n",
       "  <tbody>\n",
       "    <tr>\n",
       "      <th>110</th>\n",
       "      <td>A0132948JMX3OP2NCRYT</td>\n",
       "      <td>B002HQCWYM</td>\n",
       "      <td>5.0</td>\n",
       "    </tr>\n",
       "    <tr>\n",
       "      <th>224</th>\n",
       "      <td>A0225361A1VHIBF54USD</td>\n",
       "      <td>B00542YXFW</td>\n",
       "      <td>5.0</td>\n",
       "    </tr>\n",
       "    <tr>\n",
       "      <th>297</th>\n",
       "      <td>A0284876LSXSXC74ADV</td>\n",
       "      <td>B01E5XTW24</td>\n",
       "      <td>5.0</td>\n",
       "    </tr>\n",
       "    <tr>\n",
       "      <th>331</th>\n",
       "      <td>A030413097ZFMCBCR1Y0</td>\n",
       "      <td>B002HQCWYM</td>\n",
       "      <td>5.0</td>\n",
       "    </tr>\n",
       "    <tr>\n",
       "      <th>341</th>\n",
       "      <td>A0311804LSCY25BM9912</td>\n",
       "      <td>B00BUKL666</td>\n",
       "      <td>5.0</td>\n",
       "    </tr>\n",
       "    <tr>\n",
       "      <th>...</th>\n",
       "      <td>...</td>\n",
       "      <td>...</td>\n",
       "      <td>...</td>\n",
       "    </tr>\n",
       "    <tr>\n",
       "      <th>4887336</th>\n",
       "      <td>AZZT45L993PLR</td>\n",
       "      <td>B008QMX2SG</td>\n",
       "      <td>5.0</td>\n",
       "    </tr>\n",
       "    <tr>\n",
       "      <th>4887337</th>\n",
       "      <td>AZZT45L993PLR</td>\n",
       "      <td>B00BUKL666</td>\n",
       "      <td>5.0</td>\n",
       "    </tr>\n",
       "    <tr>\n",
       "      <th>4887338</th>\n",
       "      <td>AZZT45L993PLR</td>\n",
       "      <td>B00D3M2QP4</td>\n",
       "      <td>5.0</td>\n",
       "    </tr>\n",
       "    <tr>\n",
       "      <th>4887404</th>\n",
       "      <td>AZZVCRIDPN0PQ</td>\n",
       "      <td>B00DS842HS</td>\n",
       "      <td>5.0</td>\n",
       "    </tr>\n",
       "    <tr>\n",
       "      <th>4887515</th>\n",
       "      <td>AZZZUAH1VZS7I</td>\n",
       "      <td>B00CPZPYLS</td>\n",
       "      <td>5.0</td>\n",
       "    </tr>\n",
       "  </tbody>\n",
       "</table>\n",
       "<p>78886 rows × 3 columns</p>\n",
       "</div>"
      ],
      "text/plain": [
       "                         user        item  rating\n",
       "110      A0132948JMX3OP2NCRYT  B002HQCWYM     5.0\n",
       "224      A0225361A1VHIBF54USD  B00542YXFW     5.0\n",
       "297       A0284876LSXSXC74ADV  B01E5XTW24     5.0\n",
       "331      A030413097ZFMCBCR1Y0  B002HQCWYM     5.0\n",
       "341      A0311804LSCY25BM9912  B00BUKL666     5.0\n",
       "...                       ...         ...     ...\n",
       "4887336         AZZT45L993PLR  B008QMX2SG     5.0\n",
       "4887337         AZZT45L993PLR  B00BUKL666     5.0\n",
       "4887338         AZZT45L993PLR  B00D3M2QP4     5.0\n",
       "4887404         AZZVCRIDPN0PQ  B00DS842HS     5.0\n",
       "4887515         AZZZUAH1VZS7I  B00CPZPYLS     5.0\n",
       "\n",
       "[78886 rows x 3 columns]"
      ]
     },
     "metadata": {},
     "output_type": "display_data"
    },
    {
     "data": {
      "text/html": [
       "<div>\n",
       "<style scoped>\n",
       "    .dataframe tbody tr th:only-of-type {\n",
       "        vertical-align: middle;\n",
       "    }\n",
       "\n",
       "    .dataframe tbody tr th {\n",
       "        vertical-align: top;\n",
       "    }\n",
       "\n",
       "    .dataframe thead th {\n",
       "        text-align: right;\n",
       "    }\n",
       "</style>\n",
       "<table border=\"1\" class=\"dataframe\">\n",
       "  <thead>\n",
       "    <tr style=\"text-align: right;\">\n",
       "      <th></th>\n",
       "      <th>user</th>\n",
       "      <th>item</th>\n",
       "      <th>rating</th>\n",
       "    </tr>\n",
       "  </thead>\n",
       "  <tbody>\n",
       "    <tr>\n",
       "      <th>595643</th>\n",
       "      <td>A1GQAKL9CGQLP1</td>\n",
       "      <td>B0003290ME</td>\n",
       "      <td>2.0</td>\n",
       "    </tr>\n",
       "    <tr>\n",
       "      <th>595644</th>\n",
       "      <td>A1GQAKL9CGQLP1</td>\n",
       "      <td>B00032A50A</td>\n",
       "      <td>5.0</td>\n",
       "    </tr>\n",
       "    <tr>\n",
       "      <th>595645</th>\n",
       "      <td>A1GQAKL9CGQLP1</td>\n",
       "      <td>B0004LWLIE</td>\n",
       "      <td>4.0</td>\n",
       "    </tr>\n",
       "    <tr>\n",
       "      <th>595646</th>\n",
       "      <td>A1GQAKL9CGQLP1</td>\n",
       "      <td>B0004LYTQ6</td>\n",
       "      <td>4.0</td>\n",
       "    </tr>\n",
       "    <tr>\n",
       "      <th>595647</th>\n",
       "      <td>A1GQAKL9CGQLP1</td>\n",
       "      <td>B0004M1FGW</td>\n",
       "      <td>5.0</td>\n",
       "    </tr>\n",
       "    <tr>\n",
       "      <th>...</th>\n",
       "      <td>...</td>\n",
       "      <td>...</td>\n",
       "      <td>...</td>\n",
       "    </tr>\n",
       "    <tr>\n",
       "      <th>4817307</th>\n",
       "      <td>AY12DBB0U420B</td>\n",
       "      <td>B00RW0MZ6S</td>\n",
       "      <td>3.0</td>\n",
       "    </tr>\n",
       "    <tr>\n",
       "      <th>4817308</th>\n",
       "      <td>AY12DBB0U420B</td>\n",
       "      <td>B00SCS5B42</td>\n",
       "      <td>5.0</td>\n",
       "    </tr>\n",
       "    <tr>\n",
       "      <th>4817309</th>\n",
       "      <td>AY12DBB0U420B</td>\n",
       "      <td>B00TBUHRRO</td>\n",
       "      <td>4.5</td>\n",
       "    </tr>\n",
       "    <tr>\n",
       "      <th>4817310</th>\n",
       "      <td>AY12DBB0U420B</td>\n",
       "      <td>B00XOORKRK</td>\n",
       "      <td>3.0</td>\n",
       "    </tr>\n",
       "    <tr>\n",
       "      <th>4817311</th>\n",
       "      <td>AY12DBB0U420B</td>\n",
       "      <td>B01H6IQING</td>\n",
       "      <td>5.0</td>\n",
       "    </tr>\n",
       "  </tbody>\n",
       "</table>\n",
       "<p>3865 rows × 3 columns</p>\n",
       "</div>"
      ],
      "text/plain": [
       "                   user        item  rating\n",
       "595643   A1GQAKL9CGQLP1  B0003290ME     2.0\n",
       "595644   A1GQAKL9CGQLP1  B00032A50A     5.0\n",
       "595645   A1GQAKL9CGQLP1  B0004LWLIE     4.0\n",
       "595646   A1GQAKL9CGQLP1  B0004LYTQ6     4.0\n",
       "595647   A1GQAKL9CGQLP1  B0004M1FGW     5.0\n",
       "...                 ...         ...     ...\n",
       "4817307   AY12DBB0U420B  B00RW0MZ6S     3.0\n",
       "4817308   AY12DBB0U420B  B00SCS5B42     5.0\n",
       "4817309   AY12DBB0U420B  B00TBUHRRO     4.5\n",
       "4817310   AY12DBB0U420B  B00XOORKRK     3.0\n",
       "4817311   AY12DBB0U420B  B01H6IQING     5.0\n",
       "\n",
       "[3865 rows x 3 columns]"
      ]
     },
     "metadata": {},
     "output_type": "display_data"
    }
   ],
   "source": [
    "def df_item_user_select(df,dfType):\n",
    "    not_done=True\n",
    "    if dfType == \"item\":\n",
    "        num_std = 55 # full 2G dataset 55\n",
    "        print(\"============================================================================\")\n",
    "        print(\"In this item-based dataframe:\")\n",
    "        print(\"============================================================================\")\n",
    "        while not_done==True:\n",
    "            asin_count = df.groupby(dfType)[\"rating\"].count()\n",
    "            asin_mean, asin_std = asin_count.mean(), asin_count.std()\n",
    "            banned_asin = asin_count[asin_count > asin_mean + asin_std * num_std].index\n",
    "            df_new = df[df.item.isin(banned_asin)]\n",
    "#             print( (df_new.item.value_counts().min()/df_new.user.value_counts().count())*100 )\n",
    "            if df_new.item.value_counts().min()/df_new.user.value_counts().count()< 0.1: # 0.1\n",
    "                num_std += 2\n",
    "            else:\n",
    "                not_done = False\n",
    "        temp = (df_new.item.value_counts().min()/df_new.user.value_counts().count())*100\n",
    "        print(f\"Each item receives reviews from { str(round(temp,2))} % of users \")\n",
    "        print(\"Total number of users:\",df_new.user.value_counts().count())\n",
    "        print(\"Total number of items:\",df_new.item.value_counts().count())\n",
    "        print(f\"The minimum number of reviews gave to each item: {df_new.item.value_counts().min()}\")\n",
    "        \n",
    "        return df_new\n",
    "        \n",
    "    elif dfType == \"user\":\n",
    "        num_std = 124 # full 2G dataset 124\n",
    "        print(\"============================================================================\")\n",
    "        print(\"In this user-based dataframe:\")\n",
    "        print(\"============================================================================\")\n",
    "        while not_done==True:\n",
    "            asin_count = df.groupby(dfType)[\"rating\"].count()\n",
    "            asin_mean, asin_std = asin_count.mean(), asin_count.std()\n",
    "            banned_asin = asin_count[asin_count > asin_mean + asin_std * num_std].index\n",
    "            df_new = df[df.user.isin(banned_asin)]\n",
    "#             print((df_new.user.value_counts().min()/df_new.item.value_counts().count())*100)\n",
    "            if df_new.user.value_counts().min()/df_new.item.value_counts().count()< 0.1:\n",
    "                num_std += 2\n",
    "            else:\n",
    "                not_done = False\n",
    "                \n",
    "        print(f\"Each user gives reviews to {str(round((df_new.user.value_counts().min()/df_new.item.value_counts().count())*100,2))} % of items \")\n",
    "        print(\"Total number of users:\",df_new.user.value_counts().count())\n",
    "        print(\"Total number of items:\",df_new.item.value_counts().count())\n",
    "        print(f\"The minimum number of reviews each item receives from users: {df_new.user.value_counts().min()}\")\n",
    "        \n",
    "        return df_new\n",
    "    \n",
    "data_item = df_item_user_select(data_avgRate,\"item\")        \n",
    "data_user = df_item_user_select(data_avgRate,\"user\")\n",
    "display(data_item)\n",
    "display(data_user)"
   ]
  },
  {
   "cell_type": "markdown",
   "metadata": {},
   "source": [
    " **Different dataframes for user and item based CF**"
   ]
  },
  {
   "cell_type": "code",
   "execution_count": 23,
   "metadata": {},
   "outputs": [
    {
     "data": {
      "text/html": [
       "<div>\n",
       "<style scoped>\n",
       "    .dataframe tbody tr th:only-of-type {\n",
       "        vertical-align: middle;\n",
       "    }\n",
       "\n",
       "    .dataframe tbody tr th {\n",
       "        vertical-align: top;\n",
       "    }\n",
       "\n",
       "    .dataframe thead th {\n",
       "        text-align: right;\n",
       "    }\n",
       "</style>\n",
       "<table border=\"1\" class=\"dataframe\">\n",
       "  <thead>\n",
       "    <tr style=\"text-align: right;\">\n",
       "      <th></th>\n",
       "      <th>A1LACH6MLQWZ</th>\n",
       "      <th>A1GQAKL9CGQLP1</th>\n",
       "      <th>A2GJX2KCUSR0EI</th>\n",
       "      <th>A2C9XE9I8RSKNX</th>\n",
       "      <th>A2Q7DE6NA7VKAJ</th>\n",
       "      <th>AY12DBB0U420B</th>\n",
       "      <th>A2NYK9KWFMJV4Y</th>\n",
       "    </tr>\n",
       "  </thead>\n",
       "  <tbody>\n",
       "    <tr>\n",
       "      <th>B000E1FZHS</th>\n",
       "      <td>5.0</td>\n",
       "      <td>3.0</td>\n",
       "      <td>5.0</td>\n",
       "      <td>5.0</td>\n",
       "      <td>5.0</td>\n",
       "      <td>3.0</td>\n",
       "      <td>NaN</td>\n",
       "    </tr>\n",
       "    <tr>\n",
       "      <th>B000U0OUP6</th>\n",
       "      <td>5.0</td>\n",
       "      <td>3.0</td>\n",
       "      <td>5.0</td>\n",
       "      <td>5.0</td>\n",
       "      <td>5.0</td>\n",
       "      <td>3.0</td>\n",
       "      <td>NaN</td>\n",
       "    </tr>\n",
       "    <tr>\n",
       "      <th>B00XOORKRK</th>\n",
       "      <td>5.0</td>\n",
       "      <td>3.0</td>\n",
       "      <td>5.0</td>\n",
       "      <td>NaN</td>\n",
       "      <td>5.0</td>\n",
       "      <td>3.0</td>\n",
       "      <td>NaN</td>\n",
       "    </tr>\n",
       "    <tr>\n",
       "      <th>B00RW0MZ6S</th>\n",
       "      <td>5.0</td>\n",
       "      <td>3.0</td>\n",
       "      <td>5.0</td>\n",
       "      <td>NaN</td>\n",
       "      <td>5.0</td>\n",
       "      <td>3.0</td>\n",
       "      <td>NaN</td>\n",
       "    </tr>\n",
       "    <tr>\n",
       "      <th>B000LQTTVY</th>\n",
       "      <td>5.0</td>\n",
       "      <td>4.5</td>\n",
       "      <td>NaN</td>\n",
       "      <td>5.0</td>\n",
       "      <td>5.0</td>\n",
       "      <td>NaN</td>\n",
       "      <td>NaN</td>\n",
       "    </tr>\n",
       "    <tr>\n",
       "      <th>...</th>\n",
       "      <td>...</td>\n",
       "      <td>...</td>\n",
       "      <td>...</td>\n",
       "      <td>...</td>\n",
       "      <td>...</td>\n",
       "      <td>...</td>\n",
       "      <td>...</td>\n",
       "    </tr>\n",
       "    <tr>\n",
       "      <th>B00F9WUPI6</th>\n",
       "      <td>5.0</td>\n",
       "      <td>NaN</td>\n",
       "      <td>NaN</td>\n",
       "      <td>NaN</td>\n",
       "      <td>NaN</td>\n",
       "      <td>NaN</td>\n",
       "      <td>NaN</td>\n",
       "    </tr>\n",
       "    <tr>\n",
       "      <th>B00F9WWD54</th>\n",
       "      <td>5.0</td>\n",
       "      <td>NaN</td>\n",
       "      <td>NaN</td>\n",
       "      <td>NaN</td>\n",
       "      <td>NaN</td>\n",
       "      <td>NaN</td>\n",
       "      <td>NaN</td>\n",
       "    </tr>\n",
       "    <tr>\n",
       "      <th>B00FCV3R3Y</th>\n",
       "      <td>5.0</td>\n",
       "      <td>NaN</td>\n",
       "      <td>NaN</td>\n",
       "      <td>NaN</td>\n",
       "      <td>NaN</td>\n",
       "      <td>NaN</td>\n",
       "      <td>NaN</td>\n",
       "    </tr>\n",
       "    <tr>\n",
       "      <th>B00FD4UL4I</th>\n",
       "      <td>5.0</td>\n",
       "      <td>NaN</td>\n",
       "      <td>NaN</td>\n",
       "      <td>NaN</td>\n",
       "      <td>NaN</td>\n",
       "      <td>NaN</td>\n",
       "      <td>NaN</td>\n",
       "    </tr>\n",
       "    <tr>\n",
       "      <th>B00TBUHRRO</th>\n",
       "      <td>NaN</td>\n",
       "      <td>NaN</td>\n",
       "      <td>NaN</td>\n",
       "      <td>NaN</td>\n",
       "      <td>NaN</td>\n",
       "      <td>4.5</td>\n",
       "      <td>NaN</td>\n",
       "    </tr>\n",
       "  </tbody>\n",
       "</table>\n",
       "<p>3694 rows × 7 columns</p>\n",
       "</div>"
      ],
      "text/plain": [
       "           A1LACH6MLQWZ A1GQAKL9CGQLP1 A2GJX2KCUSR0EI A2C9XE9I8RSKNX  \\\n",
       "B000E1FZHS          5.0            3.0            5.0            5.0   \n",
       "B000U0OUP6          5.0            3.0            5.0            5.0   \n",
       "B00XOORKRK          5.0            3.0            5.0            NaN   \n",
       "B00RW0MZ6S          5.0            3.0            5.0            NaN   \n",
       "B000LQTTVY          5.0            4.5            NaN            5.0   \n",
       "...                 ...            ...            ...            ...   \n",
       "B00F9WUPI6          5.0            NaN            NaN            NaN   \n",
       "B00F9WWD54          5.0            NaN            NaN            NaN   \n",
       "B00FCV3R3Y          5.0            NaN            NaN            NaN   \n",
       "B00FD4UL4I          5.0            NaN            NaN            NaN   \n",
       "B00TBUHRRO          NaN            NaN            NaN            NaN   \n",
       "\n",
       "           A2Q7DE6NA7VKAJ AY12DBB0U420B A2NYK9KWFMJV4Y  \n",
       "B000E1FZHS            5.0           3.0            NaN  \n",
       "B000U0OUP6            5.0           3.0            NaN  \n",
       "B00XOORKRK            5.0           3.0            NaN  \n",
       "B00RW0MZ6S            5.0           3.0            NaN  \n",
       "B000LQTTVY            5.0           NaN            NaN  \n",
       "...                   ...           ...            ...  \n",
       "B00F9WUPI6            NaN           NaN            NaN  \n",
       "B00F9WWD54            NaN           NaN            NaN  \n",
       "B00FCV3R3Y            NaN           NaN            NaN  \n",
       "B00FD4UL4I            NaN           NaN            NaN  \n",
       "B00TBUHRRO            NaN           4.5            NaN  \n",
       "\n",
       "[3694 rows x 7 columns]"
      ]
     },
     "metadata": {},
     "output_type": "display_data"
    },
    {
     "data": {
      "text/html": [
       "<div>\n",
       "<style scoped>\n",
       "    .dataframe tbody tr th:only-of-type {\n",
       "        vertical-align: middle;\n",
       "    }\n",
       "\n",
       "    .dataframe tbody tr th {\n",
       "        vertical-align: top;\n",
       "    }\n",
       "\n",
       "    .dataframe thead th {\n",
       "        text-align: right;\n",
       "    }\n",
       "</style>\n",
       "<table border=\"1\" class=\"dataframe\">\n",
       "  <thead>\n",
       "    <tr style=\"text-align: right;\">\n",
       "      <th></th>\n",
       "      <th>B00BUKL666</th>\n",
       "      <th>B008QMX2SG</th>\n",
       "      <th>B00D3M2QP4</th>\n",
       "      <th>B00542YXFW</th>\n",
       "      <th>B01E5XTW24</th>\n",
       "      <th>B000F4DKAI</th>\n",
       "      <th>B0001LO3FG</th>\n",
       "      <th>B00DS842HS</th>\n",
       "      <th>B000EVMNMI</th>\n",
       "      <th>B002HQCWYM</th>\n",
       "      <th>B00CPZPYLS</th>\n",
       "    </tr>\n",
       "  </thead>\n",
       "  <tbody>\n",
       "    <tr>\n",
       "      <th>A1NEIH01B5X6QL</th>\n",
       "      <td>5.0</td>\n",
       "      <td>5.0</td>\n",
       "      <td>5.0</td>\n",
       "      <td>NaN</td>\n",
       "      <td>5.0</td>\n",
       "      <td>NaN</td>\n",
       "      <td>NaN</td>\n",
       "      <td>NaN</td>\n",
       "      <td>5.0</td>\n",
       "      <td>5.0</td>\n",
       "      <td>NaN</td>\n",
       "    </tr>\n",
       "    <tr>\n",
       "      <th>A1RN2UC3MB9WPY</th>\n",
       "      <td>5.0</td>\n",
       "      <td>5.0</td>\n",
       "      <td>5.0</td>\n",
       "      <td>NaN</td>\n",
       "      <td>NaN</td>\n",
       "      <td>5.0</td>\n",
       "      <td>5.0</td>\n",
       "      <td>NaN</td>\n",
       "      <td>NaN</td>\n",
       "      <td>NaN</td>\n",
       "      <td>5.0</td>\n",
       "    </tr>\n",
       "    <tr>\n",
       "      <th>AVNDHLOBM0LLA</th>\n",
       "      <td>5.0</td>\n",
       "      <td>5.0</td>\n",
       "      <td>5.0</td>\n",
       "      <td>NaN</td>\n",
       "      <td>NaN</td>\n",
       "      <td>5.0</td>\n",
       "      <td>5.0</td>\n",
       "      <td>NaN</td>\n",
       "      <td>NaN</td>\n",
       "      <td>4.75</td>\n",
       "      <td>NaN</td>\n",
       "    </tr>\n",
       "    <tr>\n",
       "      <th>A2L6KZGUH51ONU</th>\n",
       "      <td>5.0</td>\n",
       "      <td>5.0</td>\n",
       "      <td>5.0</td>\n",
       "      <td>NaN</td>\n",
       "      <td>NaN</td>\n",
       "      <td>5.0</td>\n",
       "      <td>5.0</td>\n",
       "      <td>NaN</td>\n",
       "      <td>NaN</td>\n",
       "      <td>5.0</td>\n",
       "      <td>NaN</td>\n",
       "    </tr>\n",
       "    <tr>\n",
       "      <th>A1R1UYQ5ME462P</th>\n",
       "      <td>5.0</td>\n",
       "      <td>5.0</td>\n",
       "      <td>5.0</td>\n",
       "      <td>NaN</td>\n",
       "      <td>NaN</td>\n",
       "      <td>2.0</td>\n",
       "      <td>2.0</td>\n",
       "      <td>NaN</td>\n",
       "      <td>NaN</td>\n",
       "      <td>2.0</td>\n",
       "      <td>NaN</td>\n",
       "    </tr>\n",
       "    <tr>\n",
       "      <th>...</th>\n",
       "      <td>...</td>\n",
       "      <td>...</td>\n",
       "      <td>...</td>\n",
       "      <td>...</td>\n",
       "      <td>...</td>\n",
       "      <td>...</td>\n",
       "      <td>...</td>\n",
       "      <td>...</td>\n",
       "      <td>...</td>\n",
       "      <td>...</td>\n",
       "      <td>...</td>\n",
       "    </tr>\n",
       "    <tr>\n",
       "      <th>A2GH03E9M81SO5</th>\n",
       "      <td>NaN</td>\n",
       "      <td>NaN</td>\n",
       "      <td>NaN</td>\n",
       "      <td>5.0</td>\n",
       "      <td>NaN</td>\n",
       "      <td>NaN</td>\n",
       "      <td>NaN</td>\n",
       "      <td>NaN</td>\n",
       "      <td>NaN</td>\n",
       "      <td>NaN</td>\n",
       "      <td>NaN</td>\n",
       "    </tr>\n",
       "    <tr>\n",
       "      <th>A2GH2G4S0VFZYR</th>\n",
       "      <td>NaN</td>\n",
       "      <td>NaN</td>\n",
       "      <td>NaN</td>\n",
       "      <td>NaN</td>\n",
       "      <td>NaN</td>\n",
       "      <td>NaN</td>\n",
       "      <td>NaN</td>\n",
       "      <td>NaN</td>\n",
       "      <td>4.0</td>\n",
       "      <td>NaN</td>\n",
       "      <td>NaN</td>\n",
       "    </tr>\n",
       "    <tr>\n",
       "      <th>A2GH4DZIG9U2JJ</th>\n",
       "      <td>NaN</td>\n",
       "      <td>NaN</td>\n",
       "      <td>NaN</td>\n",
       "      <td>NaN</td>\n",
       "      <td>NaN</td>\n",
       "      <td>NaN</td>\n",
       "      <td>NaN</td>\n",
       "      <td>NaN</td>\n",
       "      <td>5.0</td>\n",
       "      <td>NaN</td>\n",
       "      <td>NaN</td>\n",
       "    </tr>\n",
       "    <tr>\n",
       "      <th>A2GH7CFRVUDUW7</th>\n",
       "      <td>NaN</td>\n",
       "      <td>NaN</td>\n",
       "      <td>NaN</td>\n",
       "      <td>3.5</td>\n",
       "      <td>NaN</td>\n",
       "      <td>NaN</td>\n",
       "      <td>NaN</td>\n",
       "      <td>NaN</td>\n",
       "      <td>NaN</td>\n",
       "      <td>NaN</td>\n",
       "      <td>NaN</td>\n",
       "    </tr>\n",
       "    <tr>\n",
       "      <th>AZZZUAH1VZS7I</th>\n",
       "      <td>NaN</td>\n",
       "      <td>NaN</td>\n",
       "      <td>NaN</td>\n",
       "      <td>NaN</td>\n",
       "      <td>NaN</td>\n",
       "      <td>NaN</td>\n",
       "      <td>NaN</td>\n",
       "      <td>NaN</td>\n",
       "      <td>NaN</td>\n",
       "      <td>NaN</td>\n",
       "      <td>5.0</td>\n",
       "    </tr>\n",
       "  </tbody>\n",
       "</table>\n",
       "<p>54618 rows × 11 columns</p>\n",
       "</div>"
      ],
      "text/plain": [
       "               B00BUKL666 B008QMX2SG B00D3M2QP4 B00542YXFW B01E5XTW24  \\\n",
       "A1NEIH01B5X6QL        5.0        5.0        5.0        NaN        5.0   \n",
       "A1RN2UC3MB9WPY        5.0        5.0        5.0        NaN        NaN   \n",
       "AVNDHLOBM0LLA         5.0        5.0        5.0        NaN        NaN   \n",
       "A2L6KZGUH51ONU        5.0        5.0        5.0        NaN        NaN   \n",
       "A1R1UYQ5ME462P        5.0        5.0        5.0        NaN        NaN   \n",
       "...                   ...        ...        ...        ...        ...   \n",
       "A2GH03E9M81SO5        NaN        NaN        NaN        5.0        NaN   \n",
       "A2GH2G4S0VFZYR        NaN        NaN        NaN        NaN        NaN   \n",
       "A2GH4DZIG9U2JJ        NaN        NaN        NaN        NaN        NaN   \n",
       "A2GH7CFRVUDUW7        NaN        NaN        NaN        3.5        NaN   \n",
       "AZZZUAH1VZS7I         NaN        NaN        NaN        NaN        NaN   \n",
       "\n",
       "               B000F4DKAI B0001LO3FG B00DS842HS B000EVMNMI B002HQCWYM  \\\n",
       "A1NEIH01B5X6QL        NaN        NaN        NaN        5.0        5.0   \n",
       "A1RN2UC3MB9WPY        5.0        5.0        NaN        NaN        NaN   \n",
       "AVNDHLOBM0LLA         5.0        5.0        NaN        NaN       4.75   \n",
       "A2L6KZGUH51ONU        5.0        5.0        NaN        NaN        5.0   \n",
       "A1R1UYQ5ME462P        2.0        2.0        NaN        NaN        2.0   \n",
       "...                   ...        ...        ...        ...        ...   \n",
       "A2GH03E9M81SO5        NaN        NaN        NaN        NaN        NaN   \n",
       "A2GH2G4S0VFZYR        NaN        NaN        NaN        4.0        NaN   \n",
       "A2GH4DZIG9U2JJ        NaN        NaN        NaN        5.0        NaN   \n",
       "A2GH7CFRVUDUW7        NaN        NaN        NaN        NaN        NaN   \n",
       "AZZZUAH1VZS7I         NaN        NaN        NaN        NaN        NaN   \n",
       "\n",
       "               B00CPZPYLS  \n",
       "A1NEIH01B5X6QL        NaN  \n",
       "A1RN2UC3MB9WPY        5.0  \n",
       "AVNDHLOBM0LLA         NaN  \n",
       "A2L6KZGUH51ONU        NaN  \n",
       "A1R1UYQ5ME462P        NaN  \n",
       "...                   ...  \n",
       "A2GH03E9M81SO5        NaN  \n",
       "A2GH2G4S0VFZYR        NaN  \n",
       "A2GH4DZIG9U2JJ        NaN  \n",
       "A2GH7CFRVUDUW7        NaN  \n",
       "AZZZUAH1VZS7I         5.0  \n",
       "\n",
       "[54618 rows x 11 columns]"
      ]
     },
     "metadata": {},
     "output_type": "display_data"
    }
   ],
   "source": [
    "# generate user-item dataframe with rating \n",
    "def df_user_item(df):\n",
    "    name_item = df['item'].value_counts().index.tolist()\n",
    "    name_user = df['user'].value_counts().index.tolist()\n",
    "    df_new = pd.DataFrame(columns=name_item, index=name_user)\n",
    "    \n",
    "    for row in range(len(df)):\n",
    "        item_name = df[\"item\"].tolist()[row]\n",
    "        user_name = df[\"user\"].tolist()[row]\n",
    "        rating_val = df[\"rating\"].iloc[row]\n",
    "        df_new.loc[str(user_name),str(item_name)] = rating_val\n",
    "    \n",
    "    return df_new\n",
    "\n",
    "df_user = df_user_item(data_user)\n",
    "df_item = df_user_item(data_item)\n",
    "\n",
    "display(df_user.transpose())\n",
    "display(df_item)"
   ]
  },
  {
   "cell_type": "markdown",
   "metadata": {},
   "source": [
    "## 3.1  Non-personalized Recommendation"
   ]
  },
  {
   "cell_type": "markdown",
   "metadata": {},
   "source": [
    "First, find the range of ratings (minimum and maximum values) in the whole dataset."
   ]
  },
  {
   "cell_type": "code",
   "execution_count": 24,
   "metadata": {},
   "outputs": [
    {
     "name": "stdout",
     "output_type": "stream",
     "text": [
      "======================================================\n",
      "Minimum and maximum values in the dataframe of df_user\n",
      "======================================================\n",
      "Minimum rating: 1.0\n",
      "Maximum rating: 5.0\n",
      "\n",
      "\n",
      "======================================================\n",
      "Minimum and maximum values in the dataframe of df_item\n",
      "======================================================\n",
      "Minimum rating: 1.0\n",
      "Maximum rating: 5.0\n"
     ]
    }
   ],
   "source": [
    "print(\"======================================================\")\n",
    "print(f\"Minimum and maximum values in the dataframe of df_user\")\n",
    "print(\"======================================================\")\n",
    "print(\"Minimum rating:\", df_user.min().min())\n",
    "print(\"Maximum rating:\", df_user.max().max())\n",
    "\n",
    "print(\"\\n\")\n",
    "print(\"======================================================\")\n",
    "print(f\"Minimum and maximum values in the dataframe of df_item\")\n",
    "print(\"======================================================\")\n",
    "print(\"Minimum rating:\", df_item.min().min())\n",
    "print(\"Maximum rating:\", df_item.max().max())"
   ]
  },
  {
   "cell_type": "markdown",
   "metadata": {},
   "source": [
    "**Mean-based recommendation** \n",
    "\n",
    "Calculate top popular product by their mean ratings:"
   ]
  },
  {
   "cell_type": "code",
   "execution_count": 25,
   "metadata": {},
   "outputs": [
    {
     "name": "stdout",
     "output_type": "stream",
     "text": [
      "=========================================================\n",
      "Top 10 most popular products in the dataframe of df_user\n",
      "=========================================================\n"
     ]
    },
    {
     "data": {
      "text/plain": [
       "B00CUQQON4    5.0\n",
       "B00R79O6NO    5.0\n",
       "B00SS6EUO0    5.0\n",
       "B00OTZ7L6I    5.0\n",
       "B00S9O6V48    5.0\n",
       "B00S6YI19E    5.0\n",
       "B00RWVLWWA    5.0\n",
       "B00RVUYB4I    5.0\n",
       "B00RVUQZ6K    5.0\n",
       "B00F9WNSMQ    5.0\n",
       "dtype: float64"
      ]
     },
     "metadata": {},
     "output_type": "display_data"
    },
    {
     "name": "stdout",
     "output_type": "stream",
     "text": [
      "=========================================================\n",
      "Top 10 most popular products in the dataframe of df_item\n",
      "=========================================================\n"
     ]
    },
    {
     "data": {
      "text/plain": [
       "B00CPZPYLS    4.703041\n",
       "B00DS842HS    4.685369\n",
       "B000F4DKAI    4.580899\n",
       "B0001LO3FG    4.580641\n",
       "B01E5XTW24    4.557575\n",
       "B008QMX2SG    4.518619\n",
       "B00D3M2QP4    4.518135\n",
       "B00BUKL666    4.508130\n",
       "B002HQCWYM    4.450475\n",
       "B000EVMNMI    4.406708\n",
       "dtype: float64"
      ]
     },
     "metadata": {},
     "output_type": "display_data"
    }
   ],
   "source": [
    "avg_df_user = df_user.mean().sort_values(ascending=False)\n",
    "avg_df_item = df_item.mean().sort_values(ascending=False)\n",
    "print(\"=========================================================\")\n",
    "print(f\"Top 10 most popular products in the dataframe of df_user\")\n",
    "print(\"=========================================================\")\n",
    "display(avg_df_user[0:10])\n",
    "\n",
    "print(\"=========================================================\")\n",
    "print(f\"Top 10 most popular products in the dataframe of df_item\")\n",
    "print(\"=========================================================\")\n",
    "display(avg_df_item[0:10])"
   ]
  },
  {
   "cell_type": "markdown",
   "metadata": {},
   "source": [
    "Count non-NA cells for each product (rating counts for each product):"
   ]
  },
  {
   "cell_type": "code",
   "execution_count": 26,
   "metadata": {},
   "outputs": [
    {
     "name": "stdout",
     "output_type": "stream",
     "text": [
      "=================================================================\n",
      "Non-NA cells counts for each product in the dataframe of df_user\n",
      "=================================================================\n"
     ]
    },
    {
     "data": {
      "text/plain": [
       "B000E1FZHS    6\n",
       "B000U0OUP6    6\n",
       "B00XOORKRK    5\n",
       "B00RW0MZ6S    5\n",
       "B000LQTTVY    4\n",
       "             ..\n",
       "B0094MMAN0    1\n",
       "B0095SP5IU    1\n",
       "B009P7QQ1G    1\n",
       "B00BX0YD5E    1\n",
       "B00TBUHRRO    1\n",
       "Length: 3694, dtype: int64"
      ]
     },
     "metadata": {},
     "output_type": "display_data"
    },
    {
     "name": "stdout",
     "output_type": "stream",
     "text": [
      "=================================================================\n",
      "Non-NA cells counts for each product in the dataframe of df_item\n",
      "=================================================================\n"
     ]
    },
    {
     "data": {
      "text/plain": [
       "B00BUKL666    10616\n",
       "B008QMX2SG     8436\n",
       "B00D3M2QP4     8413\n",
       "B00542YXFW     8088\n",
       "B01E5XTW24     6726\n",
       "B000F4DKAI     6491\n",
       "B0001LO3FG     6487\n",
       "B00DS842HS     6131\n",
       "B000EVMNMI     6051\n",
       "B002HQCWYM     5857\n",
       "B00CPZPYLS     5590\n",
       "dtype: int64"
      ]
     },
     "metadata": {},
     "output_type": "display_data"
    }
   ],
   "source": [
    "counts_df_user = df_user.count()\n",
    "counts_df_item = df_item.count()\n",
    "\n",
    "print(\"=================================================================\")\n",
    "print(f\"Non-NA cells counts for each product in the dataframe of df_user\")\n",
    "print(\"=================================================================\")\n",
    "display(counts_df_user.sort_values(ascending=False))\n",
    "\n",
    "print(\"=================================================================\")\n",
    "print(f\"Non-NA cells counts for each product in the dataframe of df_item\")\n",
    "print(\"=================================================================\")\n",
    "display(counts_df_item.sort_values(ascending=False))"
   ]
  },
  {
   "cell_type": "markdown",
   "metadata": {},
   "source": [
    "We define all the ratings >= 4 as positive. So, top most popular products by the percentage of positive marks:"
   ]
  },
  {
   "cell_type": "code",
   "execution_count": 27,
   "metadata": {},
   "outputs": [
    {
     "name": "stdout",
     "output_type": "stream",
     "text": [
      "=================================================================================\n",
      "Top popular products by percentage of positive marks in the dataframe of df_user\n",
      "=================================================================================\n"
     ]
    },
    {
     "data": {
      "text/plain": [
       "B00TBUHRRO    1.0\n",
       "B004LS2IY8    1.0\n",
       "B004H4PAU0    1.0\n",
       "B004HAYMWQ    1.0\n",
       "B004IF3TAQ    1.0\n",
       "B004J0NPD6    1.0\n",
       "B004KNGI6S    1.0\n",
       "B004KNGNVI    1.0\n",
       "B004LDWP5A    1.0\n",
       "B004LL9B0O    1.0\n",
       "dtype: float64"
      ]
     },
     "metadata": {},
     "output_type": "display_data"
    },
    {
     "name": "stdout",
     "output_type": "stream",
     "text": [
      "=================================================================================\n",
      "Top popular products by percentage of positive marks in the dataframe of df_item\n",
      "=================================================================================\n"
     ]
    },
    {
     "data": {
      "text/plain": [
       "B00DS842HS    0.925461\n",
       "B00CPZPYLS    0.925045\n",
       "B01E5XTW24    0.891763\n",
       "B000F4DKAI    0.887074\n",
       "B0001LO3FG    0.887005\n",
       "B008QMX2SG    0.870318\n",
       "B00D3M2QP4    0.870201\n",
       "B00BUKL666    0.867653\n",
       "B002HQCWYM    0.851631\n",
       "B000EVMNMI    0.842836\n",
       "dtype: float64"
      ]
     },
     "metadata": {},
     "output_type": "display_data"
    }
   ],
   "source": [
    "# Top popular product by percentage of positive marks\n",
    "counts_positive_df_user = df_user[df_user >= 4].count()\n",
    "counts_positive_df_item = df_item[df_item >= 4].count()\n",
    "\n",
    "print(\"=================================================================================\")\n",
    "print(f\"Top popular products by percentage of positive marks in the dataframe of df_user\")\n",
    "print(\"=================================================================================\")\n",
    "display((counts_positive_df_user / counts_df_user).sort_values(ascending=False)[0:10])\n",
    "\n",
    "print(\"=================================================================================\")\n",
    "print(f\"Top popular products by percentage of positive marks in the dataframe of df_item\")\n",
    "print(\"=================================================================================\")\n",
    "display((counts_positive_df_item / counts_df_item).sort_values(ascending=False)[0:10])"
   ]
  },
  {
   "cell_type": "markdown",
   "metadata": {},
   "source": [
    "**Associative rule recommendation:**\n",
    "\n",
    "This approach is used to recommend items that are related to chosen one (\"People who buy this also bought...\"). Let's say one customer bought the product `product A` and we want to have a list of relevant products to buy next. We can apply association rule here. Range products by the percentage of people who also bought `product A`:"
   ]
  },
  {
   "cell_type": "code",
   "execution_count": 28,
   "metadata": {},
   "outputs": [],
   "source": [
    "product_idx_user = df_user.columns.tolist()\n",
    "product_idx_item = df_item.columns.tolist()"
   ]
  },
  {
   "cell_type": "code",
   "execution_count": 29,
   "metadata": {},
   "outputs": [
    {
     "name": "stdout",
     "output_type": "stream",
     "text": [
      "=============================================================================================================\n",
      "Top 5 most relevant products by the percentage people who also bought B0007R9L4M based on df_user\n",
      "=============================================================================================================\n"
     ]
    },
    {
     "data": {
      "text/plain": [
       "B0007R9L4M    1.000000\n",
       "B000E1FZHS    0.666667\n",
       "B00MWMUWWU    0.666667\n",
       "B000FVZW7K    0.666667\n",
       "B00QT62QII    0.666667\n",
       "dtype: float64"
      ]
     },
     "metadata": {},
     "output_type": "display_data"
    },
    {
     "name": "stdout",
     "output_type": "stream",
     "text": [
      "=============================================================================================================\n",
      "Top 5 most relevant products by the percentage people who also bought B00CPZPYLS based on df_item\n",
      "=============================================================================================================\n"
     ]
    },
    {
     "data": {
      "text/plain": [
       "B00CPZPYLS    1.000000\n",
       "B00BUKL666    0.010197\n",
       "B008QMX2SG    0.009123\n",
       "B00D3M2QP4    0.009123\n",
       "B00542YXFW    0.008945\n",
       "dtype: float64"
      ]
     },
     "metadata": {},
     "output_type": "display_data"
    }
   ],
   "source": [
    "associative_product_user = product_idx_user[10]\n",
    "associative_product_item = product_idx_item[10]\n",
    "watched_product_user = df_user[df_user[associative_product_user].notnull()].count()\n",
    "watched_product_item = df_item[df_item[associative_product_item].notnull()].count()\n",
    "\n",
    "print(\"=============================================================================================================\")\n",
    "print(f\"Top 5 most relevant products by the percentage people who also bought {associative_product_user} based on df_user\")\n",
    "print(\"=============================================================================================================\")\n",
    "display( (watched_product_user / df_user[associative_product_user].count()).sort_values(ascending=False)[0:5])\n",
    "\n",
    "\n",
    "print(\"=============================================================================================================\")\n",
    "print(f\"Top 5 most relevant products by the percentage people who also bought {associative_product_item} based on df_item\")\n",
    "print(\"=============================================================================================================\")\n",
    "display( (watched_product_item / df_item[associative_product_item].count()).sort_values(ascending=False)[0:5])"
   ]
  },
  {
   "cell_type": "markdown",
   "metadata": {},
   "source": [
    "## 3.2  Personalized Recommendation"
   ]
  },
  {
   "cell_type": "markdown",
   "metadata": {},
   "source": [
    "There are many ways to build a personalized recommendation system, such as content-based filtering and collaborative filtering recommendation systems. However, most of the customers are one time buyer and only bought one product in Olist. So it's difficult to find the simlarities among customers. In addition, there are many products which were bought once and have no ratings. Hence, the primary challenge is to get our recommender to suggest relevent items based on a small pool of data."
   ]
  },
  {
   "cell_type": "markdown",
   "metadata": {},
   "source": [
    "### 3.2.1 Collaborative filtering (CF)"
   ]
  },
  {
   "cell_type": "code",
   "execution_count": 30,
   "metadata": {
    "scrolled": false
   },
   "outputs": [
    {
     "data": {
      "text/html": [
       "<div>\n",
       "<style scoped>\n",
       "    .dataframe tbody tr th:only-of-type {\n",
       "        vertical-align: middle;\n",
       "    }\n",
       "\n",
       "    .dataframe tbody tr th {\n",
       "        vertical-align: top;\n",
       "    }\n",
       "\n",
       "    .dataframe thead th {\n",
       "        text-align: right;\n",
       "    }\n",
       "</style>\n",
       "<table border=\"1\" class=\"dataframe\">\n",
       "  <thead>\n",
       "    <tr style=\"text-align: right;\">\n",
       "      <th></th>\n",
       "      <th>A1LACH6MLQWZ</th>\n",
       "      <th>A1GQAKL9CGQLP1</th>\n",
       "      <th>A2GJX2KCUSR0EI</th>\n",
       "      <th>A2C9XE9I8RSKNX</th>\n",
       "      <th>A2Q7DE6NA7VKAJ</th>\n",
       "      <th>AY12DBB0U420B</th>\n",
       "      <th>A2NYK9KWFMJV4Y</th>\n",
       "    </tr>\n",
       "  </thead>\n",
       "  <tbody>\n",
       "    <tr>\n",
       "      <th>A1LACH6MLQWZ</th>\n",
       "      <td>1.0</td>\n",
       "      <td>NaN</td>\n",
       "      <td>NaN</td>\n",
       "      <td>NaN</td>\n",
       "      <td>NaN</td>\n",
       "      <td>NaN</td>\n",
       "      <td>NaN</td>\n",
       "    </tr>\n",
       "    <tr>\n",
       "      <th>A1GQAKL9CGQLP1</th>\n",
       "      <td>NaN</td>\n",
       "      <td>1.000000</td>\n",
       "      <td>-0.347569</td>\n",
       "      <td>-0.497938</td>\n",
       "      <td>-0.473277</td>\n",
       "      <td>0.951973</td>\n",
       "      <td>NaN</td>\n",
       "    </tr>\n",
       "    <tr>\n",
       "      <th>A2GJX2KCUSR0EI</th>\n",
       "      <td>NaN</td>\n",
       "      <td>-0.347569</td>\n",
       "      <td>1.000000</td>\n",
       "      <td>-0.280272</td>\n",
       "      <td>0.943880</td>\n",
       "      <td>-0.464827</td>\n",
       "      <td>NaN</td>\n",
       "    </tr>\n",
       "    <tr>\n",
       "      <th>A2C9XE9I8RSKNX</th>\n",
       "      <td>NaN</td>\n",
       "      <td>-0.497938</td>\n",
       "      <td>-0.280272</td>\n",
       "      <td>1.000000</td>\n",
       "      <td>NaN</td>\n",
       "      <td>-0.392759</td>\n",
       "      <td>NaN</td>\n",
       "    </tr>\n",
       "    <tr>\n",
       "      <th>A2Q7DE6NA7VKAJ</th>\n",
       "      <td>NaN</td>\n",
       "      <td>-0.473277</td>\n",
       "      <td>0.943880</td>\n",
       "      <td>NaN</td>\n",
       "      <td>1.000000</td>\n",
       "      <td>-0.532091</td>\n",
       "      <td>NaN</td>\n",
       "    </tr>\n",
       "    <tr>\n",
       "      <th>AY12DBB0U420B</th>\n",
       "      <td>NaN</td>\n",
       "      <td>0.951973</td>\n",
       "      <td>-0.464827</td>\n",
       "      <td>-0.392759</td>\n",
       "      <td>-0.532091</td>\n",
       "      <td>1.000000</td>\n",
       "      <td>NaN</td>\n",
       "    </tr>\n",
       "    <tr>\n",
       "      <th>A2NYK9KWFMJV4Y</th>\n",
       "      <td>NaN</td>\n",
       "      <td>NaN</td>\n",
       "      <td>NaN</td>\n",
       "      <td>NaN</td>\n",
       "      <td>NaN</td>\n",
       "      <td>NaN</td>\n",
       "      <td>1.0</td>\n",
       "    </tr>\n",
       "  </tbody>\n",
       "</table>\n",
       "</div>"
      ],
      "text/plain": [
       "                A1LACH6MLQWZ  A1GQAKL9CGQLP1  A2GJX2KCUSR0EI  A2C9XE9I8RSKNX  \\\n",
       "A1LACH6MLQWZ             1.0             NaN             NaN             NaN   \n",
       "A1GQAKL9CGQLP1           NaN        1.000000       -0.347569       -0.497938   \n",
       "A2GJX2KCUSR0EI           NaN       -0.347569        1.000000       -0.280272   \n",
       "A2C9XE9I8RSKNX           NaN       -0.497938       -0.280272        1.000000   \n",
       "A2Q7DE6NA7VKAJ           NaN       -0.473277        0.943880             NaN   \n",
       "AY12DBB0U420B            NaN        0.951973       -0.464827       -0.392759   \n",
       "A2NYK9KWFMJV4Y           NaN             NaN             NaN             NaN   \n",
       "\n",
       "                A2Q7DE6NA7VKAJ  AY12DBB0U420B  A2NYK9KWFMJV4Y  \n",
       "A1LACH6MLQWZ               NaN            NaN             NaN  \n",
       "A1GQAKL9CGQLP1       -0.473277       0.951973             NaN  \n",
       "A2GJX2KCUSR0EI        0.943880      -0.464827             NaN  \n",
       "A2C9XE9I8RSKNX             NaN      -0.392759             NaN  \n",
       "A2Q7DE6NA7VKAJ        1.000000      -0.532091             NaN  \n",
       "AY12DBB0U420B        -0.532091       1.000000             NaN  \n",
       "A2NYK9KWFMJV4Y             NaN            NaN             1.0  "
      ]
     },
     "metadata": {},
     "output_type": "display_data"
    },
    {
     "data": {
      "text/html": [
       "<div>\n",
       "<style scoped>\n",
       "    .dataframe tbody tr th:only-of-type {\n",
       "        vertical-align: middle;\n",
       "    }\n",
       "\n",
       "    .dataframe tbody tr th {\n",
       "        vertical-align: top;\n",
       "    }\n",
       "\n",
       "    .dataframe thead th {\n",
       "        text-align: right;\n",
       "    }\n",
       "</style>\n",
       "<table border=\"1\" class=\"dataframe\">\n",
       "  <thead>\n",
       "    <tr style=\"text-align: right;\">\n",
       "      <th></th>\n",
       "      <th>B00BUKL666</th>\n",
       "      <th>B008QMX2SG</th>\n",
       "      <th>B00D3M2QP4</th>\n",
       "      <th>B00542YXFW</th>\n",
       "      <th>B01E5XTW24</th>\n",
       "      <th>B000F4DKAI</th>\n",
       "      <th>B0001LO3FG</th>\n",
       "      <th>B00DS842HS</th>\n",
       "      <th>B000EVMNMI</th>\n",
       "      <th>B002HQCWYM</th>\n",
       "      <th>B00CPZPYLS</th>\n",
       "    </tr>\n",
       "  </thead>\n",
       "  <tbody>\n",
       "    <tr>\n",
       "      <th>B00BUKL666</th>\n",
       "      <td>1.000000</td>\n",
       "      <td>0.995685</td>\n",
       "      <td>0.995682</td>\n",
       "      <td>0.262507</td>\n",
       "      <td>0.105303</td>\n",
       "      <td>0.115622</td>\n",
       "      <td>0.115622</td>\n",
       "      <td>0.105564</td>\n",
       "      <td>-0.057684</td>\n",
       "      <td>-0.069795</td>\n",
       "      <td>0.197342</td>\n",
       "    </tr>\n",
       "    <tr>\n",
       "      <th>B008QMX2SG</th>\n",
       "      <td>0.995685</td>\n",
       "      <td>1.000000</td>\n",
       "      <td>1.000000</td>\n",
       "      <td>0.272286</td>\n",
       "      <td>0.185547</td>\n",
       "      <td>-0.083541</td>\n",
       "      <td>-0.083541</td>\n",
       "      <td>0.150668</td>\n",
       "      <td>-0.080038</td>\n",
       "      <td>-0.078187</td>\n",
       "      <td>0.308681</td>\n",
       "    </tr>\n",
       "    <tr>\n",
       "      <th>B00D3M2QP4</th>\n",
       "      <td>0.995682</td>\n",
       "      <td>1.000000</td>\n",
       "      <td>1.000000</td>\n",
       "      <td>0.272286</td>\n",
       "      <td>0.185547</td>\n",
       "      <td>-0.086709</td>\n",
       "      <td>-0.086709</td>\n",
       "      <td>0.150668</td>\n",
       "      <td>-0.080038</td>\n",
       "      <td>-0.078187</td>\n",
       "      <td>0.308681</td>\n",
       "    </tr>\n",
       "    <tr>\n",
       "      <th>B00542YXFW</th>\n",
       "      <td>0.262507</td>\n",
       "      <td>0.272286</td>\n",
       "      <td>0.272286</td>\n",
       "      <td>1.000000</td>\n",
       "      <td>-0.188982</td>\n",
       "      <td>0.053891</td>\n",
       "      <td>0.053891</td>\n",
       "      <td>0.062184</td>\n",
       "      <td>0.496176</td>\n",
       "      <td>0.311610</td>\n",
       "      <td>0.344640</td>\n",
       "    </tr>\n",
       "    <tr>\n",
       "      <th>B01E5XTW24</th>\n",
       "      <td>0.105303</td>\n",
       "      <td>0.185547</td>\n",
       "      <td>0.185547</td>\n",
       "      <td>-0.188982</td>\n",
       "      <td>1.000000</td>\n",
       "      <td>-0.092661</td>\n",
       "      <td>-0.092661</td>\n",
       "      <td>-0.416667</td>\n",
       "      <td>NaN</td>\n",
       "      <td>0.161197</td>\n",
       "      <td>NaN</td>\n",
       "    </tr>\n",
       "    <tr>\n",
       "      <th>B000F4DKAI</th>\n",
       "      <td>0.115622</td>\n",
       "      <td>-0.083541</td>\n",
       "      <td>-0.086709</td>\n",
       "      <td>0.053891</td>\n",
       "      <td>-0.092661</td>\n",
       "      <td>1.000000</td>\n",
       "      <td>1.000000</td>\n",
       "      <td>0.251514</td>\n",
       "      <td>0.106245</td>\n",
       "      <td>0.327044</td>\n",
       "      <td>0.464159</td>\n",
       "    </tr>\n",
       "    <tr>\n",
       "      <th>B0001LO3FG</th>\n",
       "      <td>0.115622</td>\n",
       "      <td>-0.083541</td>\n",
       "      <td>-0.086709</td>\n",
       "      <td>0.053891</td>\n",
       "      <td>-0.092661</td>\n",
       "      <td>1.000000</td>\n",
       "      <td>1.000000</td>\n",
       "      <td>0.240966</td>\n",
       "      <td>0.106245</td>\n",
       "      <td>0.327044</td>\n",
       "      <td>0.464159</td>\n",
       "    </tr>\n",
       "    <tr>\n",
       "      <th>B00DS842HS</th>\n",
       "      <td>0.105564</td>\n",
       "      <td>0.150668</td>\n",
       "      <td>0.150668</td>\n",
       "      <td>0.062184</td>\n",
       "      <td>-0.416667</td>\n",
       "      <td>0.251514</td>\n",
       "      <td>0.240966</td>\n",
       "      <td>1.000000</td>\n",
       "      <td>0.425918</td>\n",
       "      <td>-0.099627</td>\n",
       "      <td>0.204861</td>\n",
       "    </tr>\n",
       "    <tr>\n",
       "      <th>B000EVMNMI</th>\n",
       "      <td>-0.057684</td>\n",
       "      <td>-0.080038</td>\n",
       "      <td>-0.080038</td>\n",
       "      <td>0.496176</td>\n",
       "      <td>NaN</td>\n",
       "      <td>0.106245</td>\n",
       "      <td>0.106245</td>\n",
       "      <td>0.425918</td>\n",
       "      <td>1.000000</td>\n",
       "      <td>0.013252</td>\n",
       "      <td>0.654654</td>\n",
       "    </tr>\n",
       "    <tr>\n",
       "      <th>B002HQCWYM</th>\n",
       "      <td>-0.069795</td>\n",
       "      <td>-0.078187</td>\n",
       "      <td>-0.078187</td>\n",
       "      <td>0.311610</td>\n",
       "      <td>0.161197</td>\n",
       "      <td>0.327044</td>\n",
       "      <td>0.327044</td>\n",
       "      <td>-0.099627</td>\n",
       "      <td>0.013252</td>\n",
       "      <td>1.000000</td>\n",
       "      <td>0.067082</td>\n",
       "    </tr>\n",
       "    <tr>\n",
       "      <th>B00CPZPYLS</th>\n",
       "      <td>0.197342</td>\n",
       "      <td>0.308681</td>\n",
       "      <td>0.308681</td>\n",
       "      <td>0.344640</td>\n",
       "      <td>NaN</td>\n",
       "      <td>0.464159</td>\n",
       "      <td>0.464159</td>\n",
       "      <td>0.204861</td>\n",
       "      <td>0.654654</td>\n",
       "      <td>0.067082</td>\n",
       "      <td>1.000000</td>\n",
       "    </tr>\n",
       "  </tbody>\n",
       "</table>\n",
       "</div>"
      ],
      "text/plain": [
       "            B00BUKL666  B008QMX2SG  B00D3M2QP4  B00542YXFW  B01E5XTW24  \\\n",
       "B00BUKL666    1.000000    0.995685    0.995682    0.262507    0.105303   \n",
       "B008QMX2SG    0.995685    1.000000    1.000000    0.272286    0.185547   \n",
       "B00D3M2QP4    0.995682    1.000000    1.000000    0.272286    0.185547   \n",
       "B00542YXFW    0.262507    0.272286    0.272286    1.000000   -0.188982   \n",
       "B01E5XTW24    0.105303    0.185547    0.185547   -0.188982    1.000000   \n",
       "B000F4DKAI    0.115622   -0.083541   -0.086709    0.053891   -0.092661   \n",
       "B0001LO3FG    0.115622   -0.083541   -0.086709    0.053891   -0.092661   \n",
       "B00DS842HS    0.105564    0.150668    0.150668    0.062184   -0.416667   \n",
       "B000EVMNMI   -0.057684   -0.080038   -0.080038    0.496176         NaN   \n",
       "B002HQCWYM   -0.069795   -0.078187   -0.078187    0.311610    0.161197   \n",
       "B00CPZPYLS    0.197342    0.308681    0.308681    0.344640         NaN   \n",
       "\n",
       "            B000F4DKAI  B0001LO3FG  B00DS842HS  B000EVMNMI  B002HQCWYM  \\\n",
       "B00BUKL666    0.115622    0.115622    0.105564   -0.057684   -0.069795   \n",
       "B008QMX2SG   -0.083541   -0.083541    0.150668   -0.080038   -0.078187   \n",
       "B00D3M2QP4   -0.086709   -0.086709    0.150668   -0.080038   -0.078187   \n",
       "B00542YXFW    0.053891    0.053891    0.062184    0.496176    0.311610   \n",
       "B01E5XTW24   -0.092661   -0.092661   -0.416667         NaN    0.161197   \n",
       "B000F4DKAI    1.000000    1.000000    0.251514    0.106245    0.327044   \n",
       "B0001LO3FG    1.000000    1.000000    0.240966    0.106245    0.327044   \n",
       "B00DS842HS    0.251514    0.240966    1.000000    0.425918   -0.099627   \n",
       "B000EVMNMI    0.106245    0.106245    0.425918    1.000000    0.013252   \n",
       "B002HQCWYM    0.327044    0.327044   -0.099627    0.013252    1.000000   \n",
       "B00CPZPYLS    0.464159    0.464159    0.204861    0.654654    0.067082   \n",
       "\n",
       "            B00CPZPYLS  \n",
       "B00BUKL666    0.197342  \n",
       "B008QMX2SG    0.308681  \n",
       "B00D3M2QP4    0.308681  \n",
       "B00542YXFW    0.344640  \n",
       "B01E5XTW24         NaN  \n",
       "B000F4DKAI    0.464159  \n",
       "B0001LO3FG    0.464159  \n",
       "B00DS842HS    0.204861  \n",
       "B000EVMNMI    0.654654  \n",
       "B002HQCWYM    0.067082  \n",
       "B00CPZPYLS    1.000000  "
      ]
     },
     "metadata": {},
     "output_type": "display_data"
    }
   ],
   "source": [
    "# correlation among users and items\n",
    "# Compute pairwise correlation of columns, excluding NA/null values\n",
    "user_corr = df_user.transpose().astype('float64').corr() \n",
    "item_corr = df_item.astype('float64').corr()\n",
    "display(user_corr) # --------------- user\n",
    "display(item_corr) # --------------- item"
   ]
  },
  {
   "cell_type": "code",
   "execution_count": 32,
   "metadata": {},
   "outputs": [
    {
     "data": {
      "image/png": "[encoded data removed]",
      "text/plain": [
       "<Figure size 1008x720 with 2 Axes>"
      ]
     },
     "metadata": {},
     "output_type": "display_data"
    }
   ],
   "source": [
    "f = plt.figure(figsize=(14, 10))\n",
    "plt.matshow(user_corr, fignum=f.number)\n",
    "plt.xticks(range(user_corr.shape[1]), user_corr.columns, fontsize=14, rotation=45)\n",
    "plt.yticks(range(user_corr.shape[1]), user_corr.columns, fontsize=14)\n",
    "plt.title(\"User-based CF\", fontsize = 20) \n",
    "cb = plt.colorbar()"
   ]
  },
  {
   "cell_type": "code",
   "execution_count": 33,
   "metadata": {},
   "outputs": [
    {
     "data": {
      "image/png": "[encoded data removed]",
      "text/plain": [
       "<Figure size 1008x720 with 2 Axes>"
      ]
     },
     "metadata": {},
     "output_type": "display_data"
    }
   ],
   "source": [
    "f = plt.figure(figsize=(14, 10))\n",
    "plt.matshow(item_corr, fignum=f.number)\n",
    "plt.xticks(range(item_corr.shape[1]), item_corr.columns, fontsize=14, rotation=45)\n",
    "plt.yticks(range(item_corr.shape[1]), item_corr.columns, fontsize=14)\n",
    "plt.title(\"Item-based CF\", fontsize = 20) \n",
    "cb = plt.colorbar()"
   ]
  },
  {
   "cell_type": "markdown",
   "metadata": {},
   "source": [
    "#### 3.2.1.1 User-based CF using `df_user`"
   ]
  },
  {
   "cell_type": "markdown",
   "metadata": {},
   "source": [
    "For this example, we will make predictions for user `user_idx[]`. Our 'neighborhood' for a user - users with $K=5$ highest correlations. Find these users and print their ratings and correlations to user `user_idx[]`."
   ]
  },
  {
   "cell_type": "code",
   "execution_count": 34,
   "metadata": {},
   "outputs": [
    {
     "data": {
      "text/plain": [
       "'A2GJX2KCUSR0EI'"
      ]
     },
     "execution_count": 34,
     "metadata": {},
     "output_type": "execute_result"
    }
   ],
   "source": [
    "K = 6\n",
    "user_idx = df_user.index.tolist()\n",
    "user_id = user_idx[2] # user id, NOTE: sometimes there might be no correlation of that user, depending on data \n",
    "user_id"
   ]
  },
  {
   "cell_type": "code",
   "execution_count": 35,
   "metadata": {},
   "outputs": [
    {
     "data": {
      "text/plain": [
       "A2Q7DE6NA7VKAJ    0.943880\n",
       "A2C9XE9I8RSKNX   -0.280272\n",
       "A1GQAKL9CGQLP1   -0.347569\n",
       "AY12DBB0U420B    -0.464827\n",
       "A1LACH6MLQWZ           NaN\n",
       "A2NYK9KWFMJV4Y         NaN\n",
       "Name: A2GJX2KCUSR0EI, dtype: float64"
      ]
     },
     "execution_count": 35,
     "metadata": {},
     "output_type": "execute_result"
    }
   ],
   "source": [
    "# selecting K neighbors \n",
    "neighbours_corr_user_based = user_corr[user_id].sort_values(ascending=False)[1: K+1]\n",
    "neighbours_corr_user_based"
   ]
  },
  {
   "cell_type": "code",
   "execution_count": 36,
   "metadata": {},
   "outputs": [
    {
     "data": {
      "text/html": [
       "<div>\n",
       "<style scoped>\n",
       "    .dataframe tbody tr th:only-of-type {\n",
       "        vertical-align: middle;\n",
       "    }\n",
       "\n",
       "    .dataframe tbody tr th {\n",
       "        vertical-align: top;\n",
       "    }\n",
       "\n",
       "    .dataframe thead th {\n",
       "        text-align: right;\n",
       "    }\n",
       "</style>\n",
       "<table border=\"1\" class=\"dataframe\">\n",
       "  <thead>\n",
       "    <tr style=\"text-align: right;\">\n",
       "      <th></th>\n",
       "      <th>B000E1FZHS</th>\n",
       "      <th>B000U0OUP6</th>\n",
       "      <th>B00XOORKRK</th>\n",
       "      <th>B00RW0MZ6S</th>\n",
       "      <th>B000LQTTVY</th>\n",
       "      <th>B000H26J7E</th>\n",
       "      <th>B0019ZHU2Q</th>\n",
       "      <th>B00BUKL666</th>\n",
       "      <th>B00IDCFXG8</th>\n",
       "      <th>B003KLK9F2</th>\n",
       "      <th>...</th>\n",
       "      <th>B00F1AE9J2</th>\n",
       "      <th>B00F1JV78O</th>\n",
       "      <th>B00F1MULHO</th>\n",
       "      <th>B00F45QRQM</th>\n",
       "      <th>B00F9TDVTY</th>\n",
       "      <th>B00F9WUPI6</th>\n",
       "      <th>B00F9WWD54</th>\n",
       "      <th>B00FCV3R3Y</th>\n",
       "      <th>B00FD4UL4I</th>\n",
       "      <th>B00TBUHRRO</th>\n",
       "    </tr>\n",
       "  </thead>\n",
       "  <tbody>\n",
       "    <tr>\n",
       "      <th>A2Q7DE6NA7VKAJ</th>\n",
       "      <td>5.0</td>\n",
       "      <td>5.0</td>\n",
       "      <td>5.0</td>\n",
       "      <td>5.0</td>\n",
       "      <td>5.0</td>\n",
       "      <td>4.0</td>\n",
       "      <td>NaN</td>\n",
       "      <td>NaN</td>\n",
       "      <td>NaN</td>\n",
       "      <td>NaN</td>\n",
       "      <td>...</td>\n",
       "      <td>NaN</td>\n",
       "      <td>NaN</td>\n",
       "      <td>NaN</td>\n",
       "      <td>NaN</td>\n",
       "      <td>NaN</td>\n",
       "      <td>NaN</td>\n",
       "      <td>NaN</td>\n",
       "      <td>NaN</td>\n",
       "      <td>NaN</td>\n",
       "      <td>NaN</td>\n",
       "    </tr>\n",
       "    <tr>\n",
       "      <th>A2C9XE9I8RSKNX</th>\n",
       "      <td>5.0</td>\n",
       "      <td>5.0</td>\n",
       "      <td>NaN</td>\n",
       "      <td>NaN</td>\n",
       "      <td>5.0</td>\n",
       "      <td>NaN</td>\n",
       "      <td>NaN</td>\n",
       "      <td>NaN</td>\n",
       "      <td>NaN</td>\n",
       "      <td>5.0</td>\n",
       "      <td>...</td>\n",
       "      <td>NaN</td>\n",
       "      <td>NaN</td>\n",
       "      <td>NaN</td>\n",
       "      <td>NaN</td>\n",
       "      <td>NaN</td>\n",
       "      <td>NaN</td>\n",
       "      <td>NaN</td>\n",
       "      <td>NaN</td>\n",
       "      <td>NaN</td>\n",
       "      <td>NaN</td>\n",
       "    </tr>\n",
       "    <tr>\n",
       "      <th>A1GQAKL9CGQLP1</th>\n",
       "      <td>3.0</td>\n",
       "      <td>3.0</td>\n",
       "      <td>3.0</td>\n",
       "      <td>3.0</td>\n",
       "      <td>4.5</td>\n",
       "      <td>5.0</td>\n",
       "      <td>5.0</td>\n",
       "      <td>4.5</td>\n",
       "      <td>5.0</td>\n",
       "      <td>NaN</td>\n",
       "      <td>...</td>\n",
       "      <td>NaN</td>\n",
       "      <td>NaN</td>\n",
       "      <td>NaN</td>\n",
       "      <td>NaN</td>\n",
       "      <td>NaN</td>\n",
       "      <td>NaN</td>\n",
       "      <td>NaN</td>\n",
       "      <td>NaN</td>\n",
       "      <td>NaN</td>\n",
       "      <td>NaN</td>\n",
       "    </tr>\n",
       "    <tr>\n",
       "      <th>AY12DBB0U420B</th>\n",
       "      <td>3.0</td>\n",
       "      <td>3.0</td>\n",
       "      <td>3.0</td>\n",
       "      <td>3.0</td>\n",
       "      <td>NaN</td>\n",
       "      <td>NaN</td>\n",
       "      <td>5.0</td>\n",
       "      <td>4.666667</td>\n",
       "      <td>NaN</td>\n",
       "      <td>5.0</td>\n",
       "      <td>...</td>\n",
       "      <td>NaN</td>\n",
       "      <td>NaN</td>\n",
       "      <td>NaN</td>\n",
       "      <td>NaN</td>\n",
       "      <td>NaN</td>\n",
       "      <td>NaN</td>\n",
       "      <td>NaN</td>\n",
       "      <td>NaN</td>\n",
       "      <td>NaN</td>\n",
       "      <td>4.5</td>\n",
       "    </tr>\n",
       "    <tr>\n",
       "      <th>A1LACH6MLQWZ</th>\n",
       "      <td>5.0</td>\n",
       "      <td>5.0</td>\n",
       "      <td>5.0</td>\n",
       "      <td>5.0</td>\n",
       "      <td>5.0</td>\n",
       "      <td>5.0</td>\n",
       "      <td>5.0</td>\n",
       "      <td>NaN</td>\n",
       "      <td>NaN</td>\n",
       "      <td>NaN</td>\n",
       "      <td>...</td>\n",
       "      <td>5.0</td>\n",
       "      <td>5.0</td>\n",
       "      <td>5.0</td>\n",
       "      <td>5.0</td>\n",
       "      <td>5.0</td>\n",
       "      <td>5.0</td>\n",
       "      <td>5.0</td>\n",
       "      <td>5.0</td>\n",
       "      <td>5.0</td>\n",
       "      <td>NaN</td>\n",
       "    </tr>\n",
       "    <tr>\n",
       "      <th>A2NYK9KWFMJV4Y</th>\n",
       "      <td>NaN</td>\n",
       "      <td>NaN</td>\n",
       "      <td>NaN</td>\n",
       "      <td>NaN</td>\n",
       "      <td>NaN</td>\n",
       "      <td>NaN</td>\n",
       "      <td>NaN</td>\n",
       "      <td>NaN</td>\n",
       "      <td>5.0</td>\n",
       "      <td>NaN</td>\n",
       "      <td>...</td>\n",
       "      <td>NaN</td>\n",
       "      <td>NaN</td>\n",
       "      <td>NaN</td>\n",
       "      <td>NaN</td>\n",
       "      <td>NaN</td>\n",
       "      <td>NaN</td>\n",
       "      <td>NaN</td>\n",
       "      <td>NaN</td>\n",
       "      <td>NaN</td>\n",
       "      <td>NaN</td>\n",
       "    </tr>\n",
       "  </tbody>\n",
       "</table>\n",
       "<p>6 rows × 3694 columns</p>\n",
       "</div>"
      ],
      "text/plain": [
       "               B000E1FZHS B000U0OUP6 B00XOORKRK B00RW0MZ6S B000LQTTVY  \\\n",
       "A2Q7DE6NA7VKAJ        5.0        5.0        5.0        5.0        5.0   \n",
       "A2C9XE9I8RSKNX        5.0        5.0        NaN        NaN        5.0   \n",
       "A1GQAKL9CGQLP1        3.0        3.0        3.0        3.0        4.5   \n",
       "AY12DBB0U420B         3.0        3.0        3.0        3.0        NaN   \n",
       "A1LACH6MLQWZ          5.0        5.0        5.0        5.0        5.0   \n",
       "A2NYK9KWFMJV4Y        NaN        NaN        NaN        NaN        NaN   \n",
       "\n",
       "               B000H26J7E B0019ZHU2Q B00BUKL666 B00IDCFXG8 B003KLK9F2  ...  \\\n",
       "A2Q7DE6NA7VKAJ        4.0        NaN        NaN        NaN        NaN  ...   \n",
       "A2C9XE9I8RSKNX        NaN        NaN        NaN        NaN        5.0  ...   \n",
       "A1GQAKL9CGQLP1        5.0        5.0        4.5        5.0        NaN  ...   \n",
       "AY12DBB0U420B         NaN        5.0   4.666667        NaN        5.0  ...   \n",
       "A1LACH6MLQWZ          5.0        5.0        NaN        NaN        NaN  ...   \n",
       "A2NYK9KWFMJV4Y        NaN        NaN        NaN        5.0        NaN  ...   \n",
       "\n",
       "               B00F1AE9J2 B00F1JV78O B00F1MULHO B00F45QRQM B00F9TDVTY  \\\n",
       "A2Q7DE6NA7VKAJ        NaN        NaN        NaN        NaN        NaN   \n",
       "A2C9XE9I8RSKNX        NaN        NaN        NaN        NaN        NaN   \n",
       "A1GQAKL9CGQLP1        NaN        NaN        NaN        NaN        NaN   \n",
       "AY12DBB0U420B         NaN        NaN        NaN        NaN        NaN   \n",
       "A1LACH6MLQWZ          5.0        5.0        5.0        5.0        5.0   \n",
       "A2NYK9KWFMJV4Y        NaN        NaN        NaN        NaN        NaN   \n",
       "\n",
       "               B00F9WUPI6 B00F9WWD54 B00FCV3R3Y B00FD4UL4I B00TBUHRRO  \n",
       "A2Q7DE6NA7VKAJ        NaN        NaN        NaN        NaN        NaN  \n",
       "A2C9XE9I8RSKNX        NaN        NaN        NaN        NaN        NaN  \n",
       "A1GQAKL9CGQLP1        NaN        NaN        NaN        NaN        NaN  \n",
       "AY12DBB0U420B         NaN        NaN        NaN        NaN        4.5  \n",
       "A1LACH6MLQWZ          5.0        5.0        5.0        5.0        NaN  \n",
       "A2NYK9KWFMJV4Y        NaN        NaN        NaN        NaN        NaN  \n",
       "\n",
       "[6 rows x 3694 columns]"
      ]
     },
     "execution_count": 36,
     "metadata": {},
     "output_type": "execute_result"
    }
   ],
   "source": [
    "neighbours_ratings_user_based = df_user.loc[neighbours_corr_user_based.index]\n",
    "neighbours_ratings_user_based"
   ]
  },
  {
   "cell_type": "code",
   "execution_count": 37,
   "metadata": {},
   "outputs": [
    {
     "data": {
      "text/plain": [
       "B000LQTTVY    NaN\n",
       "B0019ZHU2Q    NaN\n",
       "B0025UCHYU    NaN\n",
       "B007FGP4VM    NaN\n",
       "B001G0MG2I    NaN\n",
       "             ... \n",
       "B00F9WUPI6    NaN\n",
       "B00F9WWD54    NaN\n",
       "B00FCV3R3Y    NaN\n",
       "B00FD4UL4I    NaN\n",
       "B00TBUHRRO    NaN\n",
       "Name: A2GJX2KCUSR0EI, Length: 3155, dtype: object"
      ]
     },
     "execution_count": 37,
     "metadata": {},
     "output_type": "execute_result"
    }
   ],
   "source": [
    "# Find a list of missing ratings for the user\n",
    "missing_ratings_user_based = df_user.loc[user_id]\n",
    "missing_ratings_user_based = missing_ratings_user_based[missing_ratings_user_based.isnull()]\n",
    "missing_ratings_user_based"
   ]
  },
  {
   "cell_type": "code",
   "execution_count": 38,
   "metadata": {},
   "outputs": [
    {
     "name": "stdout",
     "output_type": "stream",
     "text": [
      "4.3228200371057515\n",
      "A2Q7DE6NA7VKAJ    3.895111\n",
      "A2C9XE9I8RSKNX    4.265672\n",
      "A1GQAKL9CGQLP1    4.502373\n",
      "AY12DBB0U420B     4.668235\n",
      "A1LACH6MLQWZ      4.915533\n",
      "A2NYK9KWFMJV4Y    4.901173\n",
      "dtype: float64\n"
     ]
    }
   ],
   "source": [
    "user_mean_user_based = df_user.loc[user_id].mean()\n",
    "print(user_mean_user_based)\n",
    "\n",
    "neighbours_means_user_based = neighbours_ratings_user_based.mean(axis=1)\n",
    "print(neighbours_means_user_based)"
   ]
  },
  {
   "cell_type": "code",
   "execution_count": 39,
   "metadata": {},
   "outputs": [
    {
     "name": "stdout",
     "output_type": "stream",
     "text": [
      "======================================================\n",
      "User-based prediction for user: A2GJX2KCUSR0EI\n",
      "======================================================\n"
     ]
    },
    {
     "data": {
      "text/plain": [
       "B000EMQFY4    7.825193\n",
       "B00C4DTS5Y    7.825193\n",
       "B003WP43RQ    7.825193\n",
       "B000RPXWCQ    7.825193\n",
       "B001EPQVEO    7.825193\n",
       "Name: A2GJX2KCUSR0EI, dtype: object"
      ]
     },
     "execution_count": 39,
     "metadata": {},
     "output_type": "execute_result"
    }
   ],
   "source": [
    "# make rating predictions\n",
    "for movie_name, val in missing_ratings_user_based.iteritems():\n",
    "    rating = 0\n",
    "    weights_sum = 0\n",
    "    \n",
    "    for neighbour_id, row in neighbours_ratings_user_based.iterrows():\n",
    "        if np.isnan(row[movie_name]): continue\n",
    "        rating += neighbours_corr_user_based.loc[neighbour_id] * (row[movie_name] - neighbours_means_user_based.loc[neighbour_id])\n",
    "        weights_sum += abs(neighbours_corr_user_based.loc[neighbour_id])\n",
    "   \n",
    "    if weights_sum > 0:\n",
    "        rating /= weights_sum  \n",
    "    rating += user_mean_user_based\n",
    "    \n",
    "    missing_ratings_user_based.at[movie_name] = rating\n",
    "    \n",
    "print(\"======================================================\")\n",
    "print(f\"User-based prediction for user: {user_id}\")\n",
    "print(\"======================================================\")\n",
    "missing_ratings_user_based.sort_values(ascending=False)[0:5]"
   ]
  },
  {
   "cell_type": "markdown",
   "metadata": {},
   "source": [
    "We notice that for some users, the prediction score for the product might larger than maximum rating value. This is possible according to the definition of score - user's tendecy to give higher/lower ratings, which is defined as:\n",
    "\n",
    "$$ r_{xi} = \\mu_{x} + \\frac{\\Sigma_{y \\in \\mathbf{K}}sim(x,y)(r_{yi}-\\mu_{y})}{\\Sigma_{y \\in \\mathbf{K}}|sim(x,y)|}  $$\n",
    "\n",
    "Where $\\mu_x$ is a mean rating for a user and $sim$ can be defined in different ways, for example, as cosine similarity or correlation."
   ]
  },
  {
   "cell_type": "markdown",
   "metadata": {},
   "source": [
    "#### 3.2.1.2 Item-based CF using `df_item`"
   ]
  },
  {
   "cell_type": "code",
   "execution_count": 40,
   "metadata": {},
   "outputs": [
    {
     "data": {
      "text/plain": [
       "B00542YXFW    NaN\n",
       "B01E5XTW24    NaN\n",
       "B00DS842HS    NaN\n",
       "B000EVMNMI    NaN\n",
       "B00CPZPYLS    NaN\n",
       "Name: AVNDHLOBM0LLA, dtype: object"
      ]
     },
     "execution_count": 40,
     "metadata": {},
     "output_type": "execute_result"
    }
   ],
   "source": [
    "user_idx = df_item.index.tolist()\n",
    "user_id = user_idx[2] # user id, NOTE: sometimes there might be no correlation of that user, depending on dat\n",
    "\n",
    "# user_id = 'A1WX42M589VAMQ' # if we try to predict the same user but using the item-based CF approach and different dataframe\n",
    "\n",
    "# Find a list of missing ratings for the user\n",
    "missing_ratings_item_based = df_item.loc[user_id]\n",
    "missing_ratings_item_based = missing_ratings_item_based[missing_ratings_item_based.isnull()]\n",
    "missing_ratings_item_based"
   ]
  },
  {
   "cell_type": "code",
   "execution_count": 41,
   "metadata": {},
   "outputs": [
    {
     "name": "stdout",
     "output_type": "stream",
     "text": [
      "======================================================\n",
      "Item-based prediction for user: AVNDHLOBM0LLA\n",
      "======================================================\n"
     ]
    },
    {
     "data": {
      "text/plain": [
       "B00CPZPYLS    5.147192\n",
       "B00DS842HS    5.128283\n",
       "B000EVMNMI    4.818911\n",
       "B01E5XTW24    4.801965\n",
       "B00542YXFW    4.634196\n",
       "Name: AVNDHLOBM0LLA, dtype: object"
      ]
     },
     "execution_count": 41,
     "metadata": {},
     "output_type": "execute_result"
    }
   ],
   "source": [
    "# predict the ratings of movies that are missing in the user with `user_id`\n",
    "for movie_name, val in missing_ratings_item_based.iteritems():\n",
    "    # initialize\n",
    "    rating = 0\n",
    "    weights_sum = 0\n",
    "    # define similairity as the correlation between the `movie_name` without ratings and other movives\n",
    "    neighbours_corr = item_corr[movie_name].sort_values(ascending=False)[1: K+1]\n",
    "    # get the mean rating for the item `movie_name`\n",
    "    item_mean = df_item[movie_name].mean()\n",
    "    \n",
    "    neighbours_ratings = df_item[neighbours_corr.index].transpose()\n",
    "    # get mean for each neighbour (total is K)\n",
    "    neighbours_means = neighbours_ratings.mean(axis=1)\n",
    "    \n",
    "    for neighbour_id, row in neighbours_ratings.iterrows():\n",
    "        if np.isnan(row[user_id]): continue\n",
    "        rating += neighbours_corr[neighbour_id] * (row[user_id] - neighbours_means[neighbour_id])\n",
    "        weights_sum += abs(neighbours_corr[neighbour_id])\n",
    "    if weights_sum > 0:\n",
    "        rating /= weights_sum\n",
    "    rating += item_mean\n",
    "    missing_ratings_item_based.at[movie_name] = rating\n",
    "    \n",
    "print(\"======================================================\")\n",
    "print(f\"Item-based prediction for user: {user_id}\")\n",
    "print(\"======================================================\")\n",
    "missing_ratings_item_based.sort_values(ascending=False)[0:5]"
   ]
  },
  {
   "cell_type": "markdown",
   "metadata": {},
   "source": [
    "### 3.2.2 Content-based filtering (linear model)"
   ]
  },
  {
   "cell_type": "markdown",
   "metadata": {},
   "source": [
    "#### 3.2.2.1 Text mining of `reviewText` \n",
    "The idea is to recommend customers products by analyzing their review texts to see what they prefer and what they don't. This requires the technique of text mining. Due to the computational cost, here we select 10\\% of one-year reviews, year of 2018 - instead of full dataset, to demenstate how the text mining technique used to analyze customer's personal preference via their review text gave to products."
   ]
  },
  {
   "cell_type": "code",
   "execution_count": 42,
   "metadata": {},
   "outputs": [],
   "source": [
    "\"\"\" Use dataframe from Part 2 Data Analysis and Visualization:\n",
    "`df` which exclude the extreme long review text &\n",
    "already include the column of `year` \"\"\"\n",
    "df_content = df.copy()\n",
    "df_content = df_content[df_content.year==2018]\n",
    "tenPercent = int(df_content.shape[0]*0.1)\n",
    "df_content = df_content.iloc[0: tenPercent]"
   ]
  },
  {
   "cell_type": "markdown",
   "metadata": {},
   "source": [
    "Then, we select only neccessary columns to prepare for the text mining."
   ]
  },
  {
   "cell_type": "code",
   "execution_count": 43,
   "metadata": {},
   "outputs": [],
   "source": [
    "# select only neccessary columns\n",
    "df_content= df_content[[\"overall\",\"reviewerID\",\"asin\",\"reviewText\"]]\n",
    "# rename columns\n",
    "df_content.columns = [\"rating\",\"reviewerID\",\"productID\",\"reviewText\"]\n",
    "# drop row if there is nan value in the column `reviewText`\n",
    "df_content = df_content.dropna()"
   ]
  },
  {
   "cell_type": "markdown",
   "metadata": {},
   "source": [
    "Then, we clear up the review text via the following steps:\n",
    "- remove punctuation\n",
    "- apply lowercase\n",
    "- remove stopwords\n",
    "- apply lemmatization"
   ]
  },
  {
   "cell_type": "code",
   "execution_count": 44,
   "metadata": {},
   "outputs": [],
   "source": [
    "lemmatizer = WordNetLemmatizer()\n",
    "stop_Words= _stop_words.ENGLISH_STOP_WORDS\n",
    "stop_Words = list(stop_Words) \n",
    "\n",
    "def text_processing(text):\n",
    "    # remove punctuation \n",
    "    text = \"\".join([c for c in text \n",
    "                    if c not in string.punctuation])\n",
    "    # lowercase\n",
    "    text = \"\".join([c.lower() for c in text])\n",
    "    # remove stopwords\n",
    "    text = \" \".join([w for w in text.split() \n",
    "                     if w not in stop_Words])\n",
    "    # stemming / lematizing (optional)\n",
    "    text = \" \".join([lemmatizer.lemmatize(w) for w in text.split()])\n",
    "    return text"
   ]
  },
  {
   "cell_type": "code",
   "execution_count": 45,
   "metadata": {},
   "outputs": [],
   "source": [
    "# clean the text before vectorizing\n",
    "Review_clean = df_content['reviewText'].apply(text_processing)\n",
    "# Review_clean"
   ]
  },
  {
   "cell_type": "markdown",
   "metadata": {},
   "source": [
    "Next, vectorizing the text after cleaning before creating the Latent Dirichlet Allocation (LDA) model"
   ]
  },
  {
   "cell_type": "code",
   "execution_count": 46,
   "metadata": {},
   "outputs": [],
   "source": [
    "# vectorizing of text\n",
    "vectorizer = CountVectorizer() \n",
    "descriptions_bow=vectorizer.fit_transform(Review_clean) "
   ]
  },
  {
   "cell_type": "markdown",
   "metadata": {},
   "source": [
    "Now, we can use LDA model, with 20 topics to prepare for content-based dataframe"
   ]
  },
  {
   "cell_type": "code",
   "execution_count": 47,
   "metadata": {},
   "outputs": [],
   "source": [
    "n_topics = 20 # ------------------------- number of topics for each review\n",
    "lda = LatentDirichletAllocation(n_components=n_topics, learning_method='batch')\n",
    "topic = lda.fit_transform(descriptions_bow)"
   ]
  },
  {
   "cell_type": "code",
   "execution_count": 48,
   "metadata": {},
   "outputs": [
    {
     "data": {
      "text/html": [
       "<div>\n",
       "<style scoped>\n",
       "    .dataframe tbody tr th:only-of-type {\n",
       "        vertical-align: middle;\n",
       "    }\n",
       "\n",
       "    .dataframe tbody tr th {\n",
       "        vertical-align: top;\n",
       "    }\n",
       "\n",
       "    .dataframe thead th {\n",
       "        text-align: right;\n",
       "    }\n",
       "</style>\n",
       "<table border=\"1\" class=\"dataframe\">\n",
       "  <thead>\n",
       "    <tr style=\"text-align: right;\">\n",
       "      <th></th>\n",
       "      <th>rating</th>\n",
       "      <th>reviewerID</th>\n",
       "      <th>productID</th>\n",
       "      <th>reviewText</th>\n",
       "      <th>LDA_topic0</th>\n",
       "      <th>LDA_topic1</th>\n",
       "      <th>LDA_topic2</th>\n",
       "      <th>LDA_topic3</th>\n",
       "      <th>LDA_topic4</th>\n",
       "      <th>LDA_topic5</th>\n",
       "      <th>...</th>\n",
       "      <th>LDA_topic10</th>\n",
       "      <th>LDA_topic11</th>\n",
       "      <th>LDA_topic12</th>\n",
       "      <th>LDA_topic13</th>\n",
       "      <th>LDA_topic14</th>\n",
       "      <th>LDA_topic15</th>\n",
       "      <th>LDA_topic16</th>\n",
       "      <th>LDA_topic17</th>\n",
       "      <th>LDA_topic18</th>\n",
       "      <th>LDA_topic19</th>\n",
       "    </tr>\n",
       "  </thead>\n",
       "  <tbody>\n",
       "    <tr>\n",
       "      <th>169</th>\n",
       "      <td>4</td>\n",
       "      <td>A20LEK2JTETFA4</td>\n",
       "      <td>4639725043</td>\n",
       "      <td>Works well in coffee maker</td>\n",
       "      <td>0.012500</td>\n",
       "      <td>0.012500</td>\n",
       "      <td>0.012500</td>\n",
       "      <td>0.012500</td>\n",
       "      <td>0.012500</td>\n",
       "      <td>0.012500</td>\n",
       "      <td>...</td>\n",
       "      <td>0.012500</td>\n",
       "      <td>0.012500</td>\n",
       "      <td>0.262497</td>\n",
       "      <td>0.012500</td>\n",
       "      <td>0.012500</td>\n",
       "      <td>0.012500</td>\n",
       "      <td>0.012500</td>\n",
       "      <td>0.012500</td>\n",
       "      <td>0.012500</td>\n",
       "      <td>0.512503</td>\n",
       "    </tr>\n",
       "    <tr>\n",
       "      <th>170</th>\n",
       "      <td>5</td>\n",
       "      <td>A1G3KT0T83DBHK</td>\n",
       "      <td>4639725043</td>\n",
       "      <td>About 15 years ago I was visiting a friend in ...</td>\n",
       "      <td>0.001282</td>\n",
       "      <td>0.001282</td>\n",
       "      <td>0.001282</td>\n",
       "      <td>0.001282</td>\n",
       "      <td>0.001282</td>\n",
       "      <td>0.070515</td>\n",
       "      <td>...</td>\n",
       "      <td>0.388520</td>\n",
       "      <td>0.001282</td>\n",
       "      <td>0.001282</td>\n",
       "      <td>0.113090</td>\n",
       "      <td>0.001282</td>\n",
       "      <td>0.001282</td>\n",
       "      <td>0.246607</td>\n",
       "      <td>0.069600</td>\n",
       "      <td>0.001282</td>\n",
       "      <td>0.001282</td>\n",
       "    </tr>\n",
       "    <tr>\n",
       "      <th>171</th>\n",
       "      <td>5</td>\n",
       "      <td>A2M5O0Z0B69JOK</td>\n",
       "      <td>4639725043</td>\n",
       "      <td>This tea is *very* strong  compared to other l...</td>\n",
       "      <td>0.003125</td>\n",
       "      <td>0.003125</td>\n",
       "      <td>0.003125</td>\n",
       "      <td>0.133329</td>\n",
       "      <td>0.003125</td>\n",
       "      <td>0.003125</td>\n",
       "      <td>...</td>\n",
       "      <td>0.098442</td>\n",
       "      <td>0.003125</td>\n",
       "      <td>0.003125</td>\n",
       "      <td>0.003125</td>\n",
       "      <td>0.003125</td>\n",
       "      <td>0.003125</td>\n",
       "      <td>0.715104</td>\n",
       "      <td>0.003125</td>\n",
       "      <td>0.003125</td>\n",
       "      <td>0.003125</td>\n",
       "    </tr>\n",
       "  </tbody>\n",
       "</table>\n",
       "<p>3 rows × 24 columns</p>\n",
       "</div>"
      ],
      "text/plain": [
       "     rating      reviewerID   productID  \\\n",
       "169       4  A20LEK2JTETFA4  4639725043   \n",
       "170       5  A1G3KT0T83DBHK  4639725043   \n",
       "171       5  A2M5O0Z0B69JOK  4639725043   \n",
       "\n",
       "                                            reviewText  LDA_topic0  \\\n",
       "169                         Works well in coffee maker    0.012500   \n",
       "170  About 15 years ago I was visiting a friend in ...    0.001282   \n",
       "171  This tea is *very* strong  compared to other l...    0.003125   \n",
       "\n",
       "     LDA_topic1  LDA_topic2  LDA_topic3  LDA_topic4  LDA_topic5  ...  \\\n",
       "169    0.012500    0.012500    0.012500    0.012500    0.012500  ...   \n",
       "170    0.001282    0.001282    0.001282    0.001282    0.070515  ...   \n",
       "171    0.003125    0.003125    0.133329    0.003125    0.003125  ...   \n",
       "\n",
       "     LDA_topic10  LDA_topic11  LDA_topic12  LDA_topic13  LDA_topic14  \\\n",
       "169     0.012500     0.012500     0.262497     0.012500     0.012500   \n",
       "170     0.388520     0.001282     0.001282     0.113090     0.001282   \n",
       "171     0.098442     0.003125     0.003125     0.003125     0.003125   \n",
       "\n",
       "     LDA_topic15  LDA_topic16  LDA_topic17  LDA_topic18  LDA_topic19  \n",
       "169     0.012500     0.012500     0.012500     0.012500     0.512503  \n",
       "170     0.001282     0.246607     0.069600     0.001282     0.001282  \n",
       "171     0.003125     0.715104     0.003125     0.003125     0.003125  \n",
       "\n",
       "[3 rows x 24 columns]"
      ]
     },
     "execution_count": 48,
     "metadata": {},
     "output_type": "execute_result"
    }
   ],
   "source": [
    "# combine the topics with original `df`\n",
    "for i in range(n_topics):\n",
    "    df_content[\"LDA_topic\"+str(i)]=topic[:,i]\n",
    "df_content.head(3)"
   ]
  },
  {
   "cell_type": "markdown",
   "metadata": {},
   "source": [
    "We would like to see top words for each topic, so here we print the 10 top words for those 20 topics"
   ]
  },
  {
   "cell_type": "code",
   "execution_count": 49,
   "metadata": {},
   "outputs": [],
   "source": [
    "def print_top_words(model, feature_names, n_top_words):\n",
    "    norm = model.components_.sum(axis=1)[:, np.newaxis]\n",
    "    for topic_idx, topic in enumerate(model.components_):\n",
    "        print(80 * \"-\")\n",
    "        print(\"Topic {}\".format(topic_idx))\n",
    "        for i in topic.argsort()[:-n_top_words - 1:-1]:\n",
    "            print(\"{:.3f}\".format(topic[i] / norm[topic_idx][0]) \n",
    "                  + '\\t' + feature_names[i])"
   ]
  },
  {
   "cell_type": "code",
   "execution_count": 50,
   "metadata": {
    "scrolled": true
   },
   "outputs": [
    {
     "name": "stdout",
     "output_type": "stream",
     "text": [
      "10 Top words for those topics in LDA model:\n",
      "--------------------------------------------------------------------------------\n",
      "Topic 0\n",
      "0.026\tbread\n",
      "0.017\tmake\n",
      "0.015\tuse\n",
      "0.012\tbean\n",
      "0.012\tbear\n",
      "0.009\tgummy\n",
      "0.009\tjust\n",
      "0.009\tmachine\n",
      "0.008\ttime\n",
      "0.008\tyeast\n",
      "--------------------------------------------------------------------------------\n",
      "Topic 1\n",
      "0.248\tlove\n",
      "0.051\tflavor\n",
      "0.019\tgum\n",
      "0.019\tkid\n",
      "0.017\ttaste\n",
      "0.016\tfruit\n",
      "0.015\tcake\n",
      "0.014\toil\n",
      "0.008\tstuff\n",
      "0.008\tjelly\n",
      "--------------------------------------------------------------------------------\n",
      "Topic 2\n",
      "0.323\tgood\n",
      "0.051\ttaste\n",
      "0.033\tyummy\n",
      "0.029\treally\n",
      "0.027\tprice\n",
      "0.022\tproduct\n",
      "0.022\tflavor\n",
      "0.018\tstuff\n",
      "0.017\tlike\n",
      "0.017\tbetter\n",
      "--------------------------------------------------------------------------------\n",
      "Topic 3\n",
      "0.053\tamazing\n",
      "0.036\tsize\n",
      "0.033\texactly\n",
      "0.031\twonderful\n",
      "0.031\tbag\n",
      "0.026\tsmall\n",
      "0.020\tdescribed\n",
      "0.018\tlarge\n",
      "0.014\tfresh\n",
      "0.014\tdelicious\n",
      "--------------------------------------------------------------------------------\n",
      "Topic 4\n",
      "0.025\tnice\n",
      "0.022\trecommend\n",
      "0.020\thighly\n",
      "0.018\tcolor\n",
      "0.018\tchocolate\n",
      "0.015\ttree\n",
      "0.014\tplant\n",
      "0.013\tleaf\n",
      "0.013\tmake\n",
      "0.012\tdark\n",
      "--------------------------------------------------------------------------------\n",
      "Topic 5\n",
      "0.032\tprice\n",
      "0.022\tsnack\n",
      "0.021\tstore\n",
      "0.019\tdate\n",
      "0.014\tawesome\n",
      "0.013\tuse\n",
      "0.013\tproduct\n",
      "0.012\texpiration\n",
      "0.011\tbuy\n",
      "0.011\teasy\n",
      "--------------------------------------------------------------------------------\n",
      "Topic 6\n",
      "0.042\ttime\n",
      "0.032\tpack\n",
      "0.018\torder\n",
      "0.015\tspicy\n",
      "0.015\tpepper\n",
      "0.014\tchip\n",
      "0.014\tpacket\n",
      "0.011\tsecond\n",
      "0.011\tbag\n",
      "0.010\tjust\n",
      "--------------------------------------------------------------------------------\n",
      "Topic 7\n",
      "0.031\tlike\n",
      "0.026\ttaste\n",
      "0.014\tim\n",
      "0.014\tdidnt\n",
      "0.014\tjust\n",
      "0.013\tbad\n",
      "0.012\tdont\n",
      "0.011\tproduct\n",
      "0.011\tdid\n",
      "0.010\ttasted\n",
      "--------------------------------------------------------------------------------\n",
      "Topic 8\n",
      "0.038\tsalt\n",
      "0.021\tflavor\n",
      "0.021\tsauce\n",
      "0.019\tuse\n",
      "0.017\tsoup\n",
      "0.016\tlike\n",
      "0.014\tpeanut\n",
      "0.014\tchicken\n",
      "0.014\ttaste\n",
      "0.014\tmake\n",
      "--------------------------------------------------------------------------------\n",
      "Topic 9\n",
      "0.056\tfresh\n",
      "0.044\tcooky\n",
      "0.041\tloved\n",
      "0.039\tgift\n",
      "0.026\tchocolate\n",
      "0.015\tchristmas\n",
      "0.014\tdelivery\n",
      "0.014\tbought\n",
      "0.013\tfriend\n",
      "0.012\tday\n",
      "--------------------------------------------------------------------------------\n",
      "Topic 10\n",
      "0.123\tdelicious\n",
      "0.046\tcandy\n",
      "0.025\tsweet\n",
      "0.024\ttaste\n",
      "0.013\tlike\n",
      "0.013\tjust\n",
      "0.011\tcream\n",
      "0.010\tchocolate\n",
      "0.009\tsour\n",
      "0.009\tlittle\n",
      "--------------------------------------------------------------------------------\n",
      "Topic 11\n",
      "0.053\tarrived\n",
      "0.052\ttasty\n",
      "0.036\tcame\n",
      "0.035\texpected\n",
      "0.027\tbroken\n",
      "0.021\tbox\n",
      "0.019\titem\n",
      "0.019\tproduct\n",
      "0.018\tperfect\n",
      "0.018\tpackage\n",
      "--------------------------------------------------------------------------------\n",
      "Topic 12\n",
      "0.357\tgreat\n",
      "0.081\tproduct\n",
      "0.057\ttaste\n",
      "0.046\tprice\n",
      "0.043\texcellent\n",
      "0.028\tquality\n",
      "0.022\tvalue\n",
      "0.020\tflavor\n",
      "0.019\tfast\n",
      "0.016\twork\n",
      "--------------------------------------------------------------------------------\n",
      "Topic 13\n",
      "0.048\tstore\n",
      "0.033\tfavorite\n",
      "0.027\tlove\n",
      "0.019\tlocal\n",
      "0.018\tspice\n",
      "0.018\tgrocery\n",
      "0.018\tthank\n",
      "0.017\tseasoning\n",
      "0.016\tused\n",
      "0.015\trecipe\n",
      "--------------------------------------------------------------------------------\n",
      "Topic 14\n",
      "0.051\ttea\n",
      "0.034\thot\n",
      "0.026\tdrink\n",
      "0.019\tday\n",
      "0.018\tflavor\n",
      "0.018\tlove\n",
      "0.013\thelp\n",
      "0.013\tcold\n",
      "0.013\tcup\n",
      "0.012\twater\n",
      "--------------------------------------------------------------------------------\n",
      "Topic 15\n",
      "0.036\tfree\n",
      "0.018\tgluten\n",
      "0.016\tproduct\n",
      "0.015\tfood\n",
      "0.013\thealthy\n",
      "0.011\teat\n",
      "0.011\tcereal\n",
      "0.010\tingredient\n",
      "0.010\toatmeal\n",
      "0.010\tlove\n",
      "--------------------------------------------------------------------------------\n",
      "Topic 16\n",
      "0.181\ttea\n",
      "0.031\tbag\n",
      "0.029\tflavor\n",
      "0.019\tlike\n",
      "0.018\tfavorite\n",
      "0.015\tstrong\n",
      "0.014\tgreen\n",
      "0.013\ttaste\n",
      "0.010\tbox\n",
      "0.008\tblack\n",
      "--------------------------------------------------------------------------------\n",
      "Topic 17\n",
      "0.028\tbox\n",
      "0.022\treceived\n",
      "0.020\tproduct\n",
      "0.014\tpopcorn\n",
      "0.012\tbag\n",
      "0.011\tordered\n",
      "0.010\tstale\n",
      "0.010\tdid\n",
      "0.010\ttime\n",
      "0.010\thard\n",
      "--------------------------------------------------------------------------------\n",
      "Topic 18\n",
      "0.065\tlike\n",
      "0.055\ttaste\n",
      "0.036\tsugar\n",
      "0.026\tjust\n",
      "0.014\tdont\n",
      "0.013\tmilk\n",
      "0.012\tuse\n",
      "0.011\tsyrup\n",
      "0.010\tdoesnt\n",
      "0.010\tsweet\n",
      "--------------------------------------------------------------------------------\n",
      "Topic 19\n",
      "0.140\tbest\n",
      "0.102\tcoffee\n",
      "0.025\tive\n",
      "0.020\thoney\n",
      "0.016\tworth\n",
      "0.014\tfavorite\n",
      "0.014\tflavor\n",
      "0.013\ttried\n",
      "0.012\tbrand\n",
      "0.012\tprice\n"
     ]
    }
   ],
   "source": [
    "print(\"10 Top words for those topics in LDA model:\")\n",
    "counts_feature_names = vectorizer.get_feature_names() # count_vect = CountVectorizer()\n",
    "n_top_words = 10\n",
    "print_top_words(lda, counts_feature_names, n_top_words)"
   ]
  },
  {
   "cell_type": "markdown",
   "metadata": {},
   "source": [
    "#### 3.2.2.2 Recommender system based on customer's preference profile "
   ]
  },
  {
   "cell_type": "markdown",
   "metadata": {},
   "source": [
    "**Step 1**: select target customers for recommedation"
   ]
  },
  {
   "cell_type": "code",
   "execution_count": 51,
   "metadata": {},
   "outputs": [
    {
     "name": "stdout",
     "output_type": "stream",
     "text": [
      "===================================================================\n",
      "There are total 43650 reviewers in the dataset\n",
      "There are ONLY 2362 giving more than 2 reviews\n",
      "Target customer id: A2C7LMOT0SEBRK\n",
      "===================================================================\n"
     ]
    }
   ],
   "source": [
    "# total no. of reviwer\n",
    "reviewers_count = df_content['reviewerID'].value_counts()\n",
    "n_reviewers = reviewers_count.count()\n",
    "\n",
    "# get reviewers giving more than 20 reviewers\n",
    "n_giving = int(np.quantile(reviewers_count, 0.9))\n",
    "target_users = reviewers_count[reviewers_count > n_giving].index\n",
    "n_target_user = len(target_users)\n",
    "\n",
    "# target customer id\n",
    "user_id = target_users[0]\n",
    "user_id\n",
    "\n",
    "print(\"===================================================================\")\n",
    "print(f\"There are total {n_reviewers} reviewers in the dataset\")\n",
    "print(f\"There are ONLY {n_target_user} giving more than {n_giving} reviews\")\n",
    "print(f\"Target customer id:\",user_id)\n",
    "print(\"===================================================================\")"
   ]
  },
  {
   "cell_type": "markdown",
   "metadata": {},
   "source": [
    "**Step 2**: build target customer's profiles for recommedation"
   ]
  },
  {
   "cell_type": "code",
   "execution_count": 52,
   "metadata": {},
   "outputs": [],
   "source": [
    "def customer_profiles(df,user_id):\n",
    "    X = df[df.reviewerID==user_id].iloc[:,4:24].values\n",
    "    y = df[df.reviewerID==user_id].iloc[:,0].values\n",
    "    \n",
    "    lr_hyperparams = {'penalty':'l2', 'C':1000, 'solver':'lbfgs'}\n",
    "    lr = LogisticRegression(**lr_hyperparams) \n",
    "    profiles = lr.fit(X, y)\n",
    "    \n",
    "    print('===============================================')\n",
    "    print(f\"User: {user_id} giving {len(y)} reviews\")\n",
    "    print(f\"LogisticRegression Score:\",profiles.score(X, y))\n",
    "    print('===============================================')\n",
    "    print(\"Overall bias:\", profiles.intercept_[0])\n",
    "    \n",
    "    f = plt.figure(figsize=(10, 8))\n",
    "    plt.barh(df.iloc[:,4:24].columns.values, profiles.coef_[0] )\n",
    "    plt.xlabel(\"Coefficient for each topic\")\n",
    "    plt.title(f\"{user_id}  profiles preferences - based on topics in review text\")\n",
    "    plt.show()\n",
    "    return profiles"
   ]
  },
  {
   "cell_type": "code",
   "execution_count": 53,
   "metadata": {},
   "outputs": [
    {
     "name": "stdout",
     "output_type": "stream",
     "text": [
      "===============================================\n",
      "User: A2C7LMOT0SEBRK giving 23 reviews\n",
      "LogisticRegression Score: 1.0\n",
      "===============================================\n",
      "Overall bias: -1.1383858633378765\n"
     ]
    },
    {
     "data": {
      "image/png": "[encoded data removed]",
      "text/plain": [
       "<Figure size 720x576 with 1 Axes>"
      ]
     },
     "metadata": {},
     "output_type": "display_data"
    }
   ],
   "source": [
    "profiles = customer_profiles(df_content,user_id)"
   ]
  },
  {
   "cell_type": "markdown",
   "metadata": {},
   "source": [
    "**Step 3**: predict rating based on target customer's profile"
   ]
  },
  {
   "cell_type": "code",
   "execution_count": 54,
   "metadata": {},
   "outputs": [],
   "source": [
    "# predict all rows' rating \n",
    "X_all = df_content.iloc[:,4:24].values\n",
    "df_user_id = df_content.copy()\n",
    "\n",
    "def pred_ratings(df,profiles,X,user_id):\n",
    "    print('=====================================================')\n",
    "    print(f\"Predicted rating based on {user_id}'s profiles\")\n",
    "    print('=====================================================')\n",
    "    y_pred = profiles.predict(X)\n",
    "    df[\"pred_rating\"] = y_pred\n",
    "    return df"
   ]
  },
  {
   "cell_type": "code",
   "execution_count": 55,
   "metadata": {},
   "outputs": [
    {
     "name": "stdout",
     "output_type": "stream",
     "text": [
      "=====================================================\n",
      "Predicted rating based on A2C7LMOT0SEBRK's profiles\n",
      "=====================================================\n"
     ]
    },
    {
     "data": {
      "text/html": [
       "<div>\n",
       "<style scoped>\n",
       "    .dataframe tbody tr th:only-of-type {\n",
       "        vertical-align: middle;\n",
       "    }\n",
       "\n",
       "    .dataframe tbody tr th {\n",
       "        vertical-align: top;\n",
       "    }\n",
       "\n",
       "    .dataframe thead th {\n",
       "        text-align: right;\n",
       "    }\n",
       "</style>\n",
       "<table border=\"1\" class=\"dataframe\">\n",
       "  <thead>\n",
       "    <tr style=\"text-align: right;\">\n",
       "      <th></th>\n",
       "      <th>rating</th>\n",
       "      <th>reviewerID</th>\n",
       "      <th>productID</th>\n",
       "      <th>reviewText</th>\n",
       "      <th>LDA_topic0</th>\n",
       "      <th>LDA_topic1</th>\n",
       "      <th>LDA_topic2</th>\n",
       "      <th>LDA_topic3</th>\n",
       "      <th>LDA_topic4</th>\n",
       "      <th>LDA_topic5</th>\n",
       "      <th>...</th>\n",
       "      <th>LDA_topic11</th>\n",
       "      <th>LDA_topic12</th>\n",
       "      <th>LDA_topic13</th>\n",
       "      <th>LDA_topic14</th>\n",
       "      <th>LDA_topic15</th>\n",
       "      <th>LDA_topic16</th>\n",
       "      <th>LDA_topic17</th>\n",
       "      <th>LDA_topic18</th>\n",
       "      <th>LDA_topic19</th>\n",
       "      <th>pred_rating</th>\n",
       "    </tr>\n",
       "  </thead>\n",
       "  <tbody>\n",
       "    <tr>\n",
       "      <th>169</th>\n",
       "      <td>4</td>\n",
       "      <td>A20LEK2JTETFA4</td>\n",
       "      <td>4639725043</td>\n",
       "      <td>Works well in coffee maker</td>\n",
       "      <td>0.012500</td>\n",
       "      <td>0.012500</td>\n",
       "      <td>0.012500</td>\n",
       "      <td>0.012500</td>\n",
       "      <td>0.012500</td>\n",
       "      <td>0.012500</td>\n",
       "      <td>...</td>\n",
       "      <td>0.012500</td>\n",
       "      <td>0.262497</td>\n",
       "      <td>0.012500</td>\n",
       "      <td>0.012500</td>\n",
       "      <td>0.012500</td>\n",
       "      <td>0.012500</td>\n",
       "      <td>0.012500</td>\n",
       "      <td>0.012500</td>\n",
       "      <td>0.512503</td>\n",
       "      <td>5</td>\n",
       "    </tr>\n",
       "    <tr>\n",
       "      <th>170</th>\n",
       "      <td>5</td>\n",
       "      <td>A1G3KT0T83DBHK</td>\n",
       "      <td>4639725043</td>\n",
       "      <td>About 15 years ago I was visiting a friend in ...</td>\n",
       "      <td>0.001282</td>\n",
       "      <td>0.001282</td>\n",
       "      <td>0.001282</td>\n",
       "      <td>0.001282</td>\n",
       "      <td>0.001282</td>\n",
       "      <td>0.070515</td>\n",
       "      <td>...</td>\n",
       "      <td>0.001282</td>\n",
       "      <td>0.001282</td>\n",
       "      <td>0.113090</td>\n",
       "      <td>0.001282</td>\n",
       "      <td>0.001282</td>\n",
       "      <td>0.246607</td>\n",
       "      <td>0.069600</td>\n",
       "      <td>0.001282</td>\n",
       "      <td>0.001282</td>\n",
       "      <td>5</td>\n",
       "    </tr>\n",
       "    <tr>\n",
       "      <th>171</th>\n",
       "      <td>5</td>\n",
       "      <td>A2M5O0Z0B69JOK</td>\n",
       "      <td>4639725043</td>\n",
       "      <td>This tea is *very* strong  compared to other l...</td>\n",
       "      <td>0.003125</td>\n",
       "      <td>0.003125</td>\n",
       "      <td>0.003125</td>\n",
       "      <td>0.133329</td>\n",
       "      <td>0.003125</td>\n",
       "      <td>0.003125</td>\n",
       "      <td>...</td>\n",
       "      <td>0.003125</td>\n",
       "      <td>0.003125</td>\n",
       "      <td>0.003125</td>\n",
       "      <td>0.003125</td>\n",
       "      <td>0.003125</td>\n",
       "      <td>0.715104</td>\n",
       "      <td>0.003125</td>\n",
       "      <td>0.003125</td>\n",
       "      <td>0.003125</td>\n",
       "      <td>1</td>\n",
       "    </tr>\n",
       "  </tbody>\n",
       "</table>\n",
       "<p>3 rows × 25 columns</p>\n",
       "</div>"
      ],
      "text/plain": [
       "     rating      reviewerID   productID  \\\n",
       "169       4  A20LEK2JTETFA4  4639725043   \n",
       "170       5  A1G3KT0T83DBHK  4639725043   \n",
       "171       5  A2M5O0Z0B69JOK  4639725043   \n",
       "\n",
       "                                            reviewText  LDA_topic0  \\\n",
       "169                         Works well in coffee maker    0.012500   \n",
       "170  About 15 years ago I was visiting a friend in ...    0.001282   \n",
       "171  This tea is *very* strong  compared to other l...    0.003125   \n",
       "\n",
       "     LDA_topic1  LDA_topic2  LDA_topic3  LDA_topic4  LDA_topic5  ...  \\\n",
       "169    0.012500    0.012500    0.012500    0.012500    0.012500  ...   \n",
       "170    0.001282    0.001282    0.001282    0.001282    0.070515  ...   \n",
       "171    0.003125    0.003125    0.133329    0.003125    0.003125  ...   \n",
       "\n",
       "     LDA_topic11  LDA_topic12  LDA_topic13  LDA_topic14  LDA_topic15  \\\n",
       "169     0.012500     0.262497     0.012500     0.012500     0.012500   \n",
       "170     0.001282     0.001282     0.113090     0.001282     0.001282   \n",
       "171     0.003125     0.003125     0.003125     0.003125     0.003125   \n",
       "\n",
       "     LDA_topic16  LDA_topic17  LDA_topic18  LDA_topic19  pred_rating  \n",
       "169     0.012500     0.012500     0.012500     0.512503            5  \n",
       "170     0.246607     0.069600     0.001282     0.001282            5  \n",
       "171     0.715104     0.003125     0.003125     0.003125            1  \n",
       "\n",
       "[3 rows x 25 columns]"
      ]
     },
     "execution_count": 55,
     "metadata": {},
     "output_type": "execute_result"
    }
   ],
   "source": [
    "pred_df = pred_ratings(df_user_id,profiles,X_all,user_id)\n",
    "\n",
    "# predicted rating based on user_id's preferences\n",
    "productID_index= pred_df[pred_df.reviewerID == user_id].productID.value_counts().index\n",
    "recom_df = pred_df[ (pred_df.reviewerID != user_id) & (~pred_df.productID.isin(productID_index))]\n",
    "recom_df.head(3)"
   ]
  },
  {
   "cell_type": "markdown",
   "metadata": {},
   "source": [
    "**Step 4**: recommend products to target customer by predicting rating based on her/his profile"
   ]
  },
  {
   "cell_type": "code",
   "execution_count": 56,
   "metadata": {},
   "outputs": [
    {
     "name": "stdout",
     "output_type": "stream",
     "text": [
      "============================================================================================\n",
      "Products recommended to A2C7LMOT0SEBRK based on her/his reviews's profile with predicted rating\n",
      "============================================================================================\n"
     ]
    },
    {
     "data": {
      "text/plain": [
       "productID\n",
       "B000F4ET0I    5.0\n",
       "B000H1327A    5.0\n",
       "B000GZWDR2    5.0\n",
       "B000GZY8VG    5.0\n",
       "B000GZY942    5.0\n",
       "B000GZY94W    5.0\n",
       "B000GZY9DS    5.0\n",
       "B000GZYBIG    5.0\n",
       "B000H1195C    5.0\n",
       "B000RHUV6Y    5.0\n",
       "Name: pred_rating, dtype: float64"
      ]
     },
     "execution_count": 56,
     "metadata": {},
     "output_type": "execute_result"
    }
   ],
   "source": [
    "# mean rating of each non-bought product for user_id, based on predicted rating using user_id's preference\n",
    "print('============================================================================================')\n",
    "print(f\"Products recommended to {user_id} based on her/his reviews's profile with predicted rating\")\n",
    "print('============================================================================================')\n",
    "recom_df.groupby('productID').pred_rating.mean().sort_values(ascending=False)[0:10]"
   ]
  },
  {
   "cell_type": "markdown",
   "metadata": {},
   "source": [
    "### 3.2.3 Matrix factorization"
   ]
  },
  {
   "cell_type": "markdown",
   "metadata": {},
   "source": [
    "In matrix factorization techniques, we usually represent the rating matrix as a product of 3 other matrices:\n",
    "\n",
    "$$R = P\\Sigma Q^{T}$$\n",
    "\n",
    "The benefits of those techniques are that they can dramatically improve system performance by reducing the necessary amount of space. \n",
    "\n",
    "`surprise` is an easy-to-use Python package for recommender systems. Here we will use the famous Singular Value Decomposition [(SVD) algorithm](http://sifter.org/simon/journal/20061211.html). The document for this model in the Surprise page is [here](http://surprise.readthedocs.io/en/stable/matrix_factorization.html)"
   ]
  },
  {
   "cell_type": "markdown",
   "metadata": {},
   "source": [
    "First, let's create a dataframe in the format of \n",
    "```\n",
    "userID, movieID, rating\n",
    "```\n",
    "to preceed."
   ]
  },
  {
   "cell_type": "code",
   "execution_count": 57,
   "metadata": {},
   "outputs": [
    {
     "name": "stdout",
     "output_type": "stream",
     "text": [
      "============================\n",
      "The ratings describtion\n",
      "============================\n"
     ]
    },
    {
     "data": {
      "text/html": [
       "<div>\n",
       "<style scoped>\n",
       "    .dataframe tbody tr th:only-of-type {\n",
       "        vertical-align: middle;\n",
       "    }\n",
       "\n",
       "    .dataframe tbody tr th {\n",
       "        vertical-align: top;\n",
       "    }\n",
       "\n",
       "    .dataframe thead th {\n",
       "        text-align: right;\n",
       "    }\n",
       "</style>\n",
       "<table border=\"1\" class=\"dataframe\">\n",
       "  <thead>\n",
       "    <tr style=\"text-align: right;\">\n",
       "      <th></th>\n",
       "      <th>rating</th>\n",
       "    </tr>\n",
       "  </thead>\n",
       "  <tbody>\n",
       "    <tr>\n",
       "      <th>count</th>\n",
       "      <td>78886.000000</td>\n",
       "    </tr>\n",
       "    <tr>\n",
       "      <th>mean</th>\n",
       "      <td>4.510511</td>\n",
       "    </tr>\n",
       "    <tr>\n",
       "      <th>std</th>\n",
       "      <td>1.062682</td>\n",
       "    </tr>\n",
       "    <tr>\n",
       "      <th>min</th>\n",
       "      <td>1.000000</td>\n",
       "    </tr>\n",
       "    <tr>\n",
       "      <th>25%</th>\n",
       "      <td>5.000000</td>\n",
       "    </tr>\n",
       "    <tr>\n",
       "      <th>50%</th>\n",
       "      <td>5.000000</td>\n",
       "    </tr>\n",
       "    <tr>\n",
       "      <th>75%</th>\n",
       "      <td>5.000000</td>\n",
       "    </tr>\n",
       "    <tr>\n",
       "      <th>max</th>\n",
       "      <td>5.000000</td>\n",
       "    </tr>\n",
       "  </tbody>\n",
       "</table>\n",
       "</div>"
      ],
      "text/plain": [
       "             rating\n",
       "count  78886.000000\n",
       "mean       4.510511\n",
       "std        1.062682\n",
       "min        1.000000\n",
       "25%        5.000000\n",
       "50%        5.000000\n",
       "75%        5.000000\n",
       "max        5.000000"
      ]
     },
     "execution_count": 57,
     "metadata": {},
     "output_type": "execute_result"
    }
   ],
   "source": [
    "\"\"\" Here we used the same dataframe `df_item` as those in CF \"\"\"\n",
    "\n",
    "data = df_item.copy()\n",
    "user_ids, movie_ids, ratings = [], [], []\n",
    "\n",
    "for user_id, row in data.iterrows():\n",
    "    for movie_id in data.columns:\n",
    "        rating = row[movie_id]\n",
    "        if not np.isnan(rating):\n",
    "            user_ids.append(user_id)\n",
    "            movie_ids.append(movie_id)\n",
    "            ratings.append(rating)\n",
    "ratings_df = pd.DataFrame({'userID':user_ids, 'movieID':movie_ids, 'rating':ratings})\n",
    "ratings_df = ratings_df[['userID', 'movieID', 'rating']] # correct order\n",
    "\n",
    "print(\"============================\")\n",
    "print(\"The ratings describtion\")\n",
    "print(\"============================\")\n",
    "ratings_df.describe()"
   ]
  },
  {
   "cell_type": "markdown",
   "metadata": {},
   "source": [
    "Next, we create a dataset in the required format for the package of `surprise`. The rating scale should be specified in `Reader`, such as in our case, it is `(0.0,5.0)`"
   ]
  },
  {
   "cell_type": "code",
   "execution_count": 58,
   "metadata": {},
   "outputs": [],
   "source": [
    "reader = Reader(rating_scale=(0.0, 5.0))\n",
    "data_surprise = Dataset.load_from_df(ratings_df, reader)\n",
    "data_train_surprise = data_surprise.build_full_trainset() # use the whole training set "
   ]
  },
  {
   "cell_type": "markdown",
   "metadata": {},
   "source": [
    "Now we run the SVD algorithm."
   ]
  },
  {
   "cell_type": "code",
   "execution_count": 59,
   "metadata": {},
   "outputs": [
    {
     "data": {
      "text/plain": [
       "<surprise.prediction_algorithms.matrix_factorization.SVD at 0x1a277ddadc0>"
      ]
     },
     "execution_count": 59,
     "metadata": {},
     "output_type": "execute_result"
    }
   ],
   "source": [
    "n_factors = 15\n",
    "lr_all = 0.005 # default value\n",
    "reg_all = 0.02 # default value\n",
    "\n",
    "model_SVD = SVD(n_factors=n_factors, lr_all=lr_all, reg_all=reg_all)\n",
    "model_SVD.fit(data_train_surprise)"
   ]
  },
  {
   "cell_type": "markdown",
   "metadata": {},
   "source": [
    "Next, for this example, we make the top 5 predictions for a User, such as `user_id = data.index[0]`"
   ]
  },
  {
   "cell_type": "code",
   "execution_count": 60,
   "metadata": {},
   "outputs": [
    {
     "name": "stdout",
     "output_type": "stream",
     "text": [
      "=========================================================================================\n",
      "The top 5 predictions for user id of A1NEIH01B5X6QL using the matrix factorization technique\n",
      "=========================================================================================\n"
     ]
    },
    {
     "data": {
      "text/plain": [
       "[('B00CPZPYLS', 5.0),\n",
       " ('B008QMX2SG', 4.995163922659586),\n",
       " ('B00D3M2QP4', 4.985990996657806),\n",
       " ('B00BUKL666', 4.911395610476932),\n",
       " ('B00DS842HS', 4.874642387540755)]"
      ]
     },
     "execution_count": 60,
     "metadata": {},
     "output_type": "execute_result"
    }
   ],
   "source": [
    "user_id = data.index[0]\n",
    "# user_id = 'A2C7LMOT0SEBRK'\n",
    "\n",
    "missing_movies_ids = data[data.isna()].loc[user_id].index\n",
    "\n",
    "recommendations = []\n",
    "for movie_id in missing_movies_ids:\n",
    "    r = model_SVD.predict(user_id, movie_id, verbose=False).est\n",
    "    recommendations.append((movie_id, r))\n",
    "    \n",
    "recommendations.sort(reverse=True, key=lambda x: x[1])\n",
    "\n",
    "print(\"=========================================================================================\")\n",
    "print(f\"The top 5 predictions for user id of {user_id} using the matrix factorization technique\")\n",
    "print(\"=========================================================================================\")\n",
    "recommendations[:5]"
   ]
  },
  {
   "cell_type": "markdown",
   "metadata": {},
   "source": [
    "For the computational convenience, we used different recommendation algorithms for different users to demenstrate the ideas of recommendation system. You might notice that the recommendations to the same user could be quite different when using different algorithms. To estimate performance of the each approache, it is suggested to do train/test split (or cross-validation). But, we will skip this comparison here. "
   ]
  },
  {
   "cell_type": "markdown",
   "metadata": {},
   "source": [
    "## 3.3 SVD-based recommender system"
   ]
  },
  {
   "cell_type": "markdown",
   "metadata": {},
   "source": [
    "Finally, let's try to build a recommender system based on SVD and evaluate its performance against the common baselines. We will use the same data as before."
   ]
  },
  {
   "cell_type": "code",
   "execution_count": 321,
   "metadata": {},
   "outputs": [],
   "source": [
    "\"\"\" Here we used the same dataframe `df_item` as those in CF \"\"\"\n",
    "def df_ratings (df,Type):  # e.g. df_ratings(df_item,\"user\") df_ratings(df_user,\"item\")\n",
    "    data = df.copy()\n",
    "    users, items, ratings = [], [], []\n",
    "    for user, row in data.iterrows():\n",
    "        for item in data.columns:\n",
    "            rating = row[item]\n",
    "            if not np.isnan(rating):\n",
    "                users.append(user)\n",
    "                items.append(item)\n",
    "                ratings.append(rating)\n",
    "    ratings_df = pd.DataFrame({'user':users, 'item':items, 'rating':ratings})\n",
    "    ratings_df = ratings_df[['user', 'item', 'rating']] # correct order\n",
    "    \n",
    "    count = ratings_df[Type].value_counts()\n",
    "    target= count[count > 2].index\n",
    "    ratings_df = ratings_df[ ratings_df[Type].isin(target) ].reset_index(drop=True) \n",
    "    return ratings_df"
   ]
  },
  {
   "cell_type": "markdown",
   "metadata": {},
   "source": [
    "We decided to use `df_item` dataframe for SVD algoritm as it has 26309 rows, as shown below."
   ]
  },
  {
   "cell_type": "code",
   "execution_count": 322,
   "metadata": {},
   "outputs": [],
   "source": [
    "ratings_df = df_ratings(df_item,\"user\")\n",
    "# ratings_df = df_ratings(df_user,\"item\")"
   ]
  },
  {
   "cell_type": "code",
   "execution_count": 323,
   "metadata": {},
   "outputs": [
    {
     "data": {
      "text/html": [
       "<div>\n",
       "<style scoped>\n",
       "    .dataframe tbody tr th:only-of-type {\n",
       "        vertical-align: middle;\n",
       "    }\n",
       "\n",
       "    .dataframe tbody tr th {\n",
       "        vertical-align: top;\n",
       "    }\n",
       "\n",
       "    .dataframe thead th {\n",
       "        text-align: right;\n",
       "    }\n",
       "</style>\n",
       "<table border=\"1\" class=\"dataframe\">\n",
       "  <thead>\n",
       "    <tr style=\"text-align: right;\">\n",
       "      <th></th>\n",
       "      <th>user</th>\n",
       "      <th>item</th>\n",
       "      <th>rating</th>\n",
       "    </tr>\n",
       "  </thead>\n",
       "  <tbody>\n",
       "    <tr>\n",
       "      <th>0</th>\n",
       "      <td>A1NEIH01B5X6QL</td>\n",
       "      <td>B00BUKL666</td>\n",
       "      <td>5.0</td>\n",
       "    </tr>\n",
       "    <tr>\n",
       "      <th>1</th>\n",
       "      <td>A1NEIH01B5X6QL</td>\n",
       "      <td>B008QMX2SG</td>\n",
       "      <td>5.0</td>\n",
       "    </tr>\n",
       "    <tr>\n",
       "      <th>2</th>\n",
       "      <td>A1NEIH01B5X6QL</td>\n",
       "      <td>B00D3M2QP4</td>\n",
       "      <td>5.0</td>\n",
       "    </tr>\n",
       "    <tr>\n",
       "      <th>3</th>\n",
       "      <td>A1NEIH01B5X6QL</td>\n",
       "      <td>B01E5XTW24</td>\n",
       "      <td>5.0</td>\n",
       "    </tr>\n",
       "    <tr>\n",
       "      <th>4</th>\n",
       "      <td>A1NEIH01B5X6QL</td>\n",
       "      <td>B000EVMNMI</td>\n",
       "      <td>5.0</td>\n",
       "    </tr>\n",
       "    <tr>\n",
       "      <th>...</th>\n",
       "      <td>...</td>\n",
       "      <td>...</td>\n",
       "      <td>...</td>\n",
       "    </tr>\n",
       "    <tr>\n",
       "      <th>26304</th>\n",
       "      <td>A3QHEPJER3W35V</td>\n",
       "      <td>B008QMX2SG</td>\n",
       "      <td>5.0</td>\n",
       "    </tr>\n",
       "    <tr>\n",
       "      <th>26305</th>\n",
       "      <td>A3QHEPJER3W35V</td>\n",
       "      <td>B00D3M2QP4</td>\n",
       "      <td>5.0</td>\n",
       "    </tr>\n",
       "    <tr>\n",
       "      <th>26306</th>\n",
       "      <td>A3RNNT3FENRN72</td>\n",
       "      <td>B00BUKL666</td>\n",
       "      <td>5.0</td>\n",
       "    </tr>\n",
       "    <tr>\n",
       "      <th>26307</th>\n",
       "      <td>A3RNNT3FENRN72</td>\n",
       "      <td>B008QMX2SG</td>\n",
       "      <td>5.0</td>\n",
       "    </tr>\n",
       "    <tr>\n",
       "      <th>26308</th>\n",
       "      <td>A3RNNT3FENRN72</td>\n",
       "      <td>B00D3M2QP4</td>\n",
       "      <td>5.0</td>\n",
       "    </tr>\n",
       "  </tbody>\n",
       "</table>\n",
       "<p>26309 rows × 3 columns</p>\n",
       "</div>"
      ],
      "text/plain": [
       "                 user        item  rating\n",
       "0      A1NEIH01B5X6QL  B00BUKL666     5.0\n",
       "1      A1NEIH01B5X6QL  B008QMX2SG     5.0\n",
       "2      A1NEIH01B5X6QL  B00D3M2QP4     5.0\n",
       "3      A1NEIH01B5X6QL  B01E5XTW24     5.0\n",
       "4      A1NEIH01B5X6QL  B000EVMNMI     5.0\n",
       "...               ...         ...     ...\n",
       "26304  A3QHEPJER3W35V  B008QMX2SG     5.0\n",
       "26305  A3QHEPJER3W35V  B00D3M2QP4     5.0\n",
       "26306  A3RNNT3FENRN72  B00BUKL666     5.0\n",
       "26307  A3RNNT3FENRN72  B008QMX2SG     5.0\n",
       "26308  A3RNNT3FENRN72  B00D3M2QP4     5.0\n",
       "\n",
       "[26309 rows x 3 columns]"
      ]
     },
     "execution_count": 323,
     "metadata": {},
     "output_type": "execute_result"
    }
   ],
   "source": [
    "ratings_df"
   ]
  },
  {
   "cell_type": "markdown",
   "metadata": {},
   "source": [
    "### 3.3.1 Data and Train/test split"
   ]
  },
  {
   "cell_type": "markdown",
   "metadata": {},
   "source": [
    "We use 70%/% 30 train/test split. "
   ]
  },
  {
   "cell_type": "code",
   "execution_count": 324,
   "metadata": {},
   "outputs": [
    {
     "name": "stdout",
     "output_type": "stream",
     "text": [
      "No. of items in total and training dataset: 11 11\n",
      "No. of users in total and training dataset:  8640 8640\n",
      "Training dataset: 0.7\n",
      "Testing dataset: 0.3\n"
     ]
    }
   ],
   "source": [
    "def train_indx(ratings_df,Type): # train_ind(ratings_df,\"item\") in case of using the df_user\n",
    "    train_ind, test_ind = [], []\n",
    "    for idx in ratings_df[Type].unique():\n",
    "        rows = ratings_df[ratings_df[Type] == idx]\n",
    "        ind = rows.index[:1].values.tolist()\n",
    "        train_ind += ind\n",
    "    return train_ind, test_ind\n",
    "\n",
    "# train_ind, test_ind = train_indx(ratings_df,\"item\") # user-based dataset\n",
    "train_ind, test_ind = train_indx(ratings_df,\"user\") # item-based dataset\n",
    "\n",
    "c = 0.7 # only valid when the c is larger than b \n",
    "b = len(train_ind) / len(ratings_df)\n",
    "a = (c - b) / (1 - b)\n",
    "\n",
    "all_ind = set(range(len(ratings_df)))\n",
    "not_used = list(all_ind - set(train_ind))\n",
    "not_done = True\n",
    "np.random.seed(42)\n",
    "while not_done==True:\n",
    "    np.random.shuffle(not_used)\n",
    "    train_ind_ = train_ind + not_used[:int(a * len(not_used))]\n",
    "    df_train = ratings_df.loc[train_ind_]\n",
    "    print(\"No. of items in total and training dataset:\",ratings_df.nunique()['item'], df_train.nunique()['item'])\n",
    "    print(\"No. of users in total and training dataset: \",ratings_df.nunique()['user'], df_train.nunique()['user'])\n",
    "    if ratings_df.nunique()['item'] == df_train.nunique()['item'] and ratings_df.nunique()['user'] == df_train.nunique()['user']:\n",
    "        not_done = False\n",
    "        train_ind = train_ind_\n",
    "test_ind = list(all_ind - set(train_ind))\n",
    "train_ind = sorted(train_ind)\n",
    "test_ind = sorted(test_ind)\n",
    "print(\"Training dataset:\", str(round(len(train_ind)/len(all_ind),3)))\n",
    "print(\"Testing dataset:\", str(round(len(test_ind)/len(all_ind),3)))\n",
    "np.savetxt('data/data_train.csv', train_ind, fmt=\"%d\")\n",
    "np.savetxt('data/data_test.csv', test_ind, fmt=\"%d\")"
   ]
  },
  {
   "cell_type": "code",
   "execution_count": 325,
   "metadata": {},
   "outputs": [],
   "source": [
    "# loading the pre-computed indices\n",
    "train_ind = np.loadtxt('data/data_train.csv', dtype=int)\n",
    "test_ind = np.loadtxt('data/data_test.csv', dtype=int)"
   ]
  },
  {
   "cell_type": "code",
   "execution_count": 326,
   "metadata": {},
   "outputs": [
    {
     "name": "stdout",
     "output_type": "stream",
     "text": [
      "number of training samples: 18416\n",
      "number of test samples: 7893\n"
     ]
    }
   ],
   "source": [
    "print(\"number of training samples:\", train_ind.shape[0])\n",
    "print(\"number of test samples:\", test_ind.shape[0])"
   ]
  },
  {
   "cell_type": "code",
   "execution_count": 327,
   "metadata": {},
   "outputs": [],
   "source": [
    "df_train = ratings_df.iloc[train_ind]\n",
    "df_test = ratings_df.iloc[test_ind]"
   ]
  },
  {
   "cell_type": "markdown",
   "metadata": {},
   "source": [
    "### 3.3.2 Baselines <font color=red> How to interprate the results </font>"
   ]
  },
  {
   "cell_type": "markdown",
   "metadata": {},
   "source": [
    "We use 4 baseline models:\n",
    "1. Global mean\n",
    "2. User's mean\n",
    "3. Item's mean\n",
    "4. Global + deviation of user + deviation of the item\n",
    "\n",
    "We estimate each of above baseline model on the training set and calculate RMSE on the test set. Also, we made boxplots for the visualization of the predictions. "
   ]
  },
  {
   "cell_type": "code",
   "execution_count": 328,
   "metadata": {},
   "outputs": [],
   "source": [
    "def RMSE(y_true, y_pred):\n",
    "    return np.linalg.norm(y_true - y_pred) / np.sqrt(len(y_true))"
   ]
  },
  {
   "cell_type": "code",
   "execution_count": 329,
   "metadata": {},
   "outputs": [],
   "source": [
    "# A plotter to make boxplot\n",
    "def MakeBoxplot(y_true, y_pred, title):\n",
    "    data = [y_pred[y_true == (x*0.5+0.5)] for x in range(10)]\n",
    "    fig = plt.figure(figsize=(5, 5))\n",
    "    plt.boxplot(data)\n",
    "    min_a, max_a = 0., 5.5\n",
    "    plt.xlim((min_a, max_a))\n",
    "    plt.ylim((min_a, max_a))\n",
    "    plt.plot([min_a, max_a * 2], [min_a, max_a], ls='--', color='gray', linewidth=1.0)\n",
    "    plt.xticks(range(12), [x*0.5 for x in range(12)])\n",
    "    plt.xlabel('True Rating')\n",
    "    plt.ylabel('Predicted Rating')\n",
    "    plt.title(title)\n",
    "    plt.show()"
   ]
  },
  {
   "cell_type": "code",
   "execution_count": 330,
   "metadata": {},
   "outputs": [],
   "source": [
    "y_true = df_test['rating'].values"
   ]
  },
  {
   "cell_type": "markdown",
   "metadata": {},
   "source": [
    "**1. Baseline: Global mean**"
   ]
  },
  {
   "cell_type": "code",
   "execution_count": 331,
   "metadata": {},
   "outputs": [
    {
     "name": "stdout",
     "output_type": "stream",
     "text": [
      "global_mean = 4.521023126887593\n",
      "RMSE = 1.0407326620996171\n"
     ]
    },
    {
     "data": {
      "image/png": "[encoded data removed]",
      "text/plain": [
       "<Figure size 360x360 with 1 Axes>"
      ]
     },
     "metadata": {},
     "output_type": "display_data"
    }
   ],
   "source": [
    "# global mean\n",
    "global_mean = df_train['rating'].mean()\n",
    "print(\"global_mean =\", global_mean)\n",
    "# prediction\n",
    "y_pred = []\n",
    "for i, row in df_test.iterrows(): \n",
    "    y_pred.append(global_mean)\n",
    "y_pred = np.array(y_pred)\n",
    "y_pred = np.clip(y_pred, 0.5, 5.0)\n",
    "\n",
    "# performance\n",
    "error = RMSE(y_true, y_pred)\n",
    "print(\"RMSE =\", error)\n",
    "MakeBoxplot(y_true, y_pred, 'Test Set')"
   ]
  },
  {
   "cell_type": "markdown",
   "metadata": {},
   "source": [
    "**2. Baseline: User's mean**"
   ]
  },
  {
   "cell_type": "code",
   "execution_count": 332,
   "metadata": {},
   "outputs": [
    {
     "name": "stdout",
     "output_type": "stream",
     "text": [
      "RMSE = 0.22784911525306994\n"
     ]
    },
    {
     "data": {
      "image/png": "[encoded data removed]",
      "text/plain": [
       "<Figure size 360x360 with 1 Axes>"
      ]
     },
     "metadata": {},
     "output_type": "display_data"
    }
   ],
   "source": [
    "# user mean\n",
    "user_mean = df_train.groupby('user')['rating'].mean()\n",
    "# prediction\n",
    "y_pred = []\n",
    "for i, row in df_test.iterrows():\n",
    "    y_pred.append(user_mean[row['user']])\n",
    "y_pred = np.array(y_pred)\n",
    "y_pred = np.clip(y_pred, 0.5, 5.0)\n",
    "# performance\n",
    "error = RMSE(y_true, y_pred)\n",
    "print(\"RMSE =\", error)\n",
    "MakeBoxplot(y_true, y_pred, 'Test Set')"
   ]
  },
  {
   "cell_type": "markdown",
   "metadata": {},
   "source": [
    "**3. Baseline: Item's mean**"
   ]
  },
  {
   "cell_type": "code",
   "execution_count": 333,
   "metadata": {},
   "outputs": [
    {
     "name": "stdout",
     "output_type": "stream",
     "text": [
      "RMSE = 1.0403453654785006\n"
     ]
    },
    {
     "data": {
      "image/png": "[encoded data removed]",
      "text/plain": [
       "<Figure size 360x360 with 1 Axes>"
      ]
     },
     "metadata": {},
     "output_type": "display_data"
    }
   ],
   "source": [
    "# item mean\n",
    "item_mean = df_train.groupby('item')['rating'].mean()\n",
    "# prediction\n",
    "y_pred = []\n",
    "for i, row in df_test.iterrows():\n",
    "    y_pred.append(item_mean[row['item']])\n",
    "y_pred = np.array(y_pred)\n",
    "y_pred = np.clip(y_pred, 0.5, 5.0)\n",
    "# performance\n",
    "error = RMSE(y_true, y_pred)\n",
    "print(\"RMSE =\", error)\n",
    "MakeBoxplot(y_true, y_pred, 'Test Set')"
   ]
  },
  {
   "cell_type": "markdown",
   "metadata": {},
   "source": [
    "**4. Baseline: Global + deviation of user + deviation of the item**"
   ]
  },
  {
   "cell_type": "code",
   "execution_count": 334,
   "metadata": {},
   "outputs": [
    {
     "name": "stdout",
     "output_type": "stream",
     "text": [
      "RMSE = 0.22613024324999695\n"
     ]
    },
    {
     "data": {
      "image/png": "[encoded data removed]",
      "text/plain": [
       "<Figure size 360x360 with 1 Axes>"
      ]
     },
     "metadata": {},
     "output_type": "display_data"
    }
   ],
   "source": [
    "# Combined model\n",
    "# prediction\n",
    "y_pred = []\n",
    "for i, row in df_test.iterrows():\n",
    "    r = user_mean[row['user']] + item_mean[row['item']] - global_mean\n",
    "    y_pred.append(r)\n",
    "y_pred = np.array(y_pred)\n",
    "y_pred = np.clip(y_pred, 0.5, 5.0)\n",
    "# performance\n",
    "error = RMSE(y_true, y_pred)\n",
    "print(\"RMSE =\", error)\n",
    "MakeBoxplot(y_true, y_pred, 'Test Set')"
   ]
  },
  {
   "cell_type": "markdown",
   "metadata": {},
   "source": [
    "### 3.3.3 Trying to beat the baselines with SVD "
   ]
  },
  {
   "cell_type": "markdown",
   "metadata": {},
   "source": [
    "Here, we try to beat the baselines with SVD. Note, that SVD has many hyperparameters, where the number of factors (`n_factors`) and regularization strength (`reg_all`) are the most important. But, we also try to tune the factors of `n_epochs`, and `lr_all`, as shown below."
   ]
  },
  {
   "cell_type": "code",
   "execution_count": 342,
   "metadata": {},
   "outputs": [],
   "source": [
    "reader = Reader(rating_scale=(0.0, 5.0))\n",
    "data_surprise = Dataset.load_from_df(df_train, reader)"
   ]
  },
  {
   "cell_type": "code",
   "execution_count": 351,
   "metadata": {},
   "outputs": [
    {
     "name": "stdout",
     "output_type": "stream",
     "text": [
      "0.577678201623055\n",
      "{'n_epochs': 60, 'lr_all': 0.05, 'reg_all': 0.01, 'n_factors': 50}\n"
     ]
    }
   ],
   "source": [
    "param_grid = {\n",
    "    'n_epochs': [60], \n",
    "    'lr_all': [0.005, 0.05],\n",
    "    'reg_all': [0.01, 0.1], # key \n",
    "    'n_factors': [10, 25, 50], # key\n",
    "#     'biased': [True, False]\n",
    "}\n",
    "\n",
    "gs = GridSearchCV(SVD, param_grid, measures=['rmse', 'mae'], cv=3)\n",
    "\n",
    "gs.fit(data_surprise)\n",
    "\n",
    "# best RMSE score\n",
    "print(gs.best_score['rmse'])\n",
    "\n",
    "# combination of parameters that gave the best RMSE score\n",
    "print(gs.best_params['rmse'])"
   ]
  },
  {
   "cell_type": "code",
   "execution_count": 352,
   "metadata": {},
   "outputs": [
    {
     "data": {
      "text/plain": [
       "<surprise.prediction_algorithms.matrix_factorization.SVD at 0x1a27f67cac0>"
      ]
     },
     "execution_count": 352,
     "metadata": {},
     "output_type": "execute_result"
    }
   ],
   "source": [
    "# We can now use the algorithm that yields the best rmse:\n",
    "model = gs.best_estimator['rmse']\n",
    "model.fit(data_surprise.build_full_trainset())"
   ]
  },
  {
   "cell_type": "code",
   "execution_count": 353,
   "metadata": {},
   "outputs": [],
   "source": [
    "user_ids_true = df_test['user'].values\n",
    "movie_ids_true = df_test['item'].values"
   ]
  },
  {
   "cell_type": "code",
   "execution_count": 354,
   "metadata": {},
   "outputs": [
    {
     "name": "stdout",
     "output_type": "stream",
     "text": [
      "RMSE = 0.17471916324279607\n"
     ]
    },
    {
     "data": {
      "image/png": "[encoded data removed]",
      "text/plain": [
       "<Figure size 360x360 with 1 Axes>"
      ]
     },
     "metadata": {},
     "output_type": "display_data"
    }
   ],
   "source": [
    "y_pred = []\n",
    "for user_id, movie_id in zip(user_ids_true, movie_ids_true):\n",
    "    r = model.predict(user_id, movie_id, verbose=False).est\n",
    "    y_pred.append(r)\n",
    "y_pred = np.array(y_pred)\n",
    "# performance\n",
    "error = RMSE(y_true, y_pred)\n",
    "print(\"RMSE =\", error)\n",
    "MakeBoxplot(y_true, y_pred, 'Test Set')"
   ]
  }
 ],
 "metadata": {
  "deepnote": {
   "is_reactive": true
  },
  "deepnote_execution_queue": [],
  "deepnote_notebook_id": "10327788-a7ad-41c4-a1a5-b31e5b964e17",
  "hide_input": false,
  "kernelspec": {
   "display_name": "Python 3",
   "language": "python",
   "name": "python3"
  },
  "language_info": {
   "codemirror_mode": {
    "name": "ipython",
    "version": 3
   },
   "file_extension": ".py",
   "mimetype": "text/x-python",
   "name": "python",
   "nbconvert_exporter": "python",
   "pygments_lexer": "ipython3",
   "version": "3.8.8"
  },
  "toc": {
   "base_numbering": 1,
   "nav_menu": {},
   "number_sections": true,
   "sideBar": true,
   "skip_h1_title": false,
   "title_cell": "Table of Contents",
   "title_sidebar": "Contents",
   "toc_cell": false,
   "toc_position": {},
   "toc_section_display": true,
   "toc_window_display": true
  }
 },
 "nbformat": 4,
 "nbformat_minor": 4
}
