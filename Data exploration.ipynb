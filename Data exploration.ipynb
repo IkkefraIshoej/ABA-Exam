{
 "cells": [
  {
   "cell_type": "markdown",
   "id": "685d966f",
   "metadata": {},
   "source": [
    "## Part 2: Data Preparation"
   ]
  },
  {
   "cell_type": "code",
   "execution_count": 1,
   "id": "76b914f6",
   "metadata": {},
   "outputs": [],
   "source": [
    "#data analysis libraries \n",
    "import numpy as np\n",
    "import pandas as pd\n",
    "pd.options.mode.chained_assignment = None\n",
    "\n",
    "from pandas_profiling import ProfileReport\n",
    "\n",
    "#visualization libraries\n",
    "import matplotlib.pyplot as plt\n",
    "import seaborn as sns\n",
    "plt.rcParams['figure.figsize'] = (18, 8)\n",
    "sns.set_theme()\n",
    "from ipywidgets import interact\n",
    "\n",
    "%matplotlib inline"
   ]
  },
  {
   "cell_type": "markdown",
   "id": "45f4a070",
   "metadata": {},
   "source": [
    "### 2.1: Load and present basic information of the dataset "
   ]
  },
  {
   "cell_type": "code",
   "execution_count": 2,
   "id": "f2373254",
   "metadata": {},
   "outputs": [
    {
     "data": {
      "text/html": [
       "<div>\n",
       "<style scoped>\n",
       "    .dataframe tbody tr th:only-of-type {\n",
       "        vertical-align: middle;\n",
       "    }\n",
       "\n",
       "    .dataframe tbody tr th {\n",
       "        vertical-align: top;\n",
       "    }\n",
       "\n",
       "    .dataframe thead th {\n",
       "        text-align: right;\n",
       "    }\n",
       "</style>\n",
       "<table border=\"1\" class=\"dataframe\">\n",
       "  <thead>\n",
       "    <tr style=\"text-align: right;\">\n",
       "      <th></th>\n",
       "      <th>0</th>\n",
       "      <th>1</th>\n",
       "      <th>2</th>\n",
       "      <th>3</th>\n",
       "      <th>4</th>\n",
       "    </tr>\n",
       "  </thead>\n",
       "  <tbody>\n",
       "    <tr>\n",
       "      <th>overall</th>\n",
       "      <td>5</td>\n",
       "      <td>4</td>\n",
       "      <td>4</td>\n",
       "      <td>5</td>\n",
       "      <td>4</td>\n",
       "    </tr>\n",
       "    <tr>\n",
       "      <th>verified</th>\n",
       "      <td>True</td>\n",
       "      <td>True</td>\n",
       "      <td>True</td>\n",
       "      <td>True</td>\n",
       "      <td>True</td>\n",
       "    </tr>\n",
       "    <tr>\n",
       "      <th>reviewTime</th>\n",
       "      <td>06 4, 2013</td>\n",
       "      <td>05 23, 2014</td>\n",
       "      <td>05 9, 2014</td>\n",
       "      <td>04 20, 2014</td>\n",
       "      <td>04 16, 2014</td>\n",
       "    </tr>\n",
       "    <tr>\n",
       "      <th>reviewerID</th>\n",
       "      <td>ALP49FBWT4I7V</td>\n",
       "      <td>A1KPIZOCLB9FZ8</td>\n",
       "      <td>A2W0FA06IYAYQE</td>\n",
       "      <td>A2PTZTCH2QUYBC</td>\n",
       "      <td>A2VNHGJ59N4Z90</td>\n",
       "    </tr>\n",
       "    <tr>\n",
       "      <th>asin</th>\n",
       "      <td>1888861614</td>\n",
       "      <td>1888861614</td>\n",
       "      <td>1888861614</td>\n",
       "      <td>1888861614</td>\n",
       "      <td>1888861614</td>\n",
       "    </tr>\n",
       "    <tr>\n",
       "      <th>reviewerName</th>\n",
       "      <td>Lori</td>\n",
       "      <td>BK Shopper</td>\n",
       "      <td>daninethequeen</td>\n",
       "      <td>Tammara</td>\n",
       "      <td>LaQuinta Alexander</td>\n",
       "    </tr>\n",
       "    <tr>\n",
       "      <th>reviewText</th>\n",
       "      <td>Very pleased with my purchase. Looks exactly l...</td>\n",
       "      <td>Very nicely crafted but too small. Am going to...</td>\n",
       "      <td>still very pretty and well made...i am super p...</td>\n",
       "      <td>I got this for our wedding cake, and it was ev...</td>\n",
       "      <td>It was just what I want to put at the top of m...</td>\n",
       "    </tr>\n",
       "    <tr>\n",
       "      <th>summary</th>\n",
       "      <td>Love it</td>\n",
       "      <td>Nice but small</td>\n",
       "      <td>the \"s\" looks like a 5, kina</td>\n",
       "      <td>Would recommend this to a friend!</td>\n",
       "      <td>Topper</td>\n",
       "    </tr>\n",
       "    <tr>\n",
       "      <th>unixReviewTime</th>\n",
       "      <td>1370304000</td>\n",
       "      <td>1400803200</td>\n",
       "      <td>1399593600</td>\n",
       "      <td>1397952000</td>\n",
       "      <td>1397606400</td>\n",
       "    </tr>\n",
       "    <tr>\n",
       "      <th>vote</th>\n",
       "      <td>NaN</td>\n",
       "      <td>NaN</td>\n",
       "      <td>NaN</td>\n",
       "      <td>NaN</td>\n",
       "      <td>NaN</td>\n",
       "    </tr>\n",
       "    <tr>\n",
       "      <th>image</th>\n",
       "      <td>NaN</td>\n",
       "      <td>NaN</td>\n",
       "      <td>NaN</td>\n",
       "      <td>NaN</td>\n",
       "      <td>NaN</td>\n",
       "    </tr>\n",
       "    <tr>\n",
       "      <th>style</th>\n",
       "      <td>NaN</td>\n",
       "      <td>NaN</td>\n",
       "      <td>NaN</td>\n",
       "      <td>NaN</td>\n",
       "      <td>NaN</td>\n",
       "    </tr>\n",
       "  </tbody>\n",
       "</table>\n",
       "</div>"
      ],
      "text/plain": [
       "                                                                0  \\\n",
       "overall                                                         5   \n",
       "verified                                                     True   \n",
       "reviewTime                                             06 4, 2013   \n",
       "reviewerID                                          ALP49FBWT4I7V   \n",
       "asin                                                   1888861614   \n",
       "reviewerName                                                 Lori   \n",
       "reviewText      Very pleased with my purchase. Looks exactly l...   \n",
       "summary                                                   Love it   \n",
       "unixReviewTime                                         1370304000   \n",
       "vote                                                          NaN   \n",
       "image                                                         NaN   \n",
       "style                                                         NaN   \n",
       "\n",
       "                                                                1  \\\n",
       "overall                                                         4   \n",
       "verified                                                     True   \n",
       "reviewTime                                            05 23, 2014   \n",
       "reviewerID                                         A1KPIZOCLB9FZ8   \n",
       "asin                                                   1888861614   \n",
       "reviewerName                                           BK Shopper   \n",
       "reviewText      Very nicely crafted but too small. Am going to...   \n",
       "summary                                            Nice but small   \n",
       "unixReviewTime                                         1400803200   \n",
       "vote                                                          NaN   \n",
       "image                                                         NaN   \n",
       "style                                                         NaN   \n",
       "\n",
       "                                                                2  \\\n",
       "overall                                                         4   \n",
       "verified                                                     True   \n",
       "reviewTime                                             05 9, 2014   \n",
       "reviewerID                                         A2W0FA06IYAYQE   \n",
       "asin                                                   1888861614   \n",
       "reviewerName                                       daninethequeen   \n",
       "reviewText      still very pretty and well made...i am super p...   \n",
       "summary                              the \"s\" looks like a 5, kina   \n",
       "unixReviewTime                                         1399593600   \n",
       "vote                                                          NaN   \n",
       "image                                                         NaN   \n",
       "style                                                         NaN   \n",
       "\n",
       "                                                                3  \\\n",
       "overall                                                         5   \n",
       "verified                                                     True   \n",
       "reviewTime                                            04 20, 2014   \n",
       "reviewerID                                         A2PTZTCH2QUYBC   \n",
       "asin                                                   1888861614   \n",
       "reviewerName                                              Tammara   \n",
       "reviewText      I got this for our wedding cake, and it was ev...   \n",
       "summary                         Would recommend this to a friend!   \n",
       "unixReviewTime                                         1397952000   \n",
       "vote                                                          NaN   \n",
       "image                                                         NaN   \n",
       "style                                                         NaN   \n",
       "\n",
       "                                                                4  \n",
       "overall                                                         4  \n",
       "verified                                                     True  \n",
       "reviewTime                                            04 16, 2014  \n",
       "reviewerID                                         A2VNHGJ59N4Z90  \n",
       "asin                                                   1888861614  \n",
       "reviewerName                                   LaQuinta Alexander  \n",
       "reviewText      It was just what I want to put at the top of m...  \n",
       "summary                                                    Topper  \n",
       "unixReviewTime                                         1397606400  \n",
       "vote                                                          NaN  \n",
       "image                                                         NaN  \n",
       "style                                                         NaN  "
      ]
     },
     "execution_count": 2,
     "metadata": {},
     "output_type": "execute_result"
    }
   ],
   "source": [
    "df= pd.read_json('Grocery_and_Gourmet_Food.json', lines=True)\n",
    "df.head().T"
   ]
  },
  {
   "cell_type": "code",
   "execution_count": 3,
   "id": "5424ad5b",
   "metadata": {},
   "outputs": [
    {
     "name": "stdout",
     "output_type": "stream",
     "text": [
      "<class 'pandas.core.frame.DataFrame'>\n",
      "RangeIndex: 5074160 entries, 0 to 5074159\n",
      "Data columns (total 12 columns):\n",
      " #   Column          Dtype \n",
      "---  ------          ----- \n",
      " 0   overall         int64 \n",
      " 1   verified        bool  \n",
      " 2   reviewTime      object\n",
      " 3   reviewerID      object\n",
      " 4   asin            object\n",
      " 5   reviewerName    object\n",
      " 6   reviewText      object\n",
      " 7   summary         object\n",
      " 8   unixReviewTime  int64 \n",
      " 9   vote            object\n",
      " 10  image           object\n",
      " 11  style           object\n",
      "dtypes: bool(1), int64(2), object(9)\n",
      "memory usage: 430.7+ MB\n"
     ]
    }
   ],
   "source": [
    "# NOTE `.info()` cannot show the `Non-Null Count` column if the data size is too large \n",
    "df.info()"
   ]
  },
  {
   "cell_type": "code",
   "execution_count": 4,
   "id": "ad9508fd",
   "metadata": {},
   "outputs": [
    {
     "data": {
      "text/plain": [
       "overall                 0\n",
       "verified                0\n",
       "reviewTime              0\n",
       "reviewerID              0\n",
       "asin                    0\n",
       "reviewerName          355\n",
       "reviewText           2883\n",
       "summary              1327\n",
       "unixReviewTime          0\n",
       "vote              4414688\n",
       "image             5003225\n",
       "style             2798836\n",
       "dtype: int64"
      ]
     },
     "execution_count": 4,
     "metadata": {},
     "output_type": "execute_result"
    }
   ],
   "source": [
    "# Count Missing Values filled with `NaN` in DataFrame\n",
    "df.isnull().sum()"
   ]
  },
  {
   "cell_type": "markdown",
   "id": "1ac842fd",
   "metadata": {},
   "source": [
    "The dataset has __5,074,160 observations and 12 features columns__. 1 of the features is of datatype bool, 2 is of type int64s and 9 are objects. From the `df.isnull().sum()` column we can see quite a few feature columns contain missing values, this will be handled in the next section. "
   ]
  },
  {
   "cell_type": "markdown",
   "id": "93ae51dd",
   "metadata": {},
   "source": [
    "### Review year visulization"
   ]
  },
  {
   "cell_type": "code",
   "execution_count": 56,
   "id": "aa957338",
   "metadata": {},
   "outputs": [],
   "source": [
    "df1 = df.copy()"
   ]
  },
  {
   "cell_type": "code",
   "execution_count": 57,
   "id": "e335b895",
   "metadata": {},
   "outputs": [],
   "source": [
    "# convert `reviewTime` into DataTime and \n",
    "# get the year, month, and date information\n",
    "df1['DateTime'] = pd.to_datetime(df1['reviewTime'])\n",
    "df1['review_year'] = df1['DateTime'].dt.year\n",
    "df1['review_month'] = df1['DateTime'].dt.month\n",
    "df1['review_date'] = df1['DateTime'].dt.date\n",
    "\n",
    "# drop `DateTime`, `reviewTime`, and `unixReviewTime`\n",
    "df1 = df1.drop(columns=['DateTime','reviewTime','unixReviewTime'])"
   ]
  },
  {
   "cell_type": "code",
   "execution_count": 58,
   "id": "d4021020",
   "metadata": {},
   "outputs": [
    {
     "data": {
      "text/html": [
       "<div>\n",
       "<style scoped>\n",
       "    .dataframe tbody tr th:only-of-type {\n",
       "        vertical-align: middle;\n",
       "    }\n",
       "\n",
       "    .dataframe tbody tr th {\n",
       "        vertical-align: top;\n",
       "    }\n",
       "\n",
       "    .dataframe thead th {\n",
       "        text-align: right;\n",
       "    }\n",
       "</style>\n",
       "<table border=\"1\" class=\"dataframe\">\n",
       "  <thead>\n",
       "    <tr style=\"text-align: right;\">\n",
       "      <th></th>\n",
       "      <th>overall</th>\n",
       "      <th>verified</th>\n",
       "      <th>reviewerID</th>\n",
       "      <th>asin</th>\n",
       "      <th>reviewerName</th>\n",
       "      <th>reviewText</th>\n",
       "      <th>summary</th>\n",
       "      <th>vote</th>\n",
       "      <th>image</th>\n",
       "      <th>style</th>\n",
       "      <th>review_year</th>\n",
       "      <th>review_month</th>\n",
       "      <th>review_date</th>\n",
       "    </tr>\n",
       "  </thead>\n",
       "  <tbody>\n",
       "    <tr>\n",
       "      <th>0</th>\n",
       "      <td>5</td>\n",
       "      <td>True</td>\n",
       "      <td>ALP49FBWT4I7V</td>\n",
       "      <td>1888861614</td>\n",
       "      <td>Lori</td>\n",
       "      <td>Very pleased with my purchase. Looks exactly l...</td>\n",
       "      <td>Love it</td>\n",
       "      <td>NaN</td>\n",
       "      <td>NaN</td>\n",
       "      <td>NaN</td>\n",
       "      <td>2013</td>\n",
       "      <td>6</td>\n",
       "      <td>2013-06-04</td>\n",
       "    </tr>\n",
       "  </tbody>\n",
       "</table>\n",
       "</div>"
      ],
      "text/plain": [
       "   overall  verified     reviewerID        asin reviewerName  \\\n",
       "0        5      True  ALP49FBWT4I7V  1888861614         Lori   \n",
       "\n",
       "                                          reviewText  summary vote image  \\\n",
       "0  Very pleased with my purchase. Looks exactly l...  Love it  NaN   NaN   \n",
       "\n",
       "  style  review_year  review_month review_date  \n",
       "0   NaN         2013             6  2013-06-04  "
      ]
     },
     "execution_count": 58,
     "metadata": {},
     "output_type": "execute_result"
    }
   ],
   "source": [
    "df1.head(1)"
   ]
  },
  {
   "cell_type": "code",
   "execution_count": 107,
   "id": "c46b5d6e",
   "metadata": {
    "scrolled": false
   },
   "outputs": [
    {
     "data": {
      "image/png": "[encoded data removed]",
      "text/plain": [
       "<Figure size 1296x576 with 1 Axes>"
      ]
     },
     "metadata": {
      "needs_background": "light"
     },
     "output_type": "display_data"
    }
   ],
   "source": [
    "# plot review numbers for each year\n",
    "plt.rcParams['figure.figsize'] = (18, 8)\n",
    "sns.histplot(data=df1, x=\"review_year\", shrink=25)\n",
    "plt.show()"
   ]
  },
  {
   "cell_type": "code",
   "execution_count": 59,
   "id": "686775c3",
   "metadata": {},
   "outputs": [
    {
     "data": {
      "text/plain": [
       "2016    1115973\n",
       "2017    1016760\n",
       "2015     967538\n",
       "2014     627657\n",
       "2018     593405\n",
       "2013     371483\n",
       "2012     149791\n",
       "2011      88599\n",
       "2010      53756\n",
       "2009      39578\n",
       "2008      25541\n",
       "2007      17881\n",
       "2006       4967\n",
       "2005        818\n",
       "2004        297\n",
       "2003         95\n",
       "2002         14\n",
       "2001          4\n",
       "2000          3\n",
       "Name: review_year, dtype: int64"
      ]
     },
     "execution_count": 59,
     "metadata": {},
     "output_type": "execute_result"
    }
   ],
   "source": [
    "# count review numbers for each year\n",
    "df1.review_year.value_counts()"
   ]
  },
  {
   "cell_type": "code",
   "execution_count": 110,
   "id": "9d73d12e",
   "metadata": {},
   "outputs": [
    {
     "name": "stdout",
     "output_type": "stream",
     "text": [
      "The percentage of number of reviews droping from year 2016 in year 2017\n"
     ]
    },
    {
     "data": {
      "text/plain": [
       "0.08890268850590471"
      ]
     },
     "execution_count": 110,
     "metadata": {},
     "output_type": "execute_result"
    }
   ],
   "source": [
    "print(\"The percentage of number of reviews droping from year 2016 in year 2017\")\n",
    "abs ( len (df1[df1.review_year==2017]) - len (df1[df1.review_year==2016])) / len (df1[df1.review_year==2016])"
   ]
  },
  {
   "cell_type": "code",
   "execution_count": 106,
   "id": "e8ae6f54",
   "metadata": {},
   "outputs": [
    {
     "data": {
      "text/plain": [
       "3     101260\n",
       "1      96818\n",
       "4      94802\n",
       "2      90609\n",
       "5      78227\n",
       "6      60734\n",
       "7      41051\n",
       "8      22458\n",
       "9       7361\n",
       "10        85\n",
       "Name: review_month, dtype: int64"
      ]
     },
     "execution_count": 106,
     "metadata": {},
     "output_type": "execute_result"
    }
   ],
   "source": [
    "df1[df1.review_year==2018].review_month.value_counts()"
   ]
  },
  {
   "cell_type": "markdown",
   "id": "be53b941",
   "metadata": {},
   "source": [
    "**Bascially, the number of reviews increase with the year, except the year of 2017, where it drops about 8.9% from year 2016. What's more, from the review year of 2018 (see above), we can see that there are missing data for the months of 10, 11, and 12.**"
   ]
  },
  {
   "cell_type": "markdown",
   "id": "e7226a12",
   "metadata": {},
   "source": [
    "### Review vote visulization"
   ]
  },
  {
   "cell_type": "code",
   "execution_count": 72,
   "id": "c11fdc8a",
   "metadata": {},
   "outputs": [],
   "source": [
    "df2 = df1.copy()"
   ]
  },
  {
   "cell_type": "code",
   "execution_count": 74,
   "id": "fe30ac91",
   "metadata": {
    "scrolled": true
   },
   "outputs": [],
   "source": [
    "# convert `vote` from `obj` to `str`, \n",
    "# replace `NaN` with 0\n",
    "# convert to `int`\n",
    "df2['vote'] = df2['vote'].str.replace(',', '').replace(np.nan, 0).astype(int)"
   ]
  },
  {
   "cell_type": "code",
   "execution_count": 76,
   "id": "8a0433e5",
   "metadata": {},
   "outputs": [
    {
     "data": {
      "text/html": [
       "<div>\n",
       "<style scoped>\n",
       "    .dataframe tbody tr th:only-of-type {\n",
       "        vertical-align: middle;\n",
       "    }\n",
       "\n",
       "    .dataframe tbody tr th {\n",
       "        vertical-align: top;\n",
       "    }\n",
       "\n",
       "    .dataframe thead th {\n",
       "        text-align: right;\n",
       "    }\n",
       "</style>\n",
       "<table border=\"1\" class=\"dataframe\">\n",
       "  <thead>\n",
       "    <tr style=\"text-align: right;\">\n",
       "      <th></th>\n",
       "      <th>overall</th>\n",
       "      <th>vote</th>\n",
       "      <th>review_year</th>\n",
       "      <th>review_month</th>\n",
       "    </tr>\n",
       "  </thead>\n",
       "  <tbody>\n",
       "    <tr>\n",
       "      <th>count</th>\n",
       "      <td>5.074160e+06</td>\n",
       "      <td>5.074160e+06</td>\n",
       "      <td>5.074160e+06</td>\n",
       "      <td>5.074160e+06</td>\n",
       "    </tr>\n",
       "    <tr>\n",
       "      <th>mean</th>\n",
       "      <td>4.314708e+00</td>\n",
       "      <td>8.295479e-01</td>\n",
       "      <td>2.015368e+03</td>\n",
       "      <td>6.199218e+00</td>\n",
       "    </tr>\n",
       "    <tr>\n",
       "      <th>std</th>\n",
       "      <td>1.249303e+00</td>\n",
       "      <td>1.206719e+01</td>\n",
       "      <td>2.005883e+00</td>\n",
       "      <td>3.505158e+00</td>\n",
       "    </tr>\n",
       "    <tr>\n",
       "      <th>min</th>\n",
       "      <td>1.000000e+00</td>\n",
       "      <td>0.000000e+00</td>\n",
       "      <td>2.000000e+03</td>\n",
       "      <td>1.000000e+00</td>\n",
       "    </tr>\n",
       "    <tr>\n",
       "      <th>25%</th>\n",
       "      <td>4.000000e+00</td>\n",
       "      <td>0.000000e+00</td>\n",
       "      <td>2.014000e+03</td>\n",
       "      <td>3.000000e+00</td>\n",
       "    </tr>\n",
       "    <tr>\n",
       "      <th>50%</th>\n",
       "      <td>5.000000e+00</td>\n",
       "      <td>0.000000e+00</td>\n",
       "      <td>2.016000e+03</td>\n",
       "      <td>6.000000e+00</td>\n",
       "    </tr>\n",
       "    <tr>\n",
       "      <th>75%</th>\n",
       "      <td>5.000000e+00</td>\n",
       "      <td>0.000000e+00</td>\n",
       "      <td>2.017000e+03</td>\n",
       "      <td>9.000000e+00</td>\n",
       "    </tr>\n",
       "    <tr>\n",
       "      <th>max</th>\n",
       "      <td>5.000000e+00</td>\n",
       "      <td>1.217400e+04</td>\n",
       "      <td>2.018000e+03</td>\n",
       "      <td>1.200000e+01</td>\n",
       "    </tr>\n",
       "  </tbody>\n",
       "</table>\n",
       "</div>"
      ],
      "text/plain": [
       "            overall          vote   review_year  review_month\n",
       "count  5.074160e+06  5.074160e+06  5.074160e+06  5.074160e+06\n",
       "mean   4.314708e+00  8.295479e-01  2.015368e+03  6.199218e+00\n",
       "std    1.249303e+00  1.206719e+01  2.005883e+00  3.505158e+00\n",
       "min    1.000000e+00  0.000000e+00  2.000000e+03  1.000000e+00\n",
       "25%    4.000000e+00  0.000000e+00  2.014000e+03  3.000000e+00\n",
       "50%    5.000000e+00  0.000000e+00  2.016000e+03  6.000000e+00\n",
       "75%    5.000000e+00  0.000000e+00  2.017000e+03  9.000000e+00\n",
       "max    5.000000e+00  1.217400e+04  2.018000e+03  1.200000e+01"
      ]
     },
     "execution_count": 76,
     "metadata": {},
     "output_type": "execute_result"
    }
   ],
   "source": [
    "df2.describe()"
   ]
  },
  {
   "cell_type": "code",
   "execution_count": 77,
   "id": "d2455a62",
   "metadata": {},
   "outputs": [
    {
     "data": {
      "text/plain": [
       "0.8700332665899381"
      ]
     },
     "execution_count": 77,
     "metadata": {},
     "output_type": "execute_result"
    }
   ],
   "source": [
    "len(df2[df2['vote']==0])/len(df2)"
   ]
  },
  {
   "cell_type": "markdown",
   "id": "f49a6c75",
   "metadata": {},
   "source": [
    "**From above `vote` colum, we can see that there is big gap between minimum and maximum value of vote: one is 0, the other is 12,174. This means there are some outliers in the vote, which need to remove in the data clearning to precede data model. In addition, 87% reviews have 0 vote, which might indicate most of reviews are not helpful.**\n",
    "\n",
    "* <font color ='red'> make a table to summary the number of vote and percentage shown below </font>\n",
    "* <font color ='red'> make a pie chart to summary the number of vote and percentage shown below </font>\n",
    "* <font color ='red'> word cloud to show the review with vote than more 1000, what do you oberve? </font>"
   ]
  },
  {
   "cell_type": "code",
   "execution_count": 95,
   "id": "003f7e87",
   "metadata": {},
   "outputs": [
    {
     "name": "stdout",
     "output_type": "stream",
     "text": [
      "Number of reviews vote >= 1000: 68\n"
     ]
    },
    {
     "data": {
      "text/plain": [
       "1.3401232913428035e-05"
      ]
     },
     "execution_count": 95,
     "metadata": {},
     "output_type": "execute_result"
    }
   ],
   "source": [
    "print(\"Number of reviews vote >= 1000:\",len(df2[df2['vote']>=1000]))\n",
    "len(df2[df2['vote']>1000])/len(df2)"
   ]
  },
  {
   "cell_type": "code",
   "execution_count": 96,
   "id": "bffec2e0",
   "metadata": {},
   "outputs": [
    {
     "name": "stdout",
     "output_type": "stream",
     "text": [
      "500 < reviews vote < 1000: 117\n"
     ]
    },
    {
     "data": {
      "text/plain": [
       "2.305800368928059e-05"
      ]
     },
     "execution_count": 96,
     "metadata": {},
     "output_type": "execute_result"
    }
   ],
   "source": [
    "print(\"500 < reviews vote < 1000:\",len(df2[ (df2['vote']>500) & (df2['vote']<1000)]))\n",
    "len(df2[ (df2['vote']>500) & (df2['vote']<1000)]) / len(df2)"
   ]
  },
  {
   "cell_type": "code",
   "execution_count": 98,
   "id": "5ce585fb",
   "metadata": {},
   "outputs": [
    {
     "name": "stdout",
     "output_type": "stream",
     "text": [
      "250 < reviews vote < 500: 419\n"
     ]
    },
    {
     "data": {
      "text/plain": [
       "8.25752439812698e-05"
      ]
     },
     "execution_count": 98,
     "metadata": {},
     "output_type": "execute_result"
    }
   ],
   "source": [
    "print(\"250 < reviews vote < 500:\",len(df2[ (df2['vote']>250) & (df2['vote']<500)]))\n",
    "len(df2[ (df2['vote']>250) & (df2['vote']<500)]) / len(df2)"
   ]
  },
  {
   "cell_type": "code",
   "execution_count": 99,
   "id": "b347002d",
   "metadata": {},
   "outputs": [
    {
     "name": "stdout",
     "output_type": "stream",
     "text": [
      "100 < reviews vote < 250: 1994\n"
     ]
    },
    {
     "data": {
      "text/plain": [
       "0.0003929714474908162"
      ]
     },
     "execution_count": 99,
     "metadata": {},
     "output_type": "execute_result"
    }
   ],
   "source": [
    "print(\"100 < reviews vote < 250:\",len(df2[ (df2['vote']>100) & (df2['vote']<250)]))\n",
    "len(df2[ (df2['vote']>100) & (df2['vote']<250)]) / len(df2)"
   ]
  },
  {
   "cell_type": "code",
   "execution_count": 100,
   "id": "f8f5a430",
   "metadata": {},
   "outputs": [
    {
     "name": "stdout",
     "output_type": "stream",
     "text": [
      "0 < reviews vote < 100: 656832\n"
     ]
    },
    {
     "data": {
      "text/plain": [
       "0.12944645024989357"
      ]
     },
     "execution_count": 100,
     "metadata": {},
     "output_type": "execute_result"
    }
   ],
   "source": [
    "print(\"0 < reviews vote < 100:\",len(df2[ (df2['vote']>0) & (df2['vote']<100)]))\n",
    "len(df2[ (df2['vote']>0) & (df2['vote']<100)]) / len(df2)"
   ]
  },
  {
   "cell_type": "code",
   "execution_count": 83,
   "id": "805b3031",
   "metadata": {},
   "outputs": [
    {
     "data": {
      "text/plain": [
       "<AxesSubplot:ylabel='vote'>"
      ]
     },
     "execution_count": 83,
     "metadata": {},
     "output_type": "execute_result"
    },
    {
     "data": {
      "image/png": "[encoded data removed]",
      "text/plain": [
       "<Figure size 1296x576 with 1 Axes>"
      ]
     },
     "metadata": {},
     "output_type": "display_data"
    }
   ],
   "source": [
    "df2[(df2['vote']>0) & (df2['vote']<100) ].vote.value_counts().plot(kind='pie',autopct='%1.0f%%')"
   ]
  },
  {
   "cell_type": "code",
   "execution_count": null,
   "id": "3ad734ec",
   "metadata": {},
   "outputs": [],
   "source": [
    "df.vote.sort_values(ascending=False)"
   ]
  },
  {
   "cell_type": "markdown",
   "id": "a3d6221d",
   "metadata": {},
   "source": [
    "### Review verified visualization\n",
    "* Plot the dist of overall score for verified and non-verified review"
   ]
  },
  {
   "cell_type": "code",
   "execution_count": null,
   "id": "b37cd323",
   "metadata": {},
   "outputs": [],
   "source": [
    "profile = ProfileReport(df, title=\"The Amazon reveiw dataset\", html={'style': {'full_width': True}})\n",
    "profile.to_notebook_iframe()"
   ]
  },
  {
   "cell_type": "code",
   "execution_count": null,
   "id": "997f441d",
   "metadata": {},
   "outputs": [],
   "source": [
    "print(df[df.vote=='12174'].reviewText.values[0])"
   ]
  },
  {
   "cell_type": "code",
   "execution_count": null,
   "id": "25e82f0b",
   "metadata": {},
   "outputs": [],
   "source": [
    "df[df.vote=='12174']"
   ]
  },
  {
   "cell_type": "code",
   "execution_count": null,
   "id": "75f3e7ba",
   "metadata": {},
   "outputs": [],
   "source": [
    "# df.drop(columns=['unixReviewTime'])"
   ]
  },
  {
   "cell_type": "code",
   "execution_count": null,
   "id": "c0de4f2d",
   "metadata": {},
   "outputs": [],
   "source": [
    "df.head(3)"
   ]
  },
  {
   "cell_type": "code",
   "execution_count": null,
   "id": "8dc76f57",
   "metadata": {},
   "outputs": [],
   "source": [
    "df['DateTime'] = pd.to_datetime(df['reviewTime'])"
   ]
  },
  {
   "cell_type": "code",
   "execution_count": null,
   "id": "078bc44c",
   "metadata": {},
   "outputs": [],
   "source": [
    "df['year'] = df['DateTime'].dt.year\n",
    "df['month'] = df['DateTime'].dt.month"
   ]
  },
  {
   "cell_type": "code",
   "execution_count": null,
   "id": "e021be25",
   "metadata": {},
   "outputs": [],
   "source": [
    "df.verified.value_counts()"
   ]
  },
  {
   "cell_type": "code",
   "execution_count": null,
   "id": "23787c22",
   "metadata": {},
   "outputs": [],
   "source": [
    "df[df.verified==False].year.value_counts()"
   ]
  },
  {
   "cell_type": "code",
   "execution_count": null,
   "id": "892a5042",
   "metadata": {},
   "outputs": [],
   "source": [
    "## create pandas profiler output \n",
    "profile = ProfileReport(df, title=\"The Amazon Grocery and Gourmet Food review dataset\", html={'style': {'full_width': True}})\n",
    "profile.to_notebook_iframe()"
   ]
  },
  {
   "cell_type": "code",
   "execution_count": null,
   "id": "704cf383",
   "metadata": {},
   "outputs": [],
   "source": []
  }
 ],
 "metadata": {
  "kernelspec": {
   "display_name": "Python 3",
   "language": "python",
   "name": "python3"
  },
  "language_info": {
   "codemirror_mode": {
    "name": "ipython",
    "version": 3
   },
   "file_extension": ".py",
   "mimetype": "text/x-python",
   "name": "python",
   "nbconvert_exporter": "python",
   "pygments_lexer": "ipython3",
   "version": "3.8.8"
  },
  "toc": {
   "base_numbering": 1,
   "nav_menu": {},
   "number_sections": true,
   "sideBar": true,
   "skip_h1_title": false,
   "title_cell": "Table of Contents",
   "title_sidebar": "Contents",
   "toc_cell": false,
   "toc_position": {},
   "toc_section_display": true,
   "toc_window_display": true
  }
 },
 "nbformat": 4,
 "nbformat_minor": 5
}
