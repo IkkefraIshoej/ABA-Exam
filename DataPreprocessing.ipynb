{
 "cells": [
  {
   "cell_type": "markdown",
   "id": "32126d13",
   "metadata": {},
   "source": [
    "# Preparation #"
   ]
  },
  {
   "cell_type": "code",
   "execution_count": 3,
   "id": "e39030c0",
   "metadata": {},
   "outputs": [],
   "source": [
    "import warnings\n",
    "warnings.filterwarnings(\"ignore\")\n",
    "import pandas as pd\n",
    "import numpy as np\n",
    "import re\n",
    "from datetime import datetime\n",
    "import matplotlib.pyplot as plt\n",
    "import seaborn as sns\n",
    "from sklearn import metrics, preprocessing\n",
    "from tensorflow.keras import models, layers, utils\n",
    "dfs=pd.read_csv(\"preprocessed.csv\")\n",
    "dfs=dfs.iloc[:,3:]\n",
    "from vaderSentiment.vaderSentiment import SentimentIntensityAnalyzer\n",
    "# Keep copy of original data\n",
    "dfor=dfs.copy()"
   ]
  },
  {
   "cell_type": "markdown",
   "id": "e479a342",
   "metadata": {},
   "source": [
    "## Drop duplicates ##"
   ]
  },
  {
   "cell_type": "code",
   "execution_count": 4,
   "id": "23e2ba05",
   "metadata": {},
   "outputs": [],
   "source": [
    "dfs=dfs[~dfs[['reviewerID', 'asin']].duplicated()]"
   ]
  },
  {
   "cell_type": "markdown",
   "id": "0b613c72",
   "metadata": {},
   "source": [
    "## Recode 'bottomcat' ##"
   ]
  },
  {
   "cell_type": "code",
   "execution_count": 5,
   "id": "a3e2eb45",
   "metadata": {},
   "outputs": [],
   "source": [
    "counts=dfs.groupby('bottomcat').count()['overall']\n",
    "counts=counts[counts>40]\n",
    "dfs['bottomcat_other']=[i if i in counts else 'other' for i in dfs['bottomcat']]"
   ]
  },
  {
   "cell_type": "markdown",
   "id": "653ee049",
   "metadata": {},
   "source": [
    "## Discretize rating ##"
   ]
  },
  {
   "cell_type": "code",
   "execution_count": 6,
   "id": "9a1df59a",
   "metadata": {},
   "outputs": [],
   "source": [
    "dfs['disc_rating']=(dfs['overall']>4).astype(int)"
   ]
  },
  {
   "cell_type": "markdown",
   "id": "f435286a",
   "metadata": {},
   "source": [
    "## Use only users that have given more than 4 reviews ##"
   ]
  },
  {
   "cell_type": "code",
   "execution_count": 7,
   "id": "d4b1eab4",
   "metadata": {},
   "outputs": [],
   "source": [
    "mask=dfs.groupby('reviewerID').count()['asin']\n",
    "mask=mask[mask>4]\n",
    "dfs=dfs[dfs['reviewerID'].isin(mask.index)]"
   ]
  },
  {
   "cell_type": "markdown",
   "id": "51132fc7",
   "metadata": {},
   "source": [
    "## Recode nan-votes to zero ##"
   ]
  },
  {
   "cell_type": "code",
   "execution_count": 8,
   "id": "fbbd9130",
   "metadata": {},
   "outputs": [],
   "source": [
    "dfs['vote']=dfs['vote'].fillna(0)"
   ]
  },
  {
   "cell_type": "markdown",
   "id": "e3a4b3e4",
   "metadata": {},
   "source": [
    "## Re-enumerate user and product ids ##"
   ]
  },
  {
   "cell_type": "code",
   "execution_count": 9,
   "id": "6df3d481",
   "metadata": {},
   "outputs": [],
   "source": [
    "dfs['reviewerID'], list_userids=pd.factorize(dfs['reviewerID'])\n",
    "dfs['asin'], list_itemids=pd.factorize(dfs['asin'])"
   ]
  },
  {
   "cell_type": "markdown",
   "id": "955145d6",
   "metadata": {},
   "source": [
    "## Make pivot-table user X product ratings DF ##"
   ]
  },
  {
   "cell_type": "code",
   "execution_count": 10,
   "id": "3c8e9d71",
   "metadata": {},
   "outputs": [],
   "source": [
    "df_cf=dfs.pivot_table(index=\"reviewerID\", columns=\"asin\", values=\"overall\")"
   ]
  },
  {
   "cell_type": "markdown",
   "id": "0386e46f",
   "metadata": {},
   "source": [
    "## Recode verified ##"
   ]
  },
  {
   "cell_type": "code",
   "execution_count": 11,
   "id": "b07fa01a",
   "metadata": {},
   "outputs": [],
   "source": [
    "dfs.loc[dfs['verified']=='SAND', 'verified']=1\n",
    "dfs.loc[dfs['verified']=='FALSK', 'verified']=0"
   ]
  },
  {
   "cell_type": "markdown",
   "id": "74915a1d",
   "metadata": {},
   "source": [
    "## Merge unixReviewTime ##"
   ]
  },
  {
   "cell_type": "code",
   "execution_count": 12,
   "id": "f581ef66",
   "metadata": {},
   "outputs": [],
   "source": [
    "df4=pd.read_csv('merged_df.csv')\n",
    "dfs=dfs.join(df4['unixReviewTime'])"
   ]
  },
  {
   "cell_type": "markdown",
   "id": "446ac61a",
   "metadata": {},
   "source": [
    "## Text preprocessing ##"
   ]
  },
  {
   "cell_type": "code",
   "execution_count": 13,
   "id": "e5c3c2ec",
   "metadata": {},
   "outputs": [
    {
     "name": "stderr",
     "output_type": "stream",
     "text": [
      "[nltk_data] Downloading package wordnet to\n",
      "[nltk_data]     C:\\Users\\Frede\\AppData\\Roaming\\nltk_data...\n",
      "[nltk_data]   Package wordnet is already up-to-date!\n",
      "[nltk_data] Downloading package punkt to\n",
      "[nltk_data]     C:\\Users\\Frede\\AppData\\Roaming\\nltk_data...\n",
      "[nltk_data]   Package punkt is already up-to-date!\n"
     ]
    }
   ],
   "source": [
    "from sklearn.feature_extraction import _stop_words\n",
    "import string\n",
    "import nltk\n",
    "nltk.download('wordnet')\n",
    "nltk.download('punkt')\n",
    "from nltk.stem import WordNetLemmatizer\n",
    "lemmatizer = WordNetLemmatizer()\n",
    "Stop_Words= _stop_words.ENGLISH_STOP_WORDS"
   ]
  },
  {
   "cell_type": "code",
   "execution_count": 14,
   "id": "bb033188",
   "metadata": {},
   "outputs": [],
   "source": [
    "def text_processing(text):\n",
    "    # remove punctuation \n",
    "    text = \"\".join([c for c in text \n",
    "                    if c not in string.punctuation])\n",
    "    # lowercase\n",
    "    text = \"\".join([c.lower() for c in text])\n",
    "    # remove stopwords\n",
    "    text = \" \".join([w for w in text.split() \n",
    "                     if w not in Stop_Words])\n",
    "    # stemming / lematizing (optional)\n",
    "    text = \" \".join([lemmatizer.lemmatize(w) for w in text.split()])\n",
    "    return text"
   ]
  },
  {
   "cell_type": "code",
   "execution_count": 15,
   "id": "4e653547",
   "metadata": {},
   "outputs": [],
   "source": [
    "dfs['reviewText_cleaned'] = dfs['reviewText'].apply(text_processing)"
   ]
  },
  {
   "cell_type": "markdown",
   "id": "640e90f8-4b14-4259-96eb-3b11ba86d4a8",
   "metadata": {},
   "source": [
    "## Sentiment analysis ##"
   ]
  },
  {
   "cell_type": "code",
   "execution_count": 16,
   "id": "7712bc55-28fd-459f-8ff6-275503bbfb60",
   "metadata": {},
   "outputs": [],
   "source": [
    "sid_obj = SentimentIntensityAnalyzer()\n",
    "\n",
    "dfs['compound'] = [sid_obj.polarity_scores(x)['compound'] for x in dfs['reviewText_cleaned']]\n",
    "dfs['neg'] = [sid_obj.polarity_scores(x)['neg'] for x in dfs['reviewText_cleaned']]\n",
    "dfs['neu'] = [sid_obj.polarity_scores(x)['neu'] for x in dfs['reviewText_cleaned']]\n",
    "dfs['pos'] = [sid_obj.polarity_scores(x)['pos'] for x in dfs['reviewText_cleaned']]"
   ]
  },
  {
   "cell_type": "markdown",
   "id": "8f13d026",
   "metadata": {},
   "source": [
    "## Train/test split ##"
   ]
  },
  {
   "cell_type": "code",
   "execution_count": 17,
   "id": "cfc0dd12",
   "metadata": {},
   "outputs": [],
   "source": [
    "# Split data, keep 20% for testing.\n",
    "split = int(0.8*df_cf.shape[1])\n",
    "df_train = df_cf.iloc[:, :split-1]\n",
    "df_test = df_cf.iloc[:, split:]"
   ]
  },
  {
   "cell_type": "markdown",
   "id": "75154103",
   "metadata": {},
   "source": [
    "## Stacked ##"
   ]
  },
  {
   "cell_type": "code",
   "execution_count": 18,
   "id": "dbce7067",
   "metadata": {},
   "outputs": [],
   "source": [
    "# Convert to stacked format\n",
    "train = df_train.stack(dropna=True).reset_index().rename(columns={0:\"overall\"})\n",
    "train.columns=['user', 'product', 'overall']\n",
    "test = df_test.stack(dropna=True).reset_index().rename(columns={0:\"overall\"})\n",
    "test.columns=['user', 'product', 'overall']"
   ]
  },
  {
   "cell_type": "markdown",
   "id": "cfd1c8fc",
   "metadata": {},
   "source": [
    "## Get dummies ##"
   ]
  },
  {
   "cell_type": "code",
   "execution_count": 19,
   "id": "3ba375b9",
   "metadata": {},
   "outputs": [],
   "source": [
    "dummy_df=pd.get_dummies(dfs, columns=['bottomcat_other'], drop_first=True)\n",
    "dummy_df['product']=dummy_df['asin']\n",
    "dummy_df['user']=dummy_df['reviewerID']\n",
    "merger_df=dummy_df.drop(columns=['overall', 'asin', 'reviewerID', 'summary', 'reviewTime', 'style', 'bottomcat'\n",
    "                                 , 'main_cat', 'day', 'month', 'year', 'season'])"
   ]
  },
  {
   "cell_type": "code",
   "execution_count": 20,
   "id": "1a29052b",
   "metadata": {},
   "outputs": [],
   "source": [
    "trainf=train.merge(merger_df, how = 'inner', on = ['product', 'user'])\n",
    "testf=test.merge(merger_df, how = 'inner', on = ['product', 'user'])"
   ]
  },
  {
   "cell_type": "markdown",
   "id": "34d27e0f",
   "metadata": {},
   "source": [
    "# Standardize continuous features"
   ]
  },
  {
   "cell_type": "code",
   "execution_count": 23,
   "id": "e382abe0",
   "metadata": {},
   "outputs": [
    {
     "data": {
      "text/plain": [
       "(10, 2)"
      ]
     },
     "execution_count": 23,
     "metadata": {},
     "output_type": "execute_result"
    }
   ],
   "source": [
    "np.zeros((10,2)).shape"
   ]
  },
  {
   "cell_type": "code",
   "execution_count": 24,
   "id": "30f403e8",
   "metadata": {},
   "outputs": [],
   "source": [
    "continuous = ['vote', 'price', 'review_length']\n",
    "#to_be_standardized\n",
    "means_sds_for_standardizing = np.zeros((len(continuous),2))\n",
    "a=0\n",
    "for i in continuous:\n",
    "    meantr=np.nanmean(trainf.loc[:, i])\n",
    "    stdtr=np.nanstd(trainf.loc[:, i])\n",
    "    means_sds_for_standardizing[a,0]=meantr\n",
    "    means_sds_for_standardizing[a,1]=stdtr\n",
    "    a+=1\n",
    "    trainf.loc[:,i]=(trainf.loc[:,i]-meantr)/stdtr\n",
    "    testf.loc[:,i]=(testf.loc[:,i]-meantr)/stdtr"
   ]
  },
  {
   "cell_type": "markdown",
   "id": "1213e503",
   "metadata": {},
   "source": [
    "# Impute missing values for price #"
   ]
  },
  {
   "cell_type": "code",
   "execution_count": 25,
   "id": "187f7433",
   "metadata": {},
   "outputs": [],
   "source": [
    "trainf['price']=trainf['price'].fillna(np.mean(trainf['price']))\n",
    "testf['price']=testf['price'].fillna(np.mean(trainf['price']))"
   ]
  },
  {
   "cell_type": "code",
   "execution_count": 26,
   "id": "b5a67b40",
   "metadata": {},
   "outputs": [
    {
     "data": {
      "text/html": [
       "<div>\n",
       "<style scoped>\n",
       "    .dataframe tbody tr th:only-of-type {\n",
       "        vertical-align: middle;\n",
       "    }\n",
       "\n",
       "    .dataframe tbody tr th {\n",
       "        vertical-align: top;\n",
       "    }\n",
       "\n",
       "    .dataframe thead th {\n",
       "        text-align: right;\n",
       "    }\n",
       "</style>\n",
       "<table border=\"1\" class=\"dataframe\">\n",
       "  <thead>\n",
       "    <tr style=\"text-align: right;\">\n",
       "      <th>asin</th>\n",
       "      <th>0</th>\n",
       "      <th>1</th>\n",
       "      <th>2</th>\n",
       "      <th>3</th>\n",
       "      <th>4</th>\n",
       "      <th>5</th>\n",
       "      <th>6</th>\n",
       "      <th>7</th>\n",
       "      <th>8</th>\n",
       "      <th>9</th>\n",
       "      <th>...</th>\n",
       "      <th>2294</th>\n",
       "      <th>2295</th>\n",
       "      <th>2296</th>\n",
       "      <th>2297</th>\n",
       "      <th>2298</th>\n",
       "      <th>2299</th>\n",
       "      <th>2300</th>\n",
       "      <th>2301</th>\n",
       "      <th>2302</th>\n",
       "      <th>2303</th>\n",
       "    </tr>\n",
       "    <tr>\n",
       "      <th>reviewerID</th>\n",
       "      <th></th>\n",
       "      <th></th>\n",
       "      <th></th>\n",
       "      <th></th>\n",
       "      <th></th>\n",
       "      <th></th>\n",
       "      <th></th>\n",
       "      <th></th>\n",
       "      <th></th>\n",
       "      <th></th>\n",
       "      <th></th>\n",
       "      <th></th>\n",
       "      <th></th>\n",
       "      <th></th>\n",
       "      <th></th>\n",
       "      <th></th>\n",
       "      <th></th>\n",
       "      <th></th>\n",
       "      <th></th>\n",
       "      <th></th>\n",
       "      <th></th>\n",
       "    </tr>\n",
       "  </thead>\n",
       "  <tbody>\n",
       "    <tr>\n",
       "      <th>0</th>\n",
       "      <td>5.0</td>\n",
       "      <td>NaN</td>\n",
       "      <td>NaN</td>\n",
       "      <td>NaN</td>\n",
       "      <td>NaN</td>\n",
       "      <td>NaN</td>\n",
       "      <td>NaN</td>\n",
       "      <td>NaN</td>\n",
       "      <td>NaN</td>\n",
       "      <td>NaN</td>\n",
       "      <td>...</td>\n",
       "      <td>NaN</td>\n",
       "      <td>NaN</td>\n",
       "      <td>NaN</td>\n",
       "      <td>NaN</td>\n",
       "      <td>NaN</td>\n",
       "      <td>NaN</td>\n",
       "      <td>NaN</td>\n",
       "      <td>NaN</td>\n",
       "      <td>NaN</td>\n",
       "      <td>NaN</td>\n",
       "    </tr>\n",
       "    <tr>\n",
       "      <th>1</th>\n",
       "      <td>NaN</td>\n",
       "      <td>5.0</td>\n",
       "      <td>NaN</td>\n",
       "      <td>NaN</td>\n",
       "      <td>NaN</td>\n",
       "      <td>NaN</td>\n",
       "      <td>NaN</td>\n",
       "      <td>NaN</td>\n",
       "      <td>NaN</td>\n",
       "      <td>NaN</td>\n",
       "      <td>...</td>\n",
       "      <td>NaN</td>\n",
       "      <td>NaN</td>\n",
       "      <td>NaN</td>\n",
       "      <td>NaN</td>\n",
       "      <td>NaN</td>\n",
       "      <td>NaN</td>\n",
       "      <td>NaN</td>\n",
       "      <td>NaN</td>\n",
       "      <td>NaN</td>\n",
       "      <td>NaN</td>\n",
       "    </tr>\n",
       "    <tr>\n",
       "      <th>2</th>\n",
       "      <td>NaN</td>\n",
       "      <td>3.0</td>\n",
       "      <td>NaN</td>\n",
       "      <td>NaN</td>\n",
       "      <td>NaN</td>\n",
       "      <td>NaN</td>\n",
       "      <td>NaN</td>\n",
       "      <td>NaN</td>\n",
       "      <td>NaN</td>\n",
       "      <td>NaN</td>\n",
       "      <td>...</td>\n",
       "      <td>NaN</td>\n",
       "      <td>NaN</td>\n",
       "      <td>NaN</td>\n",
       "      <td>NaN</td>\n",
       "      <td>NaN</td>\n",
       "      <td>NaN</td>\n",
       "      <td>NaN</td>\n",
       "      <td>NaN</td>\n",
       "      <td>NaN</td>\n",
       "      <td>NaN</td>\n",
       "    </tr>\n",
       "    <tr>\n",
       "      <th>3</th>\n",
       "      <td>NaN</td>\n",
       "      <td>NaN</td>\n",
       "      <td>5.0</td>\n",
       "      <td>NaN</td>\n",
       "      <td>NaN</td>\n",
       "      <td>NaN</td>\n",
       "      <td>NaN</td>\n",
       "      <td>NaN</td>\n",
       "      <td>NaN</td>\n",
       "      <td>NaN</td>\n",
       "      <td>...</td>\n",
       "      <td>NaN</td>\n",
       "      <td>NaN</td>\n",
       "      <td>NaN</td>\n",
       "      <td>NaN</td>\n",
       "      <td>NaN</td>\n",
       "      <td>NaN</td>\n",
       "      <td>NaN</td>\n",
       "      <td>NaN</td>\n",
       "      <td>NaN</td>\n",
       "      <td>NaN</td>\n",
       "    </tr>\n",
       "    <tr>\n",
       "      <th>4</th>\n",
       "      <td>NaN</td>\n",
       "      <td>NaN</td>\n",
       "      <td>5.0</td>\n",
       "      <td>NaN</td>\n",
       "      <td>NaN</td>\n",
       "      <td>NaN</td>\n",
       "      <td>NaN</td>\n",
       "      <td>NaN</td>\n",
       "      <td>NaN</td>\n",
       "      <td>NaN</td>\n",
       "      <td>...</td>\n",
       "      <td>NaN</td>\n",
       "      <td>NaN</td>\n",
       "      <td>NaN</td>\n",
       "      <td>NaN</td>\n",
       "      <td>NaN</td>\n",
       "      <td>NaN</td>\n",
       "      <td>NaN</td>\n",
       "      <td>NaN</td>\n",
       "      <td>NaN</td>\n",
       "      <td>NaN</td>\n",
       "    </tr>\n",
       "    <tr>\n",
       "      <th>...</th>\n",
       "      <td>...</td>\n",
       "      <td>...</td>\n",
       "      <td>...</td>\n",
       "      <td>...</td>\n",
       "      <td>...</td>\n",
       "      <td>...</td>\n",
       "      <td>...</td>\n",
       "      <td>...</td>\n",
       "      <td>...</td>\n",
       "      <td>...</td>\n",
       "      <td>...</td>\n",
       "      <td>...</td>\n",
       "      <td>...</td>\n",
       "      <td>...</td>\n",
       "      <td>...</td>\n",
       "      <td>...</td>\n",
       "      <td>...</td>\n",
       "      <td>...</td>\n",
       "      <td>...</td>\n",
       "      <td>...</td>\n",
       "      <td>...</td>\n",
       "    </tr>\n",
       "    <tr>\n",
       "      <th>1400</th>\n",
       "      <td>NaN</td>\n",
       "      <td>NaN</td>\n",
       "      <td>NaN</td>\n",
       "      <td>NaN</td>\n",
       "      <td>NaN</td>\n",
       "      <td>NaN</td>\n",
       "      <td>NaN</td>\n",
       "      <td>NaN</td>\n",
       "      <td>NaN</td>\n",
       "      <td>NaN</td>\n",
       "      <td>...</td>\n",
       "      <td>NaN</td>\n",
       "      <td>NaN</td>\n",
       "      <td>NaN</td>\n",
       "      <td>NaN</td>\n",
       "      <td>NaN</td>\n",
       "      <td>NaN</td>\n",
       "      <td>NaN</td>\n",
       "      <td>NaN</td>\n",
       "      <td>NaN</td>\n",
       "      <td>NaN</td>\n",
       "    </tr>\n",
       "    <tr>\n",
       "      <th>1401</th>\n",
       "      <td>NaN</td>\n",
       "      <td>NaN</td>\n",
       "      <td>NaN</td>\n",
       "      <td>NaN</td>\n",
       "      <td>NaN</td>\n",
       "      <td>NaN</td>\n",
       "      <td>NaN</td>\n",
       "      <td>NaN</td>\n",
       "      <td>NaN</td>\n",
       "      <td>NaN</td>\n",
       "      <td>...</td>\n",
       "      <td>NaN</td>\n",
       "      <td>NaN</td>\n",
       "      <td>NaN</td>\n",
       "      <td>NaN</td>\n",
       "      <td>NaN</td>\n",
       "      <td>NaN</td>\n",
       "      <td>NaN</td>\n",
       "      <td>NaN</td>\n",
       "      <td>NaN</td>\n",
       "      <td>NaN</td>\n",
       "    </tr>\n",
       "    <tr>\n",
       "      <th>1402</th>\n",
       "      <td>NaN</td>\n",
       "      <td>NaN</td>\n",
       "      <td>NaN</td>\n",
       "      <td>NaN</td>\n",
       "      <td>NaN</td>\n",
       "      <td>NaN</td>\n",
       "      <td>NaN</td>\n",
       "      <td>NaN</td>\n",
       "      <td>NaN</td>\n",
       "      <td>NaN</td>\n",
       "      <td>...</td>\n",
       "      <td>NaN</td>\n",
       "      <td>NaN</td>\n",
       "      <td>NaN</td>\n",
       "      <td>NaN</td>\n",
       "      <td>NaN</td>\n",
       "      <td>NaN</td>\n",
       "      <td>NaN</td>\n",
       "      <td>NaN</td>\n",
       "      <td>NaN</td>\n",
       "      <td>NaN</td>\n",
       "    </tr>\n",
       "    <tr>\n",
       "      <th>1403</th>\n",
       "      <td>NaN</td>\n",
       "      <td>NaN</td>\n",
       "      <td>NaN</td>\n",
       "      <td>NaN</td>\n",
       "      <td>NaN</td>\n",
       "      <td>NaN</td>\n",
       "      <td>NaN</td>\n",
       "      <td>NaN</td>\n",
       "      <td>NaN</td>\n",
       "      <td>NaN</td>\n",
       "      <td>...</td>\n",
       "      <td>NaN</td>\n",
       "      <td>NaN</td>\n",
       "      <td>NaN</td>\n",
       "      <td>NaN</td>\n",
       "      <td>NaN</td>\n",
       "      <td>NaN</td>\n",
       "      <td>NaN</td>\n",
       "      <td>NaN</td>\n",
       "      <td>NaN</td>\n",
       "      <td>NaN</td>\n",
       "    </tr>\n",
       "    <tr>\n",
       "      <th>1404</th>\n",
       "      <td>NaN</td>\n",
       "      <td>NaN</td>\n",
       "      <td>NaN</td>\n",
       "      <td>NaN</td>\n",
       "      <td>NaN</td>\n",
       "      <td>NaN</td>\n",
       "      <td>NaN</td>\n",
       "      <td>NaN</td>\n",
       "      <td>NaN</td>\n",
       "      <td>NaN</td>\n",
       "      <td>...</td>\n",
       "      <td>NaN</td>\n",
       "      <td>NaN</td>\n",
       "      <td>NaN</td>\n",
       "      <td>NaN</td>\n",
       "      <td>NaN</td>\n",
       "      <td>NaN</td>\n",
       "      <td>NaN</td>\n",
       "      <td>NaN</td>\n",
       "      <td>NaN</td>\n",
       "      <td>NaN</td>\n",
       "    </tr>\n",
       "  </tbody>\n",
       "</table>\n",
       "<p>1405 rows × 2304 columns</p>\n",
       "</div>"
      ],
      "text/plain": [
       "asin        0     1     2     3     4     5     6     7     8     9     ...  \\\n",
       "reviewerID                                                              ...   \n",
       "0            5.0   NaN   NaN   NaN   NaN   NaN   NaN   NaN   NaN   NaN  ...   \n",
       "1            NaN   5.0   NaN   NaN   NaN   NaN   NaN   NaN   NaN   NaN  ...   \n",
       "2            NaN   3.0   NaN   NaN   NaN   NaN   NaN   NaN   NaN   NaN  ...   \n",
       "3            NaN   NaN   5.0   NaN   NaN   NaN   NaN   NaN   NaN   NaN  ...   \n",
       "4            NaN   NaN   5.0   NaN   NaN   NaN   NaN   NaN   NaN   NaN  ...   \n",
       "...          ...   ...   ...   ...   ...   ...   ...   ...   ...   ...  ...   \n",
       "1400         NaN   NaN   NaN   NaN   NaN   NaN   NaN   NaN   NaN   NaN  ...   \n",
       "1401         NaN   NaN   NaN   NaN   NaN   NaN   NaN   NaN   NaN   NaN  ...   \n",
       "1402         NaN   NaN   NaN   NaN   NaN   NaN   NaN   NaN   NaN   NaN  ...   \n",
       "1403         NaN   NaN   NaN   NaN   NaN   NaN   NaN   NaN   NaN   NaN  ...   \n",
       "1404         NaN   NaN   NaN   NaN   NaN   NaN   NaN   NaN   NaN   NaN  ...   \n",
       "\n",
       "asin        2294  2295  2296  2297  2298  2299  2300  2301  2302  2303  \n",
       "reviewerID                                                              \n",
       "0            NaN   NaN   NaN   NaN   NaN   NaN   NaN   NaN   NaN   NaN  \n",
       "1            NaN   NaN   NaN   NaN   NaN   NaN   NaN   NaN   NaN   NaN  \n",
       "2            NaN   NaN   NaN   NaN   NaN   NaN   NaN   NaN   NaN   NaN  \n",
       "3            NaN   NaN   NaN   NaN   NaN   NaN   NaN   NaN   NaN   NaN  \n",
       "4            NaN   NaN   NaN   NaN   NaN   NaN   NaN   NaN   NaN   NaN  \n",
       "...          ...   ...   ...   ...   ...   ...   ...   ...   ...   ...  \n",
       "1400         NaN   NaN   NaN   NaN   NaN   NaN   NaN   NaN   NaN   NaN  \n",
       "1401         NaN   NaN   NaN   NaN   NaN   NaN   NaN   NaN   NaN   NaN  \n",
       "1402         NaN   NaN   NaN   NaN   NaN   NaN   NaN   NaN   NaN   NaN  \n",
       "1403         NaN   NaN   NaN   NaN   NaN   NaN   NaN   NaN   NaN   NaN  \n",
       "1404         NaN   NaN   NaN   NaN   NaN   NaN   NaN   NaN   NaN   NaN  \n",
       "\n",
       "[1405 rows x 2304 columns]"
      ]
     },
     "execution_count": 26,
     "metadata": {},
     "output_type": "execute_result"
    }
   ],
   "source": [
    "df_cf"
   ]
  },
  {
   "cell_type": "code",
   "execution_count": 27,
   "id": "c6d7a636",
   "metadata": {},
   "outputs": [
    {
     "data": {
      "text/plain": [
       "1842"
      ]
     },
     "execution_count": 27,
     "metadata": {},
     "output_type": "execute_result"
    }
   ],
   "source": [
    "trainf['product'].nunique()"
   ]
  },
  {
   "cell_type": "code",
   "execution_count": null,
   "id": "5ea11809-2269-470e-a147-5f3fdc51ac84",
   "metadata": {},
   "outputs": [],
   "source": []
  }
 ],
 "metadata": {
  "kernelspec": {
   "display_name": "Python 3 (ipykernel)",
   "language": "python",
   "name": "python3"
  },
  "language_info": {
   "codemirror_mode": {
    "name": "ipython",
    "version": 3
   },
   "file_extension": ".py",
   "mimetype": "text/x-python",
   "name": "python",
   "nbconvert_exporter": "python",
   "pygments_lexer": "ipython3",
   "version": "3.9.7"
  }
 },
 "nbformat": 4,
 "nbformat_minor": 5
}
