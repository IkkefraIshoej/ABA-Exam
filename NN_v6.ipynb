{
 "cells": [
  {
   "cell_type": "code",
   "execution_count": null,
   "id": "ff555c8c",
   "metadata": {},
   "outputs": [],
   "source": [
    "# For Github"
   ]
  },
  {
   "cell_type": "markdown",
   "id": "e7497a73",
   "metadata": {},
   "source": [
    "---\n",
    "<a id='intro'></a> \n",
    "\n",
    "# 0. Introduction\n",
    "\n",
    "In this project we will be working with Amazon review data for \"groceries\" and \"gourmet food\". The dataset was obtained through https://nijianmo.github.io/amazon/index.html and spans a period of 18 years from 2000-2018. The main objective of the project is to build a recommender system for recommending products to users. "
   ]
  },
  {
   "cell_type": "markdown",
   "id": "90758fe3",
   "metadata": {},
   "source": [
    "This project and notebook will deal with analysis of product ratings and review data for Amazon purchases. Two main tasks will be undertaken. The first concerns building a recommender system on the product data while the second concerns using survival analysis to model demand and time-to-next-purchase. The notebook will first give a descriptive overview of the data and present any overall preprocessing choices made with the data - e.g. transformations, only selecting a subset of the data etc.\n",
    "The notebook will then proceed to the recommender system and survival analysis. Each of these sections will contain a brief introduction to the research questions being investigated as well as a presentation and discussion of the methods, results and future work. The two overarching research questions are as follows:"
   ]
  },
  {
   "cell_type": "markdown",
   "id": "bb73d887",
   "metadata": {},
   "source": [
    "* To what extent can a recommender system be built to recommend products to users from the Amazon \"Grocery and Gourmet Food\" dataset and what characterizes the model that performs best?\n",
    "\n",
    "* Survival"
   ]
  },
  {
   "cell_type": "markdown",
   "id": "41895e66",
   "metadata": {},
   "source": [
    "# 1. The dataset #"
   ]
  },
  {
   "cell_type": "markdown",
   "id": "6fa16588",
   "metadata": {},
   "source": [
    "The dataset used contains reviews and ratings for a wide variety of products sold by Amazon. To limit the analysis we have chosen to focus on the \"Groceries and Gourmet Food\" category. The data was obtained through https://nijianmo.github.io/amazon/index.html and spans a period of 18 years from 2000-2018. In total, the dataset contains 5.074.160 reviews of products. We have selected a subset corresponding to 153.619 reviews covering 4092 unique products and 73632 unique users. Tables 1 and 2 shows descriptive statistics along with a brief description for the non-continuous and continuous variables respectively."
   ]
  },
  {
   "cell_type": "markdown",
   "id": "0a2665ec",
   "metadata": {},
   "source": [
    "# 2. Recommender engine"
   ]
  },
  {
   "cell_type": "markdown",
   "id": "259e7e94",
   "metadata": {},
   "source": [
    "With the dataset having been presented a recommender system will be built. The structure of this section will be as follows:\n",
    "* 2.1 Build and evaluate the ability of the basic methods introduced in the course in building a recommender system. These methods are: ..\n",
    "\n",
    "* 2.2 Combine these methods to see if a composite method performs better than the individual methods by themselves\n",
    "* 2.3 Apply more advanced methods found through litterature review. Of main interest will be building a composite neural network that leverages rating information as well as context and content information about the products.\n",
    "* 2.4 Discuss which model performs best and why. This step will involve trying to make sense of which products are recommended/disrecommended by the model and why.\n",
    "* 2.5 Show a few 'proof-of-concept' examples of how the recommender system could function in practice. This step primarily concerns devising a simple solution for problems such as \"what if the user doesn't buy the recommended items?\". Steps 2.1-2.4 will all have a clear quantitative performance metric (MSE of rating predictions) while the point of step 2.5. is to devise solutions for problems our recommender system might face in real-time shopping situations. Seing as we do not have access to real-time data this step will remain in a 'proof-of-concept' state.\n",
    "\n",
    "Brief litterature overview:\n",
    "A brief litterature review was undertaken to find useable resources and guide the work with the recommender system. It was found that a considerable amount of litterature sought to leverage the text contained within reviews as a means of improving recommender systems. The reviews were seen as a potential source of raw implicit feedback (e.g. analyzing the sentiment of the review) as well as a way of extracting more detailed content about the products. The texts typically sought to combine LDA and MF (matrix factorization) either through bayesian approaches or neural networks. The two main .. we have used.."
   ]
  },
  {
   "cell_type": "code",
   "execution_count": 1,
   "id": "50230a44",
   "metadata": {},
   "outputs": [],
   "source": [
    "import warnings\n",
    "warnings.filterwarnings(\"ignore\")\n",
    "import pandas as pd\n",
    "import numpy as np\n",
    "import re\n",
    "from datetime import datetime\n",
    "import matplotlib.pyplot as plt\n",
    "import seaborn as sns\n",
    "from sklearn import metrics, preprocessing\n",
    "from tensorflow.keras import models, layers, utils\n",
    "import keras_tuner as kt\n",
    "from tensorflow import keras\n",
    "dfs=pd.read_csv(\"preprocessed.csv\")\n",
    "dfs=dfs.iloc[:,3:]"
   ]
  },
  {
   "cell_type": "markdown",
   "id": "ce418289",
   "metadata": {},
   "source": [
    "# Preparing the data #"
   ]
  },
  {
   "cell_type": "markdown",
   "id": "79cbca7e",
   "metadata": {},
   "source": [
    "'Double reviews':\n",
    "In total 493 (0.5%) reviews were \"doubles\" of a former review - duplicates meaning that the same person reviewed the same product with the only difference being the review text. Manual inspection of these 'double'-reviews showed that they were likely due to the reviewer making small changes in the text of the review - e.g. change from 'excellemt product' to 'excellent product' - and the 'double' reviews were typically close in time - typically on the same day. Because so few reviews are affected, in case of double reviews, only the most recent review was kept. If it had been the case that the 'double' reviews were due to the person buying the same product 6 months later and changing his/her opinion then the procedure should've been different. However, as this does not appear to be the case we will not spend more time analyzing 'double' reviews."
   ]
  },
  {
   "cell_type": "markdown",
   "id": "5344c9ec",
   "metadata": {},
   "source": [
    "In order to prepare the data for analysis the following steps are taken. The code for these preparation steps are contained in 'Preparation.ipynb'.\n",
    "* Identify products with multiple reviews by the same user. Keep only the most recent review.\n",
    "* Recode the 'bottomcat' variable such that categories with less than 40 reviews are categorized as 'other'.\n",
    "* Dummy-encode the 'bottomcat' variable.\n",
    "* Discretize ratings based on >= 4 as cutoff-point.\n",
    "* Standardize continuous features.\n",
    "* Re-enumerate user and product IDs for use with the Keras embedding layer\n",
    "* Create both a product X user ratings matrix and a long-form [user, product, ratings, features, context] dataframe. The format of these dataframes is shown below.\n",
    "* Preprocess review text (remove stopwords etc.)"
   ]
  },
  {
   "cell_type": "markdown",
   "id": "6498ae25",
   "metadata": {},
   "source": [
    "# Create a DF ready for CF-analysis\n",
    "First, a user-item ratings matrix is created. Non-nan values are scaled from 0 to 5 to 0 to 1 in anticipation of the neural networks being used."
   ]
  },
  {
   "cell_type": "markdown",
   "id": "28f3d893",
   "metadata": {},
   "source": [
    "20% of the data is kept for testing."
   ]
  },
  {
   "cell_type": "code",
   "execution_count": 2,
   "id": "9ac18dce",
   "metadata": {},
   "outputs": [
    {
     "name": "stderr",
     "output_type": "stream",
     "text": [
      "[nltk_data] Downloading package wordnet to\n",
      "[nltk_data]     C:\\Users\\Frede\\AppData\\Roaming\\nltk_data...\n",
      "[nltk_data]   Package wordnet is already up-to-date!\n",
      "[nltk_data] Downloading package punkt to\n",
      "[nltk_data]     C:\\Users\\Frede\\AppData\\Roaming\\nltk_data...\n",
      "[nltk_data]   Package punkt is already up-to-date!\n"
     ]
    }
   ],
   "source": [
    "%run DataPreprocessing.ipynb"
   ]
  },
  {
   "cell_type": "markdown",
   "id": "c8165068",
   "metadata": {},
   "source": [
    "# Simple MF model #\n",
    "Figure x shows the 3 models which will be created in the following sequences of code. The first model is a baseline MF model created through Keras. An embedding layer is created for the users and items respectively. Currently, the embedding output dimension is set to 50.\n",
    "The output is a linear function of the dot product of the two embedding layers and the loss is set to MSE. The y for which the MSE should be minimized will be the actual ratings."
   ]
  },
  {
   "cell_type": "code",
   "execution_count": null,
   "id": "30c6859e",
   "metadata": {},
   "outputs": [],
   "source": [
    "embeddings_size = 50\n",
    "usr, prd = df_cf.shape[0], df_cf.shape[1]\n",
    "\n",
    "# Create embedding layer for users\n",
    "# Users (,1,embedding_size) and Reshape (,embedding_size)\n",
    "xusers_in = layers.Input(name=\"xusers_in\", shape=(1,))\n",
    "xusers_emb = layers.Embedding(name=\"xusers_emb\", input_dim=usr, output_dim=embeddings_size)(xusers_in)\n",
    "xusers = layers.Reshape(name='xusers', target_shape=(embeddings_size,))(xusers_emb)\n",
    "\n",
    "# Create embedding layer for products\n",
    "# Products (,1,embedding_size) and Reshape (,embedding_size)\n",
    "xproducts_in = layers.Input(name=\"xproducts_in\", shape=(1,))\n",
    "xproducts_emb = layers.Embedding(name=\"xproducts_emb\", input_dim=prd, output_dim=embeddings_size)(xproducts_in)\n",
    "xproducts = layers.Reshape(name='xproducts', target_shape=(embeddings_size,))(xproducts_emb)\n",
    "\n",
    "# Compute dot product of the embedding layers\n",
    "# Product (,1) values[-1,1]\n",
    "QP = layers.Dot(name='xx', normalize=True, axes=1)([xusers, xproducts])\n",
    "\n",
    "# Add output layer which takes as input QP\n",
    "# Predict ratings (,1)\n",
    "y_out = layers.Dense(name=\"y_out\", units=1, activation='linear')(QP)\n",
    "\n",
    "# Compile\n",
    "model = models.Model(inputs=[xusers_in,xproducts_in], outputs=y_out, name=\"CollaborativeFiltering\")\n",
    "model.compile(optimizer='adam', loss='mean_absolute_error', metrics=['mean_absolute_percentage_error'])\n",
    "#model.summary()"
   ]
  },
  {
   "cell_type": "code",
   "execution_count": null,
   "id": "a10334a0",
   "metadata": {},
   "outputs": [],
   "source": [
    "# The NN looks as follows\n",
    "#utils.plot_model(model, to_file='model.png', show_shapes=True, show_layer_names=True)"
   ]
  },
  {
   "cell_type": "code",
   "execution_count": 4,
   "id": "1d76ee15",
   "metadata": {
    "tags": []
   },
   "outputs": [],
   "source": [
    "%run ABAUtils.ipynb"
   ]
  },
  {
   "cell_type": "markdown",
   "id": "d89261a4",
   "metadata": {},
   "source": [
    "In order for the model to work with tensorflow syntex the \"IDs\" of the user and item must be transformed to a number. This is done in the following code and a list of the original item/product IDs are saved for later use."
   ]
  },
  {
   "cell_type": "code",
   "execution_count": null,
   "id": "54baa816",
   "metadata": {
    "tags": []
   },
   "outputs": [],
   "source": [
    "# train\n",
    "training = model.fit(x=[trainf['user'], trainf['product']], y=trainf[\"overall\"], \n",
    "                     epochs=10, batch_size=128, shuffle=True, verbose=1, validation_split=0.3)\n",
    "model = training.model"
   ]
  },
  {
   "cell_type": "code",
   "execution_count": null,
   "id": "456435ce",
   "metadata": {},
   "outputs": [],
   "source": [
    "utils_plot_keras_training(training)"
   ]
  },
  {
   "cell_type": "code",
   "execution_count": null,
   "id": "efa1064a",
   "metadata": {},
   "outputs": [],
   "source": [
    "# Test\n",
    "testf['yhat'] = model.predict([testf[\"user\"], testf[\"product\"]])\n",
    "test\n",
    "np.mean((testf['overall']-testf['yhat'])**2)"
   ]
  },
  {
   "cell_type": "code",
   "execution_count": null,
   "id": "5bf3e208",
   "metadata": {},
   "outputs": [],
   "source": [
    "testf['overall'].hist(), testf['yhat'].hist()"
   ]
  },
  {
   "cell_type": "markdown",
   "id": "018718ae",
   "metadata": {},
   "source": [
    "# Performance metrics #"
   ]
  },
  {
   "cell_type": "markdown",
   "id": "ca779997",
   "metadata": {},
   "source": [
    "The following metrics will be used to provide an overview of the performance of the different models.\n",
    "* MSE (or MAE) - i.e. measures of how accurately the value of the ratings are predicted.\n",
    "* Raw classification measures - classification measures assuming that a predicted rating of >= 4 constitutes a success (purchase).\n",
    "* Scaled classification measures - classification measures adjusted for the distribution of the predicted ratings. I.e. if 80% of the observed ratings are >= 4, then a predicted rating is considered a success if it is above the 20'th percentile of the predicted ratings (i.e. among the top 80% of predicted ratings).\n",
    "* Ordering of products - Are the products with the highest predicted ratings also the products bought/reviewed?\n",
    "The loss function of the models will only seek to optimize some of the performance metrics. Therefore, some of the metrics (such as 'ordering of products') is only used as ways of helping interpret the performance of the model."
   ]
  },
  {
   "cell_type": "code",
   "execution_count": null,
   "id": "31786aed",
   "metadata": {},
   "outputs": [],
   "source": [
    "embeddings_size = 50\n",
    "usr, prd = df_cf.shape[0], df_cf.shape[1]\n",
    "\n",
    "# Input layer\n",
    "xusers_in = layers.Input(name=\"xusers_in\", shape=(1,))\n",
    "xproducts_in = layers.Input(name=\"xproducts_in\", shape=(1,))\n",
    "\n",
    "# Matrix Factorization\n",
    "## embeddings and reshape\n",
    "cf_xusers_emb = layers.Embedding(name=\"cf_xusers_emb\", input_dim=usr, output_dim=embeddings_size)(xusers_in)\n",
    "cf_xusers = layers.Reshape(name='cf_xusers', target_shape=(embeddings_size,))(cf_xusers_emb)\n",
    "## embeddings and reshape\n",
    "cf_xproducts_emb = layers.Embedding(name=\"cf_xproducts_emb\", input_dim=prd, output_dim=embeddings_size)(xproducts_in)\n",
    "cf_xproducts = layers.Reshape(name='cf_xproducts', target_shape=(embeddings_size,))(cf_xproducts_emb)\n",
    "## product\n",
    "cf_xx = layers.Dot(name='cf_xx', normalize=True, axes=1)([cf_xusers, cf_xproducts])\n",
    "\n",
    "# Neural Network\n",
    "## embeddings and reshape\n",
    "nn_xusers_emb = layers.Embedding(name=\"nn_xusers_emb\", input_dim=usr, output_dim=embeddings_size)(xusers_in)\n",
    "nn_xusers = layers.Reshape(name='nn_xusers', target_shape=(embeddings_size,))(nn_xusers_emb)\n",
    "## embeddings and reshape\n",
    "nn_xproducts_emb = layers.Embedding(name=\"nn_xproducts_emb\", input_dim=prd, output_dim=embeddings_size)(xproducts_in)\n",
    "nn_xproducts = layers.Reshape(name='nn_xproducts', target_shape=(embeddings_size,))(nn_xproducts_emb)\n",
    "## concat and dense\n",
    "nn_xx = layers.Concatenate()([nn_xusers, nn_xproducts])\n",
    "nn_xx = layers.Dense(name=\"nn_xx\", units=int(embeddings_size/2), activation='relu')(nn_xx)\n",
    "\n",
    "# Merge A & B\n",
    "y_out = layers.Concatenate()([cf_xx, nn_xx])\n",
    "y_out = layers.Dense(name=\"y_out\", units=1, activation='linear')(y_out)\n",
    "\n",
    "# Compile\n",
    "model = models.Model(inputs=[xusers_in,xproducts_in], outputs=y_out, name=\"Neural_CollaborativeFiltering\")\n",
    "model.compile(optimizer='adam', loss='mean_absolute_error', metrics=['mean_absolute_percentage_error'])\n",
    "#model.summary()"
   ]
  },
  {
   "cell_type": "code",
   "execution_count": null,
   "id": "9200890f",
   "metadata": {},
   "outputs": [],
   "source": [
    "# train\n",
    "training = model.fit(x=[trainf[\"user\"], trainf[\"product\"]], y=trainf[\"overall\"], \n",
    "                     epochs=1000, batch_size=128, shuffle=True, verbose=1, validation_split=0.3)\n",
    "model = training.model\n",
    "utils_plot_keras_training(training)"
   ]
  },
  {
   "cell_type": "code",
   "execution_count": null,
   "id": "fc941ef7",
   "metadata": {},
   "outputs": [],
   "source": [
    "# Test\n",
    "testf['yhat'] = model.predict([testf[\"user\"], testf[\"product\"]])\n",
    "np.mean((testf['overall']-testf['yhat'])**2)"
   ]
  },
  {
   "cell_type": "code",
   "execution_count": null,
   "id": "36649504",
   "metadata": {},
   "outputs": [],
   "source": [
    "testf['overall'].hist(), testf['yhat'].hist()"
   ]
  },
  {
   "cell_type": "markdown",
   "id": "96a36106",
   "metadata": {},
   "source": [
    "# Adding context and product features #"
   ]
  },
  {
   "cell_type": "markdown",
   "id": "de7ef09a",
   "metadata": {},
   "source": [
    "Fuld NN her."
   ]
  },
  {
   "cell_type": "code",
   "execution_count": 116,
   "id": "52373513",
   "metadata": {},
   "outputs": [],
   "source": [
    "df_full_train=trainf.drop(columns=['reviewText', 'reviewText_cleaned', 'disc_rating','neg','pos','compound','neu','unixReviewTime'])\n",
    "df_full_test=testf.drop(columns=['reviewText', 'reviewText_cleaned', 'disc_rating','neg','pos','compound','neu','unixReviewTime'])"
   ]
  },
  {
   "cell_type": "markdown",
   "id": "2866adf1",
   "metadata": {},
   "source": [
    "Context:\n",
    "* unixReviewTime\n",
    "\n",
    "Content:\n",
    "* verified\n",
    "* vote\n",
    "* price\n",
    "* review_length\n",
    "* bottomcats"
   ]
  },
  {
   "cell_type": "code",
   "execution_count": null,
   "id": "a690e134-dd10-41ac-adde-c6b7a15614bd",
   "metadata": {},
   "outputs": [],
   "source": [
    "df_full_train['verified']=df_full_train['verified'].astype(float)\n",
    "df_full_test['verified']=df_full_test['verified'].astype(float)"
   ]
  },
  {
   "cell_type": "code",
   "execution_count": 121,
   "id": "5908dfce-ce84-4a54-be6a-b71eeeea0688",
   "metadata": {},
   "outputs": [
    {
     "data": {
      "text/html": [
       "<div>\n",
       "<style scoped>\n",
       "    .dataframe tbody tr th:only-of-type {\n",
       "        vertical-align: middle;\n",
       "    }\n",
       "\n",
       "    .dataframe tbody tr th {\n",
       "        vertical-align: top;\n",
       "    }\n",
       "\n",
       "    .dataframe thead th {\n",
       "        text-align: right;\n",
       "    }\n",
       "</style>\n",
       "<table border=\"1\" class=\"dataframe\">\n",
       "  <thead>\n",
       "    <tr style=\"text-align: right;\">\n",
       "      <th></th>\n",
       "      <th>user</th>\n",
       "      <th>product</th>\n",
       "      <th>overall</th>\n",
       "      <th>verified</th>\n",
       "      <th>vote</th>\n",
       "      <th>price</th>\n",
       "      <th>review_length</th>\n",
       "      <th>bottomcat_other_Agave Nectar &amp; Syrup</th>\n",
       "      <th>bottomcat_other_Allspice</th>\n",
       "      <th>bottomcat_other_Almonds</th>\n",
       "      <th>...</th>\n",
       "      <th>bottomcat_other_Wasabi</th>\n",
       "      <th>bottomcat_other_Wasabi Peas</th>\n",
       "      <th>bottomcat_other_Water</th>\n",
       "      <th>bottomcat_other_Wheat</th>\n",
       "      <th>bottomcat_other_Wheat Flours &amp; Meals</th>\n",
       "      <th>bottomcat_other_White</th>\n",
       "      <th>bottomcat_other_Wild</th>\n",
       "      <th>bottomcat_other_Xylitol</th>\n",
       "      <th>bottomcat_other_Yellow Mustard</th>\n",
       "      <th>bottomcat_other_other</th>\n",
       "    </tr>\n",
       "  </thead>\n",
       "  <tbody>\n",
       "    <tr>\n",
       "      <th>0</th>\n",
       "      <td>2</td>\n",
       "      <td>2089</td>\n",
       "      <td>5.0</td>\n",
       "      <td>1.0</td>\n",
       "      <td>-0.297063</td>\n",
       "      <td>-6.675437e-01</td>\n",
       "      <td>-0.589158</td>\n",
       "      <td>0</td>\n",
       "      <td>0</td>\n",
       "      <td>0</td>\n",
       "      <td>...</td>\n",
       "      <td>0</td>\n",
       "      <td>0</td>\n",
       "      <td>0</td>\n",
       "      <td>0</td>\n",
       "      <td>0</td>\n",
       "      <td>0</td>\n",
       "      <td>0</td>\n",
       "      <td>0</td>\n",
       "      <td>0</td>\n",
       "      <td>0</td>\n",
       "    </tr>\n",
       "    <tr>\n",
       "      <th>1</th>\n",
       "      <td>3</td>\n",
       "      <td>2105</td>\n",
       "      <td>5.0</td>\n",
       "      <td>0.0</td>\n",
       "      <td>-0.297063</td>\n",
       "      <td>-3.671440e-01</td>\n",
       "      <td>-0.997660</td>\n",
       "      <td>0</td>\n",
       "      <td>0</td>\n",
       "      <td>0</td>\n",
       "      <td>...</td>\n",
       "      <td>0</td>\n",
       "      <td>0</td>\n",
       "      <td>0</td>\n",
       "      <td>0</td>\n",
       "      <td>0</td>\n",
       "      <td>0</td>\n",
       "      <td>0</td>\n",
       "      <td>0</td>\n",
       "      <td>0</td>\n",
       "      <td>0</td>\n",
       "    </tr>\n",
       "    <tr>\n",
       "      <th>2</th>\n",
       "      <td>4</td>\n",
       "      <td>2011</td>\n",
       "      <td>4.0</td>\n",
       "      <td>1.0</td>\n",
       "      <td>0.198986</td>\n",
       "      <td>-4.759389e-16</td>\n",
       "      <td>-0.566957</td>\n",
       "      <td>0</td>\n",
       "      <td>0</td>\n",
       "      <td>0</td>\n",
       "      <td>...</td>\n",
       "      <td>0</td>\n",
       "      <td>0</td>\n",
       "      <td>0</td>\n",
       "      <td>0</td>\n",
       "      <td>0</td>\n",
       "      <td>0</td>\n",
       "      <td>0</td>\n",
       "      <td>0</td>\n",
       "      <td>0</td>\n",
       "      <td>0</td>\n",
       "    </tr>\n",
       "    <tr>\n",
       "      <th>3</th>\n",
       "      <td>4</td>\n",
       "      <td>2054</td>\n",
       "      <td>4.0</td>\n",
       "      <td>1.0</td>\n",
       "      <td>-0.297063</td>\n",
       "      <td>-9.266154e-01</td>\n",
       "      <td>-0.922176</td>\n",
       "      <td>0</td>\n",
       "      <td>0</td>\n",
       "      <td>0</td>\n",
       "      <td>...</td>\n",
       "      <td>0</td>\n",
       "      <td>0</td>\n",
       "      <td>0</td>\n",
       "      <td>0</td>\n",
       "      <td>0</td>\n",
       "      <td>0</td>\n",
       "      <td>0</td>\n",
       "      <td>0</td>\n",
       "      <td>0</td>\n",
       "      <td>0</td>\n",
       "    </tr>\n",
       "    <tr>\n",
       "      <th>4</th>\n",
       "      <td>4</td>\n",
       "      <td>2189</td>\n",
       "      <td>4.0</td>\n",
       "      <td>1.0</td>\n",
       "      <td>-0.297063</td>\n",
       "      <td>-4.759389e-16</td>\n",
       "      <td>-0.469272</td>\n",
       "      <td>0</td>\n",
       "      <td>0</td>\n",
       "      <td>0</td>\n",
       "      <td>...</td>\n",
       "      <td>0</td>\n",
       "      <td>0</td>\n",
       "      <td>0</td>\n",
       "      <td>0</td>\n",
       "      <td>0</td>\n",
       "      <td>0</td>\n",
       "      <td>0</td>\n",
       "      <td>0</td>\n",
       "      <td>0</td>\n",
       "      <td>0</td>\n",
       "    </tr>\n",
       "    <tr>\n",
       "      <th>...</th>\n",
       "      <td>...</td>\n",
       "      <td>...</td>\n",
       "      <td>...</td>\n",
       "      <td>...</td>\n",
       "      <td>...</td>\n",
       "      <td>...</td>\n",
       "      <td>...</td>\n",
       "      <td>...</td>\n",
       "      <td>...</td>\n",
       "      <td>...</td>\n",
       "      <td>...</td>\n",
       "      <td>...</td>\n",
       "      <td>...</td>\n",
       "      <td>...</td>\n",
       "      <td>...</td>\n",
       "      <td>...</td>\n",
       "      <td>...</td>\n",
       "      <td>...</td>\n",
       "      <td>...</td>\n",
       "      <td>...</td>\n",
       "      <td>...</td>\n",
       "    </tr>\n",
       "    <tr>\n",
       "      <th>1466</th>\n",
       "      <td>1404</td>\n",
       "      <td>2263</td>\n",
       "      <td>5.0</td>\n",
       "      <td>1.0</td>\n",
       "      <td>-0.297063</td>\n",
       "      <td>-4.759389e-16</td>\n",
       "      <td>-0.926616</td>\n",
       "      <td>0</td>\n",
       "      <td>0</td>\n",
       "      <td>0</td>\n",
       "      <td>...</td>\n",
       "      <td>0</td>\n",
       "      <td>0</td>\n",
       "      <td>0</td>\n",
       "      <td>0</td>\n",
       "      <td>0</td>\n",
       "      <td>0</td>\n",
       "      <td>0</td>\n",
       "      <td>0</td>\n",
       "      <td>0</td>\n",
       "      <td>1</td>\n",
       "    </tr>\n",
       "    <tr>\n",
       "      <th>1467</th>\n",
       "      <td>1404</td>\n",
       "      <td>2272</td>\n",
       "      <td>5.0</td>\n",
       "      <td>1.0</td>\n",
       "      <td>-0.297063</td>\n",
       "      <td>-4.759389e-16</td>\n",
       "      <td>-0.713485</td>\n",
       "      <td>0</td>\n",
       "      <td>0</td>\n",
       "      <td>0</td>\n",
       "      <td>...</td>\n",
       "      <td>0</td>\n",
       "      <td>0</td>\n",
       "      <td>0</td>\n",
       "      <td>0</td>\n",
       "      <td>0</td>\n",
       "      <td>0</td>\n",
       "      <td>0</td>\n",
       "      <td>0</td>\n",
       "      <td>0</td>\n",
       "      <td>0</td>\n",
       "    </tr>\n",
       "    <tr>\n",
       "      <th>1468</th>\n",
       "      <td>1404</td>\n",
       "      <td>2278</td>\n",
       "      <td>5.0</td>\n",
       "      <td>1.0</td>\n",
       "      <td>-0.297063</td>\n",
       "      <td>-4.759389e-16</td>\n",
       "      <td>-0.513674</td>\n",
       "      <td>0</td>\n",
       "      <td>0</td>\n",
       "      <td>0</td>\n",
       "      <td>...</td>\n",
       "      <td>0</td>\n",
       "      <td>0</td>\n",
       "      <td>0</td>\n",
       "      <td>0</td>\n",
       "      <td>0</td>\n",
       "      <td>0</td>\n",
       "      <td>0</td>\n",
       "      <td>0</td>\n",
       "      <td>0</td>\n",
       "      <td>0</td>\n",
       "    </tr>\n",
       "    <tr>\n",
       "      <th>1469</th>\n",
       "      <td>1404</td>\n",
       "      <td>2282</td>\n",
       "      <td>5.0</td>\n",
       "      <td>1.0</td>\n",
       "      <td>-0.297063</td>\n",
       "      <td>-4.759389e-16</td>\n",
       "      <td>-0.749007</td>\n",
       "      <td>0</td>\n",
       "      <td>0</td>\n",
       "      <td>0</td>\n",
       "      <td>...</td>\n",
       "      <td>0</td>\n",
       "      <td>0</td>\n",
       "      <td>0</td>\n",
       "      <td>0</td>\n",
       "      <td>0</td>\n",
       "      <td>0</td>\n",
       "      <td>0</td>\n",
       "      <td>0</td>\n",
       "      <td>0</td>\n",
       "      <td>0</td>\n",
       "    </tr>\n",
       "    <tr>\n",
       "      <th>1470</th>\n",
       "      <td>1404</td>\n",
       "      <td>2284</td>\n",
       "      <td>4.0</td>\n",
       "      <td>1.0</td>\n",
       "      <td>-0.297063</td>\n",
       "      <td>-4.759389e-16</td>\n",
       "      <td>-0.811170</td>\n",
       "      <td>0</td>\n",
       "      <td>0</td>\n",
       "      <td>0</td>\n",
       "      <td>...</td>\n",
       "      <td>0</td>\n",
       "      <td>0</td>\n",
       "      <td>0</td>\n",
       "      <td>0</td>\n",
       "      <td>0</td>\n",
       "      <td>0</td>\n",
       "      <td>0</td>\n",
       "      <td>0</td>\n",
       "      <td>0</td>\n",
       "      <td>0</td>\n",
       "    </tr>\n",
       "  </tbody>\n",
       "</table>\n",
       "<p>1471 rows × 330 columns</p>\n",
       "</div>"
      ],
      "text/plain": [
       "      user  product  overall  verified      vote         price  review_length  \\\n",
       "0        2     2089      5.0       1.0 -0.297063 -6.675437e-01      -0.589158   \n",
       "1        3     2105      5.0       0.0 -0.297063 -3.671440e-01      -0.997660   \n",
       "2        4     2011      4.0       1.0  0.198986 -4.759389e-16      -0.566957   \n",
       "3        4     2054      4.0       1.0 -0.297063 -9.266154e-01      -0.922176   \n",
       "4        4     2189      4.0       1.0 -0.297063 -4.759389e-16      -0.469272   \n",
       "...    ...      ...      ...       ...       ...           ...            ...   \n",
       "1466  1404     2263      5.0       1.0 -0.297063 -4.759389e-16      -0.926616   \n",
       "1467  1404     2272      5.0       1.0 -0.297063 -4.759389e-16      -0.713485   \n",
       "1468  1404     2278      5.0       1.0 -0.297063 -4.759389e-16      -0.513674   \n",
       "1469  1404     2282      5.0       1.0 -0.297063 -4.759389e-16      -0.749007   \n",
       "1470  1404     2284      4.0       1.0 -0.297063 -4.759389e-16      -0.811170   \n",
       "\n",
       "      bottomcat_other_Agave Nectar & Syrup  bottomcat_other_Allspice  \\\n",
       "0                                        0                         0   \n",
       "1                                        0                         0   \n",
       "2                                        0                         0   \n",
       "3                                        0                         0   \n",
       "4                                        0                         0   \n",
       "...                                    ...                       ...   \n",
       "1466                                     0                         0   \n",
       "1467                                     0                         0   \n",
       "1468                                     0                         0   \n",
       "1469                                     0                         0   \n",
       "1470                                     0                         0   \n",
       "\n",
       "      bottomcat_other_Almonds  ...  bottomcat_other_Wasabi  \\\n",
       "0                           0  ...                       0   \n",
       "1                           0  ...                       0   \n",
       "2                           0  ...                       0   \n",
       "3                           0  ...                       0   \n",
       "4                           0  ...                       0   \n",
       "...                       ...  ...                     ...   \n",
       "1466                        0  ...                       0   \n",
       "1467                        0  ...                       0   \n",
       "1468                        0  ...                       0   \n",
       "1469                        0  ...                       0   \n",
       "1470                        0  ...                       0   \n",
       "\n",
       "      bottomcat_other_Wasabi Peas  bottomcat_other_Water  \\\n",
       "0                               0                      0   \n",
       "1                               0                      0   \n",
       "2                               0                      0   \n",
       "3                               0                      0   \n",
       "4                               0                      0   \n",
       "...                           ...                    ...   \n",
       "1466                            0                      0   \n",
       "1467                            0                      0   \n",
       "1468                            0                      0   \n",
       "1469                            0                      0   \n",
       "1470                            0                      0   \n",
       "\n",
       "      bottomcat_other_Wheat  bottomcat_other_Wheat Flours & Meals  \\\n",
       "0                         0                                     0   \n",
       "1                         0                                     0   \n",
       "2                         0                                     0   \n",
       "3                         0                                     0   \n",
       "4                         0                                     0   \n",
       "...                     ...                                   ...   \n",
       "1466                      0                                     0   \n",
       "1467                      0                                     0   \n",
       "1468                      0                                     0   \n",
       "1469                      0                                     0   \n",
       "1470                      0                                     0   \n",
       "\n",
       "      bottomcat_other_White  bottomcat_other_Wild  bottomcat_other_Xylitol  \\\n",
       "0                         0                     0                        0   \n",
       "1                         0                     0                        0   \n",
       "2                         0                     0                        0   \n",
       "3                         0                     0                        0   \n",
       "4                         0                     0                        0   \n",
       "...                     ...                   ...                      ...   \n",
       "1466                      0                     0                        0   \n",
       "1467                      0                     0                        0   \n",
       "1468                      0                     0                        0   \n",
       "1469                      0                     0                        0   \n",
       "1470                      0                     0                        0   \n",
       "\n",
       "      bottomcat_other_Yellow Mustard  bottomcat_other_other  \n",
       "0                                  0                      0  \n",
       "1                                  0                      0  \n",
       "2                                  0                      0  \n",
       "3                                  0                      0  \n",
       "4                                  0                      0  \n",
       "...                              ...                    ...  \n",
       "1466                               0                      1  \n",
       "1467                               0                      0  \n",
       "1468                               0                      0  \n",
       "1469                               0                      0  \n",
       "1470                               0                      0  \n",
       "\n",
       "[1471 rows x 330 columns]"
      ]
     },
     "execution_count": 121,
     "metadata": {},
     "output_type": "execute_result"
    }
   ],
   "source": [
    "df_full_test"
   ]
  },
  {
   "cell_type": "code",
   "execution_count": 113,
   "id": "d91f16c7",
   "metadata": {},
   "outputs": [],
   "source": [
    "embeddings_size = 50\n",
    "usr, prd = df_cf.shape[0], df_cf.shape[1]\n",
    "ctx =  324 # time\n",
    "feat = 1 # price, vote\n",
    "\n",
    "########################################## COLLABORATIVE FILTERING ###################################################\n",
    "# Input layer\n",
    "def build_model(hp):\n",
    "    xusers_in = layers.Input(name=\"xusers_in\", shape=(1,))\n",
    "    xproducts_in = layers.Input(name=\"xproducts_in\", shape=(1,))\n",
    "\n",
    "    # A) Matrix Factorization\n",
    "    ## embeddings and reshape\n",
    "    cf_xusers_emb = layers.Embedding(name=\"cf_xusers_emb\", input_dim=usr, output_dim=embeddings_size)(xusers_in)\n",
    "    cf_xusers = layers.Reshape(name='cf_xusers', target_shape=(embeddings_size,))(cf_xusers_emb)\n",
    "    ## embeddings and reshape\n",
    "    cf_xproducts_emb = layers.Embedding(name=\"cf_xproducts_emb\", input_dim=prd, output_dim=embeddings_size)(xproducts_in)\n",
    "    cf_xproducts = layers.Reshape(name='cf_xproducts', target_shape=(embeddings_size,))(cf_xproducts_emb)\n",
    "    ## product\n",
    "    cf_xx = layers.Dot(name='cf_xx', normalize=True, axes=1)([cf_xusers, cf_xproducts])\n",
    "\n",
    "    # B) Neural Network\n",
    "    ## embeddings and reshape\n",
    "    nn_xusers_emb = layers.Embedding(name=\"nn_xusers_emb\", input_dim=usr, output_dim=embeddings_size)(xusers_in)\n",
    "    nn_xusers = layers.Reshape(name='nn_xusers', target_shape=(embeddings_size,))(nn_xusers_emb)\n",
    "    ## embeddings and reshape\n",
    "    nn_xproducts_emb = layers.Embedding(name=\"nn_xproducts_emb\", input_dim=prd, output_dim=embeddings_size)(xproducts_in)\n",
    "    nn_xproducts = layers.Reshape(name='nn_xproducts', target_shape=(embeddings_size,))(nn_xproducts_emb)\n",
    "    ## concat and dense\n",
    "    nn_xx = layers.Concatenate()([nn_xusers, nn_xproducts])\n",
    "    nn_xx = layers.Dense(name=\"nn_xx\",  units=hp.Int(\"units\", min_value=2, max_value=100, step=1),\n",
    "            activation=\"relu\")(nn_xx)\n",
    "\n",
    "    ########################################## CONTENT BASED ###################################################\n",
    "    # Product Features\n",
    "    features_in = layers.Input(name=\"features_in\", shape=(feat,))\n",
    "    features_x = layers.Dense(name=\"features_x\", units=hp.Int(\"units\", min_value=1, max_value=2, step=1), activation='relu')(features_in)\n",
    "\n",
    "    ########################################## KNOWLEDGE BASED #################################################\n",
    "    # Context\n",
    "    contexts_in = layers.Input(name=\"contexts_in\", shape=(ctx,))\n",
    "    context_x = layers.Dense(name=\"context_x\",  units=hp.Int(\"units\", min_value=300, max_value=400, step=2), activation='relu')(contexts_in)\n",
    "\n",
    "    ########################################## OUTPUT ###################################################\n",
    "    # Merge all\n",
    "    y_out = layers.Concatenate()([cf_xx, nn_xx, features_x, context_x])\n",
    "    y_out = layers.Dense(name=\"y_out\", units=1, activation='linear')(y_out)\n",
    "\n",
    "    # Compile\n",
    "    model = models.Model(inputs=[xusers_in,xproducts_in, features_in, contexts_in], outputs=y_out, name=\"Hybrid_Model\")\n",
    "    model.compile(optimizer='adam', loss='mean_absolute_error', metrics=['mean_absolute_percentage_error'])\n",
    "    return model\n",
    "    #model.summary()"
   ]
  },
  {
   "cell_type": "code",
   "execution_count": 146,
   "id": "ec4acabd-90e4-4ed7-ba75-b815546e81de",
   "metadata": {},
   "outputs": [],
   "source": [
    "tuner = kt.RandomSearch(\n",
    "    hypermodel=build_model,\n",
    "    objective=\"mean_absolute_percentage_error\",\n",
    "    max_trials=5,\n",
    "    executions_per_trial=2,\n",
    "    overwrite=True,\n",
    "    directory=\"tuner\",\n",
    "    project_name=\"amazon_recommender\",\n",
    ")"
   ]
  },
  {
   "cell_type": "code",
   "execution_count": 147,
   "id": "f3b6847a-1f1b-452f-aa66-e142aa25be37",
   "metadata": {
    "tags": []
   },
   "outputs": [
    {
     "name": "stdout",
     "output_type": "stream",
     "text": [
      "Trial 5 Complete [00h 00m 19s]\n",
      "mean_absolute_percentage_error: 4.797012567520142\n",
      "\n",
      "Best mean_absolute_percentage_error So Far: 4.743939161300659\n",
      "Total elapsed time: 00h 01m 39s\n",
      "INFO:tensorflow:Oracle triggered exit\n"
     ]
    }
   ],
   "source": [
    "tuner.search(x=[df_full_train[\"user\"], df_full_train[\"product\"],df_full_train['price'], pd.concat([df_full_train[['price']],df_full_train.iloc[:,7:]],axis=1)],\n",
    "                     y=df_full_train[\"overall\"], \n",
    "                     epochs=30, shuffle=True, verbose=1, validation_split=0.3)"
   ]
  },
  {
   "cell_type": "code",
   "execution_count": 154,
   "id": "3a0212d3-bf77-4807-8f26-9da01b413e67",
   "metadata": {},
   "outputs": [],
   "source": [
    "best_hps = tuner.get_best_hyperparameters(5)\n",
    "model = build_model(best_hps[0])"
   ]
  },
  {
   "cell_type": "code",
   "execution_count": 160,
   "id": "2a53eac4",
   "metadata": {
    "tags": []
   },
   "outputs": [
    {
     "data": {
      "text/plain": [
       "<keras.callbacks.History at 0x1688a3c66a0>"
      ]
     },
     "execution_count": 160,
     "metadata": {},
     "output_type": "execute_result"
    }
   ],
   "source": [
    "# train with the best hyper parameters\n",
    "model.fit(x=[df_full_train[\"user\"], df_full_train[\"product\"],\n",
    "                        df_full_train['price'], pd.concat([df_full_train[['price']],df_full_train.iloc[:,7:]],axis=1)],\n",
    "                     y=df_full_train[\"overall\"], \n",
    "                     epochs=100, shuffle=True, verbose=0, validation_split=0.3)"
   ]
  },
  {
   "cell_type": "code",
   "execution_count": 161,
   "id": "c6af1f71",
   "metadata": {
    "tags": []
   },
   "outputs": [],
   "source": [
    "# Test\n",
    "del df_full_test['yhat']\n",
    "df_full_test['yhat'] = model.predict([df_full_test[\"user\"], df_full_test[\"product\"],\n",
    "                                       df_full_test['price'],\n",
    "                                      pd.concat([df_full_test[['price']],df_full_test.iloc[:,7:]],axis=1)])"
   ]
  },
  {
   "cell_type": "code",
   "execution_count": 162,
   "id": "87bfc7ab-f731-4c15-9b07-b9b7c0e86e35",
   "metadata": {},
   "outputs": [
    {
     "data": {
      "text/plain": [
       "1.4797235344567463"
      ]
     },
     "execution_count": 162,
     "metadata": {},
     "output_type": "execute_result"
    }
   ],
   "source": [
    "np.mean((df_full_test['overall']-df_full_test['yhat'])**2)"
   ]
  },
  {
   "cell_type": "code",
   "execution_count": 157,
   "id": "8511c164",
   "metadata": {},
   "outputs": [
    {
     "data": {
      "text/plain": [
       "1.480321654293059"
      ]
     },
     "execution_count": 157,
     "metadata": {},
     "output_type": "execute_result"
    }
   ],
   "source": [
    "np.mean((df_full_test['overall']-df_full_test['yhat'])**2)"
   ]
  },
  {
   "cell_type": "code",
   "execution_count": 158,
   "id": "aa801762-ead1-4eea-8907-11245e39b4bb",
   "metadata": {},
   "outputs": [
    {
     "data": {
      "image/png": "[encoded data removed]",
      "text/plain": [
       "<Figure size 1080x216 with 4 Axes>"
      ]
     },
     "metadata": {
      "needs_background": "light"
     },
     "output_type": "display_data"
    }
   ],
   "source": [
    "utils_plot_keras_training(training)"
   ]
  },
  {
   "cell_type": "code",
   "execution_count": 163,
   "id": "b12fe875",
   "metadata": {},
   "outputs": [
    {
     "data": {
      "text/plain": [
       "(<AxesSubplot:>, <AxesSubplot:>)"
      ]
     },
     "execution_count": 163,
     "metadata": {},
     "output_type": "execute_result"
    },
    {
     "data": {
      "image/png": "[encoded data removed]",
      "text/plain": [
       "<Figure size 432x288 with 1 Axes>"
      ]
     },
     "metadata": {
      "needs_background": "light"
     },
     "output_type": "display_data"
    }
   ],
   "source": [
    "df_full_test['overall'].hist(), df_full_test['yhat'].hist()"
   ]
  },
  {
   "cell_type": "markdown",
   "id": "fdcbae04",
   "metadata": {},
   "source": [
    "# Other metrics #"
   ]
  },
  {
   "cell_type": "markdown",
   "id": "5cf9fbd1",
   "metadata": {},
   "source": [
    "* Change to classification - predict 5-star reviews\n",
    "* Classification metrics as performance measures. Doesn't neccesarily have to follow distribution of original data.\n",
    "* Assign greater penalty to overpredictions, especially overpredictions of more than 1\n",
    "* Weigh sampling method?\n",
    "* How to interpret the NN"
   ]
  },
  {
   "cell_type": "markdown",
   "id": "9bb110fb",
   "metadata": {},
   "source": [
    "MSE, classification.\n",
    "Bought 4 products, are these 4 products also the 4 highest rated or among the highest rated items."
   ]
  },
  {
   "cell_type": "code",
   "execution_count": null,
   "id": "0bf2c048",
   "metadata": {},
   "outputs": [],
   "source": [
    "df_full_test[df_full_test['overall']<=2]"
   ]
  },
  {
   "cell_type": "code",
   "execution_count": null,
   "id": "1310ef24",
   "metadata": {},
   "outputs": [],
   "source": [
    "df_full_test.loc[df_full_test['user']==1400,:]"
   ]
  },
  {
   "cell_type": "code",
   "execution_count": null,
   "id": "a1c30a50-5c9f-4bfe-90be-a0cd7fc806c4",
   "metadata": {},
   "outputs": [],
   "source": []
  }
 ],
 "metadata": {
  "kernelspec": {
   "display_name": "Python 3 (ipykernel)",
   "language": "python",
   "name": "python3"
  },
  "language_info": {
   "codemirror_mode": {
    "name": "ipython",
    "version": 3
   },
   "file_extension": ".py",
   "mimetype": "text/x-python",
   "name": "python",
   "nbconvert_exporter": "python",
   "pygments_lexer": "ipython3",
   "version": "3.9.7"
  }
 },
 "nbformat": 4,
 "nbformat_minor": 5
}
