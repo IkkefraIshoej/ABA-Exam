{
 "cells": [
  {
   "cell_type": "markdown",
   "metadata": {
    "cell_id": "4a9132311de94b02bece1acb2df75c57",
    "deepnote_cell_height": 779,
    "deepnote_cell_type": "markdown",
    "tags": []
   },
   "source": [
    "## <font color ='red'> Project Challenge: XXXXXX\n",
    "\n",
    "by \n",
    "* Jiafei Xia (s213084)\n",
    "* Malthe Andreas Lejbølle Jelstrup (s184291)\n",
    "* Mathias Sofus Hovmark (s173853)\n",
    "* Frederik Sandström Ommundsen (s183951)\n",
    "* Haimi Qiu (s212650) </font>\n",
    "\n",
    "<font color ='red'> Note tasks left:\n",
    "* add title of each image \n",
    "* write insights for plotted images\n",
    "* revise table of content\n",
    "</font>\n",
    "\n",
    "---\n",
    "## Descriptive statistics notebook\n",
    "---\n",
    "\n",
    "## Table of Contents\n",
    "- [Part 1: <u>Introduction</u>](#intro)\n",
    "- [Part 2: <u>Data Preparation</u>](#dataprep)\n",
    "    - [2.1: <u>Load and present basic information of the dataset</u>](#load)\n",
    "    - [2.2: <u>Dicussion of profiler output</u>](#profiler) \n",
    "- [Part 3: <u>Data Cleaning and Exploratory Data Analysis</u>](#datacl)\n",
    "    - [3.1: <u>Dealing with missing values and redefine variable types</u>](#clean1)\n",
    "- [Part 4: <u>Insight Exploration</u>](#insights)\n",
    "    - [4.1 <u>Adding new attributes</u>](#add_attri)"
   ]
  },
  {
   "cell_type": "markdown",
   "metadata": {
    "cell_id": "2b269ed581eb4a99b6b6b2afc4124acf",
    "deepnote_cell_height": 167,
    "deepnote_cell_type": "markdown",
    "tags": []
   },
   "source": [
    "---\n",
    "<a id='intro'></a> \n",
    "\n",
    "## Part 1: Introduction\n",
    "\n",
    "In this project we will be working with Amazon review data for \"groceries\" and \"gourmet food\". The dataset was obtained through https://nijianmo.github.io/amazon/index.html and spans a period of 18 years from 2000-2018. The main objective of the project is to build a recommender system for recommending products to users. "
   ]
  },
  {
   "cell_type": "markdown",
   "metadata": {
    "cell_id": "1503cf6b0a824988ac4f34a7fe92ebe8",
    "deepnote_cell_height": 96,
    "deepnote_cell_type": "markdown",
    "tags": []
   },
   "source": [
    "The dataset contains approximately 5.074.160 reviews of product from the 'groceries' and 'gourmet food. We have selected a subset of 153619 reviews covering 4092 unique products. A total of 73632 unique users have reviewed products in the subset of the data. Tables 1 and 2 show descriptive statistics including missing values for the datasets features. The features included in the dataset are as follows:"
   ]
  },
  {
   "cell_type": "markdown",
   "metadata": {
    "cell_id": "54ef27fc0741434a974acaa7f99cb2cc",
    "deepnote_cell_height": 377,
    "deepnote_cell_type": "markdown",
    "tags": []
   },
   "source": [
    "**Features**\n",
    "* **reviewerID** - ID of the reviewer, e.g. A2SUAM1J3GNN3B\n",
    "* **asin** - ID of the product, e.g. 0000013714\n",
    "* **reviewerName** - name of the reviewer\n",
    "* **vote** - helpful votes of the review\n",
    "* **style** - a disctionary of the product metadata, e.g., \"Format\" is \"Hardcover\"\n",
    "* **reviewText** - text of the review\n",
    "* **overall** - rating of the product\n",
    "* **summary** - summary of the review\n",
    "* **unixReviewTime** - time of the review (unix time)\n",
    "* **reviewTime** - time of the review (raw)\n",
    "* **image** - images that users post after they have received the product\n",
    "* **verified** - the reviews come from an Amazon account that has previously purchased this product"
   ]
  },
  {
   "cell_type": "markdown",
   "metadata": {
    "cell_id": "ef76685c67954b2496b0054cf5460ec4",
    "deepnote_cell_height": 85,
    "deepnote_cell_type": "markdown",
    "tags": []
   },
   "source": [
    "---\n",
    "<a id='dataprep'></a>\n",
    "\n",
    "## Part 2: Data Preparation"
   ]
  },
  {
   "cell_type": "code",
   "execution_count": 174,
   "metadata": {
    "cell_id": "e2a80300f13c416a8c3aec13c6b4878b",
    "deepnote_cell_height": 207,
    "deepnote_cell_type": "code",
    "deepnote_to_be_reexecuted": true,
    "execution_millis": 7,
    "execution_start": 1648818058889,
    "source_hash": "4acd9cdc",
    "tags": []
   },
   "outputs": [],
   "source": [
    "import pandas as pd\n",
    "import numpy as np\n",
    "import seaborn as sns\n",
    "import warnings\n",
    "import matplotlib.pyplot as plt\n",
    "warnings.filterwarnings('ignore')\n",
    "%matplotlib inline\n",
    "sns.set(rc={'figure.figsize':(11.7,8.27)})"
   ]
  },
  {
   "cell_type": "code",
   "execution_count": 175,
   "metadata": {
    "cell_id": "69d71e761f244a1bb892cc00f65897be",
    "deepnote_cell_height": 81,
    "deepnote_cell_type": "code",
    "deepnote_to_be_reexecuted": true,
    "execution_millis": 9,
    "execution_start": 1648818060080,
    "source_hash": "fd166a90",
    "tags": []
   },
   "outputs": [],
   "source": [
    "sns.set(rc={'figure.figsize':(11.7,8.27)})"
   ]
  },
  {
   "cell_type": "markdown",
   "metadata": {
    "cell_id": "bd4fd420eaa447cb97284e9c677c21f2",
    "deepnote_cell_height": 76,
    "deepnote_cell_type": "markdown",
    "tags": []
   },
   "source": [
    "<a id='load'></a>\n",
    "\n",
    "### 2.1: Load and present basic information of the dataset"
   ]
  },
  {
   "cell_type": "code",
   "execution_count": 176,
   "metadata": {
    "cell_id": "5c32e8b0d29c4be9bd699acb29dd8867",
    "deepnote_cell_height": 411,
    "deepnote_cell_type": "code",
    "deepnote_to_be_reexecuted": true,
    "execution_millis": 1818,
    "execution_start": 1648818061914,
    "source_hash": "73eeeff3",
    "tags": []
   },
   "outputs": [
    {
     "data": {
      "text/html": [
       "<div>\n",
       "<style scoped>\n",
       "    .dataframe tbody tr th:only-of-type {\n",
       "        vertical-align: middle;\n",
       "    }\n",
       "\n",
       "    .dataframe tbody tr th {\n",
       "        vertical-align: top;\n",
       "    }\n",
       "\n",
       "    .dataframe thead th {\n",
       "        text-align: right;\n",
       "    }\n",
       "</style>\n",
       "<table border=\"1\" class=\"dataframe\">\n",
       "  <thead>\n",
       "    <tr style=\"text-align: right;\">\n",
       "      <th></th>\n",
       "      <th>Unnamed: 0</th>\n",
       "      <th>Unnamed: 0.1</th>\n",
       "      <th>overall</th>\n",
       "      <th>verified</th>\n",
       "      <th>reviewTime</th>\n",
       "      <th>reviewerID</th>\n",
       "      <th>asin</th>\n",
       "      <th>reviewerName</th>\n",
       "      <th>reviewText</th>\n",
       "      <th>summary</th>\n",
       "      <th>unixReviewTime</th>\n",
       "      <th>vote</th>\n",
       "      <th>style</th>\n",
       "      <th>image</th>\n",
       "      <th>bottomcat</th>\n",
       "      <th>price</th>\n",
       "      <th>main_cat</th>\n",
       "    </tr>\n",
       "  </thead>\n",
       "  <tbody>\n",
       "    <tr>\n",
       "      <th>0</th>\n",
       "      <td>0</td>\n",
       "      <td>0</td>\n",
       "      <td>5</td>\n",
       "      <td>SAND</td>\n",
       "      <td>11 19, 2014</td>\n",
       "      <td>A1QVBUH9E1V6I8</td>\n",
       "      <td>4639725183</td>\n",
       "      <td>Jamshed Mathur</td>\n",
       "      <td>No adverse comment.</td>\n",
       "      <td>Five Stars</td>\n",
       "      <td>1416355200</td>\n",
       "      <td>NaN</td>\n",
       "      <td>NaN</td>\n",
       "      <td>NaN</td>\n",
       "      <td>Black</td>\n",
       "      <td>12.98</td>\n",
       "      <td>Grocery</td>\n",
       "    </tr>\n",
       "    <tr>\n",
       "      <th>1</th>\n",
       "      <td>1</td>\n",
       "      <td>1</td>\n",
       "      <td>5</td>\n",
       "      <td>SAND</td>\n",
       "      <td>10 13, 2016</td>\n",
       "      <td>A3GEOILWLK86XM</td>\n",
       "      <td>4639725183</td>\n",
       "      <td>itsjustme</td>\n",
       "      <td>Gift for college student.</td>\n",
       "      <td>Great product.</td>\n",
       "      <td>1476316800</td>\n",
       "      <td>NaN</td>\n",
       "      <td>NaN</td>\n",
       "      <td>NaN</td>\n",
       "      <td>Black</td>\n",
       "      <td>12.98</td>\n",
       "      <td>Grocery</td>\n",
       "    </tr>\n",
       "    <tr>\n",
       "      <th>2</th>\n",
       "      <td>2</td>\n",
       "      <td>2</td>\n",
       "      <td>5</td>\n",
       "      <td>SAND</td>\n",
       "      <td>11 21, 2015</td>\n",
       "      <td>A32RD6L701BIGP</td>\n",
       "      <td>4639725183</td>\n",
       "      <td>Krystal Clifton</td>\n",
       "      <td>If you like strong tea, this is for you. It mi...</td>\n",
       "      <td>Strong</td>\n",
       "      <td>1448064000</td>\n",
       "      <td>NaN</td>\n",
       "      <td>NaN</td>\n",
       "      <td>NaN</td>\n",
       "      <td>Black</td>\n",
       "      <td>12.98</td>\n",
       "      <td>Grocery</td>\n",
       "    </tr>\n",
       "    <tr>\n",
       "      <th>3</th>\n",
       "      <td>3</td>\n",
       "      <td>3</td>\n",
       "      <td>5</td>\n",
       "      <td>SAND</td>\n",
       "      <td>08 12, 2015</td>\n",
       "      <td>A2UY1O1FBGKIE6</td>\n",
       "      <td>4639725183</td>\n",
       "      <td>U. Kane</td>\n",
       "      <td>Love the tea. The flavor is way better than th...</td>\n",
       "      <td>Great tea</td>\n",
       "      <td>1439337600</td>\n",
       "      <td>NaN</td>\n",
       "      <td>NaN</td>\n",
       "      <td>NaN</td>\n",
       "      <td>Black</td>\n",
       "      <td>12.98</td>\n",
       "      <td>Grocery</td>\n",
       "    </tr>\n",
       "    <tr>\n",
       "      <th>4</th>\n",
       "      <td>4</td>\n",
       "      <td>4</td>\n",
       "      <td>5</td>\n",
       "      <td>SAND</td>\n",
       "      <td>05 28, 2015</td>\n",
       "      <td>A3QHVBQYDV7Z6U</td>\n",
       "      <td>4639725183</td>\n",
       "      <td>The Nana</td>\n",
       "      <td>I have searched everywhere until I browsed Ama...</td>\n",
       "      <td>This is the tea I remembered!</td>\n",
       "      <td>1432771200</td>\n",
       "      <td>NaN</td>\n",
       "      <td>NaN</td>\n",
       "      <td>NaN</td>\n",
       "      <td>Black</td>\n",
       "      <td>12.98</td>\n",
       "      <td>Grocery</td>\n",
       "    </tr>\n",
       "  </tbody>\n",
       "</table>\n",
       "</div>"
      ],
      "text/plain": [
       "   Unnamed: 0  Unnamed: 0.1  overall verified   reviewTime      reviewerID  \\\n",
       "0           0             0        5     SAND  11 19, 2014  A1QVBUH9E1V6I8   \n",
       "1           1             1        5     SAND  10 13, 2016  A3GEOILWLK86XM   \n",
       "2           2             2        5     SAND  11 21, 2015  A32RD6L701BIGP   \n",
       "3           3             3        5     SAND  08 12, 2015  A2UY1O1FBGKIE6   \n",
       "4           4             4        5     SAND  05 28, 2015  A3QHVBQYDV7Z6U   \n",
       "\n",
       "         asin     reviewerName  \\\n",
       "0  4639725183   Jamshed Mathur   \n",
       "1  4639725183        itsjustme   \n",
       "2  4639725183  Krystal Clifton   \n",
       "3  4639725183          U. Kane   \n",
       "4  4639725183         The Nana   \n",
       "\n",
       "                                          reviewText  \\\n",
       "0                                No adverse comment.   \n",
       "1                          Gift for college student.   \n",
       "2  If you like strong tea, this is for you. It mi...   \n",
       "3  Love the tea. The flavor is way better than th...   \n",
       "4  I have searched everywhere until I browsed Ama...   \n",
       "\n",
       "                         summary  unixReviewTime  vote style image bottomcat  \\\n",
       "0                     Five Stars      1416355200   NaN   NaN   NaN     Black   \n",
       "1                 Great product.      1476316800   NaN   NaN   NaN     Black   \n",
       "2                         Strong      1448064000   NaN   NaN   NaN     Black   \n",
       "3                      Great tea      1439337600   NaN   NaN   NaN     Black   \n",
       "4  This is the tea I remembered!      1432771200   NaN   NaN   NaN     Black   \n",
       "\n",
       "   price main_cat  \n",
       "0  12.98  Grocery  \n",
       "1  12.98  Grocery  \n",
       "2  12.98  Grocery  \n",
       "3  12.98  Grocery  \n",
       "4  12.98  Grocery  "
      ]
     },
     "execution_count": 176,
     "metadata": {},
     "output_type": "execute_result"
    }
   ],
   "source": [
    "df=pd.read_csv('merged_df.csv')\n",
    "df.head()"
   ]
  },
  {
   "cell_type": "code",
   "execution_count": 177,
   "metadata": {
    "cell_id": "f5c1298ed8e3408ea2c116536707a4e6",
    "deepnote_cell_height": 243,
    "deepnote_cell_type": "code",
    "deepnote_to_be_reexecuted": true,
    "execution_millis": 26488,
    "execution_start": 1648817994899,
    "source_hash": "e1a9660c",
    "tags": []
   },
   "outputs": [],
   "source": [
    "#Splitting the datestamp into day/year/month and seasons\n",
    "df['Date'] = pd.to_datetime(df.reviewTime.values)\n",
    "df['year'] = df.Date.apply(lambda x: x.year)\n",
    "df['day'] = df.Date.apply(lambda x: x.weekday())\n",
    "df['month'] = df.Date.apply(lambda x: x.month)\n",
    "bins = [\"Winter\", \"Spring\", \"Summer\", \"Fall\"]\n",
    "df['season'] = df.month%12 //3\n",
    "df['season'] = df['season'].apply(lambda x : bins[x])\n",
    "# dropping the columns which has no impact regarding the research questions\n",
    "df=df.drop(columns=['unixReviewTime', 'image', 'reviewerName','Date'])"
   ]
  },
  {
   "cell_type": "code",
   "execution_count": 178,
   "metadata": {
    "cell_id": "2a81fdd7506b46f7b135deee80b23d5d",
    "deepnote_cell_height": 1066,
    "deepnote_cell_type": "code",
    "deepnote_to_be_reexecuted": true,
    "execution_millis": 4557,
    "execution_start": 1648814738233,
    "source_hash": "ec4f67b9",
    "tags": []
   },
   "outputs": [
    {
     "name": "stdout",
     "output_type": "stream",
     "text": [
      "* Month will be treated as nominal\n"
     ]
    },
    {
     "data": {
      "text/html": [
       "<div>\n",
       "<style scoped>\n",
       "    .dataframe tbody tr th:only-of-type {\n",
       "        vertical-align: middle;\n",
       "    }\n",
       "\n",
       "    .dataframe tbody tr th {\n",
       "        vertical-align: top;\n",
       "    }\n",
       "\n",
       "    .dataframe thead th {\n",
       "        text-align: right;\n",
       "    }\n",
       "</style>\n",
       "<table border=\"1\" class=\"dataframe\">\n",
       "  <thead>\n",
       "    <tr style=\"text-align: right;\">\n",
       "      <th></th>\n",
       "      <th>Unique values</th>\n",
       "      <th>Most frequent category (N)</th>\n",
       "      <th>Least frequent category (N)</th>\n",
       "      <th>Mean frequency per category</th>\n",
       "      <th>SD</th>\n",
       "      <th>Number of missing values</th>\n",
       "      <th>Description</th>\n",
       "    </tr>\n",
       "  </thead>\n",
       "  <tbody>\n",
       "    <tr>\n",
       "      <th>reviewerID</th>\n",
       "      <td>73632.0</td>\n",
       "      <td>{'A1LACH6MLQWZ': 100}</td>\n",
       "      <td>{'A2VUSJVH0G4RLZ': 1}</td>\n",
       "      <td>2.086308</td>\n",
       "      <td>2.107482</td>\n",
       "      <td>0.0</td>\n",
       "      <td>Reviewer identifier</td>\n",
       "    </tr>\n",
       "    <tr>\n",
       "      <th>asin</th>\n",
       "      <td>4092.0</td>\n",
       "      <td>{'B0001LO3FG': 2919}</td>\n",
       "      <td>{'B000089D9T': 1}</td>\n",
       "      <td>37.5413</td>\n",
       "      <td>116.838905</td>\n",
       "      <td>0.0</td>\n",
       "      <td>Product ID (identical products have same ID)</td>\n",
       "    </tr>\n",
       "    <tr>\n",
       "      <th>reviewText</th>\n",
       "      <td>134261.0</td>\n",
       "      <td>{'good': 521}</td>\n",
       "      <td>{'I bought this as a Christmas gift for my boy...</td>\n",
       "      <td>1.14378</td>\n",
       "      <td>3.050194</td>\n",
       "      <td>54.0</td>\n",
       "      <td>Full review text for product</td>\n",
       "    </tr>\n",
       "    <tr>\n",
       "      <th>verified</th>\n",
       "      <td>2.0</td>\n",
       "      <td>{'SAND': 132387}</td>\n",
       "      <td>{'FALSK': 21232}</td>\n",
       "      <td>76809.5</td>\n",
       "      <td>78598.454263</td>\n",
       "      <td>0.0</td>\n",
       "      <td>1 if reviewer has bought product, 0 otherwise</td>\n",
       "    </tr>\n",
       "    <tr>\n",
       "      <th>summary</th>\n",
       "      <td>87225.0</td>\n",
       "      <td>{'Five Stars': 28342}</td>\n",
       "      <td>{'Processed with alkali.': 1}</td>\n",
       "      <td>1.760917</td>\n",
       "      <td>97.411606</td>\n",
       "      <td>23.0</td>\n",
       "      <td>The chosen title for the users review</td>\n",
       "    </tr>\n",
       "    <tr>\n",
       "      <th>year</th>\n",
       "      <td>18.0</td>\n",
       "      <td>{2015: 33254}</td>\n",
       "      <td>{2000: 1}</td>\n",
       "      <td>8534.388889</td>\n",
       "      <td>11168.49506</td>\n",
       "      <td>0.0</td>\n",
       "      <td>Year of review</td>\n",
       "    </tr>\n",
       "    <tr>\n",
       "      <th>bottomcat</th>\n",
       "      <td>606.0</td>\n",
       "      <td>{'Green': 11476}</td>\n",
       "      <td>{'Bagel Chips': 1}</td>\n",
       "      <td>253.4967</td>\n",
       "      <td>678.11577</td>\n",
       "      <td>0.0</td>\n",
       "      <td>Most specific product category</td>\n",
       "    </tr>\n",
       "    <tr>\n",
       "      <th>main_cat</th>\n",
       "      <td>9.0</td>\n",
       "      <td>{'Grocery': 146511}</td>\n",
       "      <td>{'Pet Supplies': 2}</td>\n",
       "      <td>17068.777778</td>\n",
       "      <td>48572.954058</td>\n",
       "      <td>0.0</td>\n",
       "      <td>Amazons identified overall category</td>\n",
       "    </tr>\n",
       "  </tbody>\n",
       "</table>\n",
       "</div>"
      ],
      "text/plain": [
       "           Unique values Most frequent category (N)  \\\n",
       "reviewerID       73632.0      {'A1LACH6MLQWZ': 100}   \n",
       "asin              4092.0       {'B0001LO3FG': 2919}   \n",
       "reviewText      134261.0              {'good': 521}   \n",
       "verified             2.0           {'SAND': 132387}   \n",
       "summary          87225.0      {'Five Stars': 28342}   \n",
       "year                18.0              {2015: 33254}   \n",
       "bottomcat          606.0           {'Green': 11476}   \n",
       "main_cat             9.0        {'Grocery': 146511}   \n",
       "\n",
       "                                  Least frequent category (N)  \\\n",
       "reviewerID                              {'A2VUSJVH0G4RLZ': 1}   \n",
       "asin                                        {'B000089D9T': 1}   \n",
       "reviewText  {'I bought this as a Christmas gift for my boy...   \n",
       "verified                                     {'FALSK': 21232}   \n",
       "summary                         {'Processed with alkali.': 1}   \n",
       "year                                                {2000: 1}   \n",
       "bottomcat                                  {'Bagel Chips': 1}   \n",
       "main_cat                                  {'Pet Supplies': 2}   \n",
       "\n",
       "           Mean frequency per category            SD Number of missing values  \\\n",
       "reviewerID                    2.086308      2.107482                      0.0   \n",
       "asin                           37.5413    116.838905                      0.0   \n",
       "reviewText                     1.14378      3.050194                     54.0   \n",
       "verified                       76809.5  78598.454263                      0.0   \n",
       "summary                       1.760917     97.411606                     23.0   \n",
       "year                       8534.388889   11168.49506                      0.0   \n",
       "bottomcat                     253.4967     678.11577                      0.0   \n",
       "main_cat                  17068.777778  48572.954058                      0.0   \n",
       "\n",
       "                                              Description  \n",
       "reviewerID                            Reviewer identifier  \n",
       "asin         Product ID (identical products have same ID)  \n",
       "reviewText                   Full review text for product  \n",
       "verified    1 if reviewer has bought product, 0 otherwise  \n",
       "summary             The chosen title for the users review  \n",
       "year                                       Year of review  \n",
       "bottomcat                  Most specific product category  \n",
       "main_cat              Amazons identified overall category  "
      ]
     },
     "execution_count": 178,
     "metadata": {},
     "output_type": "execute_result"
    }
   ],
   "source": [
    "unique=np.array([])\n",
    "maxunique=np.array([])\n",
    "minunique=np.array([])\n",
    "meancounts=np.array([])\n",
    "stdcounts=np.array([])\n",
    "missingcounts=np.array([])\n",
    "mainds=df\n",
    "categorical = ['reviewerID', 'asin', 'reviewText', 'verified', 'summary', 'year', 'bottomcat', 'main_cat']\n",
    "\n",
    "for i in categorical:\n",
    "    unique=np.append(unique, len(mainds[i].unique()))\n",
    "    maxunique=np.append(maxunique, {mainds[i].value_counts().idxmax() : mainds[i].value_counts().max()})\n",
    "    minunique=np.append(minunique, {mainds[i].value_counts().idxmin() : mainds[i].value_counts().min()})\n",
    "    meancounts=np.append(meancounts, mainds[i].value_counts().mean())\n",
    "    stdcounts=np.append(stdcounts, mainds[i].value_counts().std())\n",
    "    missingcounts=np.append(missingcounts, len(mainds[mainds[i].isnull()]))\n",
    "\n",
    "    \n",
    "test=pd.DataFrame([unique, maxunique, minunique, meancounts, stdcounts, missingcounts]).T\n",
    "test.index=categorical\n",
    "test.columns=['Unique values', 'Most frequent category (N)', 'Least frequent category (N)',\n",
    "             'Mean frequency per category', 'SD', 'Number of missing values']\n",
    "test['Unique values']=test['Unique values']-(test['Number of missing values']>0).astype(int)\n",
    "test['Description']=['Reviewer identifier', 'Product ID (identical products have same ID)', 'Full review text for product',\n",
    "                     '1 if reviewer has bought product, 0 otherwise','The chosen title for the user''s review','Year of review',\n",
    "                    'Most specific product category','Amazon''s identified overall category']\n",
    "print(\"* Month will be treated as nominal\")\n",
    "table1=test\n",
    "table1"
   ]
  },
  {
   "cell_type": "code",
   "execution_count": 179,
   "metadata": {
    "cell_id": "8a24709408044b298ab30b6120f9fbd3",
    "deepnote_cell_height": 732,
    "deepnote_cell_type": "code",
    "deepnote_to_be_reexecuted": true,
    "source_hash": "8227db62",
    "tags": []
   },
   "outputs": [
    {
     "name": "stdout",
     "output_type": "stream",
     "text": [
      "Most variables can be discretized or treated as nominal depending on distribution/research question\n"
     ]
    },
    {
     "data": {
      "text/html": [
       "<div>\n",
       "<style scoped>\n",
       "    .dataframe tbody tr th:only-of-type {\n",
       "        vertical-align: middle;\n",
       "    }\n",
       "\n",
       "    .dataframe tbody tr th {\n",
       "        vertical-align: top;\n",
       "    }\n",
       "\n",
       "    .dataframe thead th {\n",
       "        text-align: right;\n",
       "    }\n",
       "</style>\n",
       "<table border=\"1\" class=\"dataframe\">\n",
       "  <thead>\n",
       "    <tr style=\"text-align: right;\">\n",
       "      <th></th>\n",
       "      <th>Min</th>\n",
       "      <th>Max</th>\n",
       "      <th>Mean</th>\n",
       "      <th>SD</th>\n",
       "      <th>Median</th>\n",
       "      <th>No. of extreme outliers (+/- 3 SD)</th>\n",
       "      <th>No. missing values</th>\n",
       "      <th>No. zero values</th>\n",
       "      <th>Variable type</th>\n",
       "    </tr>\n",
       "  </thead>\n",
       "  <tbody>\n",
       "    <tr>\n",
       "      <th>vote</th>\n",
       "      <td>2.0</td>\n",
       "      <td>2088.00</td>\n",
       "      <td>7.229112</td>\n",
       "      <td>24.375486</td>\n",
       "      <td>3.00</td>\n",
       "      <td>0.0</td>\n",
       "      <td>0.0</td>\n",
       "      <td>130089.0</td>\n",
       "      <td>Number of votes received by review</td>\n",
       "    </tr>\n",
       "    <tr>\n",
       "      <th>price</th>\n",
       "      <td>1.3</td>\n",
       "      <td>590.79</td>\n",
       "      <td>22.377220</td>\n",
       "      <td>15.686123</td>\n",
       "      <td>20.04</td>\n",
       "      <td>0.0</td>\n",
       "      <td>0.0</td>\n",
       "      <td>45053.0</td>\n",
       "      <td>Price of product reviewed</td>\n",
       "    </tr>\n",
       "    <tr>\n",
       "      <th>review_length</th>\n",
       "      <td>1.0</td>\n",
       "      <td>11665.00</td>\n",
       "      <td>228.384497</td>\n",
       "      <td>344.660470</td>\n",
       "      <td>129.00</td>\n",
       "      <td>2680.0</td>\n",
       "      <td>0.0</td>\n",
       "      <td>0.0</td>\n",
       "      <td>length of review in words</td>\n",
       "    </tr>\n",
       "    <tr>\n",
       "      <th>overall</th>\n",
       "      <td>1.0</td>\n",
       "      <td>5.00</td>\n",
       "      <td>4.473366</td>\n",
       "      <td>1.044137</td>\n",
       "      <td>5.00</td>\n",
       "      <td>6491.0</td>\n",
       "      <td>0.0</td>\n",
       "      <td>0.0</td>\n",
       "      <td>rating given by review</td>\n",
       "    </tr>\n",
       "  </tbody>\n",
       "</table>\n",
       "</div>"
      ],
      "text/plain": [
       "               Min       Max        Mean          SD  Median  \\\n",
       "vote           2.0   2088.00    7.229112   24.375486    3.00   \n",
       "price          1.3    590.79   22.377220   15.686123   20.04   \n",
       "review_length  1.0  11665.00  228.384497  344.660470  129.00   \n",
       "overall        1.0      5.00    4.473366    1.044137    5.00   \n",
       "\n",
       "               No. of extreme outliers (+/- 3 SD)  No. missing values  \\\n",
       "vote                                          0.0                 0.0   \n",
       "price                                         0.0                 0.0   \n",
       "review_length                              2680.0                 0.0   \n",
       "overall                                    6491.0                 0.0   \n",
       "\n",
       "               No. zero values                       Variable type  \n",
       "vote                  130089.0  Number of votes received by review  \n",
       "price                  45053.0           Price of product reviewed  \n",
       "review_length              0.0           length of review in words  \n",
       "overall                    0.0              rating given by review  "
      ]
     },
     "execution_count": 179,
     "metadata": {},
     "output_type": "execute_result"
    }
   ],
   "source": [
    "minarray, maxarray, meanarray, stdarray, medianarray, outliersarray, missingarray, zeroarray = [np.array([]) for i in range(8)]\n",
    "\n",
    "continuous = ['vote', 'price', 'review_length', 'overall']\n",
    "\n",
    "mainds['vote']=mainds['vote'].astype(float)\n",
    "mainds['price']=mainds['price'].astype(float)\n",
    "mainds['review_length'] = mainds.reviewText.map(str).apply(len)\n",
    "mainds['review_length']=mainds['review_length']\n",
    "mainds['overall']=mainds['overall'].astype(float)\n",
    "\n",
    "from scipy import stats\n",
    "from matplotlib import pyplot as plt\n",
    "\n",
    "for i in continuous:\n",
    "    minarray=np.append(minarray, mainds[i].min())\n",
    "    maxarray=np.append(maxarray, mainds[i].max())\n",
    "    meanarray=np.append(meanarray, mainds[i].mean())\n",
    "    stdarray=np.append(stdarray, mainds[i].std())\n",
    "    medianarray=np.append(medianarray, mainds[i].median())\n",
    "    zscore = stats.zscore(mainds[i])\n",
    "    outliersarray=np.append(outliersarray, len(mainds[np.abs(zscore)>3]))\n",
    "    missingarray = np.append(missingarray, len(mainds[mainds[i]==0]))\n",
    "    zeroarray = np.append(zeroarray, len(mainds[np.isnan(mainds[i])]))\n",
    "    \n",
    "    #labels, counts = np.unique(mainds[i])\n",
    "    \n",
    "    #ax=sns.kdeplot(data=mainds, x=i)\n",
    "    #ax.set_xlim(mainds[i].min(), mainds[i].max())\n",
    "    #plt.show()\n",
    "    \n",
    "testc=pd.DataFrame([minarray, maxarray, meanarray, stdarray, medianarray, outliersarray, missingarray, zeroarray]).T\n",
    "#pd.set_option('display.float_format', lambda x: '%.2f' % x)\n",
    "testc.index=continuous\n",
    "testc.columns=['Min', 'Max', 'Mean', 'SD', 'Median', 'No. of extreme outliers (+/- 3 SD)', 'No. missing values', 'No. zero values']\n",
    "testc['Variable type']=['Number of votes received by review', 'Price of product reviewed', 'length of review in words', 'rating given by review']\n",
    "print(\"Most variables can be discretized or treated as nominal depending on distribution/research question\")\n",
    "table2=testc\n",
    "table2"
   ]
  },
  {
   "cell_type": "markdown",
   "metadata": {
    "cell_id": "4aa4623517ae4ca288040ebfe80c5274",
    "deepnote_cell_height": 85,
    "deepnote_cell_type": "markdown",
    "tags": []
   },
   "source": [
    "---\n",
    "<a id='insiExpl'></a>\n",
    "\n",
    "## Part 3: Insight Exploration\n"
   ]
  },
  {
   "cell_type": "code",
   "execution_count": 194,
   "metadata": {
    "cell_id": "875db6dcf1174a8db8f2145019d50a52",
    "deepnote_cell_height": 721,
    "deepnote_cell_type": "code",
    "deepnote_output_heights": [
     21,
     518
    ],
    "deepnote_to_be_reexecuted": true,
    "execution_millis": 1043,
    "execution_start": 1648814742371,
    "source_hash": "33f01ad3",
    "tags": []
   },
   "outputs": [
    {
     "ename": "AttributeError",
     "evalue": "'AxesSubplot' object has no attribute 'df'",
     "output_type": "error",
     "traceback": [
      "\u001b[1;31m---------------------------------------------------------------------------\u001b[0m",
      "\u001b[1;31mAttributeError\u001b[0m                            Traceback (most recent call last)",
      "\u001b[1;32m~\\AppData\\Local\\Temp/ipykernel_8848/1782780991.py\u001b[0m in \u001b[0;36m<module>\u001b[1;34m\u001b[0m\n\u001b[0;32m      1\u001b[0m \u001b[0mfig\u001b[0m\u001b[1;33m,\u001b[0m \u001b[0maxes\u001b[0m \u001b[1;33m=\u001b[0m \u001b[0mplt\u001b[0m\u001b[1;33m.\u001b[0m\u001b[0msubplots\u001b[0m\u001b[1;33m(\u001b[0m\u001b[1;36m1\u001b[0m\u001b[1;33m,\u001b[0m\u001b[1;36m2\u001b[0m\u001b[1;33m)\u001b[0m\u001b[1;33m\u001b[0m\u001b[1;33m\u001b[0m\u001b[0m\n\u001b[0;32m      2\u001b[0m \u001b[1;33m\u001b[0m\u001b[0m\n\u001b[1;32m----> 3\u001b[1;33m \u001b[0max\u001b[0m\u001b[1;33m[\u001b[0m\u001b[1;36m0\u001b[0m\u001b[1;33m]\u001b[0m\u001b[1;33m.\u001b[0m\u001b[0mdf\u001b[0m\u001b[1;33m[\u001b[0m\u001b[1;34m'year'\u001b[0m\u001b[1;33m]\u001b[0m\u001b[1;33m.\u001b[0m\u001b[0mvalue_counts\u001b[0m\u001b[1;33m(\u001b[0m\u001b[1;33m)\u001b[0m\u001b[1;33m.\u001b[0m\u001b[0mplot\u001b[0m\u001b[1;33m(\u001b[0m\u001b[0mkind\u001b[0m\u001b[1;33m=\u001b[0m\u001b[1;34m'barh'\u001b[0m\u001b[1;33m)\u001b[0m\u001b[1;33m\u001b[0m\u001b[1;33m\u001b[0m\u001b[0m\n\u001b[0m\u001b[0;32m      4\u001b[0m \u001b[0max\u001b[0m\u001b[1;33m[\u001b[0m\u001b[1;36m1\u001b[0m\u001b[1;33m]\u001b[0m\u001b[1;33m=\u001b[0m\u001b[0mdf\u001b[0m\u001b[1;33m[\u001b[0m\u001b[1;34m'month'\u001b[0m\u001b[1;33m]\u001b[0m\u001b[1;33m.\u001b[0m\u001b[0mvalue_counts\u001b[0m\u001b[1;33m(\u001b[0m\u001b[1;33m)\u001b[0m\u001b[1;33m.\u001b[0m\u001b[0mplot\u001b[0m\u001b[1;33m(\u001b[0m\u001b[0mkind\u001b[0m\u001b[1;33m=\u001b[0m\u001b[1;34m'barh'\u001b[0m\u001b[1;33m)\u001b[0m\u001b[1;33m\u001b[0m\u001b[1;33m\u001b[0m\u001b[0m\n\u001b[0;32m      5\u001b[0m \u001b[0mplt\u001b[0m\u001b[1;33m.\u001b[0m\u001b[0mtitle\u001b[0m\u001b[1;33m(\u001b[0m\u001b[1;34m\"The number of reviews in each year\"\u001b[0m\u001b[1;33m)\u001b[0m\u001b[1;33m\u001b[0m\u001b[1;33m\u001b[0m\u001b[0m\n",
      "\u001b[1;31mAttributeError\u001b[0m: 'AxesSubplot' object has no attribute 'df'"
     ]
    },
    {
     "data": {
      "image/png": "[encoded data removed]",
      "text/plain": [
       "<Figure size 842.4x595.44 with 2 Axes>"
      ]
     },
     "metadata": {},
     "output_type": "display_data"
    }
   ],
   "source": [
    "fig, axes = plt.subplots(1,2)\n",
    "\n",
    "ax[0]= df['year'].value_counts().plot(kind='barh')\n",
    "ax[1]=df['month'].value_counts().plot(kind='barh')\n",
    "plt.title(\"The number of reviews in each year\")\n",
    "plt.xlabel('Counts')\n",
    "plt.ylabel('Year')"
   ]
  },
  {
   "cell_type": "code",
   "execution_count": 154,
   "metadata": {
    "cell_id": "ceedec581c304f47bc7c1635fbe24343",
    "deepnote_cell_height": 721,
    "deepnote_cell_type": "code",
    "deepnote_output_heights": [
     21,
     518
    ],
    "deepnote_to_be_reexecuted": true,
    "execution_millis": 598,
    "execution_start": 1648814744091,
    "source_hash": "db7c3f60",
    "tags": []
   },
   "outputs": [
    {
     "data": {
      "text/plain": [
       "Text(0, 0.5, 'Month')"
      ]
     },
     "execution_count": 154,
     "metadata": {},
     "output_type": "execute_result"
    },
    {
     "data": {
      "image/png": "[encoded data removed]",
      "text/plain": [
       "<Figure size 842.4x595.44 with 1 Axes>"
      ]
     },
     "metadata": {},
     "output_type": "display_data"
    }
   ],
   "source": [
    "\n",
    "plt.title(\"The number of reviews in each month\")\n",
    "plt.xlabel('Counts')\n",
    "plt.ylabel('Month')"
   ]
  },
  {
   "cell_type": "code",
   "execution_count": 182,
   "metadata": {},
   "outputs": [
    {
     "data": {
      "image/png": "[encoded data removed]",
      "text/plain": [
       "<Figure size 842.4x595.44 with 1 Axes>"
      ]
     },
     "metadata": {},
     "output_type": "display_data"
    }
   ],
   "source": [
    "#true means the reviews where the custmomer bought the product\n",
    "df['verified'].value_counts().plot(kind='bar')\n",
    "plt.xticks([0,1], [\"Verified\", \"Not Verified\"], rotation=0)\n",
    "plt.show()"
   ]
  },
  {
   "cell_type": "markdown",
   "metadata": {
    "cell_id": "d5ead3f8be8a4112aa5975ba1d8bbd18",
    "deepnote_cell_height": 62,
    "deepnote_cell_type": "markdown",
    "tags": []
   },
   "source": [
    "### 3. 2 Product visualization"
   ]
  },
  {
   "cell_type": "code",
   "execution_count": 181,
   "metadata": {},
   "outputs": [
    {
     "ename": "TypeError",
     "evalue": "set_ticks() got an unexpected keyword argument 'rotation'",
     "output_type": "error",
     "traceback": [
      "\u001b[1;31m---------------------------------------------------------------------------\u001b[0m",
      "\u001b[1;31mTypeError\u001b[0m                                 Traceback (most recent call last)",
      "\u001b[1;32m~\\AppData\\Local\\Temp/ipykernel_8848/1186531600.py\u001b[0m in \u001b[0;36m<module>\u001b[1;34m\u001b[0m\n\u001b[0;32m     21\u001b[0m \u001b[0max\u001b[0m\u001b[1;33m[\u001b[0m\u001b[1;36m1\u001b[0m\u001b[1;33m,\u001b[0m\u001b[1;36m1\u001b[0m\u001b[1;33m]\u001b[0m \u001b[1;33m=\u001b[0m \u001b[0mdf\u001b[0m\u001b[1;33m.\u001b[0m\u001b[0moverall\u001b[0m\u001b[1;33m.\u001b[0m\u001b[0mvalue_counts\u001b[0m\u001b[1;33m(\u001b[0m\u001b[1;33m)\u001b[0m\u001b[1;33m.\u001b[0m\u001b[0msort_index\u001b[0m\u001b[1;33m(\u001b[0m\u001b[0mascending\u001b[0m\u001b[1;33m=\u001b[0m\u001b[1;32mFalse\u001b[0m\u001b[1;33m)\u001b[0m\u001b[1;33m.\u001b[0m\u001b[0mplot\u001b[0m\u001b[1;33m(\u001b[0m\u001b[0mkind\u001b[0m\u001b[1;33m=\u001b[0m\u001b[1;34m\"bar\"\u001b[0m\u001b[1;33m)\u001b[0m\u001b[1;33m\u001b[0m\u001b[1;33m\u001b[0m\u001b[0m\n\u001b[0;32m     22\u001b[0m \u001b[0max\u001b[0m\u001b[1;33m[\u001b[0m\u001b[1;36m1\u001b[0m\u001b[1;33m,\u001b[0m\u001b[1;36m1\u001b[0m\u001b[1;33m]\u001b[0m\u001b[1;33m.\u001b[0m\u001b[0mget_xticks\u001b[0m\u001b[1;33m\u001b[0m\u001b[1;33m\u001b[0m\u001b[0m\n\u001b[1;32m---> 23\u001b[1;33m \u001b[0max\u001b[0m\u001b[1;33m[\u001b[0m\u001b[1;36m1\u001b[0m\u001b[1;33m,\u001b[0m\u001b[1;36m1\u001b[0m\u001b[1;33m]\u001b[0m\u001b[1;33m.\u001b[0m\u001b[0mset_xticks\u001b[0m\u001b[1;33m(\u001b[0m\u001b[0max\u001b[0m\u001b[1;33m[\u001b[0m\u001b[1;36m1\u001b[0m\u001b[1;33m,\u001b[0m\u001b[1;36m1\u001b[0m\u001b[1;33m]\u001b[0m\u001b[1;33m.\u001b[0m\u001b[0mget_xticks\u001b[0m\u001b[1;33m(\u001b[0m\u001b[1;33m)\u001b[0m\u001b[1;33m,\u001b[0m \u001b[0mrotation\u001b[0m\u001b[1;33m=\u001b[0m\u001b[1;36m0\u001b[0m\u001b[1;33m,\u001b[0m \u001b[0msize\u001b[0m\u001b[1;33m=\u001b[0m\u001b[1;36m15\u001b[0m\u001b[1;33m)\u001b[0m\u001b[1;33m\u001b[0m\u001b[1;33m\u001b[0m\u001b[0m\n\u001b[0m\u001b[0;32m     24\u001b[0m \u001b[1;32mfor\u001b[0m \u001b[0mp\u001b[0m \u001b[1;32min\u001b[0m \u001b[0max\u001b[0m\u001b[1;33m[\u001b[0m\u001b[1;36m1\u001b[0m\u001b[1;33m,\u001b[0m\u001b[1;36m1\u001b[0m\u001b[1;33m]\u001b[0m\u001b[1;33m.\u001b[0m\u001b[0mpatches\u001b[0m\u001b[1;33m:\u001b[0m\u001b[1;33m\u001b[0m\u001b[1;33m\u001b[0m\u001b[0m\n\u001b[0;32m     25\u001b[0m     \u001b[0max\u001b[0m\u001b[1;33m[\u001b[0m\u001b[1;36m1\u001b[0m\u001b[1;33m,\u001b[0m\u001b[1;36m1\u001b[0m\u001b[1;33m]\u001b[0m\u001b[1;33m.\u001b[0m\u001b[0mannotate\u001b[0m\u001b[1;33m(\u001b[0m\u001b[0mstr\u001b[0m\u001b[1;33m(\u001b[0m\u001b[0mp\u001b[0m\u001b[1;33m.\u001b[0m\u001b[0mget_height\u001b[0m\u001b[1;33m(\u001b[0m\u001b[1;33m)\u001b[0m\u001b[1;33m)\u001b[0m\u001b[1;33m,\u001b[0m \u001b[1;33m(\u001b[0m\u001b[0mp\u001b[0m\u001b[1;33m.\u001b[0m\u001b[0mget_x\u001b[0m\u001b[1;33m(\u001b[0m\u001b[1;33m)\u001b[0m \u001b[1;33m*\u001b[0m \u001b[1;36m1.005\u001b[0m \u001b[1;33m+\u001b[0m \u001b[1;33m(\u001b[0m\u001b[0mp\u001b[0m\u001b[1;33m.\u001b[0m\u001b[0mget_width\u001b[0m\u001b[1;33m(\u001b[0m\u001b[1;33m)\u001b[0m\u001b[1;33m/\u001b[0m\u001b[1;36m2\u001b[0m\u001b[1;33m)\u001b[0m\u001b[1;33m,\u001b[0m \u001b[0mp\u001b[0m\u001b[1;33m.\u001b[0m\u001b[0mget_height\u001b[0m\u001b[1;33m(\u001b[0m\u001b[1;33m)\u001b[0m \u001b[1;33m*\u001b[0m \u001b[1;36m1.005\u001b[0m \u001b[1;33m+\u001b[0m\u001b[1;36m1000\u001b[0m\u001b[1;33m)\u001b[0m\u001b[1;33m,\u001b[0m \u001b[0mha\u001b[0m\u001b[1;33m=\u001b[0m\u001b[1;34m\"center\"\u001b[0m\u001b[1;33m,\u001b[0m \u001b[0msize\u001b[0m\u001b[1;33m=\u001b[0m\u001b[1;36m13\u001b[0m\u001b[1;33m)\u001b[0m\u001b[1;33m\u001b[0m\u001b[1;33m\u001b[0m\u001b[0m\n",
      "\u001b[1;32m~\\anaconda3\\lib\\site-packages\\matplotlib\\axes\\_base.py\u001b[0m in \u001b[0;36mwrapper\u001b[1;34m(self, *args, **kwargs)\u001b[0m\n\u001b[0;32m     71\u001b[0m \u001b[1;33m\u001b[0m\u001b[0m\n\u001b[0;32m     72\u001b[0m         \u001b[1;32mdef\u001b[0m \u001b[0mwrapper\u001b[0m\u001b[1;33m(\u001b[0m\u001b[0mself\u001b[0m\u001b[1;33m,\u001b[0m \u001b[1;33m*\u001b[0m\u001b[0margs\u001b[0m\u001b[1;33m,\u001b[0m \u001b[1;33m**\u001b[0m\u001b[0mkwargs\u001b[0m\u001b[1;33m)\u001b[0m\u001b[1;33m:\u001b[0m\u001b[1;33m\u001b[0m\u001b[1;33m\u001b[0m\u001b[0m\n\u001b[1;32m---> 73\u001b[1;33m             \u001b[1;32mreturn\u001b[0m \u001b[0mget_method\u001b[0m\u001b[1;33m(\u001b[0m\u001b[0mself\u001b[0m\u001b[1;33m)\u001b[0m\u001b[1;33m(\u001b[0m\u001b[1;33m*\u001b[0m\u001b[0margs\u001b[0m\u001b[1;33m,\u001b[0m \u001b[1;33m**\u001b[0m\u001b[0mkwargs\u001b[0m\u001b[1;33m)\u001b[0m\u001b[1;33m\u001b[0m\u001b[1;33m\u001b[0m\u001b[0m\n\u001b[0m\u001b[0;32m     74\u001b[0m \u001b[1;33m\u001b[0m\u001b[0m\n\u001b[0;32m     75\u001b[0m         \u001b[0mwrapper\u001b[0m\u001b[1;33m.\u001b[0m\u001b[0m__module__\u001b[0m \u001b[1;33m=\u001b[0m \u001b[0mowner\u001b[0m\u001b[1;33m.\u001b[0m\u001b[0m__module__\u001b[0m\u001b[1;33m\u001b[0m\u001b[1;33m\u001b[0m\u001b[0m\n",
      "\u001b[1;31mTypeError\u001b[0m: set_ticks() got an unexpected keyword argument 'rotation'"
     ]
    },
    {
     "data": {
      "image/png": "[encoded data removed]",
      "text/plain": [
       "<Figure size 842.4x595.44 with 4 Axes>"
      ]
     },
     "metadata": {},
     "output_type": "display_data"
    }
   ],
   "source": [
    "fig, ax = plt.subplots(2,2)\n",
    "sns.distplot(df.groupby(\"asin\")[\"overall\"].count().rename(\"Number of reviews each product receving\"),\n",
    "             kde=False, hist=True, ax=ax[0,0])\n",
    "\n",
    "review_length = df.reviewText.map(str).apply(len)\n",
    "sns.distplot(review_length, ax=ax[0,1])\n",
    "\n",
    "sns.histplot(df.groupby(\"reviewerID\")[\"overall\"].count().rename(\"Number of reviews by reviewerID\"),\n",
    "             ax=ax[1,0])\n",
    "\n",
    "for patch in ax[1,0].patches :\n",
    "    current_width = patch.get_width()\n",
    "    new_value = 0.5\n",
    "    diff = current_width - new_value\n",
    "    # we change the bar width\n",
    "    patch.set_width(new_value)\n",
    "    # we recenter the bar\n",
    "    patch.set_x(patch.get_x() + diff * .5)\n",
    "    patch.set_alpha(1)\n",
    "    \n",
    "ax[1,1] = df.overall.value_counts().sort_index(ascending=False).plot(kind=\"bar\")\n",
    "ax[1,1].get_xticks\n",
    "ax[1,1].set_xticks(ax[1,1].get_xticks(), rotation=0, size=15)\n",
    "for p in ax[1,1].patches:\n",
    "    ax[1,1].annotate(str(p.get_height()), (p.get_x() * 1.005 + (p.get_width()/2), p.get_height() * 1.005 +1000), ha=\"center\", size=13)"
   ]
  },
  {
   "cell_type": "markdown",
   "metadata": {
    "cell_id": "c73339f2f57a465ca085eeacf66fff64",
    "deepnote_cell_height": 101,
    "deepnote_cell_type": "markdown",
    "tags": []
   },
   "source": [
    "###  3.6 Votes\n",
    "e.g. how many reviews received more than one vote? how about vote distribution?"
   ]
  },
  {
   "cell_type": "code",
   "execution_count": 164,
   "metadata": {
    "cell_id": "7c2b91d8cb734f9d95ef1a808b0c8225",
    "deepnote_cell_height": 216,
    "deepnote_cell_type": "code",
    "deepnote_to_be_reexecuted": true,
    "execution_millis": 20,
    "execution_start": 1648818124775,
    "source_hash": "6e9b7540",
    "tags": []
   },
   "outputs": [
    {
     "data": {
      "image/png": "[encoded data removed]",
      "text/plain": [
       "<Figure size 842.4x595.44 with 1 Axes>"
      ]
     },
     "metadata": {},
     "output_type": "display_data"
    }
   ],
   "source": [
    "temp=df.copy()\n",
    "bins = [1,2,3,5,10,25,50,int(temp.vote.max())+1]\n",
    "temp['votes_grouped'] = pd.cut(temp['vote'],bins=bins)\n",
    "temp.votes_grouped.value_counts().sort_index(ascending=False).plot(kind=\"pie\",autopct='%.0f%%')\n",
    "plt.title(\"The number of \")\n",
    "plt.show()"
   ]
  },
  {
   "cell_type": "markdown",
   "metadata": {
    "cell_id": "36557bebb5334edb9deb9aeba25a1ba2",
    "deepnote_cell_height": 85,
    "deepnote_cell_type": "markdown",
    "tags": []
   },
   "source": [
    "---\n",
    "<a id='intro'></a> \n",
    "\n",
    "##  Part 4: Data Cleaning"
   ]
  },
  {
   "cell_type": "code",
   "execution_count": 165,
   "metadata": {
    "cell_id": "e216196496474a5cb9ba267add5cbe3c",
    "deepnote_cell_height": 432,
    "deepnote_cell_type": "code",
    "deepnote_to_be_reexecuted": true,
    "execution_millis": 22,
    "execution_start": 1648814840931,
    "source_hash": "a0d542ef",
    "tags": []
   },
   "outputs": [],
   "source": [
    "# Extreme is defined as more than 3 standard deviations from the mean\n",
    "# Remove asins (products) with extreme number of reviews\n",
    "asin_count = df.groupby(\"asin\")[\"overall\"].count()\n",
    "asin_mean, asin_std = asin_count.mean(), asin_count.std()\n",
    "banned_asin = asin_count[asin_count > asin_mean + asin_std * 3].index\n",
    "\n",
    "# Remove reviewers that have made an extreme number of reviews\n",
    "reviewer_count = df.groupby(\"reviewerID\")[\"overall\"].count()\n",
    "reviewer_mean, reviewer_std = reviewer_count.mean(), reviewer_count.std()\n",
    "banned_reviewer = reviewer_count[reviewer_count > reviewer_mean + reviewer_std * 3].index\n",
    "\n",
    "# Remove reviews with an extremely long text\n",
    "review_mean, review_std = review_length.mean(), review_length.std()\n",
    "banned_review_index = review_length[review_length > review_mean + review_std * 3].index\n",
    "\n",
    "df.drop(banned_review_index, inplace=True)\n",
    "df = df[~df.asin.isin(banned_asin) & ~df.reviewerID.isin(banned_reviewer)]"
   ]
  },
  {
   "cell_type": "code",
   "execution_count": 166,
   "metadata": {
    "cell_id": "0115cbf27590442682a6f328088c8400",
    "deepnote_cell_height": 534,
    "deepnote_cell_type": "code",
    "deepnote_to_be_reexecuted": true,
    "source_hash": "8888c0e2",
    "tags": []
   },
   "outputs": [
    {
     "ename": "TypeError",
     "evalue": "set_ticks() got an unexpected keyword argument 'rotation'",
     "output_type": "error",
     "traceback": [
      "\u001b[1;31m---------------------------------------------------------------------------\u001b[0m",
      "\u001b[1;31mTypeError\u001b[0m                                 Traceback (most recent call last)",
      "\u001b[1;32m~\\AppData\\Local\\Temp/ipykernel_8848/1186531600.py\u001b[0m in \u001b[0;36m<module>\u001b[1;34m\u001b[0m\n\u001b[0;32m     21\u001b[0m \u001b[0max\u001b[0m\u001b[1;33m[\u001b[0m\u001b[1;36m1\u001b[0m\u001b[1;33m,\u001b[0m\u001b[1;36m1\u001b[0m\u001b[1;33m]\u001b[0m \u001b[1;33m=\u001b[0m \u001b[0mdf\u001b[0m\u001b[1;33m.\u001b[0m\u001b[0moverall\u001b[0m\u001b[1;33m.\u001b[0m\u001b[0mvalue_counts\u001b[0m\u001b[1;33m(\u001b[0m\u001b[1;33m)\u001b[0m\u001b[1;33m.\u001b[0m\u001b[0msort_index\u001b[0m\u001b[1;33m(\u001b[0m\u001b[0mascending\u001b[0m\u001b[1;33m=\u001b[0m\u001b[1;32mFalse\u001b[0m\u001b[1;33m)\u001b[0m\u001b[1;33m.\u001b[0m\u001b[0mplot\u001b[0m\u001b[1;33m(\u001b[0m\u001b[0mkind\u001b[0m\u001b[1;33m=\u001b[0m\u001b[1;34m\"bar\"\u001b[0m\u001b[1;33m)\u001b[0m\u001b[1;33m\u001b[0m\u001b[1;33m\u001b[0m\u001b[0m\n\u001b[0;32m     22\u001b[0m \u001b[0max\u001b[0m\u001b[1;33m[\u001b[0m\u001b[1;36m1\u001b[0m\u001b[1;33m,\u001b[0m\u001b[1;36m1\u001b[0m\u001b[1;33m]\u001b[0m\u001b[1;33m.\u001b[0m\u001b[0mget_xticks\u001b[0m\u001b[1;33m\u001b[0m\u001b[1;33m\u001b[0m\u001b[0m\n\u001b[1;32m---> 23\u001b[1;33m \u001b[0max\u001b[0m\u001b[1;33m[\u001b[0m\u001b[1;36m1\u001b[0m\u001b[1;33m,\u001b[0m\u001b[1;36m1\u001b[0m\u001b[1;33m]\u001b[0m\u001b[1;33m.\u001b[0m\u001b[0mset_xticks\u001b[0m\u001b[1;33m(\u001b[0m\u001b[0max\u001b[0m\u001b[1;33m[\u001b[0m\u001b[1;36m1\u001b[0m\u001b[1;33m,\u001b[0m\u001b[1;36m1\u001b[0m\u001b[1;33m]\u001b[0m\u001b[1;33m.\u001b[0m\u001b[0mget_xticks\u001b[0m\u001b[1;33m(\u001b[0m\u001b[1;33m)\u001b[0m\u001b[1;33m,\u001b[0m \u001b[0mrotation\u001b[0m\u001b[1;33m=\u001b[0m\u001b[1;36m0\u001b[0m\u001b[1;33m,\u001b[0m \u001b[0msize\u001b[0m\u001b[1;33m=\u001b[0m\u001b[1;36m15\u001b[0m\u001b[1;33m)\u001b[0m\u001b[1;33m\u001b[0m\u001b[1;33m\u001b[0m\u001b[0m\n\u001b[0m\u001b[0;32m     24\u001b[0m \u001b[1;32mfor\u001b[0m \u001b[0mp\u001b[0m \u001b[1;32min\u001b[0m \u001b[0max\u001b[0m\u001b[1;33m[\u001b[0m\u001b[1;36m1\u001b[0m\u001b[1;33m,\u001b[0m\u001b[1;36m1\u001b[0m\u001b[1;33m]\u001b[0m\u001b[1;33m.\u001b[0m\u001b[0mpatches\u001b[0m\u001b[1;33m:\u001b[0m\u001b[1;33m\u001b[0m\u001b[1;33m\u001b[0m\u001b[0m\n\u001b[0;32m     25\u001b[0m     \u001b[0max\u001b[0m\u001b[1;33m[\u001b[0m\u001b[1;36m1\u001b[0m\u001b[1;33m,\u001b[0m\u001b[1;36m1\u001b[0m\u001b[1;33m]\u001b[0m\u001b[1;33m.\u001b[0m\u001b[0mannotate\u001b[0m\u001b[1;33m(\u001b[0m\u001b[0mstr\u001b[0m\u001b[1;33m(\u001b[0m\u001b[0mp\u001b[0m\u001b[1;33m.\u001b[0m\u001b[0mget_height\u001b[0m\u001b[1;33m(\u001b[0m\u001b[1;33m)\u001b[0m\u001b[1;33m)\u001b[0m\u001b[1;33m,\u001b[0m \u001b[1;33m(\u001b[0m\u001b[0mp\u001b[0m\u001b[1;33m.\u001b[0m\u001b[0mget_x\u001b[0m\u001b[1;33m(\u001b[0m\u001b[1;33m)\u001b[0m \u001b[1;33m*\u001b[0m \u001b[1;36m1.005\u001b[0m \u001b[1;33m+\u001b[0m \u001b[1;33m(\u001b[0m\u001b[0mp\u001b[0m\u001b[1;33m.\u001b[0m\u001b[0mget_width\u001b[0m\u001b[1;33m(\u001b[0m\u001b[1;33m)\u001b[0m\u001b[1;33m/\u001b[0m\u001b[1;36m2\u001b[0m\u001b[1;33m)\u001b[0m\u001b[1;33m,\u001b[0m \u001b[0mp\u001b[0m\u001b[1;33m.\u001b[0m\u001b[0mget_height\u001b[0m\u001b[1;33m(\u001b[0m\u001b[1;33m)\u001b[0m \u001b[1;33m*\u001b[0m \u001b[1;36m1.005\u001b[0m \u001b[1;33m+\u001b[0m\u001b[1;36m1000\u001b[0m\u001b[1;33m)\u001b[0m\u001b[1;33m,\u001b[0m \u001b[0mha\u001b[0m\u001b[1;33m=\u001b[0m\u001b[1;34m\"center\"\u001b[0m\u001b[1;33m,\u001b[0m \u001b[0msize\u001b[0m\u001b[1;33m=\u001b[0m\u001b[1;36m13\u001b[0m\u001b[1;33m)\u001b[0m\u001b[1;33m\u001b[0m\u001b[1;33m\u001b[0m\u001b[0m\n",
      "\u001b[1;32m~\\anaconda3\\lib\\site-packages\\matplotlib\\axes\\_base.py\u001b[0m in \u001b[0;36mwrapper\u001b[1;34m(self, *args, **kwargs)\u001b[0m\n\u001b[0;32m     71\u001b[0m \u001b[1;33m\u001b[0m\u001b[0m\n\u001b[0;32m     72\u001b[0m         \u001b[1;32mdef\u001b[0m \u001b[0mwrapper\u001b[0m\u001b[1;33m(\u001b[0m\u001b[0mself\u001b[0m\u001b[1;33m,\u001b[0m \u001b[1;33m*\u001b[0m\u001b[0margs\u001b[0m\u001b[1;33m,\u001b[0m \u001b[1;33m**\u001b[0m\u001b[0mkwargs\u001b[0m\u001b[1;33m)\u001b[0m\u001b[1;33m:\u001b[0m\u001b[1;33m\u001b[0m\u001b[1;33m\u001b[0m\u001b[0m\n\u001b[1;32m---> 73\u001b[1;33m             \u001b[1;32mreturn\u001b[0m \u001b[0mget_method\u001b[0m\u001b[1;33m(\u001b[0m\u001b[0mself\u001b[0m\u001b[1;33m)\u001b[0m\u001b[1;33m(\u001b[0m\u001b[1;33m*\u001b[0m\u001b[0margs\u001b[0m\u001b[1;33m,\u001b[0m \u001b[1;33m**\u001b[0m\u001b[0mkwargs\u001b[0m\u001b[1;33m)\u001b[0m\u001b[1;33m\u001b[0m\u001b[1;33m\u001b[0m\u001b[0m\n\u001b[0m\u001b[0;32m     74\u001b[0m \u001b[1;33m\u001b[0m\u001b[0m\n\u001b[0;32m     75\u001b[0m         \u001b[0mwrapper\u001b[0m\u001b[1;33m.\u001b[0m\u001b[0m__module__\u001b[0m \u001b[1;33m=\u001b[0m \u001b[0mowner\u001b[0m\u001b[1;33m.\u001b[0m\u001b[0m__module__\u001b[0m\u001b[1;33m\u001b[0m\u001b[1;33m\u001b[0m\u001b[0m\n",
      "\u001b[1;31mTypeError\u001b[0m: set_ticks() got an unexpected keyword argument 'rotation'"
     ]
    },
    {
     "data": {
      "image/png": "[encoded data removed]",
      "text/plain": [
       "<Figure size 842.4x595.44 with 4 Axes>"
      ]
     },
     "metadata": {},
     "output_type": "display_data"
    }
   ],
   "source": [
    "fig, ax = plt.subplots(2,2)\n",
    "sns.distplot(df.groupby(\"asin\")[\"overall\"].count().rename(\"Number of reviews each product receving\"),\n",
    "             kde=False, hist=True, ax=ax[0,0])\n",
    "\n",
    "review_length = df.reviewText.map(str).apply(len)\n",
    "sns.distplot(review_length, ax=ax[0,1])\n",
    "\n",
    "sns.histplot(df.groupby(\"reviewerID\")[\"overall\"].count().rename(\"Number of reviews by reviewerID\"),\n",
    "             ax=ax[1,0])\n",
    "\n",
    "for patch in ax[1,0].patches :\n",
    "    current_width = patch.get_width()\n",
    "    new_value = 0.5\n",
    "    diff = current_width - new_value\n",
    "    # we change the bar width\n",
    "    patch.set_width(new_value)\n",
    "    # we recenter the bar\n",
    "    patch.set_x(patch.get_x() + diff * .5)\n",
    "    patch.set_alpha(1)\n",
    "    \n",
    "ax[1,1] = df.overall.value_counts().sort_index(ascending=False).plot(kind=\"bar\")\n",
    "ax[1,1].get_xticks\n",
    "ax[1,1].set_xticks(ax[1,1].get_xticks(), rotation=0, size=15)\n",
    "for p in ax[1,1].patches:\n",
    "    ax[1,1].annotate(str(p.get_height()), (p.get_x() * 1.005 + (p.get_width()/2), p.get_height() * 1.005 +1000), ha=\"center\", size=13)"
   ]
  },
  {
   "cell_type": "markdown",
   "metadata": {
    "cell_id": "c1510ab729e3495d90fda75a0f23fad9",
    "deepnote_cell_height": 85,
    "deepnote_cell_type": "markdown",
    "tags": []
   },
   "source": [
    "---\n",
    "<a id='intro'></a> \n",
    "\n",
    "## Part 5: <font color = 'red'> Research Questions </font>"
   ]
  },
  {
   "cell_type": "markdown",
   "metadata": {
    "cell_id": "e90cc574c14c4d928e4ee514b8db129d",
    "deepnote_cell_height": 276,
    "deepnote_cell_type": "markdown",
    "deepnote_to_be_reexecuted": false,
    "execution_millis": 4,
    "execution_start": 1648220056206,
    "source_hash": "9e77f3ae",
    "tags": []
   },
   "source": [
    "#### We've spoken about recommending based on 3 factors\n",
    "- Products reviewed by reviewers that have similar historic reviews to user.\n",
    "- Products that have review text that \"resonate\" with \"user profile\".\n",
    "- Products that have been reviewed within the (yearly, seasonal, monthly, weekly) timeframe where user is purchasing.\n",
    "- Also related to time. Is there a sequence that users follow? basic tea > medium tea > advanced \"special\" tea\n",
    "- The same as above, but on a product level meaning which products are highly probably to be bought before/after a given product.\n",
    "#### Does a recommendation system improve when only \"verified\" reviews are considered?\n",
    "#### Does considering \"helpful votes\" improve the recommendation engine? \n",
    "\n",
    "\n"
   ]
  },
  {
   "cell_type": "markdown",
   "metadata": {
    "created_in_deepnote_cell": true,
    "deepnote_cell_type": "markdown",
    "tags": []
   },
   "source": [
    "<a style='text-decoration:none;line-height:16px;display:flex;color:#5B5B62;padding:10px;justify-content:end;' href='https://deepnote.com?utm_source=created-in-deepnote-cell&projectId=1e6f5acb-3158-4f68-bbfd-787daddf0258' target=\"_blank\">\n",
    "<img alt='Created in deepnote.com' style='display:inline;max-height:16px;margin:0px;margin-right:7.5px;' src='data:image/svg+xml;base64,PD94bWwgdmVyc2lvbj0iMS4wIiBlbmNvZGluZz0iVVRGLTgiPz4KPHN2ZyB3aWR0aD0iODBweCIgaGVpZ2h0PSI4MHB4IiB2aWV3Qm94PSIwIDAgODAgODAiIHZlcnNpb249IjEuMSIgeG1sbnM9Imh0dHA6Ly93d3cudzMub3JnLzIwMDAvc3ZnIiB4bWxuczp4bGluaz0iaHR0cDovL3d3dy53My5vcmcvMTk5OS94bGluayI+CiAgICA8IS0tIEdlbmVyYXRvcjogU2tldGNoIDU0LjEgKDc2NDkwKSAtIGh0dHBzOi8vc2tldGNoYXBwLmNvbSAtLT4KICAgIDx0aXRsZT5Hcm91cCAzPC90aXRsZT4KICAgIDxkZXNjPkNyZWF0ZWQgd2l0aCBTa2V0Y2guPC9kZXNjPgogICAgPGcgaWQ9IkxhbmRpbmciIHN0cm9rZT0ibm9uZSIgc3Ryb2tlLXdpZHRoPSIxIiBmaWxsPSJub25lIiBmaWxsLXJ1bGU9ImV2ZW5vZGQiPgogICAgICAgIDxnIGlkPSJBcnRib2FyZCIgdHJhbnNmb3JtPSJ0cmFuc2xhdGUoLTEyMzUuMDAwMDAwLCAtNzkuMDAwMDAwKSI+CiAgICAgICAgICAgIDxnIGlkPSJHcm91cC0zIiB0cmFuc2Zvcm09InRyYW5zbGF0ZSgxMjM1LjAwMDAwMCwgNzkuMDAwMDAwKSI+CiAgICAgICAgICAgICAgICA8cG9seWdvbiBpZD0iUGF0aC0yMCIgZmlsbD0iIzAyNjVCNCIgcG9pbnRzPSIyLjM3NjIzNzYyIDgwIDM4LjA0NzY2NjcgODAgNTcuODIxNzgyMiA3My44MDU3NTkyIDU3LjgyMTc4MjIgMzIuNzU5MjczOSAzOS4xNDAyMjc4IDMxLjY4MzE2ODMiPjwvcG9seWdvbj4KICAgICAgICAgICAgICAgIDxwYXRoIGQ9Ik0zNS4wMDc3MTgsODAgQzQyLjkwNjIwMDcsNzYuNDU0OTM1OCA0Ny41NjQ5MTY3LDcxLjU0MjI2NzEgNDguOTgzODY2LDY1LjI2MTk5MzkgQzUxLjExMjI4OTksNTUuODQxNTg0MiA0MS42NzcxNzk1LDQ5LjIxMjIyODQgMjUuNjIzOTg0Niw0OS4yMTIyMjg0IEMyNS40ODQ5Mjg5LDQ5LjEyNjg0NDggMjkuODI2MTI5Niw0My4yODM4MjQ4IDM4LjY0NzU4NjksMzEuNjgzMTY4MyBMNzIuODcxMjg3MSwzMi41NTQ0MjUgTDY1LjI4MDk3Myw2Ny42NzYzNDIxIEw1MS4xMTIyODk5LDc3LjM3NjE0NCBMMzUuMDA3NzE4LDgwIFoiIGlkPSJQYXRoLTIyIiBmaWxsPSIjMDAyODY4Ij48L3BhdGg+CiAgICAgICAgICAgICAgICA8cGF0aCBkPSJNMCwzNy43MzA0NDA1IEwyNy4xMTQ1MzcsMC4yNTcxMTE0MzYgQzYyLjM3MTUxMjMsLTEuOTkwNzE3MDEgODAsMTAuNTAwMzkyNyA4MCwzNy43MzA0NDA1IEM4MCw2NC45NjA0ODgyIDY0Ljc3NjUwMzgsNzkuMDUwMzQxNCAzNC4zMjk1MTEzLDgwIEM0Ny4wNTUzNDg5LDc3LjU2NzA4MDggNTMuNDE4MjY3Nyw3MC4zMTM2MTAzIDUzLjQxODI2NzcsNTguMjM5NTg4NSBDNTMuNDE4MjY3Nyw0MC4xMjg1NTU3IDM2LjMwMzk1NDQsMzcuNzMwNDQwNSAyNS4yMjc0MTcsMzcuNzMwNDQwNSBDMTcuODQzMDU4NiwzNy43MzA0NDA1IDkuNDMzOTE5NjYsMzcuNzMwNDQwNSAwLDM3LjczMDQ0MDUgWiIgaWQ9IlBhdGgtMTkiIGZpbGw9IiMzNzkzRUYiPjwvcGF0aD4KICAgICAgICAgICAgPC9nPgogICAgICAgIDwvZz4KICAgIDwvZz4KPC9zdmc+' > </img>\n",
    "Created in <span style='font-weight:600;margin-left:4px;'>Deepnote</span></a>"
   ]
  }
 ],
 "metadata": {
  "deepnote": {
   "is_reactive": true
  },
  "deepnote_execution_queue": [],
  "deepnote_notebook_id": "10327788-a7ad-41c4-a1a5-b31e5b964e17",
  "kernelspec": {
   "display_name": "Python 3 (ipykernel)",
   "language": "python",
   "name": "python3"
  },
  "language_info": {
   "codemirror_mode": {
    "name": "ipython",
    "version": 3
   },
   "file_extension": ".py",
   "mimetype": "text/x-python",
   "name": "python",
   "nbconvert_exporter": "python",
   "pygments_lexer": "ipython3",
   "version": "3.9.7"
  }
 },
 "nbformat": 4,
 "nbformat_minor": 4
}
